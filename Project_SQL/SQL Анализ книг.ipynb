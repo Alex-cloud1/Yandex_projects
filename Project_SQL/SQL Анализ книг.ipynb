{
 "cells": [
  {
   "cell_type": "markdown",
   "metadata": {},
   "source": [
    "# Проект по SQL"
   ]
  },
  {
   "cell_type": "markdown",
   "metadata": {},
   "source": [
    "# Описание\n",
    "В условиях глобальной пандемии коронавируса, которая кардинально изменила привычный порядок жизни, наблюдается рост интереса к чтению книг. Это стало заметно как среди читателей, так и среди предпринимателей, стремящихся адаптироваться к новым условиям. В результате, наша компания приобрела крупный сервис для чтения книг по подписке, который предоставляет доступ к обширной базе данных, содержащей информацию о книгах, издательствах, авторах и пользовательских обзорах. Данные этой базы представляют собой уникальный ресурс для анализа текущих трендов в литературе и предпочтений пользователей.\n"
   ]
  },
  {
   "cell_type": "markdown",
   "metadata": {},
   "source": [
    "# Цель исследования\n",
    "Цель данного проекта заключается в анализе базы данных книг с целью выявления ключевых инсайтов, которые помогут сформулировать ценностное предложение для нового продукта. Мы стремимся понять, какие книги наиболее популярны среди пользователей, какие издательства и авторы выделяются на фоне других, а также какие факторы влияют на качество пользовательских обзоров.\n"
   ]
  },
  {
   "cell_type": "markdown",
   "metadata": {},
   "source": [
    "# Задачи исследования\n",
    "\n",
    "1. Подсчитать количество книг, выпущенных после 1 января 2000 года.\n",
    "2. Для каждой книги определить количество обзоров и среднюю оценку.\n",
    "3. Выявить издательство, которое выпустило наибольшее количество книг, толще 50 страниц.\n",
    "4. Определить автора с самой высокой средней оценкой книг, учитывая только те книги, которые получили более 50 оценок.\n",
    "5. Рассчитать среднее количество обзоров от пользователей, которые поставили более 48 оценок."
   ]
  },
  {
   "cell_type": "markdown",
   "metadata": {},
   "source": [
    "# Этапы исследования\n",
    "\n",
    "1. Загрузить библиотеки и вывести общую информацию о данных.\n",
    "2. Анализ данных: Проведение расчетов и статистических анализов для решения поставленных задач.\n",
    "3. Подготовка отчета: Составление итогового отчета с рекомендациями для команды разработки и маркетинга на основе проведенного анализа.\n"
   ]
  },
  {
   "cell_type": "markdown",
   "metadata": {},
   "source": [
    "## Загрузка данных."
   ]
  },
  {
   "cell_type": "code",
   "execution_count": 1,
   "metadata": {},
   "outputs": [],
   "source": [
    "# Импортируем библиотеки\n",
    "import pandas as pd\n",
    "from sqlalchemy import text, create_engine\n",
    "\n",
    "# Устанавливаем параметры\n",
    "db_config = {'user': 'praktikum_student', # имя пользователя\n",
    "'pwd': 'Sdf4$2;d-d30pp', # пароль\n",
    "'host': 'rc1b-wcoijxj3yxfsf3fs.mdb.yandexcloud.net',\n",
    "'port': 6432, # порт подключения\n",
    "'db': 'data-analyst-final-project-db'} # название базы данных\n",
    "connection_string = 'postgresql://{user}:{pwd}@{host}:{port}/{db}'.format(**db_config)\n",
    "\n",
    "# Сохраняем коннектор\n",
    "engine = create_engine(connection_string, connect_args={'sslmode':'require'})"
   ]
  },
  {
   "cell_type": "code",
   "execution_count": 2,
   "metadata": {},
   "outputs": [],
   "source": [
    "# Функция для выполнения SQL-запроса и вывода результата\n",
    "\n",
    "def fetch_table_data(query):\n",
    "    with engine.connect() as con:\n",
    "        return pd.io.sql.read_sql(sql=text(query), con=con)\n",
    "\n"
   ]
  },
  {
   "cell_type": "code",
   "execution_count": 3,
   "metadata": {},
   "outputs": [
    {
     "name": "stdout",
     "output_type": "stream",
     "text": [
      "Данные из таблицы books:\n"
     ]
    },
    {
     "data": {
      "text/html": [
       "<div>\n",
       "<style scoped>\n",
       "    .dataframe tbody tr th:only-of-type {\n",
       "        vertical-align: middle;\n",
       "    }\n",
       "\n",
       "    .dataframe tbody tr th {\n",
       "        vertical-align: top;\n",
       "    }\n",
       "\n",
       "    .dataframe thead th {\n",
       "        text-align: right;\n",
       "    }\n",
       "</style>\n",
       "<table border=\"1\" class=\"dataframe\">\n",
       "  <thead>\n",
       "    <tr style=\"text-align: right;\">\n",
       "      <th></th>\n",
       "      <th>book_id</th>\n",
       "      <th>author_id</th>\n",
       "      <th>title</th>\n",
       "      <th>num_pages</th>\n",
       "      <th>publication_date</th>\n",
       "      <th>publisher_id</th>\n",
       "    </tr>\n",
       "  </thead>\n",
       "  <tbody>\n",
       "    <tr>\n",
       "      <th>0</th>\n",
       "      <td>1</td>\n",
       "      <td>546</td>\n",
       "      <td>'Salem's Lot</td>\n",
       "      <td>594</td>\n",
       "      <td>2005-11-01</td>\n",
       "      <td>93</td>\n",
       "    </tr>\n",
       "    <tr>\n",
       "      <th>1</th>\n",
       "      <td>2</td>\n",
       "      <td>465</td>\n",
       "      <td>1 000 Places to See Before You Die</td>\n",
       "      <td>992</td>\n",
       "      <td>2003-05-22</td>\n",
       "      <td>336</td>\n",
       "    </tr>\n",
       "    <tr>\n",
       "      <th>2</th>\n",
       "      <td>3</td>\n",
       "      <td>407</td>\n",
       "      <td>13 Little Blue Envelopes (Little Blue Envelope...</td>\n",
       "      <td>322</td>\n",
       "      <td>2010-12-21</td>\n",
       "      <td>135</td>\n",
       "    </tr>\n",
       "    <tr>\n",
       "      <th>3</th>\n",
       "      <td>4</td>\n",
       "      <td>82</td>\n",
       "      <td>1491: New Revelations of the Americas Before C...</td>\n",
       "      <td>541</td>\n",
       "      <td>2006-10-10</td>\n",
       "      <td>309</td>\n",
       "    </tr>\n",
       "    <tr>\n",
       "      <th>4</th>\n",
       "      <td>5</td>\n",
       "      <td>125</td>\n",
       "      <td>1776</td>\n",
       "      <td>386</td>\n",
       "      <td>2006-07-04</td>\n",
       "      <td>268</td>\n",
       "    </tr>\n",
       "  </tbody>\n",
       "</table>\n",
       "</div>"
      ],
      "text/plain": [
       "   book_id  author_id                                              title  \\\n",
       "0        1        546                                       'Salem's Lot   \n",
       "1        2        465                 1 000 Places to See Before You Die   \n",
       "2        3        407  13 Little Blue Envelopes (Little Blue Envelope...   \n",
       "3        4         82  1491: New Revelations of the Americas Before C...   \n",
       "4        5        125                                               1776   \n",
       "\n",
       "   num_pages publication_date  publisher_id  \n",
       "0        594       2005-11-01            93  \n",
       "1        992       2003-05-22           336  \n",
       "2        322       2010-12-21           135  \n",
       "3        541       2006-10-10           309  \n",
       "4        386       2006-07-04           268  "
      ]
     },
     "metadata": {},
     "output_type": "display_data"
    },
    {
     "name": "stdout",
     "output_type": "stream",
     "text": [
      "Данные из таблицы authors:\n"
     ]
    },
    {
     "data": {
      "text/html": [
       "<div>\n",
       "<style scoped>\n",
       "    .dataframe tbody tr th:only-of-type {\n",
       "        vertical-align: middle;\n",
       "    }\n",
       "\n",
       "    .dataframe tbody tr th {\n",
       "        vertical-align: top;\n",
       "    }\n",
       "\n",
       "    .dataframe thead th {\n",
       "        text-align: right;\n",
       "    }\n",
       "</style>\n",
       "<table border=\"1\" class=\"dataframe\">\n",
       "  <thead>\n",
       "    <tr style=\"text-align: right;\">\n",
       "      <th></th>\n",
       "      <th>author_id</th>\n",
       "      <th>author</th>\n",
       "    </tr>\n",
       "  </thead>\n",
       "  <tbody>\n",
       "    <tr>\n",
       "      <th>0</th>\n",
       "      <td>1</td>\n",
       "      <td>A.S. Byatt</td>\n",
       "    </tr>\n",
       "    <tr>\n",
       "      <th>1</th>\n",
       "      <td>2</td>\n",
       "      <td>Aesop/Laura Harris/Laura Gibbs</td>\n",
       "    </tr>\n",
       "    <tr>\n",
       "      <th>2</th>\n",
       "      <td>3</td>\n",
       "      <td>Agatha Christie</td>\n",
       "    </tr>\n",
       "    <tr>\n",
       "      <th>3</th>\n",
       "      <td>4</td>\n",
       "      <td>Alan Brennert</td>\n",
       "    </tr>\n",
       "    <tr>\n",
       "      <th>4</th>\n",
       "      <td>5</td>\n",
       "      <td>Alan Moore/David   Lloyd</td>\n",
       "    </tr>\n",
       "  </tbody>\n",
       "</table>\n",
       "</div>"
      ],
      "text/plain": [
       "   author_id                          author\n",
       "0          1                      A.S. Byatt\n",
       "1          2  Aesop/Laura Harris/Laura Gibbs\n",
       "2          3                 Agatha Christie\n",
       "3          4                   Alan Brennert\n",
       "4          5        Alan Moore/David   Lloyd"
      ]
     },
     "metadata": {},
     "output_type": "display_data"
    },
    {
     "name": "stdout",
     "output_type": "stream",
     "text": [
      "Данные из таблицы publishers:\n"
     ]
    },
    {
     "data": {
      "text/html": [
       "<div>\n",
       "<style scoped>\n",
       "    .dataframe tbody tr th:only-of-type {\n",
       "        vertical-align: middle;\n",
       "    }\n",
       "\n",
       "    .dataframe tbody tr th {\n",
       "        vertical-align: top;\n",
       "    }\n",
       "\n",
       "    .dataframe thead th {\n",
       "        text-align: right;\n",
       "    }\n",
       "</style>\n",
       "<table border=\"1\" class=\"dataframe\">\n",
       "  <thead>\n",
       "    <tr style=\"text-align: right;\">\n",
       "      <th></th>\n",
       "      <th>publisher_id</th>\n",
       "      <th>publisher</th>\n",
       "    </tr>\n",
       "  </thead>\n",
       "  <tbody>\n",
       "    <tr>\n",
       "      <th>0</th>\n",
       "      <td>1</td>\n",
       "      <td>Ace</td>\n",
       "    </tr>\n",
       "    <tr>\n",
       "      <th>1</th>\n",
       "      <td>2</td>\n",
       "      <td>Ace Book</td>\n",
       "    </tr>\n",
       "    <tr>\n",
       "      <th>2</th>\n",
       "      <td>3</td>\n",
       "      <td>Ace Books</td>\n",
       "    </tr>\n",
       "    <tr>\n",
       "      <th>3</th>\n",
       "      <td>4</td>\n",
       "      <td>Ace Hardcover</td>\n",
       "    </tr>\n",
       "    <tr>\n",
       "      <th>4</th>\n",
       "      <td>5</td>\n",
       "      <td>Addison Wesley Publishing Company</td>\n",
       "    </tr>\n",
       "  </tbody>\n",
       "</table>\n",
       "</div>"
      ],
      "text/plain": [
       "   publisher_id                          publisher\n",
       "0             1                                Ace\n",
       "1             2                           Ace Book\n",
       "2             3                          Ace Books\n",
       "3             4                      Ace Hardcover\n",
       "4             5  Addison Wesley Publishing Company"
      ]
     },
     "metadata": {},
     "output_type": "display_data"
    },
    {
     "name": "stdout",
     "output_type": "stream",
     "text": [
      "Данные из таблицы ratings:\n"
     ]
    },
    {
     "data": {
      "text/html": [
       "<div>\n",
       "<style scoped>\n",
       "    .dataframe tbody tr th:only-of-type {\n",
       "        vertical-align: middle;\n",
       "    }\n",
       "\n",
       "    .dataframe tbody tr th {\n",
       "        vertical-align: top;\n",
       "    }\n",
       "\n",
       "    .dataframe thead th {\n",
       "        text-align: right;\n",
       "    }\n",
       "</style>\n",
       "<table border=\"1\" class=\"dataframe\">\n",
       "  <thead>\n",
       "    <tr style=\"text-align: right;\">\n",
       "      <th></th>\n",
       "      <th>rating_id</th>\n",
       "      <th>book_id</th>\n",
       "      <th>username</th>\n",
       "      <th>rating</th>\n",
       "    </tr>\n",
       "  </thead>\n",
       "  <tbody>\n",
       "    <tr>\n",
       "      <th>0</th>\n",
       "      <td>1</td>\n",
       "      <td>1</td>\n",
       "      <td>ryanfranco</td>\n",
       "      <td>4</td>\n",
       "    </tr>\n",
       "    <tr>\n",
       "      <th>1</th>\n",
       "      <td>2</td>\n",
       "      <td>1</td>\n",
       "      <td>grantpatricia</td>\n",
       "      <td>2</td>\n",
       "    </tr>\n",
       "    <tr>\n",
       "      <th>2</th>\n",
       "      <td>3</td>\n",
       "      <td>1</td>\n",
       "      <td>brandtandrea</td>\n",
       "      <td>5</td>\n",
       "    </tr>\n",
       "    <tr>\n",
       "      <th>3</th>\n",
       "      <td>4</td>\n",
       "      <td>2</td>\n",
       "      <td>lorichen</td>\n",
       "      <td>3</td>\n",
       "    </tr>\n",
       "    <tr>\n",
       "      <th>4</th>\n",
       "      <td>5</td>\n",
       "      <td>2</td>\n",
       "      <td>mariokeller</td>\n",
       "      <td>2</td>\n",
       "    </tr>\n",
       "  </tbody>\n",
       "</table>\n",
       "</div>"
      ],
      "text/plain": [
       "   rating_id  book_id       username  rating\n",
       "0          1        1     ryanfranco       4\n",
       "1          2        1  grantpatricia       2\n",
       "2          3        1   brandtandrea       5\n",
       "3          4        2       lorichen       3\n",
       "4          5        2    mariokeller       2"
      ]
     },
     "metadata": {},
     "output_type": "display_data"
    },
    {
     "name": "stdout",
     "output_type": "stream",
     "text": [
      "Данные из таблицы reviews:\n"
     ]
    },
    {
     "data": {
      "text/html": [
       "<div>\n",
       "<style scoped>\n",
       "    .dataframe tbody tr th:only-of-type {\n",
       "        vertical-align: middle;\n",
       "    }\n",
       "\n",
       "    .dataframe tbody tr th {\n",
       "        vertical-align: top;\n",
       "    }\n",
       "\n",
       "    .dataframe thead th {\n",
       "        text-align: right;\n",
       "    }\n",
       "</style>\n",
       "<table border=\"1\" class=\"dataframe\">\n",
       "  <thead>\n",
       "    <tr style=\"text-align: right;\">\n",
       "      <th></th>\n",
       "      <th>review_id</th>\n",
       "      <th>book_id</th>\n",
       "      <th>username</th>\n",
       "      <th>text</th>\n",
       "    </tr>\n",
       "  </thead>\n",
       "  <tbody>\n",
       "    <tr>\n",
       "      <th>0</th>\n",
       "      <td>1</td>\n",
       "      <td>1</td>\n",
       "      <td>brandtandrea</td>\n",
       "      <td>Mention society tell send professor analysis. ...</td>\n",
       "    </tr>\n",
       "    <tr>\n",
       "      <th>1</th>\n",
       "      <td>2</td>\n",
       "      <td>1</td>\n",
       "      <td>ryanfranco</td>\n",
       "      <td>Foot glass pretty audience hit themselves. Amo...</td>\n",
       "    </tr>\n",
       "    <tr>\n",
       "      <th>2</th>\n",
       "      <td>3</td>\n",
       "      <td>2</td>\n",
       "      <td>lorichen</td>\n",
       "      <td>Listen treat keep worry. Miss husband tax but ...</td>\n",
       "    </tr>\n",
       "    <tr>\n",
       "      <th>3</th>\n",
       "      <td>4</td>\n",
       "      <td>3</td>\n",
       "      <td>johnsonamanda</td>\n",
       "      <td>Finally month interesting blue could nature cu...</td>\n",
       "    </tr>\n",
       "    <tr>\n",
       "      <th>4</th>\n",
       "      <td>5</td>\n",
       "      <td>3</td>\n",
       "      <td>scotttamara</td>\n",
       "      <td>Nation purpose heavy give wait song will. List...</td>\n",
       "    </tr>\n",
       "  </tbody>\n",
       "</table>\n",
       "</div>"
      ],
      "text/plain": [
       "   review_id  book_id       username  \\\n",
       "0          1        1   brandtandrea   \n",
       "1          2        1     ryanfranco   \n",
       "2          3        2       lorichen   \n",
       "3          4        3  johnsonamanda   \n",
       "4          5        3    scotttamara   \n",
       "\n",
       "                                                text  \n",
       "0  Mention society tell send professor analysis. ...  \n",
       "1  Foot glass pretty audience hit themselves. Amo...  \n",
       "2  Listen treat keep worry. Miss husband tax but ...  \n",
       "3  Finally month interesting blue could nature cu...  \n",
       "4  Nation purpose heavy give wait song will. List...  "
      ]
     },
     "metadata": {},
     "output_type": "display_data"
    }
   ],
   "source": [
    "# Получение данных из каждой таблицы\n",
    "queries = {\n",
    "    \"books\": '''SELECT * FROM books LIMIT 5''',\n",
    "    \"authors\": '''SELECT * FROM authors LIMIT 5''',\n",
    "    \"publishers\": '''SELECT * FROM publishers LIMIT 5''',\n",
    "    \"ratings\": '''SELECT * FROM ratings LIMIT 5''',\n",
    "    \"reviews\": '''SELECT * FROM reviews LIMIT 5'''\n",
    "}\n",
    "\n",
    "\n",
    "# Получаем данные и выводим их\n",
    "for table_name, query in queries.items():\n",
    "    print(f\"Данные из таблицы {table_name}:\")\n",
    "    data = fetch_table_data(query)\n",
    "    display(data)\n",
    "    \n"
   ]
  },
  {
   "cell_type": "markdown",
   "metadata": {},
   "source": [
    "- В таблице **books** содержится информация о книгах, включая идентификаторы, авторов, количество страниц, дату публикации и издателя.\n",
    "- Таблица **authors** содержит информацию об авторах, включая их идентификаторы и имена.\n",
    "- Таблица **publishers** содержит информацию о издателях, включая их идентификаторы и названия.\n",
    "- Таблица **ratings** отображает оценки книг пользователями, связывая их с идентификаторами книг и именами пользователей.\n",
    "- Таблица **reviews** содержит отзывы на книги, также связывая их с идентификаторами книг и именами пользователей.\n"
   ]
  },
  {
   "cell_type": "markdown",
   "metadata": {},
   "source": [
    "## Анализ данных."
   ]
  },
  {
   "cell_type": "markdown",
   "metadata": {},
   "source": [
    "### Количество книг, вышедших после 1 января 2000 года."
   ]
  },
  {
   "cell_type": "code",
   "execution_count": 4,
   "metadata": {},
   "outputs": [
    {
     "name": "stdout",
     "output_type": "stream",
     "text": [
      "Количество книг, вышедших после 1 января 2000 года: 819\n"
     ]
    }
   ],
   "source": [
    "# Посчитаем количество книг, вышедших после 1 января 2000 года\n",
    "\n",
    "query = '''\n",
    "SELECT COUNT(*) AS count_books\n",
    "FROM books\n",
    "WHERE publication_date > '2000-01-01';\n",
    "'''\n",
    "\n",
    "count_books = fetch_table_data(query)\n",
    "\n",
    "# Выводим результат\n",
    "print(\"Количество книг, вышедших после 1 января 2000 года:\", count_books['count_books'][0])\n",
    "\n"
   ]
  },
  {
   "cell_type": "markdown",
   "metadata": {},
   "source": [
    "### Количество обзоров и средняя оценка для каждой книги."
   ]
  },
  {
   "cell_type": "code",
   "execution_count": 6,
   "metadata": {},
   "outputs": [
    {
     "data": {
      "text/plain": [
       "2793"
      ]
     },
     "execution_count": 6,
     "metadata": {},
     "output_type": "execute_result"
    }
   ],
   "source": [
    "# Посмотрим общее количество уникальных отзывов\n",
    "query_total_reviews = '''\n",
    "SELECT COUNT(DISTINCT review_id) AS total_reviews\n",
    "FROM reviews;\n",
    "'''\n",
    "\n",
    "# Выводим данные\n",
    "\n",
    "total_reviews_data = fetch_table_data(query_total_reviews)\n",
    "total_reviews_count = total_reviews_data['total_reviews'].iloc[0]\n",
    "\n",
    "total_reviews_count"
   ]
  },
  {
   "cell_type": "code",
   "execution_count": 16,
   "metadata": {},
   "outputs": [
    {
     "name": "stdout",
     "output_type": "stream",
     "text": [
      "2793\n"
     ]
    },
    {
     "data": {
      "text/html": [
       "<div>\n",
       "<style scoped>\n",
       "    .dataframe tbody tr th:only-of-type {\n",
       "        vertical-align: middle;\n",
       "    }\n",
       "\n",
       "    .dataframe tbody tr th {\n",
       "        vertical-align: top;\n",
       "    }\n",
       "\n",
       "    .dataframe thead th {\n",
       "        text-align: right;\n",
       "    }\n",
       "</style>\n",
       "<table border=\"1\" class=\"dataframe\">\n",
       "  <thead>\n",
       "    <tr style=\"text-align: right;\">\n",
       "      <th></th>\n",
       "      <th>book_id</th>\n",
       "      <th>title</th>\n",
       "      <th>review_count</th>\n",
       "      <th>average_rating</th>\n",
       "    </tr>\n",
       "  </thead>\n",
       "  <tbody>\n",
       "    <tr>\n",
       "      <th>947</th>\n",
       "      <td>948</td>\n",
       "      <td>Twilight (Twilight  #1)</td>\n",
       "      <td>7</td>\n",
       "      <td>3.662500</td>\n",
       "    </tr>\n",
       "    <tr>\n",
       "      <th>301</th>\n",
       "      <td>302</td>\n",
       "      <td>Harry Potter and the Prisoner of Azkaban (Harr...</td>\n",
       "      <td>6</td>\n",
       "      <td>4.414634</td>\n",
       "    </tr>\n",
       "    <tr>\n",
       "      <th>298</th>\n",
       "      <td>299</td>\n",
       "      <td>Harry Potter and the Chamber of Secrets (Harry...</td>\n",
       "      <td>6</td>\n",
       "      <td>4.287500</td>\n",
       "    </tr>\n",
       "    <tr>\n",
       "      <th>655</th>\n",
       "      <td>656</td>\n",
       "      <td>The Book Thief</td>\n",
       "      <td>6</td>\n",
       "      <td>4.264151</td>\n",
       "    </tr>\n",
       "    <tr>\n",
       "      <th>733</th>\n",
       "      <td>734</td>\n",
       "      <td>The Glass Castle</td>\n",
       "      <td>6</td>\n",
       "      <td>4.206897</td>\n",
       "    </tr>\n",
       "    <tr>\n",
       "      <th>496</th>\n",
       "      <td>497</td>\n",
       "      <td>Outlander (Outlander  #1)</td>\n",
       "      <td>6</td>\n",
       "      <td>4.125000</td>\n",
       "    </tr>\n",
       "    <tr>\n",
       "      <th>749</th>\n",
       "      <td>750</td>\n",
       "      <td>The Hobbit  or There and Back Again</td>\n",
       "      <td>6</td>\n",
       "      <td>4.125000</td>\n",
       "    </tr>\n",
       "    <tr>\n",
       "      <th>694</th>\n",
       "      <td>695</td>\n",
       "      <td>The Curious Incident of the Dog in the Night-Time</td>\n",
       "      <td>6</td>\n",
       "      <td>4.081081</td>\n",
       "    </tr>\n",
       "    <tr>\n",
       "      <th>778</th>\n",
       "      <td>779</td>\n",
       "      <td>The Lightning Thief (Percy Jackson and the Oly...</td>\n",
       "      <td>6</td>\n",
       "      <td>4.080645</td>\n",
       "    </tr>\n",
       "    <tr>\n",
       "      <th>962</th>\n",
       "      <td>963</td>\n",
       "      <td>Water for Elephants</td>\n",
       "      <td>6</td>\n",
       "      <td>3.977273</td>\n",
       "    </tr>\n",
       "  </tbody>\n",
       "</table>\n",
       "</div>"
      ],
      "text/plain": [
       "     book_id                                              title  review_count  \\\n",
       "947      948                            Twilight (Twilight  #1)             7   \n",
       "301      302  Harry Potter and the Prisoner of Azkaban (Harr...             6   \n",
       "298      299  Harry Potter and the Chamber of Secrets (Harry...             6   \n",
       "655      656                                     The Book Thief             6   \n",
       "733      734                                   The Glass Castle             6   \n",
       "496      497                          Outlander (Outlander  #1)             6   \n",
       "749      750                The Hobbit  or There and Back Again             6   \n",
       "694      695  The Curious Incident of the Dog in the Night-Time             6   \n",
       "778      779  The Lightning Thief (Percy Jackson and the Oly...             6   \n",
       "962      963                                Water for Elephants             6   \n",
       "\n",
       "     average_rating  \n",
       "947        3.662500  \n",
       "301        4.414634  \n",
       "298        4.287500  \n",
       "655        4.264151  \n",
       "733        4.206897  \n",
       "496        4.125000  \n",
       "749        4.125000  \n",
       "694        4.081081  \n",
       "778        4.080645  \n",
       "962        3.977273  "
      ]
     },
     "metadata": {},
     "output_type": "display_data"
    }
   ],
   "source": [
    "# Посчитаем уникальные обзоры на книги\n",
    "# Подсчет количества обзоров и средней оценки для каждой книги\n",
    "query_reviews_ratings = '''\n",
    "SELECT \n",
    "    b.book_id,\n",
    "    b.title,\n",
    "    COUNT(DISTINCT r.review_id) AS review_count,  -- Используем DISTINCT для уникальных отзывов\n",
    "    AVG(rt.rating) AS average_rating\n",
    "FROM \n",
    "    books b\n",
    "LEFT JOIN \n",
    "    reviews r ON b.book_id = r.book_id\n",
    "LEFT JOIN \n",
    "    ratings rt ON b.book_id = rt.book_id\n",
    "GROUP BY \n",
    "    b.book_id, b.title;\n",
    "'''\n",
    "\n",
    "# Получаем данные и выводим их\n",
    "reviews_ratings_data = fetch_table_data(query_reviews_ratings)\n",
    "\n",
    "print(reviews_ratings_data['review_count'].sum())\n",
    "display(reviews_ratings_data.sort_values(by = ['review_count', 'average_rating'], ascending = False).head(10))\n"
   ]
  },
  {
   "cell_type": "markdown",
   "metadata": {},
   "source": [
    "- Больше всего отзывов у книги Twilight - 7. Ср.оценка - 3.66\n",
    "- Harry Potter and the Prisoner of Azkaban - 6. Ср.оценка - 4.41\n",
    "- Harry Potter and the Chamber of Secrets - 6. Ср.оценка - 4.28"
   ]
  },
  {
   "cell_type": "markdown",
   "metadata": {},
   "source": [
    "###  Издательство, которое выпустило наибольшее число книг толще 50 страниц."
   ]
  },
  {
   "cell_type": "code",
   "execution_count": 9,
   "metadata": {},
   "outputs": [
    {
     "data": {
      "text/html": [
       "<div>\n",
       "<style scoped>\n",
       "    .dataframe tbody tr th:only-of-type {\n",
       "        vertical-align: middle;\n",
       "    }\n",
       "\n",
       "    .dataframe tbody tr th {\n",
       "        vertical-align: top;\n",
       "    }\n",
       "\n",
       "    .dataframe thead th {\n",
       "        text-align: right;\n",
       "    }\n",
       "</style>\n",
       "<table border=\"1\" class=\"dataframe\">\n",
       "  <thead>\n",
       "    <tr style=\"text-align: right;\">\n",
       "      <th></th>\n",
       "      <th>publisher_id</th>\n",
       "      <th>publisher_name</th>\n",
       "      <th>book_count</th>\n",
       "    </tr>\n",
       "  </thead>\n",
       "  <tbody>\n",
       "    <tr>\n",
       "      <th>0</th>\n",
       "      <td>212</td>\n",
       "      <td>Penguin Books</td>\n",
       "      <td>42</td>\n",
       "    </tr>\n",
       "  </tbody>\n",
       "</table>\n",
       "</div>"
      ],
      "text/plain": [
       "   publisher_id publisher_name  book_count\n",
       "0           212  Penguin Books          42"
      ]
     },
     "metadata": {},
     "output_type": "display_data"
    }
   ],
   "source": [
    "# Запрос для определения издательства с наибольшим количеством книг толще 50 страниц\n",
    "query_top_publisher = '''\n",
    "SELECT \n",
    "    p.publisher_id,\n",
    "    p.publisher AS publisher_name,\n",
    "    COUNT(b.book_id) AS book_count\n",
    "FROM \n",
    "    books b\n",
    "JOIN \n",
    "    publishers p ON b.publisher_id = p.publisher_id\n",
    "WHERE \n",
    "    b.num_pages > 50\n",
    "GROUP BY \n",
    "    p.publisher_id, p.publisher\n",
    "ORDER BY \n",
    "    book_count DESC\n",
    "LIMIT 1;\n",
    "'''\n",
    "\n",
    "# Получаем данные и выводим их\n",
    "\n",
    "top_publisher_data = fetch_table_data(query_top_publisher)\n",
    "display(top_publisher_data)\n"
   ]
  },
  {
   "cell_type": "markdown",
   "metadata": {},
   "source": [
    "- Издательство с наибольшим количеством книг (толще 50 страниц) - Penguin Books \n",
    "- Выпущено 42 книги."
   ]
  },
  {
   "cell_type": "markdown",
   "metadata": {},
   "source": [
    "### Автор с самой высокой средней оценкой книг."
   ]
  },
  {
   "cell_type": "code",
   "execution_count": 10,
   "metadata": {},
   "outputs": [
    {
     "data": {
      "text/html": [
       "<div>\n",
       "<style scoped>\n",
       "    .dataframe tbody tr th:only-of-type {\n",
       "        vertical-align: middle;\n",
       "    }\n",
       "\n",
       "    .dataframe tbody tr th {\n",
       "        vertical-align: top;\n",
       "    }\n",
       "\n",
       "    .dataframe thead th {\n",
       "        text-align: right;\n",
       "    }\n",
       "</style>\n",
       "<table border=\"1\" class=\"dataframe\">\n",
       "  <thead>\n",
       "    <tr style=\"text-align: right;\">\n",
       "      <th></th>\n",
       "      <th>author</th>\n",
       "      <th>average_rating</th>\n",
       "    </tr>\n",
       "  </thead>\n",
       "  <tbody>\n",
       "    <tr>\n",
       "      <th>0</th>\n",
       "      <td>Diana Gabaldon</td>\n",
       "      <td>4.3</td>\n",
       "    </tr>\n",
       "  </tbody>\n",
       "</table>\n",
       "</div>"
      ],
      "text/plain": [
       "           author  average_rating\n",
       "0  Diana Gabaldon             4.3"
      ]
     },
     "metadata": {},
     "output_type": "display_data"
    }
   ],
   "source": [
    "# Определим автора с самой высокой средней оценкой книг\n",
    "\n",
    "query = '''\n",
    "SELECT a.author, AVG(r.rating) AS average_rating\n",
    "FROM authors a\n",
    "JOIN books b ON a.author_id = b.author_id\n",
    "JOIN ratings r ON b.book_id = r.book_id\n",
    "GROUP BY a.author\n",
    "HAVING COUNT(DISTINCT r.rating_id) >= 50\n",
    "ORDER BY average_rating DESC\n",
    "LIMIT 1;\n",
    "'''\n",
    "\n",
    "# Выведем результат\n",
    "\n",
    "result = fetch_table_data(query)\n",
    "display(result)\n"
   ]
  },
  {
   "cell_type": "code",
   "execution_count": 11,
   "metadata": {},
   "outputs": [
    {
     "name": "stdout",
     "output_type": "stream",
     "text": [
      "Количество оценок для книг Diana Gabaldon:\n"
     ]
    },
    {
     "data": {
      "text/html": [
       "<div>\n",
       "<style scoped>\n",
       "    .dataframe tbody tr th:only-of-type {\n",
       "        vertical-align: middle;\n",
       "    }\n",
       "\n",
       "    .dataframe tbody tr th {\n",
       "        vertical-align: top;\n",
       "    }\n",
       "\n",
       "    .dataframe thead th {\n",
       "        text-align: right;\n",
       "    }\n",
       "</style>\n",
       "<table border=\"1\" class=\"dataframe\">\n",
       "  <thead>\n",
       "    <tr style=\"text-align: right;\">\n",
       "      <th></th>\n",
       "      <th>title</th>\n",
       "      <th>rating_count</th>\n",
       "    </tr>\n",
       "  </thead>\n",
       "  <tbody>\n",
       "    <tr>\n",
       "      <th>0</th>\n",
       "      <td>A Breath of Snow and Ashes (Outlander  #6)</td>\n",
       "      <td>4</td>\n",
       "    </tr>\n",
       "    <tr>\n",
       "      <th>1</th>\n",
       "      <td>Dragonfly in Amber (Outlander  #2)</td>\n",
       "      <td>8</td>\n",
       "    </tr>\n",
       "    <tr>\n",
       "      <th>2</th>\n",
       "      <td>Drums of Autumn (Outlander  #4)</td>\n",
       "      <td>5</td>\n",
       "    </tr>\n",
       "    <tr>\n",
       "      <th>3</th>\n",
       "      <td>Lord John and the Private Matter (Lord John Gr...</td>\n",
       "      <td>2</td>\n",
       "    </tr>\n",
       "    <tr>\n",
       "      <th>4</th>\n",
       "      <td>Outlander (Outlander  #1)</td>\n",
       "      <td>24</td>\n",
       "    </tr>\n",
       "    <tr>\n",
       "      <th>5</th>\n",
       "      <td>Voyager (Outlander  #3)</td>\n",
       "      <td>7</td>\n",
       "    </tr>\n",
       "  </tbody>\n",
       "</table>\n",
       "</div>"
      ],
      "text/plain": [
       "                                               title  rating_count\n",
       "0         A Breath of Snow and Ashes (Outlander  #6)             4\n",
       "1                 Dragonfly in Amber (Outlander  #2)             8\n",
       "2                    Drums of Autumn (Outlander  #4)             5\n",
       "3  Lord John and the Private Matter (Lord John Gr...             2\n",
       "4                          Outlander (Outlander  #1)            24\n",
       "5                            Voyager (Outlander  #3)             7"
      ]
     },
     "metadata": {},
     "output_type": "display_data"
    }
   ],
   "source": [
    "# Проверим количество оценок у книг Дианы Габалдон\n",
    "\n",
    "author_name = 'Diana Gabaldon'\n",
    "\n",
    "query_check_ratings = f'''\n",
    "SELECT \n",
    "    b.title,\n",
    "    COUNT(r.rating_id) AS rating_count\n",
    "FROM \n",
    "    authors a\n",
    "JOIN \n",
    "    books b ON a.author_id = b.author_id\n",
    "JOIN \n",
    "    ratings r ON b.book_id = r.book_id\n",
    "WHERE \n",
    "    a.author = '{author_name}'\n",
    "GROUP BY \n",
    "    b.title;\n",
    "'''\n",
    "\n",
    "# Получим данные, выведем на экран\n",
    "\n",
    "ratings_count_data = fetch_table_data(query_check_ratings)\n",
    "\n",
    "\n",
    "# Выводим количество оценок для каждой книги Дианы Габалдон\n",
    "\n",
    "print(f\"Количество оценок для книг {author_name}:\")\n",
    "display(ratings_count_data)\n",
    "\n"
   ]
  },
  {
   "cell_type": "markdown",
   "metadata": {},
   "source": [
    "- У книг Diana Gabaldon нет 50 оценок"
   ]
  },
  {
   "cell_type": "code",
   "execution_count": 12,
   "metadata": {},
   "outputs": [
    {
     "data": {
      "text/html": [
       "<div>\n",
       "<style scoped>\n",
       "    .dataframe tbody tr th:only-of-type {\n",
       "        vertical-align: middle;\n",
       "    }\n",
       "\n",
       "    .dataframe tbody tr th {\n",
       "        vertical-align: top;\n",
       "    }\n",
       "\n",
       "    .dataframe thead th {\n",
       "        text-align: right;\n",
       "    }\n",
       "</style>\n",
       "<table border=\"1\" class=\"dataframe\">\n",
       "  <thead>\n",
       "    <tr style=\"text-align: right;\">\n",
       "      <th></th>\n",
       "      <th>author</th>\n",
       "      <th>average_rating</th>\n",
       "    </tr>\n",
       "  </thead>\n",
       "  <tbody>\n",
       "    <tr>\n",
       "      <th>0</th>\n",
       "      <td>J.K. Rowling/Mary GrandPré</td>\n",
       "      <td>4.287097</td>\n",
       "    </tr>\n",
       "  </tbody>\n",
       "</table>\n",
       "</div>"
      ],
      "text/plain": [
       "                       author  average_rating\n",
       "0  J.K. Rowling/Mary GrandPré        4.287097"
      ]
     },
     "metadata": {},
     "output_type": "display_data"
    }
   ],
   "source": [
    "# Исправим код, используем вложенный запрос, чтобы сначала отфильтровать книги с достаточным количеством оценок\n",
    "# Определим автора с самой высокой средней оценкой книг, учитывая условие о 50 оценках\n",
    "query = '''\n",
    "SELECT a.author, AVG(r.rating) AS average_rating\n",
    "FROM authors a\n",
    "JOIN books b ON a.author_id = b.author_id\n",
    "JOIN ratings r ON b.book_id = r.book_id\n",
    "WHERE b.book_id IN (\n",
    "    SELECT b_inner.book_id\n",
    "    FROM books b_inner\n",
    "    JOIN ratings r_inner ON b_inner.book_id = r_inner.book_id\n",
    "    GROUP BY b_inner.book_id\n",
    "    HAVING COUNT(r_inner.rating_id) >= 50\n",
    ")\n",
    "GROUP BY a.author\n",
    "ORDER BY average_rating DESC\n",
    "LIMIT 1;\n",
    "'''\n",
    "\n",
    "# Выводим результат\n",
    "result = fetch_table_data(query)\n",
    "display(result)\n",
    "\n"
   ]
  },
  {
   "cell_type": "markdown",
   "metadata": {},
   "source": [
    "- Автор с самой высокой средней оценкой книг (только книги с 50 и более оценками) - J.K. Rowling (4.28)"
   ]
  },
  {
   "cell_type": "markdown",
   "metadata": {},
   "source": [
    "### Среднее количество обзоров от пользователей."
   ]
  },
  {
   "cell_type": "code",
   "execution_count": 14,
   "metadata": {},
   "outputs": [
    {
     "data": {
      "text/html": [
       "<div>\n",
       "<style scoped>\n",
       "    .dataframe tbody tr th:only-of-type {\n",
       "        vertical-align: middle;\n",
       "    }\n",
       "\n",
       "    .dataframe tbody tr th {\n",
       "        vertical-align: top;\n",
       "    }\n",
       "\n",
       "    .dataframe thead th {\n",
       "        text-align: right;\n",
       "    }\n",
       "</style>\n",
       "<table border=\"1\" class=\"dataframe\">\n",
       "  <thead>\n",
       "    <tr style=\"text-align: right;\">\n",
       "      <th></th>\n",
       "      <th>average_reviews</th>\n",
       "    </tr>\n",
       "  </thead>\n",
       "  <tbody>\n",
       "    <tr>\n",
       "      <th>0</th>\n",
       "      <td>24.0</td>\n",
       "    </tr>\n",
       "  </tbody>\n",
       "</table>\n",
       "</div>"
      ],
      "text/plain": [
       "   average_reviews\n",
       "0             24.0"
      ]
     },
     "execution_count": 14,
     "metadata": {},
     "output_type": "execute_result"
    }
   ],
   "source": [
    "# Посчитаем среднее количество обзоров от пользователей, которые поставили больше 48 оценок\n",
    "\n",
    "query_reviews = '''\n",
    "SELECT AVG(review_count) AS average_reviews\n",
    "FROM (\n",
    "    SELECT filtered_users.username, COUNT(DISTINCT rev.review_id) AS review_count\n",
    "    FROM (\n",
    "        SELECT username\n",
    "        FROM ratings\n",
    "        GROUP BY username\n",
    "        HAVING COUNT(rating_id) > 48\n",
    "    ) AS filtered_users\n",
    "    LEFT JOIN reviews rev ON filtered_users.username = rev.username\n",
    "    GROUP BY filtered_users.username\n",
    ") AS user_reviews;\n",
    "'''\n",
    "\n",
    "\n",
    "# Получаем данные и выводим результат\n",
    "\n",
    "result_reviews = fetch_table_data(query_reviews)\n",
    "result_reviews\n",
    "\n"
   ]
  },
  {
   "cell_type": "markdown",
   "metadata": {},
   "source": [
    "- Среднее количество обзоров от пользователей, которые поставили больше 48 оценок - 24 обзора."
   ]
  },
  {
   "cell_type": "markdown",
   "metadata": {},
   "source": [
    "## Выводы и рекомендации."
   ]
  },
  {
   "cell_type": "markdown",
   "metadata": {},
   "source": [
    "1) Количество книг, вышедших после 1 января 2000 года: 819. Это свидетельствует о значительном росте публикаций в последние два десятилетия.\n",
    "\n",
    "   - **Рекомендации** : обратить внимание на современные тренды и предпочтения читателей, чтобы эффективно продвигать новые издания.\n",
    "\n",
    "\n",
    "2) Больше всего отзывов у следующих книг:\n",
    "\n",
    "    - Twilight - 7. Ср.оценка - 3.66\n",
    "    - Harry Potter and the Prisoner of Azkaban - 6. Ср.оценка - 4.41\n",
    "    - Harry Potter and the Chamber of Secrets - 6. Ср.оценка - 4.28\n",
    "\n",
    "   - **Рекомендации** : учитывая высокую активность пользователей в отзывах на указанные книги, следует рассмотреть возможность маркетинговых кампаний, связанных с этими произведениями.\n",
    "    \n",
    "3) Издательство с наибольшим количеством книг (толще 50 страниц) - Penguin Books (Выпущено 42 книги). Это издательство демонстрирует высокую продуктивность и разнообразие изданий.\n",
    "\n",
    "   - **Рекомендации** : рассмотреть возможность сотрудничества с Penguin Books для продвижения их новых изданий\n",
    "    \n",
    "4) Автор с самой высокой средней оценкой книг (только книги с 50 и более оценками) - J.K. Rowling (4.28). Это указывает на высокий уровень удовлетворенности читателей ее произведениями.\n",
    "\n",
    "   - **Рекомендации** : организовать мероприятия с участием J.K. Rowling или создать контент, связанный с ее работами, чтобы привлечь внимание к ее книгам и повысить интерес к жанру.\n",
    "\n",
    "\n",
    "5) Среднее количество обзоров от пользователей, которые поставили больше 48 оценок - 24. Это показатель активности пользователей, который может быть использован для оценки вовлеченности читателей.\n",
    "\n",
    "   - **Рекомендации** : Разработать программы лояльности или поощрения для активных рецензентов, чтобы увеличить количество отзывов и повысить интерес к новым изданиям.\n"
   ]
  },
  {
   "cell_type": "code",
   "execution_count": null,
   "metadata": {},
   "outputs": [],
   "source": []
  }
 ],
 "metadata": {
  "ExecuteTimeLog": [
   {
    "duration": 12588,
    "start_time": "2024-07-23T11:22:10.431Z"
   },
   {
    "duration": 3,
    "start_time": "2024-07-23T11:25:12.153Z"
   },
   {
    "duration": 76,
    "start_time": "2024-07-23T11:25:45.627Z"
   },
   {
    "duration": 59,
    "start_time": "2024-07-23T11:26:06.090Z"
   },
   {
    "duration": 4,
    "start_time": "2024-07-23T11:27:51.174Z"
   },
   {
    "duration": 3,
    "start_time": "2024-07-23T11:27:51.947Z"
   },
   {
    "duration": 579,
    "start_time": "2024-07-23T11:27:52.632Z"
   },
   {
    "duration": 12,
    "start_time": "2024-07-23T11:33:12.838Z"
   },
   {
    "duration": 88,
    "start_time": "2024-07-23T11:40:30.107Z"
   },
   {
    "duration": 8,
    "start_time": "2024-07-23T11:41:09.719Z"
   },
   {
    "duration": 7,
    "start_time": "2024-07-23T11:41:41.987Z"
   },
   {
    "duration": 31,
    "start_time": "2024-07-23T11:45:59.976Z"
   },
   {
    "duration": 28,
    "start_time": "2024-07-23T11:47:27.962Z"
   },
   {
    "duration": 29,
    "start_time": "2024-07-23T11:47:41.729Z"
   },
   {
    "duration": 30,
    "start_time": "2024-07-23T11:47:48.542Z"
   },
   {
    "duration": 29,
    "start_time": "2024-07-23T11:52:43.296Z"
   },
   {
    "duration": 24,
    "start_time": "2024-07-23T11:54:47.337Z"
   },
   {
    "duration": 23,
    "start_time": "2024-07-23T11:57:04.780Z"
   },
   {
    "duration": 23,
    "start_time": "2024-07-23T11:57:36.448Z"
   },
   {
    "duration": 13,
    "start_time": "2024-07-23T11:58:00.448Z"
   },
   {
    "duration": 13,
    "start_time": "2024-07-23T12:00:23.991Z"
   },
   {
    "duration": 29,
    "start_time": "2024-07-23T12:00:37.480Z"
   },
   {
    "duration": 7,
    "start_time": "2024-07-23T12:01:01.157Z"
   },
   {
    "duration": 7,
    "start_time": "2024-07-23T12:01:07.685Z"
   },
   {
    "duration": 5894,
    "start_time": "2024-07-23T16:01:46.233Z"
   },
   {
    "duration": 3,
    "start_time": "2024-07-23T16:01:52.129Z"
   },
   {
    "duration": 212,
    "start_time": "2024-07-23T16:01:52.134Z"
   },
   {
    "duration": 7,
    "start_time": "2024-07-23T16:01:52.347Z"
   },
   {
    "duration": 66,
    "start_time": "2024-07-23T16:01:52.356Z"
   },
   {
    "duration": 12,
    "start_time": "2024-07-23T16:01:52.424Z"
   },
   {
    "duration": 20,
    "start_time": "2024-07-23T16:08:11.186Z"
   },
   {
    "duration": 94,
    "start_time": "2024-07-23T16:11:42.036Z"
   },
   {
    "duration": 20,
    "start_time": "2024-07-23T16:15:22.046Z"
   },
   {
    "duration": 21,
    "start_time": "2024-07-23T16:18:36.524Z"
   },
   {
    "duration": 45,
    "start_time": "2024-07-23T16:22:23.426Z"
   },
   {
    "duration": 45,
    "start_time": "2024-07-23T16:22:31.425Z"
   },
   {
    "duration": 56,
    "start_time": "2024-07-23T16:22:36.888Z"
   },
   {
    "duration": 43,
    "start_time": "2024-07-23T16:22:45.217Z"
   },
   {
    "duration": 7,
    "start_time": "2024-07-23T16:22:52.840Z"
   },
   {
    "duration": 37,
    "start_time": "2024-07-23T16:22:56.390Z"
   },
   {
    "duration": 12,
    "start_time": "2024-07-23T16:22:58.166Z"
   },
   {
    "duration": 14,
    "start_time": "2024-07-23T16:22:59.749Z"
   },
   {
    "duration": 20,
    "start_time": "2024-07-23T16:23:01.240Z"
   },
   {
    "duration": 6,
    "start_time": "2024-07-23T16:23:38.549Z"
   },
   {
    "duration": 7,
    "start_time": "2024-07-23T16:23:58.165Z"
   },
   {
    "duration": 20,
    "start_time": "2024-07-23T16:24:02.565Z"
   },
   {
    "duration": 23,
    "start_time": "2024-07-23T16:24:05.499Z"
   },
   {
    "duration": 6,
    "start_time": "2024-07-23T16:24:09.955Z"
   },
   {
    "duration": 7,
    "start_time": "2024-07-23T16:24:16.800Z"
   },
   {
    "duration": 3,
    "start_time": "2024-07-23T16:24:17.089Z"
   },
   {
    "duration": 88,
    "start_time": "2024-07-23T16:24:17.283Z"
   },
   {
    "duration": 8,
    "start_time": "2024-07-23T16:24:18.433Z"
   },
   {
    "duration": 28,
    "start_time": "2024-07-23T16:24:19.165Z"
   },
   {
    "duration": 11,
    "start_time": "2024-07-23T16:24:20.230Z"
   },
   {
    "duration": 15,
    "start_time": "2024-07-23T16:24:21.835Z"
   },
   {
    "duration": 7,
    "start_time": "2024-07-23T16:24:24.854Z"
   },
   {
    "duration": 23,
    "start_time": "2024-07-23T16:24:40.091Z"
   },
   {
    "duration": 4,
    "start_time": "2024-07-23T16:38:47.405Z"
   },
   {
    "duration": 3,
    "start_time": "2024-07-23T16:38:47.988Z"
   },
   {
    "duration": 381,
    "start_time": "2024-07-23T16:38:50.666Z"
   },
   {
    "duration": 7,
    "start_time": "2024-07-23T16:38:53.322Z"
   },
   {
    "duration": 26,
    "start_time": "2024-07-23T16:38:54.101Z"
   },
   {
    "duration": 13,
    "start_time": "2024-07-23T16:38:54.918Z"
   },
   {
    "duration": 16,
    "start_time": "2024-07-23T16:38:55.813Z"
   },
   {
    "duration": 18,
    "start_time": "2024-07-23T16:38:56.755Z"
   },
   {
    "duration": 7096,
    "start_time": "2024-07-24T06:12:46.249Z"
   },
   {
    "duration": 3,
    "start_time": "2024-07-24T06:12:53.346Z"
   },
   {
    "duration": 91,
    "start_time": "2024-07-24T06:12:53.350Z"
   },
   {
    "duration": 7,
    "start_time": "2024-07-24T06:12:53.442Z"
   },
   {
    "duration": 26,
    "start_time": "2024-07-24T06:12:53.450Z"
   },
   {
    "duration": 10,
    "start_time": "2024-07-24T06:12:53.477Z"
   },
   {
    "duration": 23,
    "start_time": "2024-07-24T06:12:53.488Z"
   },
   {
    "duration": 16,
    "start_time": "2024-07-24T06:12:53.512Z"
   },
   {
    "duration": 7638,
    "start_time": "2024-07-24T09:23:47.064Z"
   },
   {
    "duration": 3,
    "start_time": "2024-07-24T09:23:54.704Z"
   },
   {
    "duration": 426,
    "start_time": "2024-07-24T09:23:54.708Z"
   },
   {
    "duration": 47,
    "start_time": "2024-07-24T09:24:04.824Z"
   },
   {
    "duration": 46,
    "start_time": "2024-07-24T09:24:48.230Z"
   },
   {
    "duration": 48,
    "start_time": "2024-07-24T09:24:52.884Z"
   },
   {
    "duration": 107,
    "start_time": "2024-07-24T09:26:11.676Z"
   },
   {
    "duration": 7,
    "start_time": "2024-07-24T09:26:44.669Z"
   },
   {
    "duration": 89,
    "start_time": "2024-07-24T09:27:29.929Z"
   },
   {
    "duration": 48,
    "start_time": "2024-07-24T09:31:07.109Z"
   },
   {
    "duration": 5,
    "start_time": "2024-07-24T09:32:35.590Z"
   },
   {
    "duration": 5,
    "start_time": "2024-07-24T09:32:46.793Z"
   },
   {
    "duration": 5,
    "start_time": "2024-07-24T09:34:08.975Z"
   },
   {
    "duration": 133,
    "start_time": "2024-07-24T09:39:10.723Z"
   },
   {
    "duration": 59,
    "start_time": "2024-07-24T09:39:15.824Z"
   },
   {
    "duration": 86,
    "start_time": "2024-07-24T09:39:27.275Z"
   },
   {
    "duration": 47,
    "start_time": "2024-07-24T09:42:30.467Z"
   },
   {
    "duration": 47,
    "start_time": "2024-07-24T09:42:58.858Z"
   },
   {
    "duration": 76,
    "start_time": "2024-07-24T09:43:48.730Z"
   },
   {
    "duration": 4,
    "start_time": "2024-07-24T09:44:05.547Z"
   },
   {
    "duration": 79,
    "start_time": "2024-07-24T09:44:24.689Z"
   },
   {
    "duration": 81,
    "start_time": "2024-07-24T09:45:00.187Z"
   },
   {
    "duration": 80,
    "start_time": "2024-07-24T09:45:15.247Z"
   },
   {
    "duration": 77,
    "start_time": "2024-07-24T09:46:09.434Z"
   },
   {
    "duration": 82,
    "start_time": "2024-07-24T09:46:19.857Z"
   },
   {
    "duration": 81,
    "start_time": "2024-07-24T09:46:30.500Z"
   },
   {
    "duration": 78,
    "start_time": "2024-07-24T09:46:37.991Z"
   },
   {
    "duration": 4,
    "start_time": "2024-07-24T09:47:08.615Z"
   },
   {
    "duration": 4,
    "start_time": "2024-07-24T09:47:09.389Z"
   },
   {
    "duration": 405,
    "start_time": "2024-07-24T09:47:09.931Z"
   },
   {
    "duration": 47,
    "start_time": "2024-07-24T09:47:12.856Z"
   },
   {
    "duration": 85,
    "start_time": "2024-07-24T09:47:16.475Z"
   },
   {
    "duration": 48,
    "start_time": "2024-07-24T09:47:22.524Z"
   },
   {
    "duration": 4,
    "start_time": "2024-07-24T09:47:24.612Z"
   },
   {
    "duration": 3,
    "start_time": "2024-07-24T09:48:20.424Z"
   },
   {
    "duration": 48,
    "start_time": "2024-07-24T09:49:08.014Z"
   },
   {
    "duration": 4,
    "start_time": "2024-07-24T09:49:08.873Z"
   },
   {
    "duration": 81,
    "start_time": "2024-07-24T09:50:00.507Z"
   },
   {
    "duration": 80,
    "start_time": "2024-07-24T09:50:29.641Z"
   },
   {
    "duration": 80,
    "start_time": "2024-07-24T09:51:04.382Z"
   },
   {
    "duration": 81,
    "start_time": "2024-07-24T09:51:16.615Z"
   },
   {
    "duration": 82,
    "start_time": "2024-07-24T09:53:37.373Z"
   },
   {
    "duration": 70,
    "start_time": "2024-07-24T09:56:06.788Z"
   },
   {
    "duration": 51,
    "start_time": "2024-07-24T09:56:28.023Z"
   },
   {
    "duration": 58,
    "start_time": "2024-07-24T09:57:45.908Z"
   },
   {
    "duration": 57,
    "start_time": "2024-07-24T10:01:30.312Z"
   },
   {
    "duration": 57,
    "start_time": "2024-07-24T10:01:38.097Z"
   },
   {
    "duration": 47,
    "start_time": "2024-07-24T10:04:39.087Z"
   },
   {
    "duration": 46,
    "start_time": "2024-07-24T10:04:39.176Z"
   },
   {
    "duration": 52,
    "start_time": "2024-07-24T10:04:45.890Z"
   },
   {
    "duration": 53,
    "start_time": "2024-07-24T10:08:00.362Z"
   },
   {
    "duration": 56,
    "start_time": "2024-07-24T10:08:47.339Z"
   },
   {
    "duration": 54,
    "start_time": "2024-07-24T10:12:22.147Z"
   },
   {
    "duration": 55,
    "start_time": "2024-07-24T10:13:47.915Z"
   },
   {
    "duration": 62,
    "start_time": "2024-07-24T10:15:08.455Z"
   },
   {
    "duration": 54,
    "start_time": "2024-07-24T10:16:07.656Z"
   },
   {
    "duration": 70,
    "start_time": "2024-07-24T10:35:08.004Z"
   },
   {
    "duration": 56,
    "start_time": "2024-07-24T10:36:00.389Z"
   },
   {
    "duration": 57,
    "start_time": "2024-07-24T10:36:01.943Z"
   },
   {
    "duration": 66,
    "start_time": "2024-07-24T10:36:02.803Z"
   },
   {
    "duration": 76,
    "start_time": "2024-07-24T10:39:50.687Z"
   },
   {
    "duration": 62,
    "start_time": "2024-07-24T10:40:13.171Z"
   },
   {
    "duration": 68,
    "start_time": "2024-07-24T10:40:19.470Z"
   },
   {
    "duration": 60,
    "start_time": "2024-07-24T10:41:06.792Z"
   },
   {
    "duration": 62,
    "start_time": "2024-07-24T10:41:22.911Z"
   },
   {
    "duration": 62,
    "start_time": "2024-07-24T10:41:50.494Z"
   },
   {
    "duration": 67,
    "start_time": "2024-07-24T10:42:07.527Z"
   },
   {
    "duration": 59,
    "start_time": "2024-07-24T10:42:44.154Z"
   },
   {
    "duration": 61,
    "start_time": "2024-07-24T10:43:27.870Z"
   },
   {
    "duration": 4,
    "start_time": "2024-07-24T10:43:36.035Z"
   },
   {
    "duration": 3,
    "start_time": "2024-07-24T10:43:36.456Z"
   },
   {
    "duration": 406,
    "start_time": "2024-07-24T10:43:36.655Z"
   },
   {
    "duration": 47,
    "start_time": "2024-07-24T10:43:37.702Z"
   },
   {
    "duration": 3,
    "start_time": "2024-07-24T10:43:38.334Z"
   },
   {
    "duration": 48,
    "start_time": "2024-07-24T10:43:38.801Z"
   },
   {
    "duration": 5,
    "start_time": "2024-07-24T10:43:39.035Z"
   },
   {
    "duration": 82,
    "start_time": "2024-07-24T10:43:39.457Z"
   },
   {
    "duration": 49,
    "start_time": "2024-07-24T10:43:40.542Z"
   },
   {
    "duration": 56,
    "start_time": "2024-07-24T10:43:41.392Z"
   },
   {
    "duration": 53,
    "start_time": "2024-07-24T10:43:41.600Z"
   },
   {
    "duration": 55,
    "start_time": "2024-07-24T10:43:42.025Z"
   },
   {
    "duration": 57,
    "start_time": "2024-07-24T10:43:43.637Z"
   },
   {
    "duration": 61,
    "start_time": "2024-07-24T10:43:45.057Z"
   },
   {
    "duration": 52,
    "start_time": "2024-07-24T10:45:24.852Z"
   },
   {
    "duration": 61,
    "start_time": "2024-07-24T10:45:50.037Z"
   },
   {
    "duration": 66,
    "start_time": "2024-07-24T10:46:29.670Z"
   },
   {
    "duration": 1924,
    "start_time": "2024-07-24T10:51:49.754Z"
   },
   {
    "duration": 51,
    "start_time": "2024-07-24T10:52:01.618Z"
   },
   {
    "duration": 68,
    "start_time": "2024-07-24T10:54:17.653Z"
   },
   {
    "duration": 7394,
    "start_time": "2024-07-24T10:57:49.374Z"
   },
   {
    "duration": 3,
    "start_time": "2024-07-24T10:57:56.770Z"
   },
   {
    "duration": 413,
    "start_time": "2024-07-24T10:57:56.775Z"
   },
   {
    "duration": 45,
    "start_time": "2024-07-24T10:57:57.191Z"
   },
   {
    "duration": 4,
    "start_time": "2024-07-24T10:57:57.237Z"
   },
   {
    "duration": 48,
    "start_time": "2024-07-24T10:57:57.243Z"
   },
   {
    "duration": 68,
    "start_time": "2024-07-24T10:57:57.292Z"
   },
   {
    "duration": 0,
    "start_time": "2024-07-24T10:57:57.361Z"
   },
   {
    "duration": 0,
    "start_time": "2024-07-24T10:57:57.363Z"
   },
   {
    "duration": 0,
    "start_time": "2024-07-24T10:57:57.364Z"
   },
   {
    "duration": 0,
    "start_time": "2024-07-24T10:57:57.365Z"
   },
   {
    "duration": 0,
    "start_time": "2024-07-24T10:57:57.366Z"
   },
   {
    "duration": 0,
    "start_time": "2024-07-24T10:57:57.367Z"
   },
   {
    "duration": 0,
    "start_time": "2024-07-24T10:57:57.368Z"
   },
   {
    "duration": 3,
    "start_time": "2024-07-24T10:58:27.109Z"
   },
   {
    "duration": 79,
    "start_time": "2024-07-24T10:58:30.217Z"
   },
   {
    "duration": 51,
    "start_time": "2024-07-24T10:58:32.356Z"
   },
   {
    "duration": 55,
    "start_time": "2024-07-24T10:58:33.751Z"
   },
   {
    "duration": 50,
    "start_time": "2024-07-24T10:58:34.074Z"
   },
   {
    "duration": 53,
    "start_time": "2024-07-24T10:58:35.236Z"
   },
   {
    "duration": 56,
    "start_time": "2024-07-24T10:58:37.352Z"
   },
   {
    "duration": 53,
    "start_time": "2024-07-24T10:58:37.634Z"
   },
   {
    "duration": 7382,
    "start_time": "2024-07-24T14:15:01.222Z"
   },
   {
    "duration": 2,
    "start_time": "2024-07-24T14:15:08.606Z"
   },
   {
    "duration": 95,
    "start_time": "2024-07-24T14:15:08.610Z"
   },
   {
    "duration": 7,
    "start_time": "2024-07-24T14:15:08.706Z"
   },
   {
    "duration": 18,
    "start_time": "2024-07-24T14:15:08.714Z"
   },
   {
    "duration": 10,
    "start_time": "2024-07-24T14:15:08.734Z"
   },
   {
    "duration": 2,
    "start_time": "2024-07-24T14:15:08.745Z"
   },
   {
    "duration": 28,
    "start_time": "2024-07-24T14:15:08.749Z"
   },
   {
    "duration": 10,
    "start_time": "2024-07-24T14:15:08.778Z"
   },
   {
    "duration": 16,
    "start_time": "2024-07-24T14:15:08.790Z"
   },
   {
    "duration": 10,
    "start_time": "2024-07-24T14:15:08.807Z"
   },
   {
    "duration": 12,
    "start_time": "2024-07-24T14:15:08.819Z"
   },
   {
    "duration": 19,
    "start_time": "2024-07-24T14:15:08.832Z"
   },
   {
    "duration": 11,
    "start_time": "2024-07-24T14:15:08.852Z"
   },
   {
    "duration": 29,
    "start_time": "2024-07-24T14:16:01.442Z"
   },
   {
    "duration": 28,
    "start_time": "2024-07-24T14:16:10.586Z"
   }
  ],
  "kernelspec": {
   "display_name": "Python 3 (ipykernel)",
   "language": "python",
   "name": "python3"
  },
  "language_info": {
   "codemirror_mode": {
    "name": "ipython",
    "version": 3
   },
   "file_extension": ".py",
   "mimetype": "text/x-python",
   "name": "python",
   "nbconvert_exporter": "python",
   "pygments_lexer": "ipython3",
   "version": "3.9.5"
  },
  "toc": {
   "base_numbering": 1,
   "nav_menu": {},
   "number_sections": true,
   "sideBar": true,
   "skip_h1_title": true,
   "title_cell": "Table of Contents",
   "title_sidebar": "Contents",
   "toc_cell": false,
   "toc_position": {
    "height": "calc(100% - 180px)",
    "left": "10px",
    "top": "150px",
    "width": "288px"
   },
   "toc_section_display": true,
   "toc_window_display": true
  }
 },
 "nbformat": 4,
 "nbformat_minor": 2
}
