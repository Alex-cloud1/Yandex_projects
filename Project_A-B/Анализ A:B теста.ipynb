{
 "cells": [
  {
   "cell_type": "markdown",
   "metadata": {},
   "source": [
    "# Анализ A/B-теста интернет-магазина "
   ]
  },
  {
   "cell_type": "markdown",
   "metadata": {},
   "source": [
    "# - Описание проекта:\n",
    "Данный проект представляет собой анализ A/B-теста, проведенного в интернет-магазине с целью увеличения выручки. В рамках проекта будет выполнена приоритизация гипотез по увеличению выручки с использованием фреймворков ICE и RICE. Затем будет проведен анализ результатов A/B-теста с использованием данных о заказах и посетителях.\n",
    "\n",
    "\n",
    "# - Цель исследования:\n",
    "Целью данного проекта является выявление эффективности гипотез по увеличению выручки интернет-магазина и анализ результатов A/B-теста для принятия обоснованных решений.\n",
    "\n",
    "\n",
    "# - Задачи исследования:\n",
    "- Приоритизация гипотез с помощью фреймворков ICE и RICE.\n",
    "- Построение графиков кумулятивной выручки, среднего чека, относительного изменения среднего чека, кумулятивного среднего количества заказов на посетителя и относительного изменения этого показателя.\n",
    "- Анализ данных о заказах и посетителях, включая точечные графики количества заказов на пользователя и стоимости заказов.\n",
    "- Определение аномальных пользователей и заказов на основе перцентилей.\n",
    "- Проведение статистического анализа различий в среднем количестве заказов на посетителя и среднем чеке между группами по \"сырым\" и \"очищенным\" данным.\n",
    "- Принятие решения по результатам A/B-теста.\n",
    "\n",
    "\n",
    "# - План действий:\n",
    "1. Посмотрим на данные, если потребуется предобработаем.\n",
    "1. Провести приоритизацию гипотез с использованием фреймворков ICE и RICE.\n",
    "2. Построить необходимые графики кумулятивной выручки, среднего чека, относительного изменения среднего чека, кумулятивного среднего количества заказов на посетителя и относительного изменения этого показателя.\n",
    "3. Проанализировать данные о заказах и посетителях, выявить аномалии.\n",
    "4. Провести статистический анализ различий между группами по ключевым показателям.\n",
    "5. Принять решение по результатам A/B-теста и подготовить выводы и рекомендации на основе проведенного анализа.\n"
   ]
  },
  {
   "cell_type": "markdown",
   "metadata": {},
   "source": [
    "# Предобработка и подготовка данных к анализу"
   ]
  },
  {
   "cell_type": "code",
   "execution_count": 1,
   "metadata": {},
   "outputs": [],
   "source": [
    "#Загрузим библеотеки\n",
    "\n",
    "import pandas as pd\n",
    "import matplotlib.pyplot as plt\n",
    "import numpy as np\n",
    "import seaborn as sns\n",
    "from math import factorial\n",
    "from scipy.stats import poisson\n",
    "from scipy.stats import binom\n",
    "from scipy import stats as st"
   ]
  },
  {
   "cell_type": "code",
   "execution_count": 2,
   "metadata": {},
   "outputs": [],
   "source": [
    "data = pd.read_csv('/datasets/hypothesis.csv')"
   ]
  },
  {
   "cell_type": "code",
   "execution_count": 3,
   "metadata": {
    "scrolled": false
   },
   "outputs": [
    {
     "name": "stdout",
     "output_type": "stream",
     "text": [
      "<class 'pandas.core.frame.DataFrame'>\n",
      "RangeIndex: 9 entries, 0 to 8\n",
      "Data columns (total 5 columns):\n",
      " #   Column      Non-Null Count  Dtype \n",
      "---  ------      --------------  ----- \n",
      " 0   Hypothesis  9 non-null      object\n",
      " 1   Reach       9 non-null      int64 \n",
      " 2   Impact      9 non-null      int64 \n",
      " 3   Confidence  9 non-null      int64 \n",
      " 4   Efforts     9 non-null      int64 \n",
      "dtypes: int64(4), object(1)\n",
      "memory usage: 488.0+ bytes\n"
     ]
    },
    {
     "data": {
      "text/html": [
       "<div>\n",
       "<style scoped>\n",
       "    .dataframe tbody tr th:only-of-type {\n",
       "        vertical-align: middle;\n",
       "    }\n",
       "\n",
       "    .dataframe tbody tr th {\n",
       "        vertical-align: top;\n",
       "    }\n",
       "\n",
       "    .dataframe thead th {\n",
       "        text-align: right;\n",
       "    }\n",
       "</style>\n",
       "<table border=\"1\" class=\"dataframe\">\n",
       "  <thead>\n",
       "    <tr style=\"text-align: right;\">\n",
       "      <th></th>\n",
       "      <th>Hypothesis</th>\n",
       "      <th>Reach</th>\n",
       "      <th>Impact</th>\n",
       "      <th>Confidence</th>\n",
       "      <th>Efforts</th>\n",
       "    </tr>\n",
       "  </thead>\n",
       "  <tbody>\n",
       "    <tr>\n",
       "      <th>0</th>\n",
       "      <td>Добавить два новых канала привлечения трафика, что позволит привлекать на 30% больше пользователей</td>\n",
       "      <td>3</td>\n",
       "      <td>10</td>\n",
       "      <td>8</td>\n",
       "      <td>6</td>\n",
       "    </tr>\n",
       "    <tr>\n",
       "      <th>1</th>\n",
       "      <td>Запустить собственную службу доставки, что сократит срок доставки заказов</td>\n",
       "      <td>2</td>\n",
       "      <td>5</td>\n",
       "      <td>4</td>\n",
       "      <td>10</td>\n",
       "    </tr>\n",
       "    <tr>\n",
       "      <th>2</th>\n",
       "      <td>Добавить блоки рекомендаций товаров на сайт интернет магазина, чтобы повысить конверсию и средний чек заказа</td>\n",
       "      <td>8</td>\n",
       "      <td>3</td>\n",
       "      <td>7</td>\n",
       "      <td>3</td>\n",
       "    </tr>\n",
       "    <tr>\n",
       "      <th>3</th>\n",
       "      <td>Изменить структура категорий, что увеличит конверсию, т.к. пользователи быстрее найдут нужный товар</td>\n",
       "      <td>8</td>\n",
       "      <td>3</td>\n",
       "      <td>3</td>\n",
       "      <td>8</td>\n",
       "    </tr>\n",
       "    <tr>\n",
       "      <th>4</th>\n",
       "      <td>Изменить цвет фона главной страницы, чтобы увеличить вовлеченность пользователей</td>\n",
       "      <td>3</td>\n",
       "      <td>1</td>\n",
       "      <td>1</td>\n",
       "      <td>1</td>\n",
       "    </tr>\n",
       "    <tr>\n",
       "      <th>5</th>\n",
       "      <td>Добавить страницу отзывов клиентов о магазине, что позволит увеличить количество заказов</td>\n",
       "      <td>3</td>\n",
       "      <td>2</td>\n",
       "      <td>2</td>\n",
       "      <td>3</td>\n",
       "    </tr>\n",
       "    <tr>\n",
       "      <th>6</th>\n",
       "      <td>Показать на главной странице баннеры с актуальными акциями и распродажами, чтобы увеличить конверсию</td>\n",
       "      <td>5</td>\n",
       "      <td>3</td>\n",
       "      <td>8</td>\n",
       "      <td>3</td>\n",
       "    </tr>\n",
       "    <tr>\n",
       "      <th>7</th>\n",
       "      <td>Добавить форму подписки на все основные страницы, чтобы собрать базу клиентов для email-рассылок</td>\n",
       "      <td>10</td>\n",
       "      <td>7</td>\n",
       "      <td>8</td>\n",
       "      <td>5</td>\n",
       "    </tr>\n",
       "    <tr>\n",
       "      <th>8</th>\n",
       "      <td>Запустить акцию, дающую скидку на товар в день рождения</td>\n",
       "      <td>1</td>\n",
       "      <td>9</td>\n",
       "      <td>9</td>\n",
       "      <td>5</td>\n",
       "    </tr>\n",
       "  </tbody>\n",
       "</table>\n",
       "</div>"
      ],
      "text/plain": [
       "                                                                                                     Hypothesis  \\\n",
       "0            Добавить два новых канала привлечения трафика, что позволит привлекать на 30% больше пользователей   \n",
       "1                                     Запустить собственную службу доставки, что сократит срок доставки заказов   \n",
       "2  Добавить блоки рекомендаций товаров на сайт интернет магазина, чтобы повысить конверсию и средний чек заказа   \n",
       "3           Изменить структура категорий, что увеличит конверсию, т.к. пользователи быстрее найдут нужный товар   \n",
       "4                              Изменить цвет фона главной страницы, чтобы увеличить вовлеченность пользователей   \n",
       "5                      Добавить страницу отзывов клиентов о магазине, что позволит увеличить количество заказов   \n",
       "6          Показать на главной странице баннеры с актуальными акциями и распродажами, чтобы увеличить конверсию   \n",
       "7              Добавить форму подписки на все основные страницы, чтобы собрать базу клиентов для email-рассылок   \n",
       "8                                                       Запустить акцию, дающую скидку на товар в день рождения   \n",
       "\n",
       "   Reach  Impact  Confidence  Efforts  \n",
       "0      3      10           8        6  \n",
       "1      2       5           4       10  \n",
       "2      8       3           7        3  \n",
       "3      8       3           3        8  \n",
       "4      3       1           1        1  \n",
       "5      3       2           2        3  \n",
       "6      5       3           8        3  \n",
       "7     10       7           8        5  \n",
       "8      1       9           9        5  "
      ]
     },
     "execution_count": 3,
     "metadata": {},
     "output_type": "execute_result"
    }
   ],
   "source": [
    "data.info()\n",
    "pd.options.display.max_colwidth = 130\n",
    "data.head(10)\n"
   ]
  },
  {
   "cell_type": "markdown",
   "metadata": {},
   "source": [
    "Тип данных верный, пропусков в данных нет. Нужно привести названия столбцов к нижнему регистру для удобного использования."
   ]
  },
  {
   "cell_type": "code",
   "execution_count": 4,
   "metadata": {
    "scrolled": true
   },
   "outputs": [
    {
     "data": {
      "text/html": [
       "<div>\n",
       "<style scoped>\n",
       "    .dataframe tbody tr th:only-of-type {\n",
       "        vertical-align: middle;\n",
       "    }\n",
       "\n",
       "    .dataframe tbody tr th {\n",
       "        vertical-align: top;\n",
       "    }\n",
       "\n",
       "    .dataframe thead th {\n",
       "        text-align: right;\n",
       "    }\n",
       "</style>\n",
       "<table border=\"1\" class=\"dataframe\">\n",
       "  <thead>\n",
       "    <tr style=\"text-align: right;\">\n",
       "      <th></th>\n",
       "      <th>hypothesis</th>\n",
       "      <th>reach</th>\n",
       "      <th>impact</th>\n",
       "      <th>confidence</th>\n",
       "      <th>efforts</th>\n",
       "    </tr>\n",
       "  </thead>\n",
       "  <tbody>\n",
       "    <tr>\n",
       "      <th>0</th>\n",
       "      <td>Добавить два новых канала привлечения трафика, что позволит привлекать на 30% больше пользователей</td>\n",
       "      <td>3</td>\n",
       "      <td>10</td>\n",
       "      <td>8</td>\n",
       "      <td>6</td>\n",
       "    </tr>\n",
       "    <tr>\n",
       "      <th>1</th>\n",
       "      <td>Запустить собственную службу доставки, что сократит срок доставки заказов</td>\n",
       "      <td>2</td>\n",
       "      <td>5</td>\n",
       "      <td>4</td>\n",
       "      <td>10</td>\n",
       "    </tr>\n",
       "    <tr>\n",
       "      <th>2</th>\n",
       "      <td>Добавить блоки рекомендаций товаров на сайт интернет магазина, чтобы повысить конверсию и средний чек заказа</td>\n",
       "      <td>8</td>\n",
       "      <td>3</td>\n",
       "      <td>7</td>\n",
       "      <td>3</td>\n",
       "    </tr>\n",
       "    <tr>\n",
       "      <th>3</th>\n",
       "      <td>Изменить структура категорий, что увеличит конверсию, т.к. пользователи быстрее найдут нужный товар</td>\n",
       "      <td>8</td>\n",
       "      <td>3</td>\n",
       "      <td>3</td>\n",
       "      <td>8</td>\n",
       "    </tr>\n",
       "    <tr>\n",
       "      <th>4</th>\n",
       "      <td>Изменить цвет фона главной страницы, чтобы увеличить вовлеченность пользователей</td>\n",
       "      <td>3</td>\n",
       "      <td>1</td>\n",
       "      <td>1</td>\n",
       "      <td>1</td>\n",
       "    </tr>\n",
       "  </tbody>\n",
       "</table>\n",
       "</div>"
      ],
      "text/plain": [
       "                                                                                                     hypothesis  \\\n",
       "0            Добавить два новых канала привлечения трафика, что позволит привлекать на 30% больше пользователей   \n",
       "1                                     Запустить собственную службу доставки, что сократит срок доставки заказов   \n",
       "2  Добавить блоки рекомендаций товаров на сайт интернет магазина, чтобы повысить конверсию и средний чек заказа   \n",
       "3           Изменить структура категорий, что увеличит конверсию, т.к. пользователи быстрее найдут нужный товар   \n",
       "4                              Изменить цвет фона главной страницы, чтобы увеличить вовлеченность пользователей   \n",
       "\n",
       "   reach  impact  confidence  efforts  \n",
       "0      3      10           8        6  \n",
       "1      2       5           4       10  \n",
       "2      8       3           7        3  \n",
       "3      8       3           3        8  \n",
       "4      3       1           1        1  "
      ]
     },
     "execution_count": 4,
     "metadata": {},
     "output_type": "execute_result"
    }
   ],
   "source": [
    "#Приведем названия к нижнему регистру\n",
    "data.columns = data.columns.str.lower()\n",
    "data.head()"
   ]
  },
  {
   "cell_type": "code",
   "execution_count": 5,
   "metadata": {},
   "outputs": [
    {
     "data": {
      "text/plain": [
       "0"
      ]
     },
     "execution_count": 5,
     "metadata": {},
     "output_type": "execute_result"
    }
   ],
   "source": [
    "#Посмотрим на дубликаты\n",
    "#data.isna().sum()\n",
    "data.duplicated().sum()"
   ]
  },
  {
   "cell_type": "markdown",
   "metadata": {},
   "source": [
    "Дубликатов не обнаружили"
   ]
  },
  {
   "cell_type": "markdown",
   "metadata": {},
   "source": [
    "# Часть 1. Приоритизация гипотез."
   ]
  },
  {
   "cell_type": "code",
   "execution_count": 6,
   "metadata": {},
   "outputs": [
    {
     "data": {
      "text/html": [
       "<div>\n",
       "<style scoped>\n",
       "    .dataframe tbody tr th:only-of-type {\n",
       "        vertical-align: middle;\n",
       "    }\n",
       "\n",
       "    .dataframe tbody tr th {\n",
       "        vertical-align: top;\n",
       "    }\n",
       "\n",
       "    .dataframe thead th {\n",
       "        text-align: right;\n",
       "    }\n",
       "</style>\n",
       "<table border=\"1\" class=\"dataframe\">\n",
       "  <thead>\n",
       "    <tr style=\"text-align: right;\">\n",
       "      <th></th>\n",
       "      <th>hypothesis</th>\n",
       "      <th>reach</th>\n",
       "      <th>impact</th>\n",
       "      <th>confidence</th>\n",
       "      <th>efforts</th>\n",
       "      <th>ICE</th>\n",
       "    </tr>\n",
       "  </thead>\n",
       "  <tbody>\n",
       "    <tr>\n",
       "      <th>0</th>\n",
       "      <td>Добавить два новых канала привлечения трафика, что позволит привлекать на 30% больше пользователей</td>\n",
       "      <td>3</td>\n",
       "      <td>10</td>\n",
       "      <td>8</td>\n",
       "      <td>6</td>\n",
       "      <td>13.33</td>\n",
       "    </tr>\n",
       "    <tr>\n",
       "      <th>1</th>\n",
       "      <td>Запустить собственную службу доставки, что сократит срок доставки заказов</td>\n",
       "      <td>2</td>\n",
       "      <td>5</td>\n",
       "      <td>4</td>\n",
       "      <td>10</td>\n",
       "      <td>2.00</td>\n",
       "    </tr>\n",
       "    <tr>\n",
       "      <th>2</th>\n",
       "      <td>Добавить блоки рекомендаций товаров на сайт интернет магазина, чтобы повысить конверсию и средний чек заказа</td>\n",
       "      <td>8</td>\n",
       "      <td>3</td>\n",
       "      <td>7</td>\n",
       "      <td>3</td>\n",
       "      <td>7.00</td>\n",
       "    </tr>\n",
       "    <tr>\n",
       "      <th>3</th>\n",
       "      <td>Изменить структура категорий, что увеличит конверсию, т.к. пользователи быстрее найдут нужный товар</td>\n",
       "      <td>8</td>\n",
       "      <td>3</td>\n",
       "      <td>3</td>\n",
       "      <td>8</td>\n",
       "      <td>1.12</td>\n",
       "    </tr>\n",
       "    <tr>\n",
       "      <th>4</th>\n",
       "      <td>Изменить цвет фона главной страницы, чтобы увеличить вовлеченность пользователей</td>\n",
       "      <td>3</td>\n",
       "      <td>1</td>\n",
       "      <td>1</td>\n",
       "      <td>1</td>\n",
       "      <td>1.00</td>\n",
       "    </tr>\n",
       "    <tr>\n",
       "      <th>5</th>\n",
       "      <td>Добавить страницу отзывов клиентов о магазине, что позволит увеличить количество заказов</td>\n",
       "      <td>3</td>\n",
       "      <td>2</td>\n",
       "      <td>2</td>\n",
       "      <td>3</td>\n",
       "      <td>1.33</td>\n",
       "    </tr>\n",
       "    <tr>\n",
       "      <th>6</th>\n",
       "      <td>Показать на главной странице баннеры с актуальными акциями и распродажами, чтобы увеличить конверсию</td>\n",
       "      <td>5</td>\n",
       "      <td>3</td>\n",
       "      <td>8</td>\n",
       "      <td>3</td>\n",
       "      <td>8.00</td>\n",
       "    </tr>\n",
       "    <tr>\n",
       "      <th>7</th>\n",
       "      <td>Добавить форму подписки на все основные страницы, чтобы собрать базу клиентов для email-рассылок</td>\n",
       "      <td>10</td>\n",
       "      <td>7</td>\n",
       "      <td>8</td>\n",
       "      <td>5</td>\n",
       "      <td>11.20</td>\n",
       "    </tr>\n",
       "    <tr>\n",
       "      <th>8</th>\n",
       "      <td>Запустить акцию, дающую скидку на товар в день рождения</td>\n",
       "      <td>1</td>\n",
       "      <td>9</td>\n",
       "      <td>9</td>\n",
       "      <td>5</td>\n",
       "      <td>16.20</td>\n",
       "    </tr>\n",
       "  </tbody>\n",
       "</table>\n",
       "</div>"
      ],
      "text/plain": [
       "                                                                                                     hypothesis  \\\n",
       "0            Добавить два новых канала привлечения трафика, что позволит привлекать на 30% больше пользователей   \n",
       "1                                     Запустить собственную службу доставки, что сократит срок доставки заказов   \n",
       "2  Добавить блоки рекомендаций товаров на сайт интернет магазина, чтобы повысить конверсию и средний чек заказа   \n",
       "3           Изменить структура категорий, что увеличит конверсию, т.к. пользователи быстрее найдут нужный товар   \n",
       "4                              Изменить цвет фона главной страницы, чтобы увеличить вовлеченность пользователей   \n",
       "5                      Добавить страницу отзывов клиентов о магазине, что позволит увеличить количество заказов   \n",
       "6          Показать на главной странице баннеры с актуальными акциями и распродажами, чтобы увеличить конверсию   \n",
       "7              Добавить форму подписки на все основные страницы, чтобы собрать базу клиентов для email-рассылок   \n",
       "8                                                       Запустить акцию, дающую скидку на товар в день рождения   \n",
       "\n",
       "   reach  impact  confidence  efforts    ICE  \n",
       "0      3      10           8        6  13.33  \n",
       "1      2       5           4       10   2.00  \n",
       "2      8       3           7        3   7.00  \n",
       "3      8       3           3        8   1.12  \n",
       "4      3       1           1        1   1.00  \n",
       "5      3       2           2        3   1.33  \n",
       "6      5       3           8        3   8.00  \n",
       "7     10       7           8        5  11.20  \n",
       "8      1       9           9        5  16.20  "
      ]
     },
     "metadata": {},
     "output_type": "display_data"
    }
   ],
   "source": [
    "#Применим ICE для приоритизации гипотез\n",
    "\n",
    "data['ICE'] = data['impact'] * data['confidence'] / data['efforts']\n",
    "data['ICE'] = data['ICE'].round(2)\n",
    "display (data)"
   ]
  },
  {
   "cell_type": "code",
   "execution_count": 7,
   "metadata": {},
   "outputs": [
    {
     "data": {
      "text/html": [
       "<div>\n",
       "<style scoped>\n",
       "    .dataframe tbody tr th:only-of-type {\n",
       "        vertical-align: middle;\n",
       "    }\n",
       "\n",
       "    .dataframe tbody tr th {\n",
       "        vertical-align: top;\n",
       "    }\n",
       "\n",
       "    .dataframe thead th {\n",
       "        text-align: right;\n",
       "    }\n",
       "</style>\n",
       "<table border=\"1\" class=\"dataframe\">\n",
       "  <thead>\n",
       "    <tr style=\"text-align: right;\">\n",
       "      <th></th>\n",
       "      <th>hypothesis</th>\n",
       "      <th>reach</th>\n",
       "      <th>impact</th>\n",
       "      <th>confidence</th>\n",
       "      <th>efforts</th>\n",
       "      <th>ICE</th>\n",
       "      <th>RICE</th>\n",
       "    </tr>\n",
       "  </thead>\n",
       "  <tbody>\n",
       "    <tr>\n",
       "      <th>0</th>\n",
       "      <td>Добавить два новых канала привлечения трафика, что позволит привлекать на 30% больше пользователей</td>\n",
       "      <td>3</td>\n",
       "      <td>10</td>\n",
       "      <td>8</td>\n",
       "      <td>6</td>\n",
       "      <td>13.33</td>\n",
       "      <td>40.0</td>\n",
       "    </tr>\n",
       "    <tr>\n",
       "      <th>1</th>\n",
       "      <td>Запустить собственную службу доставки, что сократит срок доставки заказов</td>\n",
       "      <td>2</td>\n",
       "      <td>5</td>\n",
       "      <td>4</td>\n",
       "      <td>10</td>\n",
       "      <td>2.00</td>\n",
       "      <td>4.0</td>\n",
       "    </tr>\n",
       "    <tr>\n",
       "      <th>2</th>\n",
       "      <td>Добавить блоки рекомендаций товаров на сайт интернет магазина, чтобы повысить конверсию и средний чек заказа</td>\n",
       "      <td>8</td>\n",
       "      <td>3</td>\n",
       "      <td>7</td>\n",
       "      <td>3</td>\n",
       "      <td>7.00</td>\n",
       "      <td>56.0</td>\n",
       "    </tr>\n",
       "    <tr>\n",
       "      <th>3</th>\n",
       "      <td>Изменить структура категорий, что увеличит конверсию, т.к. пользователи быстрее найдут нужный товар</td>\n",
       "      <td>8</td>\n",
       "      <td>3</td>\n",
       "      <td>3</td>\n",
       "      <td>8</td>\n",
       "      <td>1.12</td>\n",
       "      <td>9.0</td>\n",
       "    </tr>\n",
       "    <tr>\n",
       "      <th>4</th>\n",
       "      <td>Изменить цвет фона главной страницы, чтобы увеличить вовлеченность пользователей</td>\n",
       "      <td>3</td>\n",
       "      <td>1</td>\n",
       "      <td>1</td>\n",
       "      <td>1</td>\n",
       "      <td>1.00</td>\n",
       "      <td>3.0</td>\n",
       "    </tr>\n",
       "    <tr>\n",
       "      <th>5</th>\n",
       "      <td>Добавить страницу отзывов клиентов о магазине, что позволит увеличить количество заказов</td>\n",
       "      <td>3</td>\n",
       "      <td>2</td>\n",
       "      <td>2</td>\n",
       "      <td>3</td>\n",
       "      <td>1.33</td>\n",
       "      <td>4.0</td>\n",
       "    </tr>\n",
       "    <tr>\n",
       "      <th>6</th>\n",
       "      <td>Показать на главной странице баннеры с актуальными акциями и распродажами, чтобы увеличить конверсию</td>\n",
       "      <td>5</td>\n",
       "      <td>3</td>\n",
       "      <td>8</td>\n",
       "      <td>3</td>\n",
       "      <td>8.00</td>\n",
       "      <td>40.0</td>\n",
       "    </tr>\n",
       "    <tr>\n",
       "      <th>7</th>\n",
       "      <td>Добавить форму подписки на все основные страницы, чтобы собрать базу клиентов для email-рассылок</td>\n",
       "      <td>10</td>\n",
       "      <td>7</td>\n",
       "      <td>8</td>\n",
       "      <td>5</td>\n",
       "      <td>11.20</td>\n",
       "      <td>112.0</td>\n",
       "    </tr>\n",
       "    <tr>\n",
       "      <th>8</th>\n",
       "      <td>Запустить акцию, дающую скидку на товар в день рождения</td>\n",
       "      <td>1</td>\n",
       "      <td>9</td>\n",
       "      <td>9</td>\n",
       "      <td>5</td>\n",
       "      <td>16.20</td>\n",
       "      <td>16.2</td>\n",
       "    </tr>\n",
       "  </tbody>\n",
       "</table>\n",
       "</div>"
      ],
      "text/plain": [
       "                                                                                                     hypothesis  \\\n",
       "0            Добавить два новых канала привлечения трафика, что позволит привлекать на 30% больше пользователей   \n",
       "1                                     Запустить собственную службу доставки, что сократит срок доставки заказов   \n",
       "2  Добавить блоки рекомендаций товаров на сайт интернет магазина, чтобы повысить конверсию и средний чек заказа   \n",
       "3           Изменить структура категорий, что увеличит конверсию, т.к. пользователи быстрее найдут нужный товар   \n",
       "4                              Изменить цвет фона главной страницы, чтобы увеличить вовлеченность пользователей   \n",
       "5                      Добавить страницу отзывов клиентов о магазине, что позволит увеличить количество заказов   \n",
       "6          Показать на главной странице баннеры с актуальными акциями и распродажами, чтобы увеличить конверсию   \n",
       "7              Добавить форму подписки на все основные страницы, чтобы собрать базу клиентов для email-рассылок   \n",
       "8                                                       Запустить акцию, дающую скидку на товар в день рождения   \n",
       "\n",
       "   reach  impact  confidence  efforts    ICE   RICE  \n",
       "0      3      10           8        6  13.33   40.0  \n",
       "1      2       5           4       10   2.00    4.0  \n",
       "2      8       3           7        3   7.00   56.0  \n",
       "3      8       3           3        8   1.12    9.0  \n",
       "4      3       1           1        1   1.00    3.0  \n",
       "5      3       2           2        3   1.33    4.0  \n",
       "6      5       3           8        3   8.00   40.0  \n",
       "7     10       7           8        5  11.20  112.0  \n",
       "8      1       9           9        5  16.20   16.2  "
      ]
     },
     "metadata": {},
     "output_type": "display_data"
    }
   ],
   "source": [
    "#Применим RICE для приоритизации гипотез\n",
    "\n",
    "data['RICE'] = data['reach'] * data['impact'] * data['confidence'] / data['efforts']\n",
    "display (data)"
   ]
  },
  {
   "cell_type": "markdown",
   "metadata": {},
   "source": [
    "- При использовании фреймворка RICE приоритет гипотез изменяется по сравнению с ICE из-за учета параметра Reach (охват). Гипотезы, которые имеют большой охват:\n",
    "  -  гипотеза 7 (Добавить форму подписки на все основные страницы, чтобы собрать базу клиентов для email-рассылок)   \n",
    "  -  гипотеза 2 (Добавить блоки рекомендаций товаров на сайт интернет магазина, чтобы повысить конверсию и средний чек заказа));\n",
    "  \n",
    "  - гипотеза 3 (Изменить структура категорий, что увеличит конверсию, т.к. пользователи быстрее найдут нужный товар).\n",
    "\n",
    "\n",
    "- Гипотезы с высоким охватом и высоким влиянием на пользователей могут получить более высокий приоритет по RICE, даже если у них невысокая уверенность или высокие усилия.\n",
    "- RICE учитывает не только потенциальную значимость гипотезы, но и ее реализуемость и охват аудитории, что может привести к изменению порядка приоритетности гипотез по сравнению с ICE.\n"
   ]
  },
  {
   "cell_type": "markdown",
   "metadata": {},
   "source": [
    "# Часть 2. Анализ A/B-теста"
   ]
  },
  {
   "cell_type": "markdown",
   "metadata": {},
   "source": [
    "Мы провели A/B-тест и получили результаты, которые описаны в файлах /datasets/orders.csv и /datasets/visitors.csv. Посмотрим на данные, которые хранятся в этим таблицах.\n",
    "\n"
   ]
  },
  {
   "cell_type": "markdown",
   "metadata": {},
   "source": [
    "# Предобработка данных после проведенного A/B теста."
   ]
  },
  {
   "cell_type": "code",
   "execution_count": 8,
   "metadata": {},
   "outputs": [],
   "source": [
    "orders1 = pd.read_csv('/datasets/orders.csv')\n",
    "visitors = pd.read_csv('/datasets/visitors.csv')"
   ]
  },
  {
   "cell_type": "code",
   "execution_count": 9,
   "metadata": {},
   "outputs": [
    {
     "name": "stdout",
     "output_type": "stream",
     "text": [
      "<class 'pandas.core.frame.DataFrame'>\n",
      "RangeIndex: 1197 entries, 0 to 1196\n",
      "Data columns (total 5 columns):\n",
      " #   Column         Non-Null Count  Dtype \n",
      "---  ------         --------------  ----- \n",
      " 0   transactionId  1197 non-null   int64 \n",
      " 1   visitorId      1197 non-null   int64 \n",
      " 2   date           1197 non-null   object\n",
      " 3   revenue        1197 non-null   int64 \n",
      " 4   group          1197 non-null   object\n",
      "dtypes: int64(3), object(2)\n",
      "memory usage: 46.9+ KB\n"
     ]
    },
    {
     "data": {
      "text/html": [
       "<div>\n",
       "<style scoped>\n",
       "    .dataframe tbody tr th:only-of-type {\n",
       "        vertical-align: middle;\n",
       "    }\n",
       "\n",
       "    .dataframe tbody tr th {\n",
       "        vertical-align: top;\n",
       "    }\n",
       "\n",
       "    .dataframe thead th {\n",
       "        text-align: right;\n",
       "    }\n",
       "</style>\n",
       "<table border=\"1\" class=\"dataframe\">\n",
       "  <thead>\n",
       "    <tr style=\"text-align: right;\">\n",
       "      <th></th>\n",
       "      <th>transactionId</th>\n",
       "      <th>visitorId</th>\n",
       "      <th>date</th>\n",
       "      <th>revenue</th>\n",
       "      <th>group</th>\n",
       "    </tr>\n",
       "  </thead>\n",
       "  <tbody>\n",
       "    <tr>\n",
       "      <th>0</th>\n",
       "      <td>3667963787</td>\n",
       "      <td>3312258926</td>\n",
       "      <td>2019-08-15</td>\n",
       "      <td>1650</td>\n",
       "      <td>B</td>\n",
       "    </tr>\n",
       "    <tr>\n",
       "      <th>1</th>\n",
       "      <td>2804400009</td>\n",
       "      <td>3642806036</td>\n",
       "      <td>2019-08-15</td>\n",
       "      <td>730</td>\n",
       "      <td>B</td>\n",
       "    </tr>\n",
       "    <tr>\n",
       "      <th>2</th>\n",
       "      <td>2961555356</td>\n",
       "      <td>4069496402</td>\n",
       "      <td>2019-08-15</td>\n",
       "      <td>400</td>\n",
       "      <td>A</td>\n",
       "    </tr>\n",
       "    <tr>\n",
       "      <th>3</th>\n",
       "      <td>3797467345</td>\n",
       "      <td>1196621759</td>\n",
       "      <td>2019-08-15</td>\n",
       "      <td>9759</td>\n",
       "      <td>B</td>\n",
       "    </tr>\n",
       "    <tr>\n",
       "      <th>4</th>\n",
       "      <td>2282983706</td>\n",
       "      <td>2322279887</td>\n",
       "      <td>2019-08-15</td>\n",
       "      <td>2308</td>\n",
       "      <td>B</td>\n",
       "    </tr>\n",
       "  </tbody>\n",
       "</table>\n",
       "</div>"
      ],
      "text/plain": [
       "   transactionId   visitorId        date  revenue group\n",
       "0     3667963787  3312258926  2019-08-15     1650     B\n",
       "1     2804400009  3642806036  2019-08-15      730     B\n",
       "2     2961555356  4069496402  2019-08-15      400     A\n",
       "3     3797467345  1196621759  2019-08-15     9759     B\n",
       "4     2282983706  2322279887  2019-08-15     2308     B"
      ]
     },
     "execution_count": 9,
     "metadata": {},
     "output_type": "execute_result"
    }
   ],
   "source": [
    "#Посмотрим датафрейм orders\n",
    "\n",
    "orders1.info()\n",
    "orders1.head()"
   ]
  },
  {
   "cell_type": "markdown",
   "metadata": {},
   "source": [
    "Пропусков данных нет. В столбце date нужно привести данные в формат datetime. Также привести в первых двух столбцах названия к нижнему регистру.\n"
   ]
  },
  {
   "cell_type": "code",
   "execution_count": 10,
   "metadata": {},
   "outputs": [
    {
     "name": "stdout",
     "output_type": "stream",
     "text": [
      "<class 'pandas.core.frame.DataFrame'>\n",
      "RangeIndex: 1197 entries, 0 to 1196\n",
      "Data columns (total 5 columns):\n",
      " #   Column         Non-Null Count  Dtype         \n",
      "---  ------         --------------  -----         \n",
      " 0   transactionid  1197 non-null   int64         \n",
      " 1   visitorid      1197 non-null   int64         \n",
      " 2   date           1197 non-null   datetime64[ns]\n",
      " 3   revenue        1197 non-null   int64         \n",
      " 4   group          1197 non-null   object        \n",
      "dtypes: datetime64[ns](1), int64(3), object(1)\n",
      "memory usage: 46.9+ KB\n"
     ]
    },
    {
     "data": {
      "text/html": [
       "<div>\n",
       "<style scoped>\n",
       "    .dataframe tbody tr th:only-of-type {\n",
       "        vertical-align: middle;\n",
       "    }\n",
       "\n",
       "    .dataframe tbody tr th {\n",
       "        vertical-align: top;\n",
       "    }\n",
       "\n",
       "    .dataframe thead th {\n",
       "        text-align: right;\n",
       "    }\n",
       "</style>\n",
       "<table border=\"1\" class=\"dataframe\">\n",
       "  <thead>\n",
       "    <tr style=\"text-align: right;\">\n",
       "      <th></th>\n",
       "      <th>transactionid</th>\n",
       "      <th>visitorid</th>\n",
       "      <th>date</th>\n",
       "      <th>revenue</th>\n",
       "      <th>group</th>\n",
       "    </tr>\n",
       "  </thead>\n",
       "  <tbody>\n",
       "    <tr>\n",
       "      <th>0</th>\n",
       "      <td>3667963787</td>\n",
       "      <td>3312258926</td>\n",
       "      <td>2019-08-15</td>\n",
       "      <td>1650</td>\n",
       "      <td>B</td>\n",
       "    </tr>\n",
       "    <tr>\n",
       "      <th>1</th>\n",
       "      <td>2804400009</td>\n",
       "      <td>3642806036</td>\n",
       "      <td>2019-08-15</td>\n",
       "      <td>730</td>\n",
       "      <td>B</td>\n",
       "    </tr>\n",
       "    <tr>\n",
       "      <th>2</th>\n",
       "      <td>2961555356</td>\n",
       "      <td>4069496402</td>\n",
       "      <td>2019-08-15</td>\n",
       "      <td>400</td>\n",
       "      <td>A</td>\n",
       "    </tr>\n",
       "    <tr>\n",
       "      <th>3</th>\n",
       "      <td>3797467345</td>\n",
       "      <td>1196621759</td>\n",
       "      <td>2019-08-15</td>\n",
       "      <td>9759</td>\n",
       "      <td>B</td>\n",
       "    </tr>\n",
       "    <tr>\n",
       "      <th>4</th>\n",
       "      <td>2282983706</td>\n",
       "      <td>2322279887</td>\n",
       "      <td>2019-08-15</td>\n",
       "      <td>2308</td>\n",
       "      <td>B</td>\n",
       "    </tr>\n",
       "  </tbody>\n",
       "</table>\n",
       "</div>"
      ],
      "text/plain": [
       "   transactionid   visitorid       date  revenue group\n",
       "0     3667963787  3312258926 2019-08-15     1650     B\n",
       "1     2804400009  3642806036 2019-08-15      730     B\n",
       "2     2961555356  4069496402 2019-08-15      400     A\n",
       "3     3797467345  1196621759 2019-08-15     9759     B\n",
       "4     2282983706  2322279887 2019-08-15     2308     B"
      ]
     },
     "execution_count": 10,
     "metadata": {},
     "output_type": "execute_result"
    }
   ],
   "source": [
    "#Поменяем тип данных и приведем названия к нижнему регистру\n",
    "\n",
    "orders1['date'] = pd.to_datetime(orders1['date'])\n",
    "orders1.columns = orders1.columns.str.lower()\n",
    "\n",
    "#Проверим данные\n",
    "\n",
    "orders1.info()\n",
    "orders1.head()"
   ]
  },
  {
   "cell_type": "code",
   "execution_count": 11,
   "metadata": {},
   "outputs": [
    {
     "name": "stdout",
     "output_type": "stream",
     "text": [
      "<class 'pandas.core.frame.DataFrame'>\n",
      "RangeIndex: 62 entries, 0 to 61\n",
      "Data columns (total 3 columns):\n",
      " #   Column    Non-Null Count  Dtype \n",
      "---  ------    --------------  ----- \n",
      " 0   date      62 non-null     object\n",
      " 1   group     62 non-null     object\n",
      " 2   visitors  62 non-null     int64 \n",
      "dtypes: int64(1), object(2)\n",
      "memory usage: 1.6+ KB\n"
     ]
    },
    {
     "data": {
      "text/html": [
       "<div>\n",
       "<style scoped>\n",
       "    .dataframe tbody tr th:only-of-type {\n",
       "        vertical-align: middle;\n",
       "    }\n",
       "\n",
       "    .dataframe tbody tr th {\n",
       "        vertical-align: top;\n",
       "    }\n",
       "\n",
       "    .dataframe thead th {\n",
       "        text-align: right;\n",
       "    }\n",
       "</style>\n",
       "<table border=\"1\" class=\"dataframe\">\n",
       "  <thead>\n",
       "    <tr style=\"text-align: right;\">\n",
       "      <th></th>\n",
       "      <th>date</th>\n",
       "      <th>group</th>\n",
       "      <th>visitors</th>\n",
       "    </tr>\n",
       "  </thead>\n",
       "  <tbody>\n",
       "    <tr>\n",
       "      <th>0</th>\n",
       "      <td>2019-08-01</td>\n",
       "      <td>A</td>\n",
       "      <td>719</td>\n",
       "    </tr>\n",
       "    <tr>\n",
       "      <th>1</th>\n",
       "      <td>2019-08-02</td>\n",
       "      <td>A</td>\n",
       "      <td>619</td>\n",
       "    </tr>\n",
       "    <tr>\n",
       "      <th>2</th>\n",
       "      <td>2019-08-03</td>\n",
       "      <td>A</td>\n",
       "      <td>507</td>\n",
       "    </tr>\n",
       "    <tr>\n",
       "      <th>3</th>\n",
       "      <td>2019-08-04</td>\n",
       "      <td>A</td>\n",
       "      <td>717</td>\n",
       "    </tr>\n",
       "    <tr>\n",
       "      <th>4</th>\n",
       "      <td>2019-08-05</td>\n",
       "      <td>A</td>\n",
       "      <td>756</td>\n",
       "    </tr>\n",
       "  </tbody>\n",
       "</table>\n",
       "</div>"
      ],
      "text/plain": [
       "         date group  visitors\n",
       "0  2019-08-01     A       719\n",
       "1  2019-08-02     A       619\n",
       "2  2019-08-03     A       507\n",
       "3  2019-08-04     A       717\n",
       "4  2019-08-05     A       756"
      ]
     },
     "execution_count": 11,
     "metadata": {},
     "output_type": "execute_result"
    }
   ],
   "source": [
    "#Посмотрим датафрейм visitors\n",
    "\n",
    "visitors.info()\n",
    "visitors.head()"
   ]
  },
  {
   "cell_type": "markdown",
   "metadata": {},
   "source": [
    "Пропусков не выявлено. Нужно поменять формат данных в столбце date."
   ]
  },
  {
   "cell_type": "code",
   "execution_count": 12,
   "metadata": {},
   "outputs": [
    {
     "name": "stdout",
     "output_type": "stream",
     "text": [
      "<class 'pandas.core.frame.DataFrame'>\n",
      "RangeIndex: 62 entries, 0 to 61\n",
      "Data columns (total 3 columns):\n",
      " #   Column    Non-Null Count  Dtype         \n",
      "---  ------    --------------  -----         \n",
      " 0   date      62 non-null     datetime64[ns]\n",
      " 1   group     62 non-null     object        \n",
      " 2   visitors  62 non-null     int64         \n",
      "dtypes: datetime64[ns](1), int64(1), object(1)\n",
      "memory usage: 1.6+ KB\n"
     ]
    }
   ],
   "source": [
    "#Поменяем тип данных.\n",
    "\n",
    "visitors['date'] = pd.to_datetime(visitors['date'])\n",
    "visitors.info()"
   ]
  },
  {
   "cell_type": "code",
   "execution_count": 13,
   "metadata": {},
   "outputs": [
    {
     "data": {
      "text/plain": [
       "0"
      ]
     },
     "metadata": {},
     "output_type": "display_data"
    },
    {
     "data": {
      "text/plain": [
       "0"
      ]
     },
     "metadata": {},
     "output_type": "display_data"
    }
   ],
   "source": [
    "#Посмотрим на дубликаты в обоих таблицах\n",
    "\n",
    "display (orders1.duplicated().sum())\n",
    "display (visitors.duplicated().sum())"
   ]
  },
  {
   "cell_type": "code",
   "execution_count": 14,
   "metadata": {},
   "outputs": [
    {
     "data": {
      "text/html": [
       "<div>\n",
       "<style scoped>\n",
       "    .dataframe tbody tr th:only-of-type {\n",
       "        vertical-align: middle;\n",
       "    }\n",
       "\n",
       "    .dataframe tbody tr th {\n",
       "        vertical-align: top;\n",
       "    }\n",
       "\n",
       "    .dataframe thead th {\n",
       "        text-align: right;\n",
       "    }\n",
       "</style>\n",
       "<table border=\"1\" class=\"dataframe\">\n",
       "  <thead>\n",
       "    <tr style=\"text-align: right;\">\n",
       "      <th></th>\n",
       "      <th>transactionid</th>\n",
       "      <th>visitorid</th>\n",
       "      <th>date</th>\n",
       "      <th>revenue</th>\n",
       "      <th>group</th>\n",
       "    </tr>\n",
       "  </thead>\n",
       "  <tbody>\n",
       "    <tr>\n",
       "      <th>71</th>\n",
       "      <td>3679129301</td>\n",
       "      <td>8300375</td>\n",
       "      <td>2019-08-01</td>\n",
       "      <td>10510</td>\n",
       "      <td>B</td>\n",
       "    </tr>\n",
       "    <tr>\n",
       "      <th>703</th>\n",
       "      <td>4293855558</td>\n",
       "      <td>8300375</td>\n",
       "      <td>2019-08-07</td>\n",
       "      <td>1790</td>\n",
       "      <td>A</td>\n",
       "    </tr>\n",
       "    <tr>\n",
       "      <th>1102</th>\n",
       "      <td>1941707234</td>\n",
       "      <td>199603092</td>\n",
       "      <td>2019-08-12</td>\n",
       "      <td>6438</td>\n",
       "      <td>A</td>\n",
       "    </tr>\n",
       "    <tr>\n",
       "      <th>823</th>\n",
       "      <td>2971973105</td>\n",
       "      <td>199603092</td>\n",
       "      <td>2019-08-27</td>\n",
       "      <td>2790</td>\n",
       "      <td>A</td>\n",
       "    </tr>\n",
       "    <tr>\n",
       "      <th>134</th>\n",
       "      <td>62794304</td>\n",
       "      <td>199603092</td>\n",
       "      <td>2019-08-22</td>\n",
       "      <td>6976</td>\n",
       "      <td>A</td>\n",
       "    </tr>\n",
       "    <tr>\n",
       "      <th>...</th>\n",
       "      <td>...</td>\n",
       "      <td>...</td>\n",
       "      <td>...</td>\n",
       "      <td>...</td>\n",
       "      <td>...</td>\n",
       "    </tr>\n",
       "    <tr>\n",
       "      <th>1019</th>\n",
       "      <td>453824282</td>\n",
       "      <td>4256040402</td>\n",
       "      <td>2019-08-31</td>\n",
       "      <td>1850</td>\n",
       "      <td>B</td>\n",
       "    </tr>\n",
       "    <tr>\n",
       "      <th>253</th>\n",
       "      <td>1610091760</td>\n",
       "      <td>4256040402</td>\n",
       "      <td>2019-08-23</td>\n",
       "      <td>16950</td>\n",
       "      <td>A</td>\n",
       "    </tr>\n",
       "    <tr>\n",
       "      <th>263</th>\n",
       "      <td>2575861846</td>\n",
       "      <td>4256040402</td>\n",
       "      <td>2019-08-18</td>\n",
       "      <td>10970</td>\n",
       "      <td>B</td>\n",
       "    </tr>\n",
       "    <tr>\n",
       "      <th>682</th>\n",
       "      <td>1216533772</td>\n",
       "      <td>4266935830</td>\n",
       "      <td>2019-08-29</td>\n",
       "      <td>78990</td>\n",
       "      <td>B</td>\n",
       "    </tr>\n",
       "    <tr>\n",
       "      <th>662</th>\n",
       "      <td>1811671147</td>\n",
       "      <td>4266935830</td>\n",
       "      <td>2019-08-29</td>\n",
       "      <td>78990</td>\n",
       "      <td>A</td>\n",
       "    </tr>\n",
       "  </tbody>\n",
       "</table>\n",
       "<p>260 rows × 5 columns</p>\n",
       "</div>"
      ],
      "text/plain": [
       "      transactionid   visitorid       date  revenue group\n",
       "71       3679129301     8300375 2019-08-01    10510     B\n",
       "703      4293855558     8300375 2019-08-07     1790     A\n",
       "1102     1941707234   199603092 2019-08-12     6438     A\n",
       "823      2971973105   199603092 2019-08-27     2790     A\n",
       "134        62794304   199603092 2019-08-22     6976     A\n",
       "...             ...         ...        ...      ...   ...\n",
       "1019      453824282  4256040402 2019-08-31     1850     B\n",
       "253      1610091760  4256040402 2019-08-23    16950     A\n",
       "263      2575861846  4256040402 2019-08-18    10970     B\n",
       "682      1216533772  4266935830 2019-08-29    78990     B\n",
       "662      1811671147  4266935830 2019-08-29    78990     A\n",
       "\n",
       "[260 rows x 5 columns]"
      ]
     },
     "execution_count": 14,
     "metadata": {},
     "output_type": "execute_result"
    }
   ],
   "source": [
    "orders1[orders1.duplicated(subset=['visitorid'], keep=False)].sort_values(by='visitorid')"
   ]
  },
  {
   "cell_type": "markdown",
   "metadata": {},
   "source": [
    "Обнаружили 260 строк дубликатов. Посмотрим есть ли пользователи, которые попали в обе группы теста.\n"
   ]
  },
  {
   "cell_type": "code",
   "execution_count": 15,
   "metadata": {},
   "outputs": [],
   "source": [
    "#Создаем функцию, чтобы проверить пользователей на уникальность\n",
    "\n",
    "def uniq(data):\n",
    "    usersA = data.query('group == \"A\"')['visitorid']\n",
    "    usersB= data.query('group == \"B\"')['visitorid']\n",
    "    same_users = usersB[usersB.isin(usersA)]\n",
    "    display(same_users.nunique())\n",
    "    return(same_users)"
   ]
  },
  {
   "cell_type": "code",
   "execution_count": 16,
   "metadata": {},
   "outputs": [
    {
     "data": {
      "text/plain": [
       "58"
      ]
     },
     "metadata": {},
     "output_type": "display_data"
    }
   ],
   "source": [
    "same_visitors = uniq(orders1)"
   ]
  },
  {
   "cell_type": "markdown",
   "metadata": {},
   "source": [
    "- Нашли 58 пользователей - дубликатов. Избавимся от этих чисел чтобы не путать данные."
   ]
  },
  {
   "cell_type": "code",
   "execution_count": 17,
   "metadata": {},
   "outputs": [
    {
     "data": {
      "text/plain": [
       "0"
      ]
     },
     "metadata": {},
     "output_type": "display_data"
    },
    {
     "data": {
      "text/plain": [
       "Series([], Name: visitorid, dtype: int64)"
      ]
     },
     "execution_count": 17,
     "metadata": {},
     "output_type": "execute_result"
    }
   ],
   "source": [
    "orders = orders1.query('visitorid not in @same_visitors')\n",
    "\n",
    "#Проверим руезультат\n",
    "\n",
    "uniq(orders)"
   ]
  },
  {
   "cell_type": "markdown",
   "metadata": {},
   "source": [
    "- Избалились от дубликатов"
   ]
  },
  {
   "cell_type": "markdown",
   "metadata": {},
   "source": [
    "## График кумулятивной выручки по группам."
   ]
  },
  {
   "cell_type": "code",
   "execution_count": 18,
   "metadata": {
    "scrolled": true
   },
   "outputs": [
    {
     "data": {
      "text/html": [
       "<div>\n",
       "<style scoped>\n",
       "    .dataframe tbody tr th:only-of-type {\n",
       "        vertical-align: middle;\n",
       "    }\n",
       "\n",
       "    .dataframe tbody tr th {\n",
       "        vertical-align: top;\n",
       "    }\n",
       "\n",
       "    .dataframe thead th {\n",
       "        text-align: right;\n",
       "    }\n",
       "</style>\n",
       "<table border=\"1\" class=\"dataframe\">\n",
       "  <thead>\n",
       "    <tr style=\"text-align: right;\">\n",
       "      <th></th>\n",
       "      <th>date</th>\n",
       "      <th>group</th>\n",
       "      <th>orders</th>\n",
       "      <th>buyers</th>\n",
       "      <th>revenue</th>\n",
       "      <th>visitors</th>\n",
       "      <th>conversion</th>\n",
       "    </tr>\n",
       "  </thead>\n",
       "  <tbody>\n",
       "    <tr>\n",
       "      <th>0</th>\n",
       "      <td>2019-08-01</td>\n",
       "      <td>A</td>\n",
       "      <td>23</td>\n",
       "      <td>19</td>\n",
       "      <td>142779</td>\n",
       "      <td>719</td>\n",
       "      <td>0.031989</td>\n",
       "    </tr>\n",
       "    <tr>\n",
       "      <th>1</th>\n",
       "      <td>2019-08-01</td>\n",
       "      <td>B</td>\n",
       "      <td>17</td>\n",
       "      <td>17</td>\n",
       "      <td>59758</td>\n",
       "      <td>713</td>\n",
       "      <td>0.023843</td>\n",
       "    </tr>\n",
       "    <tr>\n",
       "      <th>2</th>\n",
       "      <td>2019-08-02</td>\n",
       "      <td>A</td>\n",
       "      <td>42</td>\n",
       "      <td>36</td>\n",
       "      <td>234381</td>\n",
       "      <td>1338</td>\n",
       "      <td>0.031390</td>\n",
       "    </tr>\n",
       "    <tr>\n",
       "      <th>3</th>\n",
       "      <td>2019-08-02</td>\n",
       "      <td>B</td>\n",
       "      <td>40</td>\n",
       "      <td>39</td>\n",
       "      <td>221801</td>\n",
       "      <td>1294</td>\n",
       "      <td>0.030912</td>\n",
       "    </tr>\n",
       "    <tr>\n",
       "      <th>4</th>\n",
       "      <td>2019-08-03</td>\n",
       "      <td>A</td>\n",
       "      <td>66</td>\n",
       "      <td>60</td>\n",
       "      <td>346854</td>\n",
       "      <td>1845</td>\n",
       "      <td>0.035772</td>\n",
       "    </tr>\n",
       "  </tbody>\n",
       "</table>\n",
       "</div>"
      ],
      "text/plain": [
       "        date group  orders  buyers  revenue  visitors  conversion\n",
       "0 2019-08-01     A      23      19   142779       719    0.031989\n",
       "1 2019-08-01     B      17      17    59758       713    0.023843\n",
       "2 2019-08-02     A      42      36   234381      1338    0.031390\n",
       "3 2019-08-02     B      40      39   221801      1294    0.030912\n",
       "4 2019-08-03     A      66      60   346854      1845    0.035772"
      ]
     },
     "metadata": {},
     "output_type": "display_data"
    }
   ],
   "source": [
    "#Создадим датафрейм datesGroups с уникальными парами значений date и group, таблицы orders и избавимся от дубликатов\n",
    "\n",
    "dateGroups = orders[['date', 'group']].drop_duplicates()\n",
    "\n",
    "#Объявим переменную ordersAggregated и visitorsAggregated\n",
    "\n",
    "ordersAggregated = dateGroups.apply(\n",
    "    lambda x: orders[np.logical_and(orders['date'] <= x['date'], orders['group'] == x['group'])].agg({\n",
    "        'date': 'max',\n",
    "        'group': 'max',\n",
    "        'transactionid': 'nunique',\n",
    "        'visitorid': 'nunique',\n",
    "        'revenue': 'sum'\n",
    "    }), axis=1).sort_values(by=['date', 'group'])\n",
    "\n",
    "\n",
    "visitorsAggregated = dateGroups.apply(\n",
    "    lambda x: visitors[np.logical_and(visitors['date'] <= x['date'], visitors['group'] == x['group'])].agg({\n",
    "        'date' : 'max',\n",
    "        'group' : 'max', \n",
    "        'visitors' : 'sum'\n",
    "    }), axis=1).sort_values(by=['date','group'])\n",
    "\n",
    "\n",
    "\n",
    "#Обединим ordersAggregated и visitorsAggregated в переменную cumulativeData. Далее добавим столбец 'conversion'\n",
    "\n",
    "cumulativeData = ordersAggregated.merge(visitorsAggregated, left_on=['date', 'group'], right_on=['date', 'group'])\n",
    "cumulativeData.columns = ['date', 'group', 'orders', 'buyers', 'revenue', 'visitors']\n",
    "\n",
    "cumulativeData['conversion'] = (cumulativeData['orders'] / cumulativeData['visitors'])\n",
    "display (cumulativeData.head())\n",
    "\n",
    "#Теперь создадим переменные cumulativeDataA и cumulativeDataB , в которых будут результаты по группам A и B\n",
    "\n",
    "cumulativeDataA = cumulativeData[cumulativeData['group']=='A'][['date','revenue', 'orders','visitors',]]\n",
    "cumulativeDataB = cumulativeData[cumulativeData['group']=='B'][['date','revenue', 'orders', 'visitors']]\n",
    "\n",
    "\n",
    "\n"
   ]
  },
  {
   "cell_type": "code",
   "execution_count": 19,
   "metadata": {},
   "outputs": [
    {
     "data": {
      "text/plain": [
       "Timestamp('2019-08-31 00:00:00')"
      ]
     },
     "execution_count": 19,
     "metadata": {},
     "output_type": "execute_result"
    }
   ],
   "source": [
    "cumulativeData['date'].min()\n",
    "cumulativeData['date'].max()"
   ]
  },
  {
   "cell_type": "markdown",
   "metadata": {},
   "source": [
    "-  Минимальная и максимальная даты совпадают с исходными данными"
   ]
  },
  {
   "cell_type": "code",
   "execution_count": 20,
   "metadata": {},
   "outputs": [
    {
     "data": {
      "image/png": "[encoded data removed]",
      "text/plain": [
       "<Figure size 864x432 with 1 Axes>"
      ]
     },
     "metadata": {
      "needs_background": "light"
     },
     "output_type": "display_data"
    }
   ],
   "source": [
    "#Теперь построим график выручки по группам.\n",
    "\n",
    "plt.figure(figsize=(12, 6))\n",
    "plt.plot(cumulativeDataA['date'], cumulativeDataA['revenue'], label='Группа A')\n",
    "plt.plot(cumulativeDataB['date'], cumulativeDataB['revenue'], label='Группа B')\n",
    "plt.ylabel('Кумулятивная выручка')\n",
    "plt.title('Кумулятивная выручка по группам A и B')\n",
    "plt.legend()\n",
    "plt.grid(True)\n",
    "plt.xticks(rotation=45)\n",
    "plt.show()\n",
    "\n"
   ]
  },
  {
   "cell_type": "markdown",
   "metadata": {},
   "source": [
    "- В первые 5 дней выручка в обоих группах растет одинаково. Далее, выручка группы B начинает более явно расти и до конца месяца лидирует. Был явный скачок в районе 18 августа, скорее всего это связано с дорогим или дорогими заказами в этот день. Группа B 13 августа сравнивается по показателю выручки с группой A, но далее растет очень умеренно в сравнении с группой B.\n",
    "- Такую причину скачка можно описать несколькими возможными причинами. Например, мог вырасти средний чек заказов или их количество. Посмотрим на результаты дальше."
   ]
  },
  {
   "cell_type": "markdown",
   "metadata": {},
   "source": [
    "## График кумулятивного среднего чека по группам."
   ]
  },
  {
   "cell_type": "code",
   "execution_count": 21,
   "metadata": {},
   "outputs": [
    {
     "data": {
      "image/png": "[encoded data removed]",
      "text/plain": [
       "<Figure size 864x432 with 1 Axes>"
      ]
     },
     "metadata": {
      "needs_background": "light"
     },
     "output_type": "display_data"
    }
   ],
   "source": [
    "#Посчитаем средний кумулятивный чек по группам — разделим кумулятивную выручку на кумулятивное число заказов\n",
    "#Посмотрим график\n",
    "\n",
    "plt.figure(figsize=(12, 6))\n",
    "plt.plot(cumulativeDataA['date'], cumulativeDataA['revenue']/cumulativeDataA['orders'], label='Группа A')\n",
    "plt.plot(cumulativeDataB['date'], cumulativeDataB['revenue']/cumulativeDataB['orders'], label='Группа B')\n",
    "plt.ylabel('Средний чек')\n",
    "plt.title('Кумулятивный средний чек по группам A и B')\n",
    "plt.legend()\n",
    "plt.grid(True)\n",
    "plt.xticks(rotation=45)\n",
    "plt.show()\n"
   ]
  },
  {
   "cell_type": "markdown",
   "metadata": {},
   "source": [
    "- На графике среднего чека видим следующее: группа B преимущественно лидирует на этом графике, за исключением периода с 11 по 15 августа; далее видим всплеск среднего чека 18 августа в группе B и небольшое падение к концу месяца; средний чек группы A после всплеска 13 августа также умеренно пдаает к концу месяца."
   ]
  },
  {
   "cell_type": "markdown",
   "metadata": {},
   "source": [
    "## График относительного изменения кумулятивного среднего чека группы B к группе A."
   ]
  },
  {
   "cell_type": "code",
   "execution_count": 22,
   "metadata": {},
   "outputs": [
    {
     "data": {
      "image/png": "[encoded data removed]",
      "text/plain": [
       "<Figure size 864x432 with 1 Axes>"
      ]
     },
     "metadata": {
      "needs_background": "light"
     },
     "output_type": "display_data"
    }
   ],
   "source": [
    "#Объединим таблицы cumulativeDataA и cumulativeDataB  в переменную mergedCumulativeData\n",
    "\n",
    "mergedCumulativeData = cumulativeDataA.merge(\n",
    "    cumulativeDataB,\n",
    "    left_on='date',\n",
    "    right_on='date',\n",
    "    how='left',\n",
    "    suffixes=['A', 'B']\n",
    ")\n",
    "\n",
    "#Построим график относительного изменения кумулятивного среднего чека группы B к группе A\n",
    "\n",
    "plt.figure(figsize=(12,6))\n",
    "plt.plot(mergedCumulativeData['date'], (\n",
    "    mergedCumulativeData['revenueB']/mergedCumulativeData['ordersB'])/\n",
    "    (mergedCumulativeData['revenueA']/mergedCumulativeData['ordersA'])-1)\n",
    "plt.title('Относительное изменение кумулятивного среднего чека групп \"B\" к \"А\"')\n",
    "plt.grid(True)\n",
    "plt.axhline(y=0, color='black', linestyle='--') ;\n",
    "plt.xticks(rotation=45)\n",
    "plt.show()\n",
    "\n",
    "\n"
   ]
  },
  {
   "cell_type": "markdown",
   "metadata": {},
   "source": [
    "- Средний чек группы B рос начиная с 1 августа, 2 августа уже перерос группу A. 8 августа показатель начал снижаться и 11 числа группа A вышла вперед до 15 числа. Далее, был рост группы B - 15 августа вышли вперед, 18 август был выше описанный скачок и вплоть до конца опережали группу A. "
   ]
  },
  {
   "cell_type": "markdown",
   "metadata": {},
   "source": [
    "## График кумулятивного среднего количества заказов на посетителя по группам."
   ]
  },
  {
   "cell_type": "code",
   "execution_count": 23,
   "metadata": {},
   "outputs": [
    {
     "data": {
      "image/png": "[encoded data removed]",
      "text/plain": [
       "<Figure size 864x432 with 1 Axes>"
      ]
     },
     "metadata": {
      "needs_background": "light"
     },
     "output_type": "display_data"
    }
   ],
   "source": [
    "#Построим график кумулятивного среднего количества заказов на посетителя по группам\n",
    "\n",
    "plt.figure(figsize=(12, 6))\n",
    "plt.plot(mergedCumulativeData['date'], mergedCumulativeData['ordersA']/mergedCumulativeData['visitorsA'], label='Группа A')\n",
    "plt.plot(mergedCumulativeData['date'], mergedCumulativeData['ordersB']/mergedCumulativeData['visitorsB'], label='Группа B')\n",
    "plt.ylabel('Среднее кол-во заказов')\n",
    "plt.title('Кумулятивное среднее кол-во заказов по группам A и B')\n",
    "plt.legend()\n",
    "plt.grid(True)\n",
    "plt.xticks(rotation=45)\n",
    "plt.show()"
   ]
  },
  {
   "cell_type": "markdown",
   "metadata": {},
   "source": [
    "- В группе А с первого дня был более высокий уровень заказов (0.033), 2 числа был резкий скачок и далее падение до 4 августа ; после 5 августа показатель пошел на спад и после 9 августа кол-во заказов не превышало 0.031;\n",
    "- В группе B был скачок 2 августа, далее падение и 4 августа снова прирост заказов. Также, были резкие всплески с 7 по 10 августа и с 14 по 17 августа. Далее график идет на умеренный спад. После 7 августа показатель не падал ниже 0.033 заказов в день"
   ]
  },
  {
   "cell_type": "markdown",
   "metadata": {},
   "source": [
    "## График относительного изменения кумулятивного среднего количества заказов на посетителя группы B к группе A"
   ]
  },
  {
   "cell_type": "code",
   "execution_count": 24,
   "metadata": {},
   "outputs": [
    {
     "data": {
      "image/png": "[encoded data removed]",
      "text/plain": [
       "<Figure size 864x432 with 1 Axes>"
      ]
     },
     "metadata": {
      "needs_background": "light"
     },
     "output_type": "display_data"
    }
   ],
   "source": [
    "#Построим график относительного изменения \n",
    "\n",
    "plt.figure(figsize=(12,6))\n",
    "plt.plot(mergedCumulativeData['date'], (\n",
    "    mergedCumulativeData['ordersB']/mergedCumulativeData['visitorsB'])/\n",
    "    (mergedCumulativeData['ordersA']/mergedCumulativeData['visitorsA'])-1)\n",
    "plt.title('Относительное изменение кумулятивного среднего чека групп \"B\" к \"А\"')\n",
    "plt.grid(True)\n",
    "plt.axhline(y=0, color='black', linestyle='--') ;\n",
    "plt.xticks(rotation=45)\n",
    "plt.show()\n"
   ]
  },
  {
   "cell_type": "markdown",
   "metadata": {},
   "source": [
    "- 2 августа кумулятивный средний чек был выше у группы B; далее, до 5 числа лидировала группа A; с 5 августа до конца месяца постоянно лидировала группа B."
   ]
  },
  {
   "cell_type": "markdown",
   "metadata": {},
   "source": [
    "## Точечный график количества заказов по пользователям."
   ]
  },
  {
   "cell_type": "code",
   "execution_count": 25,
   "metadata": {},
   "outputs": [
    {
     "data": {
      "text/html": [
       "<div>\n",
       "<style scoped>\n",
       "    .dataframe tbody tr th:only-of-type {\n",
       "        vertical-align: middle;\n",
       "    }\n",
       "\n",
       "    .dataframe tbody tr th {\n",
       "        vertical-align: top;\n",
       "    }\n",
       "\n",
       "    .dataframe thead th {\n",
       "        text-align: right;\n",
       "    }\n",
       "</style>\n",
       "<table border=\"1\" class=\"dataframe\">\n",
       "  <thead>\n",
       "    <tr style=\"text-align: right;\">\n",
       "      <th></th>\n",
       "      <th>visitorid</th>\n",
       "      <th>orders</th>\n",
       "      <th>group</th>\n",
       "      <th>date</th>\n",
       "    </tr>\n",
       "  </thead>\n",
       "  <tbody>\n",
       "    <tr>\n",
       "      <th>908</th>\n",
       "      <td>3967698036</td>\n",
       "      <td>3</td>\n",
       "      <td>A</td>\n",
       "      <td>2019-08-02</td>\n",
       "    </tr>\n",
       "    <tr>\n",
       "      <th>55</th>\n",
       "      <td>249864742</td>\n",
       "      <td>3</td>\n",
       "      <td>B</td>\n",
       "      <td>2019-08-24</td>\n",
       "    </tr>\n",
       "    <tr>\n",
       "      <th>478</th>\n",
       "      <td>2108163459</td>\n",
       "      <td>3</td>\n",
       "      <td>A</td>\n",
       "      <td>2019-08-09</td>\n",
       "    </tr>\n",
       "    <tr>\n",
       "      <th>687</th>\n",
       "      <td>2988190573</td>\n",
       "      <td>3</td>\n",
       "      <td>A</td>\n",
       "      <td>2019-08-30</td>\n",
       "    </tr>\n",
       "    <tr>\n",
       "      <th>890</th>\n",
       "      <td>3908431265</td>\n",
       "      <td>3</td>\n",
       "      <td>A</td>\n",
       "      <td>2019-08-06</td>\n",
       "    </tr>\n",
       "    <tr>\n",
       "      <th>138</th>\n",
       "      <td>611059232</td>\n",
       "      <td>3</td>\n",
       "      <td>A</td>\n",
       "      <td>2019-08-01</td>\n",
       "    </tr>\n",
       "    <tr>\n",
       "      <th>632</th>\n",
       "      <td>2742574263</td>\n",
       "      <td>3</td>\n",
       "      <td>B</td>\n",
       "      <td>2019-08-22</td>\n",
       "    </tr>\n",
       "    <tr>\n",
       "      <th>157</th>\n",
       "      <td>678354126</td>\n",
       "      <td>2</td>\n",
       "      <td>A</td>\n",
       "      <td>2019-08-28</td>\n",
       "    </tr>\n",
       "    <tr>\n",
       "      <th>323</th>\n",
       "      <td>1404560065</td>\n",
       "      <td>2</td>\n",
       "      <td>B</td>\n",
       "      <td>2019-08-27</td>\n",
       "    </tr>\n",
       "    <tr>\n",
       "      <th>452</th>\n",
       "      <td>1985475298</td>\n",
       "      <td>2</td>\n",
       "      <td>B</td>\n",
       "      <td>2019-08-13</td>\n",
       "    </tr>\n",
       "  </tbody>\n",
       "</table>\n",
       "</div>"
      ],
      "text/plain": [
       "      visitorid  orders group       date\n",
       "908  3967698036       3     A 2019-08-02\n",
       "55    249864742       3     B 2019-08-24\n",
       "478  2108163459       3     A 2019-08-09\n",
       "687  2988190573       3     A 2019-08-30\n",
       "890  3908431265       3     A 2019-08-06\n",
       "138   611059232       3     A 2019-08-01\n",
       "632  2742574263       3     B 2019-08-22\n",
       "157   678354126       2     A 2019-08-28\n",
       "323  1404560065       2     B 2019-08-27\n",
       "452  1985475298       2     B 2019-08-13"
      ]
     },
     "execution_count": 25,
     "metadata": {},
     "output_type": "execute_result"
    }
   ],
   "source": [
    "#Создадим переменную с количеством заказов по пользователям\n",
    "\n",
    "ordersByUsers = orders.groupby(\n",
    "    'visitorid', as_index=False).agg(\n",
    "    {'transactionid':'nunique',\n",
    "    'group':'max',\n",
    "    'date':'max'}).rename(\n",
    "    columns={'transactionid':'orders'})\n",
    "ordersByUsers.columns = ['visitorid','orders','group', 'date']\n",
    "\n",
    "ordersByUsers.sort_values(by = 'orders', ascending = False).head(10)"
   ]
  },
  {
   "cell_type": "code",
   "execution_count": 26,
   "metadata": {},
   "outputs": [
    {
     "data": {
      "image/png": "[encoded data removed]",
      "text/plain": [
       "<Figure size 720x360 with 1 Axes>"
      ]
     },
     "metadata": {
      "needs_background": "light"
     },
     "output_type": "display_data"
    }
   ],
   "source": [
    "#Построим точечный график\n",
    "\n",
    "x_values = pd.Series(range(0,len(ordersByUsers['orders'])))\n",
    "\n",
    "plt.figure(figsize=(10,5))\n",
    "plt.scatter(x_values, ordersByUsers['orders'], color='navy')\n",
    "plt.title('Количество заказов по пользователям')\n",
    "plt.show()"
   ]
  },
  {
   "cell_type": "markdown",
   "metadata": {},
   "source": [
    "- Только 7 пользователей совершали 3 покупки, в основном у пользователей 1-2 покупки. "
   ]
  },
  {
   "cell_type": "markdown",
   "metadata": {},
   "source": [
    "## 95-й и 99-й перцентили количества заказов на пользователя."
   ]
  },
  {
   "cell_type": "code",
   "execution_count": 27,
   "metadata": {},
   "outputs": [
    {
     "data": {
      "text/plain": [
       "array([1., 2.])"
      ]
     },
     "execution_count": 27,
     "metadata": {},
     "output_type": "execute_result"
    }
   ],
   "source": [
    "np.percentile(ordersByUsers['orders'], [95, 99])"
   ]
  },
  {
   "cell_type": "markdown",
   "metadata": {},
   "source": [
    "- 95 перцентиль - 1 заказ\n",
    "- 99 перцентиль - 2 заказа\n",
    "- 1-2 заказа - нормальные границы заказов."
   ]
  },
  {
   "cell_type": "markdown",
   "metadata": {},
   "source": [
    "## Точечный график стоимостей заказов"
   ]
  },
  {
   "cell_type": "code",
   "execution_count": 28,
   "metadata": {},
   "outputs": [
    {
     "data": {
      "image/png": "[encoded data removed]",
      "text/plain": [
       "<Figure size 720x360 with 1 Axes>"
      ]
     },
     "metadata": {
      "needs_background": "light"
     },
     "output_type": "display_data"
    },
    {
     "name": "stdout",
     "output_type": "stream",
     "text": [
      "      transactionid   visitorid       date  revenue group\n",
      "425       590470918  1920142716 2019-08-19  1294500     B\n",
      "1196     3936777065  2108080724 2019-08-15   202740     B\n",
      "1136      666610489  1307669133 2019-08-13    92550     A\n",
      "744      3668308183   888512513 2019-08-27    86620     B\n",
      "743      3603576309  4133034833 2019-08-09    67990     A\n",
      "1103     1348774318  1164614297 2019-08-12    66350     A\n",
      "1099      316924019   148427295 2019-08-12    65710     A\n",
      "949      1347999392   887908475 2019-08-21    60450     A\n",
      "940      2420050534  4003628586 2019-08-08    58550     B\n",
      "131      3163614039  2254586615 2019-08-22    53904     A\n"
     ]
    }
   ],
   "source": [
    "x_values = pd.Series(range(0,len(orders['revenue'])))\n",
    "\n",
    "plt.figure(figsize=(10,5))\n",
    "plt.scatter(x_values, orders['revenue'] , color='navy')\n",
    "plt.title('Стоимость заказов')\n",
    "plt.show()\n",
    "\n",
    "print (orders.sort_values('revenue', ascending = False).head(10))"
   ]
  },
  {
   "cell_type": "code",
   "execution_count": 29,
   "metadata": {},
   "outputs": [
    {
     "data": {
      "image/png": "[encoded data removed]",
      "text/plain": [
       "<Figure size 720x360 with 1 Axes>"
      ]
     },
     "metadata": {
      "needs_background": "light"
     },
     "output_type": "display_data"
    }
   ],
   "source": [
    "filtered_revenue = orders['revenue'].clip(upper=100000)\n",
    "\n",
    "plt.figure(figsize=(10, 5))\n",
    "plt.scatter(x_values, filtered_revenue, color='navy')\n",
    "plt.title('Стоимость заказов (ограниченная до 100000)')\n",
    "plt.show()\n"
   ]
  },
  {
   "cell_type": "markdown",
   "metadata": {},
   "source": [
    "- Большая часть заказов лежит в пределах 20000 уе "
   ]
  },
  {
   "cell_type": "markdown",
   "metadata": {},
   "source": [
    "- На графике видим 2 выброса (1.294.500 уе и 202.740 уе) ; один из них наверняка и есть тот самый скачок 18 августа на графиках выручки и средней стоимости заказов. Остальные заказы не превышают 92 тыс.уе"
   ]
  },
  {
   "cell_type": "markdown",
   "metadata": {},
   "source": [
    "## 95-й и 99-й перцентили стоимости заказов."
   ]
  },
  {
   "cell_type": "code",
   "execution_count": 30,
   "metadata": {},
   "outputs": [
    {
     "data": {
      "text/plain": [
       "array([26785., 53904.])"
      ]
     },
     "execution_count": 30,
     "metadata": {},
     "output_type": "execute_result"
    }
   ],
   "source": [
    "np.percentile(orders['revenue'], [95, 99])"
   ]
  },
  {
   "cell_type": "markdown",
   "metadata": {},
   "source": [
    "- 95 перцентиль - 26785 уе\n",
    "- 99 перцентиль - 53904 уе\n",
    "- 99% заказов ниже 53904 уе, возьмем это число в качестве границы для аномалий"
   ]
  },
  {
   "cell_type": "markdown",
   "metadata": {},
   "source": [
    "## Статистическая значимость различий в среднем количестве заказов на посетителя между группами по «сырым» данным."
   ]
  },
  {
   "cell_type": "markdown",
   "metadata": {},
   "source": [
    "Для начала исследования по статистистической значимости, зададим нулевую и альтернативную гипотезу.\n",
    "- H0 - статистически значимых различий в среднем количестве заказов на посетителя между группами А и В по «сырым» данным нет.\n",
    "- H1 - статистически значимые различия в среднем количестве заказов на посетителя между группами А и В по «сырым» данным есть."
   ]
  },
  {
   "cell_type": "code",
   "execution_count": 31,
   "metadata": {},
   "outputs": [
    {
     "data": {
      "text/html": [
       "<div>\n",
       "<style scoped>\n",
       "    .dataframe tbody tr th:only-of-type {\n",
       "        vertical-align: middle;\n",
       "    }\n",
       "\n",
       "    .dataframe tbody tr th {\n",
       "        vertical-align: top;\n",
       "    }\n",
       "\n",
       "    .dataframe thead th {\n",
       "        text-align: right;\n",
       "    }\n",
       "</style>\n",
       "<table border=\"1\" class=\"dataframe\">\n",
       "  <thead>\n",
       "    <tr style=\"text-align: right;\">\n",
       "      <th></th>\n",
       "      <th>transactionid</th>\n",
       "      <th>visitorid</th>\n",
       "      <th>date</th>\n",
       "      <th>revenue_per_user</th>\n",
       "      <th>group</th>\n",
       "      <th>orders_daily</th>\n",
       "      <th>buyers_daily</th>\n",
       "      <th>revenue_daily</th>\n",
       "      <th>visitors_daily</th>\n",
       "      <th>conversion</th>\n",
       "    </tr>\n",
       "  </thead>\n",
       "  <tbody>\n",
       "    <tr>\n",
       "      <th>0</th>\n",
       "      <td>3667963787</td>\n",
       "      <td>3312258926</td>\n",
       "      <td>2019-08-15</td>\n",
       "      <td>1650</td>\n",
       "      <td>B</td>\n",
       "      <td>289</td>\n",
       "      <td>284</td>\n",
       "      <td>1960427</td>\n",
       "      <td>9600</td>\n",
       "      <td>0.030104</td>\n",
       "    </tr>\n",
       "    <tr>\n",
       "      <th>1</th>\n",
       "      <td>2804400009</td>\n",
       "      <td>3642806036</td>\n",
       "      <td>2019-08-15</td>\n",
       "      <td>730</td>\n",
       "      <td>B</td>\n",
       "      <td>289</td>\n",
       "      <td>284</td>\n",
       "      <td>1960427</td>\n",
       "      <td>9600</td>\n",
       "      <td>0.030104</td>\n",
       "    </tr>\n",
       "    <tr>\n",
       "      <th>2</th>\n",
       "      <td>3797467345</td>\n",
       "      <td>1196621759</td>\n",
       "      <td>2019-08-15</td>\n",
       "      <td>9759</td>\n",
       "      <td>B</td>\n",
       "      <td>289</td>\n",
       "      <td>284</td>\n",
       "      <td>1960427</td>\n",
       "      <td>9600</td>\n",
       "      <td>0.030104</td>\n",
       "    </tr>\n",
       "    <tr>\n",
       "      <th>3</th>\n",
       "      <td>2282983706</td>\n",
       "      <td>2322279887</td>\n",
       "      <td>2019-08-15</td>\n",
       "      <td>2308</td>\n",
       "      <td>B</td>\n",
       "      <td>289</td>\n",
       "      <td>284</td>\n",
       "      <td>1960427</td>\n",
       "      <td>9600</td>\n",
       "      <td>0.030104</td>\n",
       "    </tr>\n",
       "    <tr>\n",
       "      <th>4</th>\n",
       "      <td>182168103</td>\n",
       "      <td>935554773</td>\n",
       "      <td>2019-08-15</td>\n",
       "      <td>2210</td>\n",
       "      <td>B</td>\n",
       "      <td>289</td>\n",
       "      <td>284</td>\n",
       "      <td>1960427</td>\n",
       "      <td>9600</td>\n",
       "      <td>0.030104</td>\n",
       "    </tr>\n",
       "  </tbody>\n",
       "</table>\n",
       "</div>"
      ],
      "text/plain": [
       "   transactionid   visitorid       date  revenue_per_user group  orders_daily  \\\n",
       "0     3667963787  3312258926 2019-08-15              1650     B           289   \n",
       "1     2804400009  3642806036 2019-08-15               730     B           289   \n",
       "2     3797467345  1196621759 2019-08-15              9759     B           289   \n",
       "3     2282983706  2322279887 2019-08-15              2308     B           289   \n",
       "4      182168103   935554773 2019-08-15              2210     B           289   \n",
       "\n",
       "   buyers_daily  revenue_daily  visitors_daily  conversion  \n",
       "0           284        1960427            9600    0.030104  \n",
       "1           284        1960427            9600    0.030104  \n",
       "2           284        1960427            9600    0.030104  \n",
       "3           284        1960427            9600    0.030104  \n",
       "4           284        1960427            9600    0.030104  "
      ]
     },
     "execution_count": 31,
     "metadata": {},
     "output_type": "execute_result"
    }
   ],
   "source": [
    "#Создадим переменные для групп и посчитаем количество заказов.\n",
    "#Сначала объединим данные в общую таблицу\n",
    "\n",
    "ordersCumulativeData = orders.merge(\n",
    "    cumulativeData, left_on=['date', 'group'], right_on=['date', 'group'])\n",
    "\n",
    "ordersCumulativeData = ordersCumulativeData.rename(columns={\n",
    "                              'transactionid':'transactionid', \n",
    "                              'visitorid': 'visitorid', \n",
    "                              'date': 'date',\n",
    "                              'revenue_x': 'revenue_per_user',\n",
    "                              'group': 'group',\n",
    "                              'orders': 'orders_daily',\n",
    "                              'buyers': 'buyers_daily',\n",
    "                              'revenue_y': 'revenue_daily',\n",
    "                              'visitors':'visitors_daily'})\n",
    "ordersCumulativeData.head()"
   ]
  },
  {
   "cell_type": "code",
   "execution_count": 32,
   "metadata": {},
   "outputs": [],
   "source": [
    "#Создаем переменные для подсчета заказов в разных группах\n",
    "\n",
    "ordersA = (\n",
    "    ordersCumulativeData[ordersCumulativeData['group'] == 'A'][['date', 'transactionid', 'visitorid']]\n",
    "    .groupby('date', as_index=False)\n",
    "    .agg({'transactionid': pd.Series.nunique})\n",
    ")\n",
    "ordersA.columns = ['date', 'orders_a']\n",
    "\n",
    "\n",
    "ordersB = (\n",
    "    ordersCumulativeData[ordersCumulativeData['group'] == 'B'][['date', 'transactionid', 'visitorid']]\n",
    "    .groupby('date', as_index=False)\n",
    "    .agg({'transactionid': pd.Series.nunique})\n",
    ")\n",
    "ordersB.columns = ['date', 'orders_b']\n",
    "\n",
    "dataOrders = (\n",
    "    ordersA.merge(\n",
    "        ordersB, left_on='date', right_on='date', how='left'\n",
    "    ))"
   ]
  },
  {
   "cell_type": "code",
   "execution_count": 33,
   "metadata": {},
   "outputs": [
    {
     "data": {
      "text/plain": [
       "'p-value: 0.049'"
      ]
     },
     "metadata": {},
     "output_type": "display_data"
    },
    {
     "data": {
      "text/plain": [
       "'Относительный : 0.171'"
      ]
     },
     "metadata": {},
     "output_type": "display_data"
    }
   ],
   "source": [
    "# Зададим переменные sampleA и sampleB, в которых пользователям из разных групп будет соответствовать количество заказов\n",
    "\n",
    "sampleA = pd.concat([ordersA['orders_a'], \n",
    "                           pd.Series(0, index=np.arange(dataOrders['orders_a'].sum() - len(ordersA['orders_a'])), \n",
    "                                     name='orders',),],axis=0,)\n",
    "\n",
    "sampleB = pd.concat([ordersB['orders_b'], \n",
    "                           pd.Series(0, index=np.arange(dataOrders['orders_b'].sum() - len(ordersB['orders_b'])),\n",
    "                                     name='orders',),],axis=0,)\n",
    "display('p-value: ' + \"{0:.3f}\".format(st.mannwhitneyu(dataOrders['orders_a'], dataOrders['orders_b'])[1]))\n",
    "display('Относительный : ' + \"{0:.3f}\".format(dataOrders['orders_b'].mean() / dataOrders['orders_a'].mean() - 1))"
   ]
  },
  {
   "cell_type": "markdown",
   "metadata": {},
   "source": [
    "- p-value - 4.9% и это значит, что различия в среднем количестве заказов на посетителя можно считать статистически значимыми.\n",
    "- Относительный прирост среднего кол-ва заказов группы B к группе A 17%"
   ]
  },
  {
   "cell_type": "markdown",
   "metadata": {},
   "source": [
    "##  Статистическая значимость различий в среднем чеке заказа между группами по «сырым» данным."
   ]
  },
  {
   "cell_type": "markdown",
   "metadata": {},
   "source": [
    "- H0 - статистически значимых различий в среднем чеке заказа между группами A и B нет\n",
    "- H1 - средние чеки заказа между группами A и B статистически различаются"
   ]
  },
  {
   "cell_type": "code",
   "execution_count": 34,
   "metadata": {},
   "outputs": [],
   "source": [
    "#Создаем переменные для подсчета стат значимости различий по среднему чеку\n",
    "\n",
    "revenueA = (\n",
    "    ordersCumulativeData[ordersCumulativeData['group'] == 'A'][['date', 'revenue_per_user']]\n",
    "    .groupby('date', as_index=False)\n",
    "    .agg({'revenue_per_user': 'sum'})\n",
    ")\n",
    "revenueA.columns = ['date', 'revenue_a']\n",
    "\n",
    "\n",
    "revenueB = (\n",
    "    ordersCumulativeData[ordersCumulativeData['group'] == 'B'][['date', 'revenue_per_user']]\n",
    "    .groupby('date', as_index=False)\n",
    "    .agg({'revenue_per_user': 'sum'})\n",
    ")\n",
    "revenueB.columns = ['date', 'revenue_b']\n",
    "\n",
    "dataRevenue = (\n",
    "    revenueA.merge(\n",
    "        revenueB, left_on='date', right_on='date', how='left'\n",
    "    ))"
   ]
  },
  {
   "cell_type": "code",
   "execution_count": 35,
   "metadata": {},
   "outputs": [
    {
     "data": {
      "text/plain": [
       "'p-value: 0.226'"
      ]
     },
     "metadata": {},
     "output_type": "display_data"
    },
    {
     "data": {
      "text/plain": [
       "'Относительный прирост: 0.507'"
      ]
     },
     "metadata": {},
     "output_type": "display_data"
    }
   ],
   "source": [
    "sampleRevA = pd.concat([revenueA['revenue_a'], \n",
    "                           pd.Series(0, index=np.arange(dataRevenue['revenue_a'].sum() - len(revenueA['revenue_a'])), \n",
    "                                     name='orders',),],axis=0,)\n",
    "\n",
    "sampleRevB = pd.concat([revenueB['revenue_b'], \n",
    "                           pd.Series(0, index=np.arange(dataRevenue['revenue_b'].sum() - len(revenueB['revenue_b'])),\n",
    "                                     name='orders',),],axis=0,)\n",
    "\n",
    "display('p-value: ' + \"{0:.3f}\".format(st.mannwhitneyu(dataRevenue['revenue_a'], dataRevenue['revenue_b'])[1]))\n",
    "display('Относительный прирост: ' +  \"{0:.3f}\".format(dataRevenue['revenue_b'].mean() / dataRevenue['revenue_a'].mean() - 1))"
   ]
  },
  {
   "cell_type": "markdown",
   "metadata": {},
   "source": [
    "- P-value - 22.6% и это означает, что статистически значимых различий среднего чека заказов между группами нет.\n",
    "- Относительный прирост среднего чека группы B к группе A составляет 50%. "
   ]
  },
  {
   "cell_type": "markdown",
   "metadata": {},
   "source": [
    "## Статистическая значимость различий в среднем количестве заказов на посетителя между группами по «очищенным» данным."
   ]
  },
  {
   "cell_type": "markdown",
   "metadata": {},
   "source": [
    "- H0 - статистически значимых различий в среднем количестве заказов на посетителя между группами A и B нет\n",
    "- H1 - среднее количество заказов на посетителя между группами A и B статистически различается"
   ]
  },
  {
   "cell_type": "code",
   "execution_count": 36,
   "metadata": {},
   "outputs": [],
   "source": [
    "#Отфильтруем данные и создадим переменные по очищенным данным\n",
    "\n",
    "ordersPerUsers = ordersCumulativeData.query(\n",
    "    'revenue_per_user < 54000 and visitorid in @ordersCumulativeData[\"visitorid\"]')\n",
    "\n",
    "ordersAfiltered = (    \n",
    "    ordersPerUsers[ordersPerUsers['group'] == 'A'][['date', 'transactionid', 'visitorid']]\n",
    "    .groupby('date', as_index=False)\n",
    "    .agg({'transactionid': pd.Series.nunique}))\n",
    "\n",
    "ordersAfiltered.columns = ['date', 'orders_a']\n",
    "\n",
    "ordersBfiltered = (\n",
    "    ordersPerUsers[ordersPerUsers['group'] == 'B'][['date', 'transactionid', 'visitorid']]\n",
    "    .groupby('date', as_index=False)\n",
    "    .agg({'transactionid': pd.Series.nunique})\n",
    ")\n",
    "ordersBfiltered.columns = ['date', 'orders_b']\n",
    "\n",
    "dataOrdersFiltered = (\n",
    "    ordersAfiltered.merge(\n",
    "        ordersBfiltered, left_on='date', right_on='date', how='left'\n",
    "    ))"
   ]
  },
  {
   "cell_type": "code",
   "execution_count": 37,
   "metadata": {},
   "outputs": [
    {
     "data": {
      "text/plain": [
       "'p-value: 0.044'"
      ]
     },
     "metadata": {},
     "output_type": "display_data"
    },
    {
     "data": {
      "text/plain": [
       "'Относительный прирост: 0.175'"
      ]
     },
     "metadata": {},
     "output_type": "display_data"
    }
   ],
   "source": [
    "#Выведем p-value и относительный прирост группы B относительно группы A\n",
    "\n",
    "display('p-value: ' +  \"{0:.3f}\".format(st.mannwhitneyu(\n",
    "    dataOrdersFiltered['orders_a'], dataOrdersFiltered['orders_b'])[1]))\n",
    "\n",
    "display('Относительный прирост: ' +  \"{0:.3f}\".format(\n",
    "    dataOrdersFiltered['orders_b'].mean() / dataOrdersFiltered['orders_a'].mean() - 1))"
   ]
  },
  {
   "cell_type": "markdown",
   "metadata": {},
   "source": [
    "- P-value - 4.4%. Это указывает на наличие статистически значимых различий между группами в среднем количестве заказов на посетителя по «очищенным» данным.\n",
    "- Относительный прирост - 17.5%. Это говорит о том, что в группе B в среднем на 17.5% больше заказов по сравнению с группой A."
   ]
  },
  {
   "cell_type": "markdown",
   "metadata": {},
   "source": [
    "## Статистическая значимость различий в среднем чеке заказа между группами по «очищенным» данным."
   ]
  },
  {
   "cell_type": "markdown",
   "metadata": {},
   "source": [
    "- H0 - статистически значимых различий в среднем чеке заказа  между группами A и B нет\n",
    "- H1 - средний чек заказа  между группами A и B статистически различается"
   ]
  },
  {
   "cell_type": "code",
   "execution_count": 38,
   "metadata": {},
   "outputs": [],
   "source": [
    "#Создаем переменные по очищенным данным по граппам A и B\n",
    "\n",
    "revenueAfiltered = (\n",
    "    ordersPerUsers[ordersPerUsers['group'] == 'A'][['date', 'revenue_per_user']]\n",
    "    .groupby('date', as_index=False)\n",
    "    .agg({'revenue_per_user': 'sum'}))\n",
    "\n",
    "revenueAfiltered.columns = ['date', 'revenue_a']\n",
    "\n",
    "revenueBfiltered = (\n",
    "    ordersPerUsers[ordersPerUsers['group'] == 'B'][['date', 'revenue_per_user']]\n",
    "    .groupby('date', as_index=False)\n",
    "    .agg({'revenue_per_user': 'sum'}))\n",
    "\n",
    "revenueBfiltered.columns = ['date', 'revenue_b']\n",
    "\n",
    "dataRevenueFiltered = (\n",
    "    revenueAfiltered.merge(\n",
    "        revenueBfiltered, left_on='date', right_on='date', how='left'\n",
    "    ))"
   ]
  },
  {
   "cell_type": "code",
   "execution_count": 39,
   "metadata": {},
   "outputs": [
    {
     "data": {
      "text/plain": [
       "'p-value: 0.22064'"
      ]
     },
     "metadata": {},
     "output_type": "display_data"
    },
    {
     "data": {
      "text/plain": [
       "'Относительный прирост: 0.138'"
      ]
     },
     "metadata": {},
     "output_type": "display_data"
    }
   ],
   "source": [
    "sampleRevFiltA = pd.concat([revenueAfiltered['revenue_a'], \n",
    "                           pd.Series(0, index=np.arange(\n",
    "                               dataRevenueFiltered['revenue_a'].sum() - len(revenueAfiltered['revenue_a'])), \n",
    "                                     name='orders',),],axis=0,)\n",
    "\n",
    "sampleRevFiltB = pd.concat([revenueBfiltered['revenue_b'], \n",
    "                           pd.Series(0, index=np.arange(\n",
    "                               dataRevenueFiltered['revenue_b'].sum() - len(revenueBfiltered['revenue_b'])),\n",
    "                                     name='orders',),],axis=0,)\n",
    "\n",
    "display('p-value: ' +  \"{0:.5f}\".format(st.mannwhitneyu(\n",
    "    dataRevenueFiltered['revenue_a'], dataRevenueFiltered['revenue_b'])[1]))\n",
    "display('Относительный прирост: ' +  \"{0:.3f}\".format(\n",
    "    dataRevenueFiltered['revenue_b'].mean() / dataRevenueFiltered['revenue_a'].mean() - 1))"
   ]
  },
  {
   "cell_type": "markdown",
   "metadata": {},
   "source": [
    "- P-value равен 22% и это говорит, что по \"очищенным\" данным нет статистически значимых различий в среднем чеке по группам.\n",
    "- Относительный прирост в среднем чеке группы B вырос на почти 14% относительно группы A"
   ]
  },
  {
   "cell_type": "markdown",
   "metadata": {},
   "source": [
    "# Выводы по исследованию.\n",
    "\n",
    "## Подготовка данных:\n",
    "1. Заменили названия столбцов, привели к нижнему регистру.\n",
    "2. Преобразовали данные в столбцах с датой к формату datetime.\n",
    "3. Обработали дубликаты в таблице orders по граппам A и B;\n",
    "4. Добавили столбец 'сonversion' в новой кумулятивной переменной cumulativeData.\n",
    "\n",
    "## Анализ A/B теста:\n",
    "\n",
    "Проведенный A/B-тест имеет следующие результаты:\n",
    "\n",
    "1. График кумулятивной выручки по группам:\n",
    "   - Выручка в группе B выше, чем в группе A на протяжении всего теста.\n",
    "   - В середине теста произошел резкий скачок выручки в группе B, что может указывать на наличие выбросов или крупных заказов.\n",
    "\n",
    "\n",
    "2. График кумулятивного среднего чека по группам:\n",
    "   - Средний чек в группе B в целом выше, чем в группе A.\n",
    "   - В середине теста также наблюдается резкий скачок среднего чека в группе B.\n",
    "\n",
    "\n",
    "3. График относительного изменения кумулятивного среднего чека группы B к группе A:\n",
    "   - Присутствуют значительные колебания в начале теста, затем график стабилизируется около значения 0.25.\n",
    "   - Возможно, в данных есть выбросы, влияющие на результаты.\n",
    "\n",
    "\n",
    "4. График кумулятивного среднего количества заказов на посетителя по группам:\n",
    "   - Кумулятивное среднее количество заказов на посетителя выше в группе B по сравнению с группой A.\n",
    "   - В середине теста наблюдается рост количества заказов в обеих группах.\n",
    "\n",
    "\n",
    "5. График относительного изменения кумулятивного среднего количества заказов на посетителя группы B к группе A:\n",
    "   - В начале теста присутствуют колебания, затем график стабилизируется около значения 0.2.\n",
    "   - Возможно, в данных есть выбросы, влияющие на результаты.\n",
    "\n",
    "\n",
    "6. Точечный график количества заказов по пользователям:\n",
    "   - Большинство пользователей делает только один заказ.\n",
    "   - Есть пользователи с аномально большим количеством заказов.\n",
    "\n",
    "\n",
    "7. 95-й и 99-й перцентили количества заказов на пользователя:\n",
    "   - Не более 5% пользователей делает более 1 заказа.\n",
    "   - Не более 1% пользователей делает более 2 заказов.\n",
    "   - Можно выбрать значение 2 как границу для определения аномальных пользователей.\n",
    "\n",
    "\n",
    "8. Точечный график стоимостей заказов:\n",
    "   - Большинство заказов имеют стоимость до 20 000 у.е.\n",
    "   - Есть заказы с аномально высокой стоимостью.\n",
    "\n",
    "\n",
    "9. 95-й и 99-й перцентили стоимости заказов:\n",
    "   - Не более 5% заказов имеют стоимость выше 26 785 у.е.\n",
    "   - Не более 1% заказов имеют стоимость выше 53 904 у.е.\n",
    "   - Можно выбрать значение 26 000 у.е. как границу для определения аномальных заказов.\n",
    "\n",
    "\n",
    "10. Статистическая значимость различий в среднем количестве заказов на посетителя между группами по «сырым» данным:\n",
    "    - Существуют статистически значимые различия между группами (p-value < 0.05).\n",
    "    - Группа B показывает более высокое среднее количество заказов на посетителя.\n",
    "\n",
    "\n",
    "11. Статистическая значимость различий в среднем чеке заказа между группами по «сырым» данным:\n",
    "    - Статистически значимых различий между группами не обнаружено (p-value > 0.05).\n",
    "    - Средний чек не отличается между группами.\n",
    "\n",
    "\n",
    "12. Статистическая значимость различий в среднем количестве заказов на посетителя между группами по «очищенным» данным:\n",
    "    - Существуют статистически значимые различия между группами (p-value < 0.05).\n",
    "    - Группа B показывает более высокое среднее количество заказов на посетителя.\n",
    "\n",
    "\n",
    "13. Статистическая значимость различий в среднем чеке заказа между группами по «очищенным» данным:\n",
    "    - Статистически значимых различий между группами не обнаружено (p-value > 0.05).\n",
    "    - Средний чек не отличается между группами.\n",
    "\n",
    "\n",
    "Исходя из результатов анализа A/B-теста и статистической значимости, предлагается принять решение:\n",
    "\n",
    "Основная задача нашего анализа была вырастить выручку либо через рост среднего чека, либо через количество заказов. В группе B мы зафиксировали стат.значимые различия, поэтому, я считаю, что следует остановить тест и зафиксировать победу группы B. Далее, предлагаю выбирать из бэклога задачи/проекты , которые могут повлиять на рост среднего чека и запускать их в A/B."
   ]
  },
  {
   "cell_type": "code",
   "execution_count": null,
   "metadata": {},
   "outputs": [],
   "source": []
  }
 ],
 "metadata": {
  "ExecuteTimeLog": [
   {
    "duration": 1373,
    "start_time": "2024-05-22T12:42:54.856Z"
   },
   {
    "duration": 70,
    "start_time": "2024-05-22T12:43:17.216Z"
   },
   {
    "duration": 1077,
    "start_time": "2024-05-22T12:46:41.978Z"
   },
   {
    "duration": 1033,
    "start_time": "2024-05-22T12:47:11.008Z"
   },
   {
    "duration": 6,
    "start_time": "2024-05-22T12:47:32.816Z"
   },
   {
    "duration": 10,
    "start_time": "2024-05-22T12:47:43.476Z"
   },
   {
    "duration": 5,
    "start_time": "2024-05-22T12:48:45.833Z"
   },
   {
    "duration": 7,
    "start_time": "2024-05-22T12:48:56.710Z"
   },
   {
    "duration": 15,
    "start_time": "2024-05-22T13:00:21.528Z"
   },
   {
    "duration": 30,
    "start_time": "2024-05-22T13:00:46.024Z"
   },
   {
    "duration": 21,
    "start_time": "2024-05-22T13:01:42.712Z"
   },
   {
    "duration": 14,
    "start_time": "2024-05-22T13:02:55.004Z"
   },
   {
    "duration": 63,
    "start_time": "2024-05-22T13:03:09.315Z"
   },
   {
    "duration": 64,
    "start_time": "2024-05-22T13:03:15.564Z"
   },
   {
    "duration": 15,
    "start_time": "2024-05-22T13:03:33.660Z"
   },
   {
    "duration": 64,
    "start_time": "2024-05-22T13:06:25.845Z"
   },
   {
    "duration": 21,
    "start_time": "2024-05-22T13:06:30.909Z"
   },
   {
    "duration": 5,
    "start_time": "2024-05-22T13:07:47.205Z"
   },
   {
    "duration": 3,
    "start_time": "2024-05-22T13:10:29.157Z"
   },
   {
    "duration": 27,
    "start_time": "2024-05-22T13:10:32.610Z"
   },
   {
    "duration": 16,
    "start_time": "2024-05-22T13:10:35.985Z"
   },
   {
    "duration": 3,
    "start_time": "2024-05-22T13:11:03.737Z"
   },
   {
    "duration": 8,
    "start_time": "2024-05-22T13:11:15.972Z"
   },
   {
    "duration": 6,
    "start_time": "2024-05-22T13:12:40.571Z"
   },
   {
    "duration": 1257,
    "start_time": "2024-05-22T13:13:44.156Z"
   },
   {
    "duration": 7,
    "start_time": "2024-05-22T13:13:57.585Z"
   },
   {
    "duration": 10,
    "start_time": "2024-05-22T13:14:13.192Z"
   },
   {
    "duration": 1330,
    "start_time": "2024-05-23T11:25:35.608Z"
   },
   {
    "duration": 79,
    "start_time": "2024-05-23T11:25:36.940Z"
   },
   {
    "duration": 22,
    "start_time": "2024-05-23T11:25:37.021Z"
   },
   {
    "duration": 9,
    "start_time": "2024-05-23T11:25:38.516Z"
   },
   {
    "duration": 5,
    "start_time": "2024-05-23T11:25:52.310Z"
   },
   {
    "duration": 10,
    "start_time": "2024-05-23T11:25:57.451Z"
   },
   {
    "duration": 8,
    "start_time": "2024-05-23T11:25:58.350Z"
   },
   {
    "duration": 170,
    "start_time": "2024-05-23T11:29:48.217Z"
   },
   {
    "duration": 17,
    "start_time": "2024-05-23T11:30:12.852Z"
   },
   {
    "duration": 6,
    "start_time": "2024-05-23T11:38:14.935Z"
   },
   {
    "duration": 26,
    "start_time": "2024-05-23T11:39:48.833Z"
   },
   {
    "duration": 19,
    "start_time": "2024-05-23T11:41:27.450Z"
   },
   {
    "duration": 11,
    "start_time": "2024-05-23T11:47:27.700Z"
   },
   {
    "duration": 7,
    "start_time": "2024-05-23T11:48:02.185Z"
   },
   {
    "duration": 9,
    "start_time": "2024-05-23T11:48:14.804Z"
   },
   {
    "duration": 6,
    "start_time": "2024-05-23T11:48:58.303Z"
   },
   {
    "duration": 8,
    "start_time": "2024-05-23T11:49:04.949Z"
   },
   {
    "duration": 3,
    "start_time": "2024-05-23T11:49:53.786Z"
   },
   {
    "duration": 26,
    "start_time": "2024-05-23T11:49:54.211Z"
   },
   {
    "duration": 16,
    "start_time": "2024-05-23T11:49:54.598Z"
   },
   {
    "duration": 8,
    "start_time": "2024-05-23T11:49:55.453Z"
   },
   {
    "duration": 6,
    "start_time": "2024-05-23T11:49:55.855Z"
   },
   {
    "duration": 8,
    "start_time": "2024-05-23T11:49:57.150Z"
   },
   {
    "duration": 8,
    "start_time": "2024-05-23T11:49:57.586Z"
   },
   {
    "duration": 60,
    "start_time": "2024-05-23T11:49:59.220Z"
   },
   {
    "duration": 15,
    "start_time": "2024-05-23T11:49:59.562Z"
   },
   {
    "duration": 18,
    "start_time": "2024-05-23T11:50:00.415Z"
   },
   {
    "duration": 16,
    "start_time": "2024-05-23T11:50:00.986Z"
   },
   {
    "duration": 13,
    "start_time": "2024-05-23T11:50:02.135Z"
   },
   {
    "duration": 7,
    "start_time": "2024-05-23T11:50:02.599Z"
   },
   {
    "duration": 59,
    "start_time": "2024-05-23T11:50:52.897Z"
   },
   {
    "duration": 15,
    "start_time": "2024-05-23T11:50:53.270Z"
   },
   {
    "duration": 18,
    "start_time": "2024-05-23T11:50:54.337Z"
   },
   {
    "duration": 15,
    "start_time": "2024-05-23T11:50:54.728Z"
   },
   {
    "duration": 12,
    "start_time": "2024-05-23T11:50:56.811Z"
   },
   {
    "duration": 9,
    "start_time": "2024-05-23T11:50:57.177Z"
   },
   {
    "duration": 6,
    "start_time": "2024-05-23T11:59:45.498Z"
   },
   {
    "duration": 173,
    "start_time": "2024-05-23T12:02:06.420Z"
   },
   {
    "duration": 281,
    "start_time": "2024-05-23T12:03:04.758Z"
   },
   {
    "duration": 264,
    "start_time": "2024-05-23T12:05:09.204Z"
   },
   {
    "duration": 386,
    "start_time": "2024-05-23T12:09:26.878Z"
   },
   {
    "duration": 297,
    "start_time": "2024-05-23T12:09:38.014Z"
   },
   {
    "duration": 9,
    "start_time": "2024-05-23T12:12:53.270Z"
   },
   {
    "duration": 292,
    "start_time": "2024-05-23T12:13:14.749Z"
   },
   {
    "duration": 273,
    "start_time": "2024-05-23T12:14:53.155Z"
   },
   {
    "duration": 261,
    "start_time": "2024-05-23T12:15:00.273Z"
   },
   {
    "duration": 178,
    "start_time": "2024-05-23T12:15:46.085Z"
   },
   {
    "duration": 162,
    "start_time": "2024-05-23T12:15:58.409Z"
   },
   {
    "duration": 374,
    "start_time": "2024-05-23T12:16:21.761Z"
   },
   {
    "duration": 331,
    "start_time": "2024-05-23T12:16:43.862Z"
   },
   {
    "duration": 238,
    "start_time": "2024-05-23T12:18:51.623Z"
   },
   {
    "duration": 293,
    "start_time": "2024-05-23T12:19:26.442Z"
   },
   {
    "duration": 288,
    "start_time": "2024-05-23T12:33:30.228Z"
   },
   {
    "duration": 216,
    "start_time": "2024-05-23T12:34:39.338Z"
   },
   {
    "duration": 1057,
    "start_time": "2024-05-23T12:35:51.665Z"
   },
   {
    "duration": 271,
    "start_time": "2024-05-23T12:36:17.358Z"
   },
   {
    "duration": 238,
    "start_time": "2024-05-23T12:36:23.227Z"
   },
   {
    "duration": 180,
    "start_time": "2024-05-23T12:36:26.793Z"
   },
   {
    "duration": 209,
    "start_time": "2024-05-23T12:36:44.569Z"
   },
   {
    "duration": 81,
    "start_time": "2024-05-23T12:47:42.339Z"
   },
   {
    "duration": 84,
    "start_time": "2024-05-23T12:47:59.528Z"
   },
   {
    "duration": 63,
    "start_time": "2024-05-23T12:48:03.185Z"
   },
   {
    "duration": 67,
    "start_time": "2024-05-23T12:48:22.175Z"
   },
   {
    "duration": 83,
    "start_time": "2024-05-23T12:48:44.623Z"
   },
   {
    "duration": 62,
    "start_time": "2024-05-23T12:49:13.372Z"
   },
   {
    "duration": 61,
    "start_time": "2024-05-23T12:49:19.770Z"
   },
   {
    "duration": 10,
    "start_time": "2024-05-23T12:50:40.815Z"
   },
   {
    "duration": 7,
    "start_time": "2024-05-23T12:51:38.804Z"
   },
   {
    "duration": 59,
    "start_time": "2024-05-23T12:51:59.838Z"
   },
   {
    "duration": 6,
    "start_time": "2024-05-23T12:53:02.437Z"
   },
   {
    "duration": 277,
    "start_time": "2024-05-23T12:54:34.242Z"
   },
   {
    "duration": 323,
    "start_time": "2024-05-23T12:54:53.089Z"
   },
   {
    "duration": 210,
    "start_time": "2024-05-23T12:55:11.198Z"
   },
   {
    "duration": 7,
    "start_time": "2024-05-23T12:55:37.821Z"
   },
   {
    "duration": 1180,
    "start_time": "2024-05-23T12:57:50.022Z"
   },
   {
    "duration": 1175,
    "start_time": "2024-05-23T12:59:27.564Z"
   },
   {
    "duration": 274,
    "start_time": "2024-05-23T13:02:46.624Z"
   },
   {
    "duration": 220,
    "start_time": "2024-05-23T13:02:50.884Z"
   },
   {
    "duration": 229,
    "start_time": "2024-05-23T13:02:52.500Z"
   },
   {
    "duration": 1175,
    "start_time": "2024-05-23T13:02:54.739Z"
   },
   {
    "duration": 13,
    "start_time": "2024-05-23T13:04:58.123Z"
   },
   {
    "duration": 269,
    "start_time": "2024-05-23T13:06:19.870Z"
   },
   {
    "duration": 212,
    "start_time": "2024-05-23T13:06:24.473Z"
   },
   {
    "duration": 238,
    "start_time": "2024-05-23T13:06:27.862Z"
   },
   {
    "duration": 347,
    "start_time": "2024-05-23T13:06:29.581Z"
   },
   {
    "duration": 286,
    "start_time": "2024-05-23T13:09:02.012Z"
   },
   {
    "duration": 355,
    "start_time": "2024-05-23T13:09:56.944Z"
   },
   {
    "duration": 354,
    "start_time": "2024-05-23T13:10:15.855Z"
   },
   {
    "duration": 320,
    "start_time": "2024-05-23T13:10:33.106Z"
   },
   {
    "duration": 1196,
    "start_time": "2024-05-23T13:13:19.741Z"
   },
   {
    "duration": 1283,
    "start_time": "2024-05-23T13:15:02.343Z"
   },
   {
    "duration": 287,
    "start_time": "2024-05-23T13:15:53.988Z"
   },
   {
    "duration": 223,
    "start_time": "2024-05-23T13:15:56.537Z"
   },
   {
    "duration": 216,
    "start_time": "2024-05-23T13:15:58.422Z"
   },
   {
    "duration": 1175,
    "start_time": "2024-05-23T13:16:00.370Z"
   },
   {
    "duration": 342,
    "start_time": "2024-05-23T13:17:07.942Z"
   },
   {
    "duration": 309,
    "start_time": "2024-05-23T13:18:13.921Z"
   },
   {
    "duration": 301,
    "start_time": "2024-05-23T13:19:49.089Z"
   },
   {
    "duration": 296,
    "start_time": "2024-05-23T13:20:05.392Z"
   },
   {
    "duration": 223,
    "start_time": "2024-05-23T13:45:02.566Z"
   },
   {
    "duration": 328,
    "start_time": "2024-05-23T13:45:07.360Z"
   },
   {
    "duration": 1063,
    "start_time": "2024-05-23T13:45:48.235Z"
   },
   {
    "duration": 309,
    "start_time": "2024-05-23T13:47:37.906Z"
   },
   {
    "duration": 220,
    "start_time": "2024-05-23T13:47:54.474Z"
   },
   {
    "duration": 217,
    "start_time": "2024-05-23T13:47:56.298Z"
   },
   {
    "duration": 292,
    "start_time": "2024-05-23T13:47:57.791Z"
   },
   {
    "duration": 1106,
    "start_time": "2024-05-23T13:47:59.683Z"
   },
   {
    "duration": 232,
    "start_time": "2024-05-23T13:48:57.588Z"
   },
   {
    "duration": 1324,
    "start_time": "2024-05-23T16:10:22.335Z"
   },
   {
    "duration": 79,
    "start_time": "2024-05-23T16:10:23.661Z"
   },
   {
    "duration": 19,
    "start_time": "2024-05-23T16:10:23.742Z"
   },
   {
    "duration": 8,
    "start_time": "2024-05-23T16:10:24.350Z"
   },
   {
    "duration": 8,
    "start_time": "2024-05-23T16:10:24.833Z"
   },
   {
    "duration": 7,
    "start_time": "2024-05-23T16:10:26.110Z"
   },
   {
    "duration": 8,
    "start_time": "2024-05-23T16:10:26.605Z"
   },
   {
    "duration": 161,
    "start_time": "2024-05-23T16:10:29.100Z"
   },
   {
    "duration": 14,
    "start_time": "2024-05-23T16:10:29.567Z"
   },
   {
    "duration": 18,
    "start_time": "2024-05-23T16:10:30.569Z"
   },
   {
    "duration": 14,
    "start_time": "2024-05-23T16:10:31.052Z"
   },
   {
    "duration": 11,
    "start_time": "2024-05-23T16:10:32.201Z"
   },
   {
    "duration": 7,
    "start_time": "2024-05-23T16:10:32.685Z"
   },
   {
    "duration": 270,
    "start_time": "2024-05-23T16:10:34.428Z"
   },
   {
    "duration": 291,
    "start_time": "2024-05-23T16:10:34.934Z"
   },
   {
    "duration": 104,
    "start_time": "2024-05-23T16:10:36.654Z"
   },
   {
    "duration": 204,
    "start_time": "2024-05-23T16:10:57.075Z"
   },
   {
    "duration": 374,
    "start_time": "2024-05-23T16:10:58.818Z"
   },
   {
    "duration": 223,
    "start_time": "2024-05-23T16:11:13.055Z"
   },
   {
    "duration": 4,
    "start_time": "2024-05-23T16:13:58.646Z"
   },
   {
    "duration": 25,
    "start_time": "2024-05-23T16:13:58.917Z"
   },
   {
    "duration": 14,
    "start_time": "2024-05-23T16:13:59.254Z"
   },
   {
    "duration": 8,
    "start_time": "2024-05-23T16:14:00.011Z"
   },
   {
    "duration": 6,
    "start_time": "2024-05-23T16:14:00.368Z"
   },
   {
    "duration": 8,
    "start_time": "2024-05-23T16:14:01.258Z"
   },
   {
    "duration": 7,
    "start_time": "2024-05-23T16:14:01.573Z"
   },
   {
    "duration": 58,
    "start_time": "2024-05-23T16:14:03.452Z"
   },
   {
    "duration": 15,
    "start_time": "2024-05-23T16:14:03.857Z"
   },
   {
    "duration": 17,
    "start_time": "2024-05-23T16:14:04.607Z"
   },
   {
    "duration": 13,
    "start_time": "2024-05-23T16:14:04.965Z"
   },
   {
    "duration": 10,
    "start_time": "2024-05-23T16:14:05.678Z"
   },
   {
    "duration": 6,
    "start_time": "2024-05-23T16:14:06.030Z"
   },
   {
    "duration": 278,
    "start_time": "2024-05-23T16:14:07.224Z"
   },
   {
    "duration": 216,
    "start_time": "2024-05-23T16:14:07.636Z"
   },
   {
    "duration": 262,
    "start_time": "2024-05-23T16:14:09.053Z"
   },
   {
    "duration": 322,
    "start_time": "2024-05-23T16:14:10.726Z"
   },
   {
    "duration": 232,
    "start_time": "2024-05-23T16:14:12.873Z"
   },
   {
    "duration": 318,
    "start_time": "2024-05-23T16:14:15.049Z"
   },
   {
    "duration": 277,
    "start_time": "2024-05-23T16:14:47.088Z"
   },
   {
    "duration": 89,
    "start_time": "2024-05-23T16:16:48.340Z"
   },
   {
    "duration": 7,
    "start_time": "2024-05-23T16:23:14.804Z"
   },
   {
    "duration": 114,
    "start_time": "2024-05-23T16:25:54.048Z"
   },
   {
    "duration": 11,
    "start_time": "2024-05-23T16:26:42.030Z"
   },
   {
    "duration": 10,
    "start_time": "2024-05-23T16:26:56.900Z"
   },
   {
    "duration": 124,
    "start_time": "2024-05-23T16:31:50.709Z"
   },
   {
    "duration": 116,
    "start_time": "2024-05-23T16:31:59.908Z"
   },
   {
    "duration": 10,
    "start_time": "2024-05-23T16:33:15.589Z"
   },
   {
    "duration": 6,
    "start_time": "2024-05-23T16:40:54.973Z"
   },
   {
    "duration": 4,
    "start_time": "2024-05-23T16:41:25.739Z"
   },
   {
    "duration": 5,
    "start_time": "2024-05-23T16:43:36.357Z"
   },
   {
    "duration": 116,
    "start_time": "2024-05-23T16:50:43.585Z"
   },
   {
    "duration": 115,
    "start_time": "2024-05-23T16:50:54.325Z"
   },
   {
    "duration": 3,
    "start_time": "2024-05-23T16:51:22.338Z"
   },
   {
    "duration": 26,
    "start_time": "2024-05-23T16:51:22.806Z"
   },
   {
    "duration": 16,
    "start_time": "2024-05-23T16:51:23.378Z"
   },
   {
    "duration": 8,
    "start_time": "2024-05-23T16:51:24.281Z"
   },
   {
    "duration": 5,
    "start_time": "2024-05-23T16:51:24.716Z"
   },
   {
    "duration": 7,
    "start_time": "2024-05-23T16:51:25.843Z"
   },
   {
    "duration": 7,
    "start_time": "2024-05-23T16:51:26.211Z"
   },
   {
    "duration": 57,
    "start_time": "2024-05-23T16:51:28.070Z"
   },
   {
    "duration": 13,
    "start_time": "2024-05-23T16:51:28.417Z"
   },
   {
    "duration": 17,
    "start_time": "2024-05-23T16:51:29.205Z"
   },
   {
    "duration": 14,
    "start_time": "2024-05-23T16:51:29.520Z"
   },
   {
    "duration": 10,
    "start_time": "2024-05-23T16:51:30.291Z"
   },
   {
    "duration": 7,
    "start_time": "2024-05-23T16:51:30.653Z"
   },
   {
    "duration": 259,
    "start_time": "2024-05-23T16:51:32.002Z"
   },
   {
    "duration": 200,
    "start_time": "2024-05-23T16:51:34.128Z"
   },
   {
    "duration": 290,
    "start_time": "2024-05-23T16:51:35.938Z"
   },
   {
    "duration": 284,
    "start_time": "2024-05-23T16:51:37.491Z"
   },
   {
    "duration": 214,
    "start_time": "2024-05-23T16:51:39.355Z"
   },
   {
    "duration": 299,
    "start_time": "2024-05-23T16:51:40.946Z"
   },
   {
    "duration": 11,
    "start_time": "2024-05-23T16:51:42.739Z"
   },
   {
    "duration": 109,
    "start_time": "2024-05-23T16:51:43.564Z"
   },
   {
    "duration": 120,
    "start_time": "2024-05-23T16:52:00.310Z"
   },
   {
    "duration": 109,
    "start_time": "2024-05-23T16:52:07.805Z"
   },
   {
    "duration": 66,
    "start_time": "2024-05-23T16:52:50.890Z"
   },
   {
    "duration": 10,
    "start_time": "2024-05-23T16:52:55.466Z"
   },
   {
    "duration": 118,
    "start_time": "2024-05-23T16:52:57.536Z"
   },
   {
    "duration": 118,
    "start_time": "2024-05-23T16:53:03.395Z"
   },
   {
    "duration": 4,
    "start_time": "2024-05-23T16:53:07.982Z"
   },
   {
    "duration": 130,
    "start_time": "2024-05-23T16:54:01.337Z"
   },
   {
    "duration": 5,
    "start_time": "2024-05-23T17:02:02.697Z"
   },
   {
    "duration": 113,
    "start_time": "2024-05-23T17:02:37.007Z"
   },
   {
    "duration": 125,
    "start_time": "2024-05-23T17:02:46.305Z"
   },
   {
    "duration": 198,
    "start_time": "2024-05-23T17:03:00.338Z"
   },
   {
    "duration": 125,
    "start_time": "2024-05-23T17:03:10.992Z"
   },
   {
    "duration": 127,
    "start_time": "2024-05-23T17:03:20.311Z"
   },
   {
    "duration": 1005,
    "start_time": "2024-05-23T17:21:36.624Z"
   },
   {
    "duration": 119,
    "start_time": "2024-05-23T17:21:58.732Z"
   },
   {
    "duration": 154,
    "start_time": "2024-05-23T17:34:14.256Z"
   },
   {
    "duration": 1155,
    "start_time": "2024-05-23T17:37:12.499Z"
   },
   {
    "duration": 1069,
    "start_time": "2024-05-23T17:38:17.940Z"
   },
   {
    "duration": 48,
    "start_time": "2024-05-23T17:39:13.584Z"
   },
   {
    "duration": 1328,
    "start_time": "2024-05-24T08:32:35.384Z"
   },
   {
    "duration": 83,
    "start_time": "2024-05-24T08:32:36.714Z"
   },
   {
    "duration": 21,
    "start_time": "2024-05-24T08:32:36.798Z"
   },
   {
    "duration": 7,
    "start_time": "2024-05-24T08:32:36.821Z"
   },
   {
    "duration": 5,
    "start_time": "2024-05-24T08:32:36.830Z"
   },
   {
    "duration": 8,
    "start_time": "2024-05-24T08:32:36.836Z"
   },
   {
    "duration": 6,
    "start_time": "2024-05-24T08:32:36.846Z"
   },
   {
    "duration": 141,
    "start_time": "2024-05-24T08:32:36.854Z"
   },
   {
    "duration": 15,
    "start_time": "2024-05-24T08:32:36.996Z"
   },
   {
    "duration": 19,
    "start_time": "2024-05-24T08:32:37.013Z"
   },
   {
    "duration": 16,
    "start_time": "2024-05-24T08:32:37.034Z"
   },
   {
    "duration": 11,
    "start_time": "2024-05-24T08:32:37.052Z"
   },
   {
    "duration": 35,
    "start_time": "2024-05-24T08:32:37.065Z"
   },
   {
    "duration": 277,
    "start_time": "2024-05-24T08:32:37.103Z"
   },
   {
    "duration": 285,
    "start_time": "2024-05-24T08:32:37.382Z"
   },
   {
    "duration": 203,
    "start_time": "2024-05-24T08:32:37.668Z"
   },
   {
    "duration": 358,
    "start_time": "2024-05-24T08:32:37.873Z"
   },
   {
    "duration": 220,
    "start_time": "2024-05-24T08:32:38.240Z"
   },
   {
    "duration": 292,
    "start_time": "2024-05-24T08:32:38.462Z"
   },
   {
    "duration": 11,
    "start_time": "2024-05-24T08:32:38.755Z"
   },
   {
    "duration": 126,
    "start_time": "2024-05-24T08:32:38.767Z"
   },
   {
    "duration": 8,
    "start_time": "2024-05-24T08:32:38.894Z"
   },
   {
    "duration": 152,
    "start_time": "2024-05-24T08:32:38.904Z"
   },
   {
    "duration": 6,
    "start_time": "2024-05-24T08:32:39.058Z"
   },
   {
    "duration": 150,
    "start_time": "2024-05-24T08:32:39.065Z"
   },
   {
    "duration": 788,
    "start_time": "2024-05-24T08:34:29.532Z"
   },
   {
    "duration": 7,
    "start_time": "2024-05-24T08:34:56.989Z"
   },
   {
    "duration": 69,
    "start_time": "2024-05-24T08:45:08.645Z"
   },
   {
    "duration": 48,
    "start_time": "2024-05-24T08:45:55.668Z"
   },
   {
    "duration": 51,
    "start_time": "2024-05-24T08:46:06.701Z"
   },
   {
    "duration": 44,
    "start_time": "2024-05-24T08:46:18.438Z"
   },
   {
    "duration": 44,
    "start_time": "2024-05-24T08:46:36.108Z"
   },
   {
    "duration": 792,
    "start_time": "2024-05-24T08:46:45.097Z"
   },
   {
    "duration": 134,
    "start_time": "2024-05-24T08:47:31.964Z"
   },
   {
    "duration": 20,
    "start_time": "2024-05-24T08:52:19.092Z"
   },
   {
    "duration": 383,
    "start_time": "2024-05-24T08:53:18.448Z"
   },
   {
    "duration": 261,
    "start_time": "2024-05-24T08:53:53.923Z"
   },
   {
    "duration": 26,
    "start_time": "2024-05-24T08:55:03.136Z"
   },
   {
    "duration": 21,
    "start_time": "2024-05-24T08:55:29.672Z"
   },
   {
    "duration": 21,
    "start_time": "2024-05-24T08:55:48.856Z"
   },
   {
    "duration": 24,
    "start_time": "2024-05-24T08:55:57.411Z"
   },
   {
    "duration": 25,
    "start_time": "2024-05-24T08:56:05.973Z"
   },
   {
    "duration": 25,
    "start_time": "2024-05-24T08:56:19.408Z"
   },
   {
    "duration": 22,
    "start_time": "2024-05-24T08:56:28.114Z"
   },
   {
    "duration": 23,
    "start_time": "2024-05-24T08:56:32.754Z"
   },
   {
    "duration": 270,
    "start_time": "2024-05-24T08:58:03.658Z"
   },
   {
    "duration": 19,
    "start_time": "2024-05-24T08:58:31.866Z"
   },
   {
    "duration": 20,
    "start_time": "2024-05-24T09:02:59.651Z"
   },
   {
    "duration": 15,
    "start_time": "2024-05-24T09:03:50.665Z"
   },
   {
    "duration": 286,
    "start_time": "2024-05-24T09:19:05.103Z"
   },
   {
    "duration": 265,
    "start_time": "2024-05-24T09:19:19.848Z"
   },
   {
    "duration": 269,
    "start_time": "2024-05-24T09:20:51.155Z"
   },
   {
    "duration": 260,
    "start_time": "2024-05-24T09:21:34.652Z"
   },
   {
    "duration": 12,
    "start_time": "2024-05-24T09:23:32.815Z"
   },
   {
    "duration": 15,
    "start_time": "2024-05-24T09:23:45.534Z"
   },
   {
    "duration": 16,
    "start_time": "2024-05-24T10:09:06.551Z"
   },
   {
    "duration": 17,
    "start_time": "2024-05-24T10:09:21.092Z"
   },
   {
    "duration": 21,
    "start_time": "2024-05-24T10:10:45.344Z"
   },
   {
    "duration": 15,
    "start_time": "2024-05-24T10:16:27.825Z"
   },
   {
    "duration": 17,
    "start_time": "2024-05-24T10:19:24.593Z"
   },
   {
    "duration": 12,
    "start_time": "2024-05-24T10:19:51.847Z"
   },
   {
    "duration": 9,
    "start_time": "2024-05-24T10:20:23.159Z"
   },
   {
    "duration": 10,
    "start_time": "2024-05-24T10:24:25.442Z"
   },
   {
    "duration": 48,
    "start_time": "2024-05-24T10:33:46.125Z"
   },
   {
    "duration": 125,
    "start_time": "2024-05-24T10:33:52.010Z"
   },
   {
    "duration": 145,
    "start_time": "2024-05-24T10:41:19.979Z"
   },
   {
    "duration": 14,
    "start_time": "2024-05-24T10:42:36.563Z"
   },
   {
    "duration": 15,
    "start_time": "2024-05-24T10:43:16.443Z"
   },
   {
    "duration": 58,
    "start_time": "2024-05-24T10:44:21.300Z"
   },
   {
    "duration": 15,
    "start_time": "2024-05-24T10:44:37.556Z"
   },
   {
    "duration": 22,
    "start_time": "2024-05-24T10:44:59.627Z"
   },
   {
    "duration": 34,
    "start_time": "2024-05-24T10:45:20.023Z"
   },
   {
    "duration": 234,
    "start_time": "2024-05-24T10:45:44.728Z"
   },
   {
    "duration": 663,
    "start_time": "2024-05-24T10:47:05.501Z"
   },
   {
    "duration": 212,
    "start_time": "2024-05-24T10:50:35.144Z"
   },
   {
    "duration": 191,
    "start_time": "2024-05-24T10:50:49.816Z"
   },
   {
    "duration": 33,
    "start_time": "2024-05-24T10:51:08.691Z"
   },
   {
    "duration": 44,
    "start_time": "2024-05-24T10:51:52.548Z"
   },
   {
    "duration": 13,
    "start_time": "2024-05-24T10:52:13.625Z"
   },
   {
    "duration": 13,
    "start_time": "2024-05-24T10:52:37.111Z"
   },
   {
    "duration": 14,
    "start_time": "2024-05-24T10:52:52.429Z"
   },
   {
    "duration": 14,
    "start_time": "2024-05-24T10:53:12.775Z"
   },
   {
    "duration": 713,
    "start_time": "2024-05-24T10:53:34.295Z"
   },
   {
    "duration": 17,
    "start_time": "2024-05-24T10:53:51.762Z"
   },
   {
    "duration": 29,
    "start_time": "2024-05-24T10:54:37.110Z"
   },
   {
    "duration": 144,
    "start_time": "2024-05-24T10:55:04.511Z"
   },
   {
    "duration": 47,
    "start_time": "2024-05-24T10:55:20.245Z"
   },
   {
    "duration": 1089,
    "start_time": "2024-05-24T10:55:38.508Z"
   },
   {
    "duration": 82,
    "start_time": "2024-05-24T10:55:39.598Z"
   },
   {
    "duration": 20,
    "start_time": "2024-05-24T10:55:39.682Z"
   },
   {
    "duration": 8,
    "start_time": "2024-05-24T10:55:39.703Z"
   },
   {
    "duration": 5,
    "start_time": "2024-05-24T10:55:39.713Z"
   },
   {
    "duration": 9,
    "start_time": "2024-05-24T10:55:39.719Z"
   },
   {
    "duration": 6,
    "start_time": "2024-05-24T10:55:39.730Z"
   },
   {
    "duration": 142,
    "start_time": "2024-05-24T10:55:39.737Z"
   },
   {
    "duration": 15,
    "start_time": "2024-05-24T10:55:39.880Z"
   },
   {
    "duration": 17,
    "start_time": "2024-05-24T10:55:39.897Z"
   },
   {
    "duration": 16,
    "start_time": "2024-05-24T10:55:39.915Z"
   },
   {
    "duration": 9,
    "start_time": "2024-05-24T10:55:39.932Z"
   },
   {
    "duration": 9,
    "start_time": "2024-05-24T10:55:39.943Z"
   },
   {
    "duration": 282,
    "start_time": "2024-05-24T10:55:39.955Z"
   },
   {
    "duration": 291,
    "start_time": "2024-05-24T10:55:40.238Z"
   },
   {
    "duration": 203,
    "start_time": "2024-05-24T10:55:40.530Z"
   },
   {
    "duration": 293,
    "start_time": "2024-05-24T10:55:40.735Z"
   },
   {
    "duration": 234,
    "start_time": "2024-05-24T10:55:41.029Z"
   },
   {
    "duration": 289,
    "start_time": "2024-05-24T10:55:41.265Z"
   },
   {
    "duration": 12,
    "start_time": "2024-05-24T10:55:41.556Z"
   },
   {
    "duration": 122,
    "start_time": "2024-05-24T10:55:41.570Z"
   },
   {
    "duration": 8,
    "start_time": "2024-05-24T10:55:41.694Z"
   },
   {
    "duration": 131,
    "start_time": "2024-05-24T10:55:41.703Z"
   },
   {
    "duration": 5,
    "start_time": "2024-05-24T10:55:41.836Z"
   },
   {
    "duration": 7,
    "start_time": "2024-05-24T10:55:41.842Z"
   },
   {
    "duration": 149,
    "start_time": "2024-05-24T10:55:41.851Z"
   },
   {
    "duration": 62,
    "start_time": "2024-05-24T10:55:58.293Z"
   },
   {
    "duration": 1068,
    "start_time": "2024-05-24T10:56:05.632Z"
   },
   {
    "duration": 83,
    "start_time": "2024-05-24T10:56:06.702Z"
   },
   {
    "duration": 20,
    "start_time": "2024-05-24T10:56:06.786Z"
   },
   {
    "duration": 7,
    "start_time": "2024-05-24T10:56:06.808Z"
   },
   {
    "duration": 23,
    "start_time": "2024-05-24T10:56:06.817Z"
   },
   {
    "duration": 10,
    "start_time": "2024-05-24T10:56:06.842Z"
   },
   {
    "duration": 6,
    "start_time": "2024-05-24T10:56:06.854Z"
   },
   {
    "duration": 153,
    "start_time": "2024-05-24T10:56:06.862Z"
   },
   {
    "duration": 15,
    "start_time": "2024-05-24T10:56:07.016Z"
   },
   {
    "duration": 17,
    "start_time": "2024-05-24T10:56:07.033Z"
   },
   {
    "duration": 12,
    "start_time": "2024-05-24T10:56:07.052Z"
   },
   {
    "duration": 12,
    "start_time": "2024-05-24T10:56:07.066Z"
   },
   {
    "duration": 21,
    "start_time": "2024-05-24T10:56:07.079Z"
   },
   {
    "duration": 279,
    "start_time": "2024-05-24T10:56:07.103Z"
   },
   {
    "duration": 289,
    "start_time": "2024-05-24T10:56:07.384Z"
   },
   {
    "duration": 206,
    "start_time": "2024-05-24T10:56:07.675Z"
   },
   {
    "duration": 320,
    "start_time": "2024-05-24T10:56:07.883Z"
   },
   {
    "duration": 213,
    "start_time": "2024-05-24T10:56:08.204Z"
   },
   {
    "duration": 288,
    "start_time": "2024-05-24T10:56:08.418Z"
   },
   {
    "duration": 10,
    "start_time": "2024-05-24T10:56:08.707Z"
   },
   {
    "duration": 123,
    "start_time": "2024-05-24T10:56:08.718Z"
   },
   {
    "duration": 5,
    "start_time": "2024-05-24T10:56:08.843Z"
   },
   {
    "duration": 154,
    "start_time": "2024-05-24T10:56:08.849Z"
   },
   {
    "duration": 4,
    "start_time": "2024-05-24T10:56:09.005Z"
   },
   {
    "duration": 11,
    "start_time": "2024-05-24T10:56:09.010Z"
   },
   {
    "duration": 140,
    "start_time": "2024-05-24T10:56:09.022Z"
   },
   {
    "duration": 64,
    "start_time": "2024-05-24T10:57:13.693Z"
   },
   {
    "duration": 1060,
    "start_time": "2024-05-24T10:57:35.825Z"
   },
   {
    "duration": 83,
    "start_time": "2024-05-24T10:57:36.886Z"
   },
   {
    "duration": 22,
    "start_time": "2024-05-24T10:57:36.970Z"
   },
   {
    "duration": 12,
    "start_time": "2024-05-24T10:57:36.994Z"
   },
   {
    "duration": 6,
    "start_time": "2024-05-24T10:57:37.009Z"
   },
   {
    "duration": 12,
    "start_time": "2024-05-24T10:57:37.017Z"
   },
   {
    "duration": 8,
    "start_time": "2024-05-24T10:57:37.030Z"
   },
   {
    "duration": 144,
    "start_time": "2024-05-24T10:57:37.039Z"
   },
   {
    "duration": 15,
    "start_time": "2024-05-24T10:57:37.184Z"
   },
   {
    "duration": 21,
    "start_time": "2024-05-24T10:57:37.200Z"
   },
   {
    "duration": 12,
    "start_time": "2024-05-24T10:57:37.222Z"
   },
   {
    "duration": 10,
    "start_time": "2024-05-24T10:57:37.236Z"
   },
   {
    "duration": 6,
    "start_time": "2024-05-24T10:57:37.247Z"
   },
   {
    "duration": 321,
    "start_time": "2024-05-24T10:57:37.257Z"
   },
   {
    "duration": 282,
    "start_time": "2024-05-24T10:57:37.579Z"
   },
   {
    "duration": 201,
    "start_time": "2024-05-24T10:57:37.863Z"
   },
   {
    "duration": 329,
    "start_time": "2024-05-24T10:57:38.066Z"
   },
   {
    "duration": 244,
    "start_time": "2024-05-24T10:57:38.399Z"
   },
   {
    "duration": 283,
    "start_time": "2024-05-24T10:57:38.644Z"
   },
   {
    "duration": 10,
    "start_time": "2024-05-24T10:57:38.928Z"
   },
   {
    "duration": 134,
    "start_time": "2024-05-24T10:57:38.939Z"
   },
   {
    "duration": 5,
    "start_time": "2024-05-24T10:57:39.074Z"
   },
   {
    "duration": 144,
    "start_time": "2024-05-24T10:57:39.080Z"
   },
   {
    "duration": 5,
    "start_time": "2024-05-24T10:57:39.226Z"
   },
   {
    "duration": 6,
    "start_time": "2024-05-24T10:57:39.232Z"
   },
   {
    "duration": 151,
    "start_time": "2024-05-24T10:57:39.239Z"
   },
   {
    "duration": 48,
    "start_time": "2024-05-24T10:58:33.042Z"
   },
   {
    "duration": 40,
    "start_time": "2024-05-24T10:59:47.109Z"
   },
   {
    "duration": 2,
    "start_time": "2024-05-24T10:59:50.707Z"
   },
   {
    "duration": 42,
    "start_time": "2024-05-24T10:59:56.135Z"
   },
   {
    "duration": 44,
    "start_time": "2024-05-24T11:00:06.109Z"
   },
   {
    "duration": 78,
    "start_time": "2024-05-24T11:00:12.706Z"
   },
   {
    "duration": 69,
    "start_time": "2024-05-24T11:00:19.058Z"
   },
   {
    "duration": 12,
    "start_time": "2024-05-24T11:00:48.648Z"
   },
   {
    "duration": 241,
    "start_time": "2024-05-24T11:02:33.822Z"
   },
   {
    "duration": 89,
    "start_time": "2024-05-24T11:04:13.530Z"
   },
   {
    "duration": 185,
    "start_time": "2024-05-24T11:04:37.691Z"
   },
   {
    "duration": 5,
    "start_time": "2024-05-24T11:04:39.406Z"
   },
   {
    "duration": 129,
    "start_time": "2024-05-24T11:04:40.381Z"
   },
   {
    "duration": 4,
    "start_time": "2024-05-24T11:04:41.461Z"
   },
   {
    "duration": 7,
    "start_time": "2024-05-24T11:04:42.956Z"
   },
   {
    "duration": 123,
    "start_time": "2024-05-24T11:04:43.688Z"
   },
   {
    "duration": 89,
    "start_time": "2024-05-24T11:05:27.158Z"
   },
   {
    "duration": 111,
    "start_time": "2024-05-24T11:05:27.562Z"
   },
   {
    "duration": 5,
    "start_time": "2024-05-24T11:05:28.694Z"
   },
   {
    "duration": 129,
    "start_time": "2024-05-24T11:05:29.539Z"
   },
   {
    "duration": 4,
    "start_time": "2024-05-24T11:05:30.856Z"
   },
   {
    "duration": 7,
    "start_time": "2024-05-24T11:05:40.906Z"
   },
   {
    "duration": 120,
    "start_time": "2024-05-24T11:06:49.679Z"
   },
   {
    "duration": 142,
    "start_time": "2024-05-24T11:07:02.040Z"
   },
   {
    "duration": 128,
    "start_time": "2024-05-24T11:07:09.957Z"
   },
   {
    "duration": 149,
    "start_time": "2024-05-24T11:07:22.307Z"
   },
   {
    "duration": 102,
    "start_time": "2024-05-24T11:07:33.973Z"
   },
   {
    "duration": 85,
    "start_time": "2024-05-24T11:07:45.175Z"
   },
   {
    "duration": 77,
    "start_time": "2024-05-24T11:07:51.488Z"
   },
   {
    "duration": 98,
    "start_time": "2024-05-24T11:08:22.359Z"
   },
   {
    "duration": 106,
    "start_time": "2024-05-24T11:08:32.621Z"
   },
   {
    "duration": 73,
    "start_time": "2024-05-24T11:08:44.680Z"
   },
   {
    "duration": 78,
    "start_time": "2024-05-24T11:09:34.774Z"
   },
   {
    "duration": 94,
    "start_time": "2024-05-24T11:09:49.210Z"
   },
   {
    "duration": 13,
    "start_time": "2024-05-24T11:10:00.507Z"
   },
   {
    "duration": 13,
    "start_time": "2024-05-24T11:10:08.622Z"
   },
   {
    "duration": 11,
    "start_time": "2024-05-24T11:10:50.821Z"
   },
   {
    "duration": 651,
    "start_time": "2024-05-24T11:12:23.144Z"
   },
   {
    "duration": 47,
    "start_time": "2024-05-24T11:14:34.223Z"
   },
   {
    "duration": 1112,
    "start_time": "2024-05-24T11:14:44.297Z"
   },
   {
    "duration": 82,
    "start_time": "2024-05-24T11:14:45.411Z"
   },
   {
    "duration": 18,
    "start_time": "2024-05-24T11:14:45.495Z"
   },
   {
    "duration": 7,
    "start_time": "2024-05-24T11:14:45.515Z"
   },
   {
    "duration": 5,
    "start_time": "2024-05-24T11:14:45.524Z"
   },
   {
    "duration": 8,
    "start_time": "2024-05-24T11:14:45.530Z"
   },
   {
    "duration": 6,
    "start_time": "2024-05-24T11:14:45.539Z"
   },
   {
    "duration": 140,
    "start_time": "2024-05-24T11:14:45.547Z"
   },
   {
    "duration": 16,
    "start_time": "2024-05-24T11:14:45.689Z"
   },
   {
    "duration": 17,
    "start_time": "2024-05-24T11:14:45.706Z"
   },
   {
    "duration": 16,
    "start_time": "2024-05-24T11:14:45.724Z"
   },
   {
    "duration": 9,
    "start_time": "2024-05-24T11:14:45.741Z"
   },
   {
    "duration": 6,
    "start_time": "2024-05-24T11:14:45.751Z"
   },
   {
    "duration": 317,
    "start_time": "2024-05-24T11:14:45.760Z"
   },
   {
    "duration": 292,
    "start_time": "2024-05-24T11:14:46.078Z"
   },
   {
    "duration": 227,
    "start_time": "2024-05-24T11:14:46.372Z"
   },
   {
    "duration": 328,
    "start_time": "2024-05-24T11:14:46.601Z"
   },
   {
    "duration": 227,
    "start_time": "2024-05-24T11:14:46.930Z"
   },
   {
    "duration": 300,
    "start_time": "2024-05-24T11:14:47.158Z"
   },
   {
    "duration": 141,
    "start_time": "2024-05-24T11:14:47.459Z"
   },
   {
    "duration": 0,
    "start_time": "2024-05-24T11:14:47.601Z"
   },
   {
    "duration": 0,
    "start_time": "2024-05-24T11:14:47.602Z"
   },
   {
    "duration": 0,
    "start_time": "2024-05-24T11:14:47.603Z"
   },
   {
    "duration": 0,
    "start_time": "2024-05-24T11:14:47.605Z"
   },
   {
    "duration": 0,
    "start_time": "2024-05-24T11:14:47.606Z"
   },
   {
    "duration": 0,
    "start_time": "2024-05-24T11:14:47.606Z"
   },
   {
    "duration": 0,
    "start_time": "2024-05-24T11:14:47.607Z"
   },
   {
    "duration": 103,
    "start_time": "2024-05-24T11:15:20.989Z"
   },
   {
    "duration": 3,
    "start_time": "2024-05-24T11:15:32.673Z"
   },
   {
    "duration": 29,
    "start_time": "2024-05-24T11:15:32.678Z"
   },
   {
    "duration": 15,
    "start_time": "2024-05-24T11:15:32.709Z"
   },
   {
    "duration": 35,
    "start_time": "2024-05-24T11:15:32.725Z"
   },
   {
    "duration": 7,
    "start_time": "2024-05-24T11:15:32.762Z"
   },
   {
    "duration": 7,
    "start_time": "2024-05-24T11:15:32.771Z"
   },
   {
    "duration": 11,
    "start_time": "2024-05-24T11:15:32.779Z"
   },
   {
    "duration": 51,
    "start_time": "2024-05-24T11:15:32.792Z"
   },
   {
    "duration": 13,
    "start_time": "2024-05-24T11:15:32.844Z"
   },
   {
    "duration": 18,
    "start_time": "2024-05-24T11:15:32.859Z"
   },
   {
    "duration": 13,
    "start_time": "2024-05-24T11:15:32.879Z"
   },
   {
    "duration": 10,
    "start_time": "2024-05-24T11:15:32.893Z"
   },
   {
    "duration": 5,
    "start_time": "2024-05-24T11:15:32.904Z"
   },
   {
    "duration": 273,
    "start_time": "2024-05-24T11:15:32.912Z"
   },
   {
    "duration": 205,
    "start_time": "2024-05-24T11:15:33.186Z"
   },
   {
    "duration": 267,
    "start_time": "2024-05-24T11:15:33.393Z"
   },
   {
    "duration": 314,
    "start_time": "2024-05-24T11:15:33.661Z"
   },
   {
    "duration": 238,
    "start_time": "2024-05-24T11:15:33.977Z"
   },
   {
    "duration": 309,
    "start_time": "2024-05-24T11:15:34.217Z"
   },
   {
    "duration": 106,
    "start_time": "2024-05-24T11:15:34.528Z"
   },
   {
    "duration": 9,
    "start_time": "2024-05-24T11:15:34.635Z"
   },
   {
    "duration": 0,
    "start_time": "2024-05-24T11:15:34.645Z"
   },
   {
    "duration": 0,
    "start_time": "2024-05-24T11:15:34.646Z"
   },
   {
    "duration": 0,
    "start_time": "2024-05-24T11:15:34.648Z"
   },
   {
    "duration": 0,
    "start_time": "2024-05-24T11:15:34.650Z"
   },
   {
    "duration": 0,
    "start_time": "2024-05-24T11:15:34.651Z"
   },
   {
    "duration": 0,
    "start_time": "2024-05-24T11:15:34.652Z"
   },
   {
    "duration": 16,
    "start_time": "2024-05-24T11:15:47.271Z"
   },
   {
    "duration": 118,
    "start_time": "2024-05-24T11:15:55.654Z"
   },
   {
    "duration": 10,
    "start_time": "2024-05-24T11:16:17.512Z"
   },
   {
    "duration": 4,
    "start_time": "2024-05-24T11:16:24.142Z"
   },
   {
    "duration": 157,
    "start_time": "2024-05-24T11:16:25.859Z"
   },
   {
    "duration": 6,
    "start_time": "2024-05-24T11:16:27.341Z"
   },
   {
    "duration": 6,
    "start_time": "2024-05-24T11:16:31.487Z"
   },
   {
    "duration": 11,
    "start_time": "2024-05-24T11:16:32.338Z"
   },
   {
    "duration": 47,
    "start_time": "2024-05-24T11:17:07.856Z"
   },
   {
    "duration": 1143,
    "start_time": "2024-05-24T11:17:12.659Z"
   },
   {
    "duration": 82,
    "start_time": "2024-05-24T11:17:13.804Z"
   },
   {
    "duration": 17,
    "start_time": "2024-05-24T11:17:13.888Z"
   },
   {
    "duration": 6,
    "start_time": "2024-05-24T11:17:13.907Z"
   },
   {
    "duration": 4,
    "start_time": "2024-05-24T11:17:13.916Z"
   },
   {
    "duration": 8,
    "start_time": "2024-05-24T11:17:13.921Z"
   },
   {
    "duration": 6,
    "start_time": "2024-05-24T11:17:13.930Z"
   },
   {
    "duration": 140,
    "start_time": "2024-05-24T11:17:13.938Z"
   },
   {
    "duration": 14,
    "start_time": "2024-05-24T11:17:14.079Z"
   },
   {
    "duration": 19,
    "start_time": "2024-05-24T11:17:14.095Z"
   },
   {
    "duration": 13,
    "start_time": "2024-05-24T11:17:14.115Z"
   },
   {
    "duration": 9,
    "start_time": "2024-05-24T11:17:14.129Z"
   },
   {
    "duration": 6,
    "start_time": "2024-05-24T11:17:14.140Z"
   },
   {
    "duration": 290,
    "start_time": "2024-05-24T11:17:14.148Z"
   },
   {
    "duration": 292,
    "start_time": "2024-05-24T11:17:14.440Z"
   },
   {
    "duration": 204,
    "start_time": "2024-05-24T11:17:14.734Z"
   },
   {
    "duration": 294,
    "start_time": "2024-05-24T11:17:14.940Z"
   },
   {
    "duration": 231,
    "start_time": "2024-05-24T11:17:15.236Z"
   },
   {
    "duration": 295,
    "start_time": "2024-05-24T11:17:15.468Z"
   },
   {
    "duration": 104,
    "start_time": "2024-05-24T11:17:15.764Z"
   },
   {
    "duration": 141,
    "start_time": "2024-05-24T11:17:15.869Z"
   },
   {
    "duration": 5,
    "start_time": "2024-05-24T11:17:16.011Z"
   },
   {
    "duration": 140,
    "start_time": "2024-05-24T11:17:16.017Z"
   },
   {
    "duration": 5,
    "start_time": "2024-05-24T11:17:16.159Z"
   },
   {
    "duration": 7,
    "start_time": "2024-05-24T11:17:16.165Z"
   },
   {
    "duration": 28,
    "start_time": "2024-05-24T11:17:16.173Z"
   },
   {
    "duration": 137,
    "start_time": "2024-05-24T11:17:16.202Z"
   },
   {
    "duration": 744,
    "start_time": "2024-05-24T11:20:00.756Z"
   },
   {
    "duration": 12,
    "start_time": "2024-05-24T11:20:14.287Z"
   },
   {
    "duration": 11,
    "start_time": "2024-05-24T11:20:22.354Z"
   },
   {
    "duration": 251,
    "start_time": "2024-05-24T11:21:40.475Z"
   },
   {
    "duration": 113,
    "start_time": "2024-05-24T11:21:58.672Z"
   },
   {
    "duration": 121,
    "start_time": "2024-05-24T11:22:05.357Z"
   },
   {
    "duration": 5,
    "start_time": "2024-05-24T11:22:06.086Z"
   },
   {
    "duration": 117,
    "start_time": "2024-05-24T11:22:07.007Z"
   },
   {
    "duration": 5,
    "start_time": "2024-05-24T11:22:07.953Z"
   },
   {
    "duration": 7,
    "start_time": "2024-05-24T11:22:09.006Z"
   },
   {
    "duration": 16,
    "start_time": "2024-05-24T11:22:09.272Z"
   },
   {
    "duration": 9,
    "start_time": "2024-05-24T11:22:09.621Z"
   },
   {
    "duration": 17,
    "start_time": "2024-05-24T11:23:07.338Z"
   },
   {
    "duration": 17,
    "start_time": "2024-05-24T11:23:40.464Z"
   },
   {
    "duration": 16,
    "start_time": "2024-05-24T11:25:39.323Z"
   },
   {
    "duration": 16,
    "start_time": "2024-05-24T11:25:47.004Z"
   },
   {
    "duration": 17,
    "start_time": "2024-05-24T11:25:48.354Z"
   },
   {
    "duration": 14,
    "start_time": "2024-05-24T11:36:08.992Z"
   },
   {
    "duration": 7,
    "start_time": "2024-05-24T11:38:23.743Z"
   },
   {
    "duration": 4,
    "start_time": "2024-05-24T11:39:27.153Z"
   },
   {
    "duration": 3,
    "start_time": "2024-05-24T11:40:43.047Z"
   },
   {
    "duration": 16,
    "start_time": "2024-05-24T11:41:16.272Z"
   },
   {
    "duration": 3,
    "start_time": "2024-05-24T11:41:28.791Z"
   },
   {
    "duration": 15,
    "start_time": "2024-05-24T11:41:30.825Z"
   },
   {
    "duration": 3,
    "start_time": "2024-05-24T11:41:46.343Z"
   },
   {
    "duration": 8,
    "start_time": "2024-05-24T11:41:47.959Z"
   },
   {
    "duration": 268,
    "start_time": "2024-05-24T12:30:02.128Z"
   },
   {
    "duration": 275,
    "start_time": "2024-05-24T12:30:12.855Z"
   },
   {
    "duration": 3,
    "start_time": "2024-05-24T12:35:26.977Z"
   },
   {
    "duration": 8,
    "start_time": "2024-05-24T12:35:27.672Z"
   },
   {
    "duration": 261,
    "start_time": "2024-05-24T12:35:30.175Z"
   },
   {
    "duration": 217,
    "start_time": "2024-05-24T12:35:31.859Z"
   },
   {
    "duration": 200,
    "start_time": "2024-05-24T12:35:34.343Z"
   },
   {
    "duration": 341,
    "start_time": "2024-05-24T12:35:36.773Z"
   },
   {
    "duration": 233,
    "start_time": "2024-05-24T12:38:50.378Z"
   },
   {
    "duration": 275,
    "start_time": "2024-05-24T12:40:07.558Z"
   },
   {
    "duration": 9,
    "start_time": "2024-05-24T12:41:46.540Z"
   },
   {
    "duration": 63,
    "start_time": "2024-05-24T12:43:25.912Z"
   },
   {
    "duration": 19,
    "start_time": "2024-05-24T12:43:26.494Z"
   },
   {
    "duration": 20,
    "start_time": "2024-05-24T12:43:27.611Z"
   },
   {
    "duration": 13,
    "start_time": "2024-05-24T12:43:28.172Z"
   },
   {
    "duration": 10,
    "start_time": "2024-05-24T12:43:29.192Z"
   },
   {
    "duration": 6,
    "start_time": "2024-05-24T12:43:33.994Z"
   },
   {
    "duration": 11,
    "start_time": "2024-05-24T12:43:47.712Z"
   },
   {
    "duration": 3,
    "start_time": "2024-05-24T12:44:25.724Z"
   },
   {
    "duration": 28,
    "start_time": "2024-05-24T12:44:26.194Z"
   },
   {
    "duration": 14,
    "start_time": "2024-05-24T12:44:26.795Z"
   },
   {
    "duration": 8,
    "start_time": "2024-05-24T12:44:27.854Z"
   },
   {
    "duration": 6,
    "start_time": "2024-05-24T12:44:28.387Z"
   },
   {
    "duration": 7,
    "start_time": "2024-05-24T12:44:29.840Z"
   },
   {
    "duration": 11,
    "start_time": "2024-05-24T12:44:30.439Z"
   },
   {
    "duration": 62,
    "start_time": "2024-05-24T12:44:33.192Z"
   },
   {
    "duration": 16,
    "start_time": "2024-05-24T12:44:35.475Z"
   },
   {
    "duration": 23,
    "start_time": "2024-05-24T12:44:37.620Z"
   },
   {
    "duration": 14,
    "start_time": "2024-05-24T12:44:38.926Z"
   },
   {
    "duration": 14,
    "start_time": "2024-05-24T12:44:41.266Z"
   },
   {
    "duration": 7,
    "start_time": "2024-05-24T12:44:43.104Z"
   },
   {
    "duration": 10,
    "start_time": "2024-05-24T12:44:44.021Z"
   },
   {
    "duration": 16,
    "start_time": "2024-05-24T12:45:18.575Z"
   },
   {
    "duration": 17,
    "start_time": "2024-05-24T12:45:50.873Z"
   },
   {
    "duration": 14,
    "start_time": "2024-05-24T12:45:55.323Z"
   },
   {
    "duration": 11,
    "start_time": "2024-05-24T12:45:57.854Z"
   },
   {
    "duration": 7,
    "start_time": "2024-05-24T12:45:58.537Z"
   },
   {
    "duration": 18,
    "start_time": "2024-05-24T12:46:05.904Z"
   },
   {
    "duration": 4,
    "start_time": "2024-05-24T12:46:09.017Z"
   },
   {
    "duration": 9,
    "start_time": "2024-05-24T12:46:09.843Z"
   },
   {
    "duration": 26,
    "start_time": "2024-05-24T12:46:11.958Z"
   },
   {
    "duration": 38,
    "start_time": "2024-05-24T12:46:24.921Z"
   },
   {
    "duration": 6,
    "start_time": "2024-05-24T12:46:48.155Z"
   },
   {
    "duration": 11,
    "start_time": "2024-05-24T12:47:35.457Z"
   },
   {
    "duration": 13,
    "start_time": "2024-05-24T12:48:00.591Z"
   },
   {
    "duration": 277,
    "start_time": "2024-05-24T12:48:47.489Z"
   },
   {
    "duration": 213,
    "start_time": "2024-05-24T12:48:51.507Z"
   },
   {
    "duration": 200,
    "start_time": "2024-05-24T12:48:56.123Z"
   },
   {
    "duration": 309,
    "start_time": "2024-05-24T12:49:13.410Z"
   },
   {
    "duration": 298,
    "start_time": "2024-05-24T12:49:17.661Z"
   },
   {
    "duration": 326,
    "start_time": "2024-05-24T12:49:20.081Z"
   },
   {
    "duration": 87,
    "start_time": "2024-05-24T12:54:50.629Z"
   },
   {
    "duration": 146,
    "start_time": "2024-05-24T12:55:05.094Z"
   },
   {
    "duration": 125,
    "start_time": "2024-05-24T12:58:45.824Z"
   },
   {
    "duration": 127,
    "start_time": "2024-05-24T12:58:51.387Z"
   },
   {
    "duration": 4,
    "start_time": "2024-05-24T13:00:06.196Z"
   },
   {
    "duration": 133,
    "start_time": "2024-05-24T13:01:54.993Z"
   },
   {
    "duration": 141,
    "start_time": "2024-05-24T13:02:58.021Z"
   },
   {
    "duration": 134,
    "start_time": "2024-05-24T13:03:04.353Z"
   },
   {
    "duration": 5,
    "start_time": "2024-05-24T13:05:01.073Z"
   },
   {
    "duration": 8,
    "start_time": "2024-05-24T13:06:23.784Z"
   },
   {
    "duration": 4,
    "start_time": "2024-05-24T13:12:18.508Z"
   },
   {
    "duration": 35,
    "start_time": "2024-05-24T13:12:18.514Z"
   },
   {
    "duration": 15,
    "start_time": "2024-05-24T13:12:18.550Z"
   },
   {
    "duration": 8,
    "start_time": "2024-05-24T13:12:18.567Z"
   },
   {
    "duration": 6,
    "start_time": "2024-05-24T13:12:18.577Z"
   },
   {
    "duration": 7,
    "start_time": "2024-05-24T13:12:18.584Z"
   },
   {
    "duration": 13,
    "start_time": "2024-05-24T13:12:18.592Z"
   },
   {
    "duration": 57,
    "start_time": "2024-05-24T13:12:18.606Z"
   },
   {
    "duration": 14,
    "start_time": "2024-05-24T13:12:18.665Z"
   },
   {
    "duration": 16,
    "start_time": "2024-05-24T13:12:18.680Z"
   },
   {
    "duration": 16,
    "start_time": "2024-05-24T13:12:18.698Z"
   },
   {
    "duration": 10,
    "start_time": "2024-05-24T13:12:18.716Z"
   },
   {
    "duration": 7,
    "start_time": "2024-05-24T13:12:18.728Z"
   },
   {
    "duration": 17,
    "start_time": "2024-05-24T13:12:18.739Z"
   },
   {
    "duration": 3,
    "start_time": "2024-05-24T13:12:18.758Z"
   },
   {
    "duration": 41,
    "start_time": "2024-05-24T13:12:18.762Z"
   },
   {
    "duration": 17,
    "start_time": "2024-05-24T13:12:18.805Z"
   },
   {
    "duration": 280,
    "start_time": "2024-05-24T13:12:18.823Z"
   },
   {
    "duration": 219,
    "start_time": "2024-05-24T13:12:19.105Z"
   },
   {
    "duration": 214,
    "start_time": "2024-05-24T13:12:19.326Z"
   },
   {
    "duration": 283,
    "start_time": "2024-05-24T13:12:19.541Z"
   },
   {
    "duration": 235,
    "start_time": "2024-05-24T13:12:19.825Z"
   },
   {
    "duration": 386,
    "start_time": "2024-05-24T13:12:20.061Z"
   },
   {
    "duration": 126,
    "start_time": "2024-05-24T13:12:20.449Z"
   },
   {
    "duration": 134,
    "start_time": "2024-05-24T13:12:20.577Z"
   },
   {
    "duration": 6,
    "start_time": "2024-05-24T13:12:20.712Z"
   },
   {
    "duration": 155,
    "start_time": "2024-05-24T13:12:20.719Z"
   },
   {
    "duration": 4,
    "start_time": "2024-05-24T13:12:20.876Z"
   },
   {
    "duration": 29,
    "start_time": "2024-05-24T13:12:20.881Z"
   },
   {
    "duration": 17,
    "start_time": "2024-05-24T13:12:20.911Z"
   },
   {
    "duration": 5,
    "start_time": "2024-05-24T13:13:41.984Z"
   },
   {
    "duration": 14,
    "start_time": "2024-05-24T13:13:42.580Z"
   },
   {
    "duration": 19,
    "start_time": "2024-05-24T13:13:45.247Z"
   },
   {
    "duration": 5,
    "start_time": "2024-05-24T13:13:49.397Z"
   },
   {
    "duration": 27,
    "start_time": "2024-05-24T13:13:49.689Z"
   },
   {
    "duration": 21,
    "start_time": "2024-05-24T13:13:49.987Z"
   },
   {
    "duration": 9,
    "start_time": "2024-05-24T13:13:50.590Z"
   },
   {
    "duration": 5,
    "start_time": "2024-05-24T13:13:50.897Z"
   },
   {
    "duration": 7,
    "start_time": "2024-05-24T13:13:51.962Z"
   },
   {
    "duration": 7,
    "start_time": "2024-05-24T13:13:52.337Z"
   },
   {
    "duration": 65,
    "start_time": "2024-05-24T13:13:54.188Z"
   },
   {
    "duration": 19,
    "start_time": "2024-05-24T13:13:54.540Z"
   },
   {
    "duration": 27,
    "start_time": "2024-05-24T13:13:55.457Z"
   },
   {
    "duration": 19,
    "start_time": "2024-05-24T13:13:55.862Z"
   },
   {
    "duration": 15,
    "start_time": "2024-05-24T13:13:56.713Z"
   },
   {
    "duration": 8,
    "start_time": "2024-05-24T13:13:57.100Z"
   },
   {
    "duration": 16,
    "start_time": "2024-05-24T13:13:57.433Z"
   },
   {
    "duration": 3,
    "start_time": "2024-05-24T13:13:58.489Z"
   },
   {
    "duration": 9,
    "start_time": "2024-05-24T13:13:58.942Z"
   },
   {
    "duration": 16,
    "start_time": "2024-05-24T13:14:00.399Z"
   },
   {
    "duration": 3,
    "start_time": "2024-05-24T13:14:03.547Z"
   },
   {
    "duration": 13,
    "start_time": "2024-05-24T13:14:05.129Z"
   },
   {
    "duration": 13,
    "start_time": "2024-05-24T13:14:19.435Z"
   },
   {
    "duration": 3,
    "start_time": "2024-05-24T13:14:53.588Z"
   },
   {
    "duration": 7,
    "start_time": "2024-05-24T13:14:54.137Z"
   },
   {
    "duration": 13,
    "start_time": "2024-05-24T13:14:57.730Z"
   },
   {
    "duration": 4,
    "start_time": "2024-05-24T13:15:22.140Z"
   },
   {
    "duration": 28,
    "start_time": "2024-05-24T13:15:22.146Z"
   },
   {
    "duration": 16,
    "start_time": "2024-05-24T13:15:22.176Z"
   },
   {
    "duration": 11,
    "start_time": "2024-05-24T13:15:22.195Z"
   },
   {
    "duration": 7,
    "start_time": "2024-05-24T13:15:22.208Z"
   },
   {
    "duration": 15,
    "start_time": "2024-05-24T13:15:22.217Z"
   },
   {
    "duration": 12,
    "start_time": "2024-05-24T13:15:22.234Z"
   },
   {
    "duration": 57,
    "start_time": "2024-05-24T13:15:22.248Z"
   },
   {
    "duration": 21,
    "start_time": "2024-05-24T13:15:22.307Z"
   },
   {
    "duration": 26,
    "start_time": "2024-05-24T13:15:22.332Z"
   },
   {
    "duration": 42,
    "start_time": "2024-05-24T13:15:22.359Z"
   },
   {
    "duration": 14,
    "start_time": "2024-05-24T13:15:22.403Z"
   },
   {
    "duration": 8,
    "start_time": "2024-05-24T13:15:22.419Z"
   },
   {
    "duration": 14,
    "start_time": "2024-05-24T13:15:22.428Z"
   },
   {
    "duration": 3,
    "start_time": "2024-05-24T13:15:22.443Z"
   },
   {
    "duration": 53,
    "start_time": "2024-05-24T13:15:22.448Z"
   },
   {
    "duration": 13,
    "start_time": "2024-05-24T13:15:22.502Z"
   },
   {
    "duration": 306,
    "start_time": "2024-05-24T13:15:22.516Z"
   },
   {
    "duration": 244,
    "start_time": "2024-05-24T13:15:22.824Z"
   },
   {
    "duration": 222,
    "start_time": "2024-05-24T13:15:23.070Z"
   },
   {
    "duration": 311,
    "start_time": "2024-05-24T13:15:23.294Z"
   },
   {
    "duration": 253,
    "start_time": "2024-05-24T13:15:23.607Z"
   },
   {
    "duration": 352,
    "start_time": "2024-05-24T13:15:23.862Z"
   },
   {
    "duration": 108,
    "start_time": "2024-05-24T13:15:24.215Z"
   },
   {
    "duration": 167,
    "start_time": "2024-05-24T13:15:24.325Z"
   },
   {
    "duration": 5,
    "start_time": "2024-05-24T13:15:24.499Z"
   },
   {
    "duration": 147,
    "start_time": "2024-05-24T13:15:24.505Z"
   },
   {
    "duration": 5,
    "start_time": "2024-05-24T13:15:24.655Z"
   },
   {
    "duration": 10,
    "start_time": "2024-05-24T13:15:24.662Z"
   },
   {
    "duration": 44,
    "start_time": "2024-05-24T13:15:24.674Z"
   },
   {
    "duration": 41,
    "start_time": "2024-05-24T13:17:20.565Z"
   },
   {
    "duration": 28,
    "start_time": "2024-05-24T13:20:15.925Z"
   },
   {
    "duration": 43,
    "start_time": "2024-05-24T13:24:33.998Z"
   },
   {
    "duration": 21,
    "start_time": "2024-05-24T13:24:52.870Z"
   },
   {
    "duration": 13,
    "start_time": "2024-05-24T13:28:14.148Z"
   },
   {
    "duration": 22,
    "start_time": "2024-05-24T13:38:30.894Z"
   },
   {
    "duration": 22,
    "start_time": "2024-05-24T13:38:39.019Z"
   },
   {
    "duration": 11,
    "start_time": "2024-05-24T13:38:40.031Z"
   },
   {
    "duration": 10,
    "start_time": "2024-05-24T13:38:54.569Z"
   },
   {
    "duration": 14,
    "start_time": "2024-05-24T13:43:42.849Z"
   },
   {
    "duration": 13,
    "start_time": "2024-05-24T13:44:38.335Z"
   },
   {
    "duration": 13,
    "start_time": "2024-05-24T13:46:00.158Z"
   },
   {
    "duration": 18,
    "start_time": "2024-05-24T13:48:50.982Z"
   },
   {
    "duration": 11,
    "start_time": "2024-05-24T13:49:10.177Z"
   },
   {
    "duration": 21,
    "start_time": "2024-05-24T13:49:23.540Z"
   },
   {
    "duration": 12,
    "start_time": "2024-05-24T13:50:23.449Z"
   },
   {
    "duration": 16,
    "start_time": "2024-05-24T13:50:35.451Z"
   },
   {
    "duration": 21,
    "start_time": "2024-05-24T13:50:40.896Z"
   },
   {
    "duration": 10,
    "start_time": "2024-05-24T13:50:43.345Z"
   },
   {
    "duration": 12,
    "start_time": "2024-05-24T13:50:52.345Z"
   },
   {
    "duration": 16,
    "start_time": "2024-05-24T13:50:59.913Z"
   },
   {
    "duration": 17,
    "start_time": "2024-05-24T13:51:45.000Z"
   },
   {
    "duration": 23,
    "start_time": "2024-05-24T13:52:10.113Z"
   },
   {
    "duration": 10,
    "start_time": "2024-05-24T13:52:13.914Z"
   },
   {
    "duration": 11,
    "start_time": "2024-05-24T13:53:11.781Z"
   },
   {
    "duration": 19,
    "start_time": "2024-05-24T13:54:54.562Z"
   },
   {
    "duration": 718,
    "start_time": "2024-05-24T13:56:50.937Z"
   },
   {
    "duration": 17,
    "start_time": "2024-05-24T13:57:25.097Z"
   },
   {
    "duration": 70,
    "start_time": "2024-05-24T13:57:26.894Z"
   },
   {
    "duration": 131,
    "start_time": "2024-05-24T13:57:42.729Z"
   },
   {
    "duration": 18,
    "start_time": "2024-05-24T14:17:08.070Z"
   },
   {
    "duration": 32,
    "start_time": "2024-05-24T14:19:14.299Z"
   },
   {
    "duration": 8,
    "start_time": "2024-05-24T14:21:33.753Z"
   },
   {
    "duration": 105,
    "start_time": "2024-05-24T14:21:42.846Z"
   },
   {
    "duration": 32,
    "start_time": "2024-05-24T14:22:03.338Z"
   },
   {
    "duration": 7,
    "start_time": "2024-05-24T14:22:05.384Z"
   },
   {
    "duration": 17,
    "start_time": "2024-05-24T14:33:01.311Z"
   },
   {
    "duration": 71,
    "start_time": "2024-05-24T14:37:07.933Z"
   },
   {
    "duration": 69,
    "start_time": "2024-05-24T14:37:15.111Z"
   },
   {
    "duration": 252,
    "start_time": "2024-05-24T15:03:43.140Z"
   },
   {
    "duration": 4,
    "start_time": "2024-05-24T15:10:50.715Z"
   },
   {
    "duration": 31,
    "start_time": "2024-05-24T15:10:50.722Z"
   },
   {
    "duration": 16,
    "start_time": "2024-05-24T15:10:50.754Z"
   },
   {
    "duration": 11,
    "start_time": "2024-05-24T15:10:50.772Z"
   },
   {
    "duration": 34,
    "start_time": "2024-05-24T15:10:50.786Z"
   },
   {
    "duration": 9,
    "start_time": "2024-05-24T15:10:50.822Z"
   },
   {
    "duration": 9,
    "start_time": "2024-05-24T15:10:50.833Z"
   },
   {
    "duration": 54,
    "start_time": "2024-05-24T15:10:50.844Z"
   },
   {
    "duration": 22,
    "start_time": "2024-05-24T15:10:50.899Z"
   },
   {
    "duration": 30,
    "start_time": "2024-05-24T15:10:50.924Z"
   },
   {
    "duration": 17,
    "start_time": "2024-05-24T15:10:50.955Z"
   },
   {
    "duration": 48,
    "start_time": "2024-05-24T15:10:50.974Z"
   },
   {
    "duration": 8,
    "start_time": "2024-05-24T15:10:51.024Z"
   },
   {
    "duration": 19,
    "start_time": "2024-05-24T15:10:51.036Z"
   },
   {
    "duration": 5,
    "start_time": "2024-05-24T15:10:51.057Z"
   },
   {
    "duration": 11,
    "start_time": "2024-05-24T15:10:51.063Z"
   },
   {
    "duration": 17,
    "start_time": "2024-05-24T15:10:51.103Z"
   },
   {
    "duration": 398,
    "start_time": "2024-05-24T15:10:51.122Z"
   },
   {
    "duration": 249,
    "start_time": "2024-05-24T15:10:51.522Z"
   },
   {
    "duration": 229,
    "start_time": "2024-05-24T15:10:51.773Z"
   },
   {
    "duration": 369,
    "start_time": "2024-05-24T15:10:52.004Z"
   },
   {
    "duration": 271,
    "start_time": "2024-05-24T15:10:52.375Z"
   },
   {
    "duration": 305,
    "start_time": "2024-05-24T15:10:52.647Z"
   },
   {
    "duration": 100,
    "start_time": "2024-05-24T15:10:52.953Z"
   },
   {
    "duration": 124,
    "start_time": "2024-05-24T15:10:53.054Z"
   },
   {
    "duration": 6,
    "start_time": "2024-05-24T15:10:53.180Z"
   },
   {
    "duration": 159,
    "start_time": "2024-05-24T15:10:53.187Z"
   },
   {
    "duration": 4,
    "start_time": "2024-05-24T15:10:53.348Z"
   },
   {
    "duration": 16,
    "start_time": "2024-05-24T15:10:53.354Z"
   },
   {
    "duration": 40,
    "start_time": "2024-05-24T15:10:53.371Z"
   },
   {
    "duration": 31,
    "start_time": "2024-05-24T15:10:53.412Z"
   },
   {
    "duration": 23,
    "start_time": "2024-05-24T15:10:53.445Z"
   },
   {
    "duration": 120,
    "start_time": "2024-05-24T15:10:53.470Z"
   },
   {
    "duration": 32,
    "start_time": "2024-05-24T15:10:53.599Z"
   },
   {
    "duration": 8,
    "start_time": "2024-05-24T15:10:53.632Z"
   },
   {
    "duration": 16,
    "start_time": "2024-05-24T15:10:53.641Z"
   },
   {
    "duration": 67,
    "start_time": "2024-05-24T15:10:53.659Z"
   },
   {
    "duration": 1074,
    "start_time": "2024-05-24T15:11:27.403Z"
   },
   {
    "duration": 28,
    "start_time": "2024-05-24T15:11:28.479Z"
   },
   {
    "duration": 19,
    "start_time": "2024-05-24T15:11:28.511Z"
   },
   {
    "duration": 8,
    "start_time": "2024-05-24T15:11:28.532Z"
   },
   {
    "duration": 7,
    "start_time": "2024-05-24T15:11:28.541Z"
   },
   {
    "duration": 11,
    "start_time": "2024-05-24T15:11:28.549Z"
   },
   {
    "duration": 7,
    "start_time": "2024-05-24T15:11:28.561Z"
   },
   {
    "duration": 53,
    "start_time": "2024-05-24T15:11:28.570Z"
   },
   {
    "duration": 19,
    "start_time": "2024-05-24T15:11:28.625Z"
   },
   {
    "duration": 24,
    "start_time": "2024-05-24T15:11:28.646Z"
   },
   {
    "duration": 16,
    "start_time": "2024-05-24T15:11:28.671Z"
   },
   {
    "duration": 19,
    "start_time": "2024-05-24T15:11:28.688Z"
   },
   {
    "duration": 7,
    "start_time": "2024-05-24T15:11:28.711Z"
   },
   {
    "duration": 14,
    "start_time": "2024-05-24T15:11:28.719Z"
   },
   {
    "duration": 3,
    "start_time": "2024-05-24T15:11:28.735Z"
   },
   {
    "duration": 120,
    "start_time": "2024-05-24T15:11:28.740Z"
   },
   {
    "duration": 0,
    "start_time": "2024-05-24T15:11:28.861Z"
   },
   {
    "duration": 0,
    "start_time": "2024-05-24T15:11:28.862Z"
   },
   {
    "duration": 0,
    "start_time": "2024-05-24T15:11:28.863Z"
   },
   {
    "duration": 0,
    "start_time": "2024-05-24T15:11:28.864Z"
   },
   {
    "duration": 0,
    "start_time": "2024-05-24T15:11:28.865Z"
   },
   {
    "duration": 0,
    "start_time": "2024-05-24T15:11:28.866Z"
   },
   {
    "duration": 0,
    "start_time": "2024-05-24T15:11:28.867Z"
   },
   {
    "duration": 0,
    "start_time": "2024-05-24T15:11:28.868Z"
   },
   {
    "duration": 0,
    "start_time": "2024-05-24T15:11:28.869Z"
   },
   {
    "duration": 0,
    "start_time": "2024-05-24T15:11:28.870Z"
   },
   {
    "duration": 0,
    "start_time": "2024-05-24T15:11:28.871Z"
   },
   {
    "duration": 0,
    "start_time": "2024-05-24T15:11:28.872Z"
   },
   {
    "duration": 0,
    "start_time": "2024-05-24T15:11:28.872Z"
   },
   {
    "duration": 0,
    "start_time": "2024-05-24T15:11:28.874Z"
   },
   {
    "duration": 0,
    "start_time": "2024-05-24T15:11:28.899Z"
   },
   {
    "duration": 0,
    "start_time": "2024-05-24T15:11:28.900Z"
   },
   {
    "duration": 0,
    "start_time": "2024-05-24T15:11:28.901Z"
   },
   {
    "duration": 0,
    "start_time": "2024-05-24T15:11:28.903Z"
   },
   {
    "duration": 0,
    "start_time": "2024-05-24T15:11:28.903Z"
   },
   {
    "duration": 0,
    "start_time": "2024-05-24T15:11:28.905Z"
   },
   {
    "duration": 0,
    "start_time": "2024-05-24T15:11:28.906Z"
   },
   {
    "duration": 11,
    "start_time": "2024-05-24T15:12:08.976Z"
   },
   {
    "duration": 11,
    "start_time": "2024-05-24T15:12:14.419Z"
   },
   {
    "duration": 273,
    "start_time": "2024-05-24T15:12:19.302Z"
   },
   {
    "duration": 294,
    "start_time": "2024-05-24T15:12:22.302Z"
   },
   {
    "duration": 201,
    "start_time": "2024-05-24T15:12:26.958Z"
   },
   {
    "duration": 300,
    "start_time": "2024-05-24T15:12:28.926Z"
   },
   {
    "duration": 211,
    "start_time": "2024-05-24T15:12:30.886Z"
   },
   {
    "duration": 292,
    "start_time": "2024-05-24T15:12:32.502Z"
   },
   {
    "duration": 90,
    "start_time": "2024-05-24T15:12:49.237Z"
   },
   {
    "duration": 135,
    "start_time": "2024-05-24T15:12:52.641Z"
   },
   {
    "duration": 4,
    "start_time": "2024-05-24T15:13:01.403Z"
   },
   {
    "duration": 131,
    "start_time": "2024-05-24T15:13:05.564Z"
   },
   {
    "duration": 5,
    "start_time": "2024-05-24T15:13:09.485Z"
   },
   {
    "duration": 16,
    "start_time": "2024-05-24T15:13:58.648Z"
   },
   {
    "duration": 91,
    "start_time": "2024-05-24T15:14:01.019Z"
   },
   {
    "duration": 10,
    "start_time": "2024-05-24T15:14:01.925Z"
   },
   {
    "duration": 16,
    "start_time": "2024-05-24T15:14:08.901Z"
   },
   {
    "duration": 125,
    "start_time": "2024-05-24T15:14:10.052Z"
   },
   {
    "duration": 10,
    "start_time": "2024-05-24T15:14:14.442Z"
   },
   {
    "duration": 8,
    "start_time": "2024-05-24T15:14:16.092Z"
   },
   {
    "duration": 36,
    "start_time": "2024-05-24T15:14:43.670Z"
   },
   {
    "duration": 8,
    "start_time": "2024-05-24T15:14:45.336Z"
   },
   {
    "duration": 20,
    "start_time": "2024-05-24T15:14:51.346Z"
   },
   {
    "duration": 91,
    "start_time": "2024-05-24T15:14:52.710Z"
   },
   {
    "duration": 2,
    "start_time": "2024-05-24T15:16:41.083Z"
   },
   {
    "duration": 27,
    "start_time": "2024-05-24T15:16:41.538Z"
   },
   {
    "duration": 16,
    "start_time": "2024-05-24T15:16:41.969Z"
   },
   {
    "duration": 1133,
    "start_time": "2024-05-24T15:16:49.900Z"
   },
   {
    "duration": 27,
    "start_time": "2024-05-24T15:16:51.035Z"
   },
   {
    "duration": 18,
    "start_time": "2024-05-24T15:16:51.063Z"
   },
   {
    "duration": 7,
    "start_time": "2024-05-24T15:16:51.082Z"
   },
   {
    "duration": 11,
    "start_time": "2024-05-24T15:16:51.091Z"
   },
   {
    "duration": 7,
    "start_time": "2024-05-24T15:16:51.103Z"
   },
   {
    "duration": 6,
    "start_time": "2024-05-24T15:16:51.112Z"
   },
   {
    "duration": 53,
    "start_time": "2024-05-24T15:16:51.119Z"
   },
   {
    "duration": 20,
    "start_time": "2024-05-24T15:16:51.174Z"
   },
   {
    "duration": 19,
    "start_time": "2024-05-24T15:16:51.196Z"
   },
   {
    "duration": 19,
    "start_time": "2024-05-24T15:16:51.216Z"
   },
   {
    "duration": 11,
    "start_time": "2024-05-24T15:16:51.236Z"
   },
   {
    "duration": 6,
    "start_time": "2024-05-24T15:16:51.248Z"
   },
   {
    "duration": 13,
    "start_time": "2024-05-24T15:16:51.258Z"
   },
   {
    "duration": 3,
    "start_time": "2024-05-24T15:16:51.273Z"
   },
   {
    "duration": 29,
    "start_time": "2024-05-24T15:16:51.277Z"
   },
   {
    "duration": 12,
    "start_time": "2024-05-24T15:16:51.308Z"
   },
   {
    "duration": 282,
    "start_time": "2024-05-24T15:16:51.321Z"
   },
   {
    "duration": 298,
    "start_time": "2024-05-24T15:16:51.605Z"
   },
   {
    "duration": 214,
    "start_time": "2024-05-24T15:16:51.905Z"
   },
   {
    "duration": 287,
    "start_time": "2024-05-24T15:16:52.120Z"
   },
   {
    "duration": 226,
    "start_time": "2024-05-24T15:16:52.409Z"
   },
   {
    "duration": 268,
    "start_time": "2024-05-24T15:16:52.637Z"
   },
   {
    "duration": 104,
    "start_time": "2024-05-24T15:16:52.907Z"
   },
   {
    "duration": 140,
    "start_time": "2024-05-24T15:16:53.013Z"
   },
   {
    "duration": 4,
    "start_time": "2024-05-24T15:16:53.155Z"
   },
   {
    "duration": 147,
    "start_time": "2024-05-24T15:16:53.161Z"
   },
   {
    "duration": 5,
    "start_time": "2024-05-24T15:16:53.310Z"
   },
   {
    "duration": 18,
    "start_time": "2024-05-24T15:16:53.317Z"
   },
   {
    "duration": 113,
    "start_time": "2024-05-24T15:16:53.336Z"
   },
   {
    "duration": 9,
    "start_time": "2024-05-24T15:16:53.451Z"
   },
   {
    "duration": 14,
    "start_time": "2024-05-24T15:16:53.461Z"
   },
   {
    "duration": 141,
    "start_time": "2024-05-24T15:16:53.477Z"
   },
   {
    "duration": 122,
    "start_time": "2024-05-24T15:16:53.620Z"
   },
   {
    "duration": 7,
    "start_time": "2024-05-24T15:16:53.744Z"
   },
   {
    "duration": 16,
    "start_time": "2024-05-24T15:16:53.753Z"
   },
   {
    "duration": 110,
    "start_time": "2024-05-24T15:16:53.770Z"
   },
   {
    "duration": 1280,
    "start_time": "2024-05-24T18:38:14.588Z"
   },
   {
    "duration": 72,
    "start_time": "2024-05-24T18:38:15.870Z"
   },
   {
    "duration": 26,
    "start_time": "2024-05-24T18:38:15.944Z"
   },
   {
    "duration": 9,
    "start_time": "2024-05-24T18:38:15.972Z"
   },
   {
    "duration": 9,
    "start_time": "2024-05-24T18:38:15.982Z"
   },
   {
    "duration": 9,
    "start_time": "2024-05-24T18:38:15.992Z"
   },
   {
    "duration": 38,
    "start_time": "2024-05-24T18:38:16.003Z"
   },
   {
    "duration": 181,
    "start_time": "2024-05-24T18:38:16.042Z"
   },
   {
    "duration": 16,
    "start_time": "2024-05-24T18:38:16.225Z"
   },
   {
    "duration": 18,
    "start_time": "2024-05-24T18:38:16.245Z"
   },
   {
    "duration": 21,
    "start_time": "2024-05-24T18:38:16.265Z"
   },
   {
    "duration": 13,
    "start_time": "2024-05-24T18:38:16.289Z"
   },
   {
    "duration": 32,
    "start_time": "2024-05-24T18:38:16.304Z"
   },
   {
    "duration": 20,
    "start_time": "2024-05-24T18:38:16.339Z"
   },
   {
    "duration": 4,
    "start_time": "2024-05-24T18:38:16.361Z"
   },
   {
    "duration": 33,
    "start_time": "2024-05-24T18:38:16.367Z"
   },
   {
    "duration": 22,
    "start_time": "2024-05-24T18:38:16.402Z"
   },
   {
    "duration": 316,
    "start_time": "2024-05-24T18:38:16.426Z"
   },
   {
    "duration": 303,
    "start_time": "2024-05-24T18:38:16.744Z"
   },
   {
    "duration": 235,
    "start_time": "2024-05-24T18:38:17.049Z"
   },
   {
    "duration": 317,
    "start_time": "2024-05-24T18:38:17.286Z"
   },
   {
    "duration": 244,
    "start_time": "2024-05-24T18:38:17.604Z"
   },
   {
    "duration": 311,
    "start_time": "2024-05-24T18:38:17.849Z"
   },
   {
    "duration": 112,
    "start_time": "2024-05-24T18:38:18.162Z"
   },
   {
    "duration": 160,
    "start_time": "2024-05-24T18:38:18.276Z"
   },
   {
    "duration": 6,
    "start_time": "2024-05-24T18:38:18.438Z"
   },
   {
    "duration": 150,
    "start_time": "2024-05-24T18:38:18.445Z"
   },
   {
    "duration": 4,
    "start_time": "2024-05-24T18:38:18.598Z"
   },
   {
    "duration": 31,
    "start_time": "2024-05-24T18:38:18.604Z"
   },
   {
    "duration": 110,
    "start_time": "2024-05-24T18:38:18.636Z"
   },
   {
    "duration": 11,
    "start_time": "2024-05-24T18:38:18.748Z"
   },
   {
    "duration": 27,
    "start_time": "2024-05-24T18:38:18.760Z"
   },
   {
    "duration": 135,
    "start_time": "2024-05-24T18:38:18.788Z"
   },
   {
    "duration": 137,
    "start_time": "2024-05-24T18:38:18.925Z"
   },
   {
    "duration": 7,
    "start_time": "2024-05-24T18:38:19.064Z"
   },
   {
    "duration": 30,
    "start_time": "2024-05-24T18:38:19.073Z"
   },
   {
    "duration": 126,
    "start_time": "2024-05-24T18:38:19.104Z"
   },
   {
    "duration": 1314,
    "start_time": "2024-05-25T10:48:22.814Z"
   },
   {
    "duration": 83,
    "start_time": "2024-05-25T10:48:25.346Z"
   },
   {
    "duration": 27,
    "start_time": "2024-05-25T10:48:26.194Z"
   },
   {
    "duration": 8,
    "start_time": "2024-05-25T10:48:28.755Z"
   },
   {
    "duration": 5,
    "start_time": "2024-05-25T10:48:30.038Z"
   },
   {
    "duration": 7,
    "start_time": "2024-05-25T10:48:43.637Z"
   },
   {
    "duration": 96,
    "start_time": "2024-05-25T10:49:26.749Z"
   },
   {
    "duration": 13,
    "start_time": "2024-05-25T10:49:42.738Z"
   },
   {
    "duration": 9,
    "start_time": "2024-05-25T10:52:17.349Z"
   },
   {
    "duration": 6,
    "start_time": "2024-05-25T10:52:36.521Z"
   },
   {
    "duration": 9,
    "start_time": "2024-05-25T10:52:50.854Z"
   },
   {
    "duration": 6,
    "start_time": "2024-05-25T10:53:05.095Z"
   },
   {
    "duration": 9,
    "start_time": "2024-05-25T10:53:25.337Z"
   },
   {
    "duration": 10,
    "start_time": "2024-05-25T10:53:33.672Z"
   },
   {
    "duration": 6,
    "start_time": "2024-05-25T10:54:56.291Z"
   },
   {
    "duration": 5,
    "start_time": "2024-05-25T10:55:03.660Z"
   },
   {
    "duration": 10,
    "start_time": "2024-05-25T10:55:13.885Z"
   },
   {
    "duration": 9,
    "start_time": "2024-05-25T10:55:47.987Z"
   },
   {
    "duration": 11,
    "start_time": "2024-05-25T10:55:53.517Z"
   },
   {
    "duration": 11,
    "start_time": "2024-05-25T10:56:02.652Z"
   },
   {
    "duration": 17,
    "start_time": "2024-05-25T10:56:56.054Z"
   },
   {
    "duration": 5,
    "start_time": "2024-05-25T10:57:35.449Z"
   },
   {
    "duration": 11,
    "start_time": "2024-05-25T10:57:40.115Z"
   },
   {
    "duration": 11,
    "start_time": "2024-05-25T10:57:47.591Z"
   },
   {
    "duration": 152,
    "start_time": "2024-05-25T11:02:03.346Z"
   },
   {
    "duration": 14,
    "start_time": "2024-05-25T11:02:04.222Z"
   },
   {
    "duration": 17,
    "start_time": "2024-05-25T11:02:06.897Z"
   },
   {
    "duration": 13,
    "start_time": "2024-05-25T11:02:07.782Z"
   },
   {
    "duration": 9,
    "start_time": "2024-05-25T11:02:08.935Z"
   },
   {
    "duration": 7,
    "start_time": "2024-05-25T11:02:09.714Z"
   },
   {
    "duration": 71,
    "start_time": "2024-05-25T11:02:24.638Z"
   },
   {
    "duration": 7,
    "start_time": "2024-05-25T11:02:38.617Z"
   },
   {
    "duration": 13,
    "start_time": "2024-05-25T11:02:55.305Z"
   },
   {
    "duration": 3,
    "start_time": "2024-05-25T11:03:04.030Z"
   },
   {
    "duration": 9,
    "start_time": "2024-05-25T11:03:04.947Z"
   },
   {
    "duration": 11,
    "start_time": "2024-05-25T11:03:17.548Z"
   },
   {
    "duration": 263,
    "start_time": "2024-05-25T11:03:35.687Z"
   },
   {
    "duration": 255,
    "start_time": "2024-05-25T11:03:57.517Z"
   },
   {
    "duration": 4,
    "start_time": "2024-05-25T11:04:26.403Z"
   },
   {
    "duration": 4,
    "start_time": "2024-05-25T11:04:37.332Z"
   },
   {
    "duration": 265,
    "start_time": "2024-05-25T11:06:27.774Z"
   },
   {
    "duration": 209,
    "start_time": "2024-05-25T11:09:07.765Z"
   },
   {
    "duration": 334,
    "start_time": "2024-05-25T11:09:10.012Z"
   },
   {
    "duration": 211,
    "start_time": "2024-05-25T11:10:23.769Z"
   },
   {
    "duration": 271,
    "start_time": "2024-05-25T11:10:28.448Z"
   },
   {
    "duration": 84,
    "start_time": "2024-05-25T11:10:36.063Z"
   },
   {
    "duration": 126,
    "start_time": "2024-05-25T11:10:39.111Z"
   },
   {
    "duration": 5,
    "start_time": "2024-05-25T11:10:44.651Z"
   },
   {
    "duration": 129,
    "start_time": "2024-05-25T11:10:53.162Z"
   },
   {
    "duration": 17,
    "start_time": "2024-05-25T11:11:52.424Z"
   },
   {
    "duration": 14,
    "start_time": "2024-05-25T11:12:35.145Z"
   },
   {
    "duration": 11,
    "start_time": "2024-05-25T11:12:46.452Z"
   },
   {
    "duration": 184,
    "start_time": "2024-05-25T11:16:53.772Z"
   },
   {
    "duration": 125,
    "start_time": "2024-05-25T11:17:21.400Z"
   },
   {
    "duration": 5,
    "start_time": "2024-05-25T11:19:17.162Z"
   },
   {
    "duration": 15,
    "start_time": "2024-05-25T11:19:29.356Z"
   },
   {
    "duration": 24,
    "start_time": "2024-05-25T11:19:31.086Z"
   },
   {
    "duration": 10,
    "start_time": "2024-05-25T11:19:32.029Z"
   },
   {
    "duration": 16,
    "start_time": "2024-05-25T11:19:38.093Z"
   },
   {
    "duration": 125,
    "start_time": "2024-05-25T11:19:39.627Z"
   },
   {
    "duration": 33,
    "start_time": "2024-05-25T11:19:42.728Z"
   },
   {
    "duration": 8,
    "start_time": "2024-05-25T11:19:43.443Z"
   },
   {
    "duration": 22,
    "start_time": "2024-05-25T11:19:45.803Z"
   },
   {
    "duration": 93,
    "start_time": "2024-05-25T11:19:46.419Z"
   },
   {
    "duration": 3,
    "start_time": "2024-05-25T11:54:29.333Z"
   },
   {
    "duration": 27,
    "start_time": "2024-05-25T11:54:29.339Z"
   },
   {
    "duration": 13,
    "start_time": "2024-05-25T11:54:29.368Z"
   },
   {
    "duration": 12,
    "start_time": "2024-05-25T11:54:29.383Z"
   },
   {
    "duration": 5,
    "start_time": "2024-05-25T11:54:29.397Z"
   },
   {
    "duration": 10,
    "start_time": "2024-05-25T11:54:29.404Z"
   },
   {
    "duration": 10,
    "start_time": "2024-05-25T11:54:29.415Z"
   },
   {
    "duration": 51,
    "start_time": "2024-05-25T11:54:29.426Z"
   },
   {
    "duration": 14,
    "start_time": "2024-05-25T11:54:29.479Z"
   },
   {
    "duration": 16,
    "start_time": "2024-05-25T11:54:29.495Z"
   },
   {
    "duration": 14,
    "start_time": "2024-05-25T11:54:29.512Z"
   },
   {
    "duration": 10,
    "start_time": "2024-05-25T11:54:29.527Z"
   },
   {
    "duration": 7,
    "start_time": "2024-05-25T11:54:29.538Z"
   },
   {
    "duration": 12,
    "start_time": "2024-05-25T11:54:29.547Z"
   },
   {
    "duration": 3,
    "start_time": "2024-05-25T11:54:29.560Z"
   },
   {
    "duration": 36,
    "start_time": "2024-05-25T11:54:29.564Z"
   },
   {
    "duration": 11,
    "start_time": "2024-05-25T11:54:29.602Z"
   },
   {
    "duration": 289,
    "start_time": "2024-05-25T11:54:29.614Z"
   },
   {
    "duration": 4,
    "start_time": "2024-05-25T11:54:29.904Z"
   },
   {
    "duration": 205,
    "start_time": "2024-05-25T11:54:29.910Z"
   },
   {
    "duration": 214,
    "start_time": "2024-05-25T11:54:30.116Z"
   },
   {
    "duration": 285,
    "start_time": "2024-05-25T11:54:30.331Z"
   },
   {
    "duration": 212,
    "start_time": "2024-05-25T11:54:30.617Z"
   },
   {
    "duration": 281,
    "start_time": "2024-05-25T11:54:30.830Z"
   },
   {
    "duration": 90,
    "start_time": "2024-05-25T11:54:31.112Z"
   },
   {
    "duration": 133,
    "start_time": "2024-05-25T11:54:31.204Z"
   },
   {
    "duration": 4,
    "start_time": "2024-05-25T11:54:31.339Z"
   },
   {
    "duration": 144,
    "start_time": "2024-05-25T11:54:31.345Z"
   },
   {
    "duration": 126,
    "start_time": "2024-05-25T11:54:31.490Z"
   },
   {
    "duration": 4,
    "start_time": "2024-05-25T11:54:31.618Z"
   },
   {
    "duration": 44,
    "start_time": "2024-05-25T11:54:31.624Z"
   },
   {
    "duration": 24,
    "start_time": "2024-05-25T11:54:31.670Z"
   },
   {
    "duration": 18,
    "start_time": "2024-05-25T11:54:31.695Z"
   },
   {
    "duration": 19,
    "start_time": "2024-05-25T11:54:31.715Z"
   },
   {
    "duration": 110,
    "start_time": "2024-05-25T11:54:31.735Z"
   },
   {
    "duration": 35,
    "start_time": "2024-05-25T11:54:31.846Z"
   },
   {
    "duration": 22,
    "start_time": "2024-05-25T11:54:31.882Z"
   },
   {
    "duration": 16,
    "start_time": "2024-05-25T11:54:31.905Z"
   },
   {
    "duration": 96,
    "start_time": "2024-05-25T11:54:31.923Z"
   },
   {
    "duration": 1355,
    "start_time": "2024-05-25T12:30:57.442Z"
   },
   {
    "duration": 70,
    "start_time": "2024-05-25T12:30:58.799Z"
   },
   {
    "duration": 21,
    "start_time": "2024-05-25T12:30:58.871Z"
   },
   {
    "duration": 9,
    "start_time": "2024-05-25T12:30:58.894Z"
   },
   {
    "duration": 6,
    "start_time": "2024-05-25T12:30:58.905Z"
   },
   {
    "duration": 47,
    "start_time": "2024-05-25T12:30:58.914Z"
   },
   {
    "duration": 20,
    "start_time": "2024-05-25T12:30:58.963Z"
   },
   {
    "duration": 160,
    "start_time": "2024-05-25T12:30:58.985Z"
   },
   {
    "duration": 25,
    "start_time": "2024-05-25T12:30:59.148Z"
   },
   {
    "duration": 22,
    "start_time": "2024-05-25T12:30:59.175Z"
   },
   {
    "duration": 15,
    "start_time": "2024-05-25T12:30:59.199Z"
   },
   {
    "duration": 12,
    "start_time": "2024-05-25T12:30:59.215Z"
   },
   {
    "duration": 38,
    "start_time": "2024-05-25T12:30:59.229Z"
   },
   {
    "duration": 14,
    "start_time": "2024-05-25T12:30:59.270Z"
   },
   {
    "duration": 6,
    "start_time": "2024-05-25T12:30:59.286Z"
   },
   {
    "duration": 29,
    "start_time": "2024-05-25T12:30:59.294Z"
   },
   {
    "duration": 37,
    "start_time": "2024-05-25T12:30:59.327Z"
   },
   {
    "duration": 351,
    "start_time": "2024-05-25T12:30:59.366Z"
   },
   {
    "duration": 5,
    "start_time": "2024-05-25T12:30:59.718Z"
   },
   {
    "duration": 312,
    "start_time": "2024-05-25T12:30:59.725Z"
   },
   {
    "duration": 222,
    "start_time": "2024-05-25T12:31:00.039Z"
   },
   {
    "duration": 353,
    "start_time": "2024-05-25T12:31:00.262Z"
   },
   {
    "duration": 253,
    "start_time": "2024-05-25T12:31:00.617Z"
   },
   {
    "duration": 315,
    "start_time": "2024-05-25T12:31:00.872Z"
   },
   {
    "duration": 99,
    "start_time": "2024-05-25T12:31:01.189Z"
   },
   {
    "duration": 155,
    "start_time": "2024-05-25T12:31:01.290Z"
   },
   {
    "duration": 5,
    "start_time": "2024-05-25T12:31:01.447Z"
   },
   {
    "duration": 168,
    "start_time": "2024-05-25T12:31:01.461Z"
   },
   {
    "duration": 229,
    "start_time": "2024-05-25T12:31:01.631Z"
   },
   {
    "duration": 6,
    "start_time": "2024-05-25T12:31:01.862Z"
   },
   {
    "duration": 39,
    "start_time": "2024-05-25T12:31:01.869Z"
   },
   {
    "duration": 44,
    "start_time": "2024-05-25T12:31:01.910Z"
   },
   {
    "duration": 13,
    "start_time": "2024-05-25T12:31:01.956Z"
   },
   {
    "duration": 20,
    "start_time": "2024-05-25T12:31:01.972Z"
   },
   {
    "duration": 146,
    "start_time": "2024-05-25T12:31:01.995Z"
   },
   {
    "duration": 145,
    "start_time": "2024-05-25T12:31:02.143Z"
   },
   {
    "duration": 9,
    "start_time": "2024-05-25T12:31:02.290Z"
   },
   {
    "duration": 26,
    "start_time": "2024-05-25T12:31:02.300Z"
   },
   {
    "duration": 116,
    "start_time": "2024-05-25T12:31:02.328Z"
   }
  ],
  "kernelspec": {
   "display_name": "Python 3 (ipykernel)",
   "language": "python",
   "name": "python3"
  },
  "language_info": {
   "codemirror_mode": {
    "name": "ipython",
    "version": 3
   },
   "file_extension": ".py",
   "mimetype": "text/x-python",
   "name": "python",
   "nbconvert_exporter": "python",
   "pygments_lexer": "ipython3",
   "version": "3.9.5"
  },
  "toc": {
   "base_numbering": 1,
   "nav_menu": {},
   "number_sections": true,
   "sideBar": true,
   "skip_h1_title": true,
   "title_cell": "Table of Contents",
   "title_sidebar": "Contents",
   "toc_cell": false,
   "toc_position": {},
   "toc_section_display": true,
   "toc_window_display": false
  }
 },
 "nbformat": 4,
 "nbformat_minor": 2
}
