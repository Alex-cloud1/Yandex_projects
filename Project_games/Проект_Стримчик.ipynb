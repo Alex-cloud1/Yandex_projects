{
 "cells": [
  {
   "cell_type": "markdown",
   "metadata": {},
   "source": [
    "# Название проекта: Анализ данных \"Стримчик\""
   ]
  },
  {
   "cell_type": "markdown",
   "metadata": {},
   "source": [
    "# Описание.\n",
    "    \n",
    "- Нам предоставлены исторические данные о продажах игр, оценки пользователей и экспертов, жанры и платформы, наша задача - выявить определяющие успешность игры закономерности.\n",
    "\n",
    "- С помощью полученных данных мы сможем проверить различные гипотезы, выявить тенденции пользователей, определить портрет пользователя в каждом предложенном регионе.\n",
    "\n",
    "#  Цель исследования: \n",
    "\n",
    "- выявить определяющие успешность игры закономерности для планирования рекламных кампаний и прогнозирования продаж на следующий год.\n",
    " \n",
    "# Задачи исследования:\n",
    "\n",
    " 1. Подготовить данные для анализа, включая замену названий столбцов, преобразование данных в нужные типы и обработку пропусков.\n",
    " 2. Провести исследовательский анализ данных, включая анализ количества выпущенных игр по годам, изменения продаж по платформам, выбор актуального периода для анализа, выявление лидирующих платформ по продажам и построение графиков для анализа влияния отзывов пользователей и критиков на продажи.\n",
    " 3. Составить портрет пользователя каждого региона, определить самые популярные платформы и жанры, а также изучить влияние рейтинга ESRB на продажи в отдельных регионах.\n",
    " 4. Проверить гипотезы о равенстве средних пользовательских рейтингов платформ Xbox One и PC, а также о различии средних пользовательских рейтингов жанров Action и Sports.\n",
    " 5. Сделать общий вывод на основе проведенного анализа данных и проверки гипотез\n",
    " \n",
    "# План действий:\n",
    "\n",
    "1. Подготовка данных:\n",
    "   - Загрузить данные и изучить общую информацию о них.\n",
    "   - Провести предобработку данных: заменить названия столбцов на более удобные, преобразовать данные в нужные типы, обработать пропуски при необходимости.\n",
    "    \n",
    "2. Исследовательский анализ данных:\n",
    "   - Провести анализ количества выпущенных игр по годам, чтобы определить актуальный период для анализа.\n",
    "   - Изучить изменения продаж по платформам за выбранный период, выявить лидирующие платформы по продажам.\n",
    "   - Построить графики зависимости продаж от отзывов пользователей и критиков для выявления возможных закономерностей.\n",
    "\n",
    "3. Портрет пользователя каждого региона:\n",
    "   - Определить самые популярные платформы и жанры в каждом регионе.\n",
    "   - Изучить влияние рейтинга ESRB на продажи в отдельных регионах.\n",
    "\n",
    "4. Проверка гипотез:\n",
    "   - Сформулировать и проверить гипотезу о равенстве средних пользовательских рейтингов платформ Xbox One и PC с помощью статистического теста.\n",
    "   - Сформулировать и проверить гипотезу о различии средних пользовательских рейтингов жанров Action и Sports с помощью статистического теста.\n",
    "\n",
    "5. Общий вывод:\n",
    "   - Сделать общий вывод на основе проведенного анализа данных, проверки гипотез и выявленных закономерностей.\n",
    "</b>\n"
   ]
  },
  {
   "cell_type": "markdown",
   "metadata": {},
   "source": [
    "# Шаг 1. Откроем файл с данными /datasets/games.csv и изучим общую информацию."
   ]
  },
  {
   "cell_type": "code",
   "execution_count": 81,
   "metadata": {},
   "outputs": [],
   "source": [
    "#Загрузим библиотеки\n",
    "import pandas as pd\n",
    "import matplotlib.pyplot as plt\n",
    "import numpy as np\n",
    "import seaborn as sns\n",
    "from math import factorial\n",
    "from scipy.stats import poisson\n",
    "from scipy.stats import binom\n",
    "from scipy import stats as st\n",
    "\n"
   ]
  },
  {
   "cell_type": "code",
   "execution_count": 82,
   "metadata": {},
   "outputs": [],
   "source": [
    "df_games = pd.read_csv('/datasets/games.csv')"
   ]
  },
  {
   "cell_type": "code",
   "execution_count": 83,
   "metadata": {},
   "outputs": [
    {
     "name": "stdout",
     "output_type": "stream",
     "text": [
      "<class 'pandas.core.frame.DataFrame'>\n",
      "RangeIndex: 16715 entries, 0 to 16714\n",
      "Data columns (total 11 columns):\n",
      " #   Column           Non-Null Count  Dtype  \n",
      "---  ------           --------------  -----  \n",
      " 0   Name             16713 non-null  object \n",
      " 1   Platform         16715 non-null  object \n",
      " 2   Year_of_Release  16446 non-null  float64\n",
      " 3   Genre            16713 non-null  object \n",
      " 4   NA_sales         16715 non-null  float64\n",
      " 5   EU_sales         16715 non-null  float64\n",
      " 6   JP_sales         16715 non-null  float64\n",
      " 7   Other_sales      16715 non-null  float64\n",
      " 8   Critic_Score     8137 non-null   float64\n",
      " 9   User_Score       10014 non-null  object \n",
      " 10  Rating           9949 non-null   object \n",
      "dtypes: float64(6), object(5)\n",
      "memory usage: 1.4+ MB\n"
     ]
    }
   ],
   "source": [
    "df_games.info()"
   ]
  },
  {
   "cell_type": "code",
   "execution_count": 84,
   "metadata": {},
   "outputs": [
    {
     "data": {
      "text/html": [
       "<div>\n",
       "<style scoped>\n",
       "    .dataframe tbody tr th:only-of-type {\n",
       "        vertical-align: middle;\n",
       "    }\n",
       "\n",
       "    .dataframe tbody tr th {\n",
       "        vertical-align: top;\n",
       "    }\n",
       "\n",
       "    .dataframe thead th {\n",
       "        text-align: right;\n",
       "    }\n",
       "</style>\n",
       "<table border=\"1\" class=\"dataframe\">\n",
       "  <thead>\n",
       "    <tr style=\"text-align: right;\">\n",
       "      <th></th>\n",
       "      <th>Name</th>\n",
       "      <th>Platform</th>\n",
       "      <th>Year_of_Release</th>\n",
       "      <th>Genre</th>\n",
       "      <th>NA_sales</th>\n",
       "      <th>EU_sales</th>\n",
       "      <th>JP_sales</th>\n",
       "      <th>Other_sales</th>\n",
       "      <th>Critic_Score</th>\n",
       "      <th>User_Score</th>\n",
       "      <th>Rating</th>\n",
       "    </tr>\n",
       "  </thead>\n",
       "  <tbody>\n",
       "    <tr>\n",
       "      <th>0</th>\n",
       "      <td>Wii Sports</td>\n",
       "      <td>Wii</td>\n",
       "      <td>2006.0</td>\n",
       "      <td>Sports</td>\n",
       "      <td>41.36</td>\n",
       "      <td>28.96</td>\n",
       "      <td>3.77</td>\n",
       "      <td>8.45</td>\n",
       "      <td>76.0</td>\n",
       "      <td>8</td>\n",
       "      <td>E</td>\n",
       "    </tr>\n",
       "    <tr>\n",
       "      <th>1</th>\n",
       "      <td>Super Mario Bros.</td>\n",
       "      <td>NES</td>\n",
       "      <td>1985.0</td>\n",
       "      <td>Platform</td>\n",
       "      <td>29.08</td>\n",
       "      <td>3.58</td>\n",
       "      <td>6.81</td>\n",
       "      <td>0.77</td>\n",
       "      <td>NaN</td>\n",
       "      <td>NaN</td>\n",
       "      <td>NaN</td>\n",
       "    </tr>\n",
       "    <tr>\n",
       "      <th>2</th>\n",
       "      <td>Mario Kart Wii</td>\n",
       "      <td>Wii</td>\n",
       "      <td>2008.0</td>\n",
       "      <td>Racing</td>\n",
       "      <td>15.68</td>\n",
       "      <td>12.76</td>\n",
       "      <td>3.79</td>\n",
       "      <td>3.29</td>\n",
       "      <td>82.0</td>\n",
       "      <td>8.3</td>\n",
       "      <td>E</td>\n",
       "    </tr>\n",
       "    <tr>\n",
       "      <th>3</th>\n",
       "      <td>Wii Sports Resort</td>\n",
       "      <td>Wii</td>\n",
       "      <td>2009.0</td>\n",
       "      <td>Sports</td>\n",
       "      <td>15.61</td>\n",
       "      <td>10.93</td>\n",
       "      <td>3.28</td>\n",
       "      <td>2.95</td>\n",
       "      <td>80.0</td>\n",
       "      <td>8</td>\n",
       "      <td>E</td>\n",
       "    </tr>\n",
       "    <tr>\n",
       "      <th>4</th>\n",
       "      <td>Pokemon Red/Pokemon Blue</td>\n",
       "      <td>GB</td>\n",
       "      <td>1996.0</td>\n",
       "      <td>Role-Playing</td>\n",
       "      <td>11.27</td>\n",
       "      <td>8.89</td>\n",
       "      <td>10.22</td>\n",
       "      <td>1.00</td>\n",
       "      <td>NaN</td>\n",
       "      <td>NaN</td>\n",
       "      <td>NaN</td>\n",
       "    </tr>\n",
       "  </tbody>\n",
       "</table>\n",
       "</div>"
      ],
      "text/plain": [
       "                       Name Platform  Year_of_Release         Genre  NA_sales  \\\n",
       "0                Wii Sports      Wii           2006.0        Sports     41.36   \n",
       "1         Super Mario Bros.      NES           1985.0      Platform     29.08   \n",
       "2            Mario Kart Wii      Wii           2008.0        Racing     15.68   \n",
       "3         Wii Sports Resort      Wii           2009.0        Sports     15.61   \n",
       "4  Pokemon Red/Pokemon Blue       GB           1996.0  Role-Playing     11.27   \n",
       "\n",
       "   EU_sales  JP_sales  Other_sales  Critic_Score User_Score Rating  \n",
       "0     28.96      3.77         8.45          76.0          8      E  \n",
       "1      3.58      6.81         0.77           NaN        NaN    NaN  \n",
       "2     12.76      3.79         3.29          82.0        8.3      E  \n",
       "3     10.93      3.28         2.95          80.0          8      E  \n",
       "4      8.89     10.22         1.00           NaN        NaN    NaN  "
      ]
     },
     "execution_count": 84,
     "metadata": {},
     "output_type": "execute_result"
    }
   ],
   "source": [
    "df_games.head()"
   ]
  },
  {
   "cell_type": "markdown",
   "metadata": {},
   "source": [
    "Видим много пропущенных значений в столбцах Critic_Score, User_Score, Rating"
   ]
  },
  {
   "cell_type": "markdown",
   "metadata": {},
   "source": [
    "# Шаг 2. Подготовим данные"
   ]
  },
  {
   "cell_type": "markdown",
   "metadata": {},
   "source": [
    "- Заменим названия столбцов (приведем к нижнему регистру)."
   ]
  },
  {
   "cell_type": "code",
   "execution_count": 85,
   "metadata": {},
   "outputs": [
    {
     "data": {
      "text/html": [
       "<div>\n",
       "<style scoped>\n",
       "    .dataframe tbody tr th:only-of-type {\n",
       "        vertical-align: middle;\n",
       "    }\n",
       "\n",
       "    .dataframe tbody tr th {\n",
       "        vertical-align: top;\n",
       "    }\n",
       "\n",
       "    .dataframe thead th {\n",
       "        text-align: right;\n",
       "    }\n",
       "</style>\n",
       "<table border=\"1\" class=\"dataframe\">\n",
       "  <thead>\n",
       "    <tr style=\"text-align: right;\">\n",
       "      <th></th>\n",
       "      <th>name</th>\n",
       "      <th>platform</th>\n",
       "      <th>year_of_release</th>\n",
       "      <th>genre</th>\n",
       "      <th>na_sales</th>\n",
       "      <th>eu_sales</th>\n",
       "      <th>jp_sales</th>\n",
       "      <th>other_sales</th>\n",
       "      <th>critic_score</th>\n",
       "      <th>user_score</th>\n",
       "      <th>rating</th>\n",
       "    </tr>\n",
       "  </thead>\n",
       "  <tbody>\n",
       "    <tr>\n",
       "      <th>0</th>\n",
       "      <td>Wii Sports</td>\n",
       "      <td>Wii</td>\n",
       "      <td>2006.0</td>\n",
       "      <td>Sports</td>\n",
       "      <td>41.36</td>\n",
       "      <td>28.96</td>\n",
       "      <td>3.77</td>\n",
       "      <td>8.45</td>\n",
       "      <td>76.0</td>\n",
       "      <td>8</td>\n",
       "      <td>E</td>\n",
       "    </tr>\n",
       "    <tr>\n",
       "      <th>1</th>\n",
       "      <td>Super Mario Bros.</td>\n",
       "      <td>NES</td>\n",
       "      <td>1985.0</td>\n",
       "      <td>Platform</td>\n",
       "      <td>29.08</td>\n",
       "      <td>3.58</td>\n",
       "      <td>6.81</td>\n",
       "      <td>0.77</td>\n",
       "      <td>NaN</td>\n",
       "      <td>NaN</td>\n",
       "      <td>NaN</td>\n",
       "    </tr>\n",
       "    <tr>\n",
       "      <th>2</th>\n",
       "      <td>Mario Kart Wii</td>\n",
       "      <td>Wii</td>\n",
       "      <td>2008.0</td>\n",
       "      <td>Racing</td>\n",
       "      <td>15.68</td>\n",
       "      <td>12.76</td>\n",
       "      <td>3.79</td>\n",
       "      <td>3.29</td>\n",
       "      <td>82.0</td>\n",
       "      <td>8.3</td>\n",
       "      <td>E</td>\n",
       "    </tr>\n",
       "    <tr>\n",
       "      <th>3</th>\n",
       "      <td>Wii Sports Resort</td>\n",
       "      <td>Wii</td>\n",
       "      <td>2009.0</td>\n",
       "      <td>Sports</td>\n",
       "      <td>15.61</td>\n",
       "      <td>10.93</td>\n",
       "      <td>3.28</td>\n",
       "      <td>2.95</td>\n",
       "      <td>80.0</td>\n",
       "      <td>8</td>\n",
       "      <td>E</td>\n",
       "    </tr>\n",
       "    <tr>\n",
       "      <th>4</th>\n",
       "      <td>Pokemon Red/Pokemon Blue</td>\n",
       "      <td>GB</td>\n",
       "      <td>1996.0</td>\n",
       "      <td>Role-Playing</td>\n",
       "      <td>11.27</td>\n",
       "      <td>8.89</td>\n",
       "      <td>10.22</td>\n",
       "      <td>1.00</td>\n",
       "      <td>NaN</td>\n",
       "      <td>NaN</td>\n",
       "      <td>NaN</td>\n",
       "    </tr>\n",
       "  </tbody>\n",
       "</table>\n",
       "</div>"
      ],
      "text/plain": [
       "                       name platform  year_of_release         genre  na_sales  \\\n",
       "0                Wii Sports      Wii           2006.0        Sports     41.36   \n",
       "1         Super Mario Bros.      NES           1985.0      Platform     29.08   \n",
       "2            Mario Kart Wii      Wii           2008.0        Racing     15.68   \n",
       "3         Wii Sports Resort      Wii           2009.0        Sports     15.61   \n",
       "4  Pokemon Red/Pokemon Blue       GB           1996.0  Role-Playing     11.27   \n",
       "\n",
       "   eu_sales  jp_sales  other_sales  critic_score user_score rating  \n",
       "0     28.96      3.77         8.45          76.0          8      E  \n",
       "1      3.58      6.81         0.77           NaN        NaN    NaN  \n",
       "2     12.76      3.79         3.29          82.0        8.3      E  \n",
       "3     10.93      3.28         2.95          80.0          8      E  \n",
       "4      8.89     10.22         1.00           NaN        NaN    NaN  "
      ]
     },
     "execution_count": 85,
     "metadata": {},
     "output_type": "execute_result"
    }
   ],
   "source": [
    "df_games.columns = df_games.columns.str.lower()\n",
    "df_games.head()"
   ]
  },
  {
   "cell_type": "markdown",
   "metadata": {},
   "source": [
    "- В столбце user_score данные числого формата имеют тип object. Преобразуем в float64"
   ]
  },
  {
   "cell_type": "code",
   "execution_count": 86,
   "metadata": {},
   "outputs": [
    {
     "data": {
      "text/plain": [
       "array(['8', nan, '8.3', '8.5', '6.6', '8.4', '8.6', '7.7', '6.3', '7.4',\n",
       "       '8.2', '9', '7.9', '8.1', '8.7', '7.1', '3.4', '5.3', '4.8', '3.2',\n",
       "       '8.9', '6.4', '7.8', '7.5', '2.6', '7.2', '9.2', '7', '7.3', '4.3',\n",
       "       '7.6', '5.7', '5', '9.1', '6.5', 'tbd', '8.8', '6.9', '9.4', '6.8',\n",
       "       '6.1', '6.7', '5.4', '4', '4.9', '4.5', '9.3', '6.2', '4.2', '6',\n",
       "       '3.7', '4.1', '5.8', '5.6', '5.5', '4.4', '4.6', '5.9', '3.9',\n",
       "       '3.1', '2.9', '5.2', '3.3', '4.7', '5.1', '3.5', '2.5', '1.9', '3',\n",
       "       '2.7', '2.2', '2', '9.5', '2.1', '3.6', '2.8', '1.8', '3.8', '0',\n",
       "       '1.6', '9.6', '2.4', '1.7', '1.1', '0.3', '1.5', '0.7', '1.2',\n",
       "       '2.3', '0.5', '1.3', '0.2', '0.6', '1.4', '0.9', '1', '9.7'],\n",
       "      dtype=object)"
      ]
     },
     "execution_count": 86,
     "metadata": {},
     "output_type": "execute_result"
    }
   ],
   "source": [
    "#Посмотрим уникальные значения\n",
    "df_games['user_score'].unique()\n",
    "\n"
   ]
  },
  {
   "cell_type": "markdown",
   "metadata": {},
   "source": [
    "Видим пропуски и видим значение 'tbd'. TBD - to be determined. Означает что рейтинг неизвестен, так как недостаточно данных (кол-ва оценок скорее всего в нашем случае).\n",
    "Заменим tbd на NaN, так как можно посчитать такой недостаток данных как пропуск."
   ]
  },
  {
   "cell_type": "code",
   "execution_count": 87,
   "metadata": {
    "scrolled": false
   },
   "outputs": [
    {
     "name": "stdout",
     "output_type": "stream",
     "text": [
      "<class 'pandas.core.frame.DataFrame'>\n",
      "RangeIndex: 16715 entries, 0 to 16714\n",
      "Data columns (total 11 columns):\n",
      " #   Column           Non-Null Count  Dtype  \n",
      "---  ------           --------------  -----  \n",
      " 0   name             16713 non-null  object \n",
      " 1   platform         16715 non-null  object \n",
      " 2   year_of_release  16446 non-null  float64\n",
      " 3   genre            16713 non-null  object \n",
      " 4   na_sales         16715 non-null  float64\n",
      " 5   eu_sales         16715 non-null  float64\n",
      " 6   jp_sales         16715 non-null  float64\n",
      " 7   other_sales      16715 non-null  float64\n",
      " 8   critic_score     8137 non-null   float64\n",
      " 9   user_score       7590 non-null   float64\n",
      " 10  rating           9949 non-null   object \n",
      "dtypes: float64(7), object(4)\n",
      "memory usage: 1.4+ MB\n"
     ]
    }
   ],
   "source": [
    "df_games['user_score'] = df_games['user_score'].replace('tbd', np.NaN)\n",
    "\n",
    "#Теперь преобразуем данные в float64\n",
    "df_games['user_score'] = df_games['user_score'].astype('float')\n",
    "\n",
    "#Проверим\n",
    "df_games.info()\n"
   ]
  },
  {
   "cell_type": "code",
   "execution_count": 88,
   "metadata": {
    "scrolled": true
   },
   "outputs": [
    {
     "name": "stdout",
     "output_type": "stream",
     "text": [
      "<class 'pandas.core.frame.DataFrame'>\n",
      "RangeIndex: 16715 entries, 0 to 16714\n",
      "Data columns (total 11 columns):\n",
      " #   Column           Non-Null Count  Dtype         \n",
      "---  ------           --------------  -----         \n",
      " 0   name             16713 non-null  object        \n",
      " 1   platform         16715 non-null  object        \n",
      " 2   year_of_release  16446 non-null  datetime64[ns]\n",
      " 3   genre            16713 non-null  object        \n",
      " 4   na_sales         16715 non-null  float64       \n",
      " 5   eu_sales         16715 non-null  float64       \n",
      " 6   jp_sales         16715 non-null  float64       \n",
      " 7   other_sales      16715 non-null  float64       \n",
      " 8   critic_score     8137 non-null   float64       \n",
      " 9   user_score       7590 non-null   float64       \n",
      " 10  rating           9949 non-null   object        \n",
      "dtypes: datetime64[ns](1), float64(6), object(4)\n",
      "memory usage: 1.4+ MB\n"
     ]
    }
   ],
   "source": [
    "#Также поменяем тип данных в столбце год выпуска, оставим только год в формате datetime\n",
    "df_games['year_of_release'] = pd.to_datetime(df_games['year_of_release'], format='%Y')\n",
    "\n",
    "\n",
    "\n",
    "df_games.info()"
   ]
  },
  {
   "cell_type": "markdown",
   "metadata": {},
   "source": [
    "Не понял как прильно заменить пропуски в столбце с годом выпуска. Решил оставить , посчитав что сильной статической значимости эти данные не понесут и эти данные нельзя восстановить."
   ]
  },
  {
   "cell_type": "markdown",
   "metadata": {},
   "source": [
    "Видим много пропущенных значений в столбцах Critic_Score, User_Score, Rating"
   ]
  },
  {
   "cell_type": "code",
   "execution_count": 91,
   "metadata": {},
   "outputs": [
    {
     "data": {
      "text/plain": [
       "array([76., nan, 82., 80., 89., 58., 87., 91., 61., 97., 95., 77., 88.,\n",
       "       83., 94., 93., 85., 86., 98., 96., 90., 84., 73., 74., 78., 92.,\n",
       "       71., 72., 68., 62., 49., 67., 81., 66., 56., 79., 70., 59., 64.,\n",
       "       75., 60., 63., 69., 50., 25., 42., 44., 55., 48., 57., 29., 47.,\n",
       "       65., 54., 20., 53., 37., 38., 33., 52., 30., 32., 43., 45., 51.,\n",
       "       40., 46., 39., 34., 35., 41., 36., 28., 31., 27., 26., 19., 23.,\n",
       "       24., 21., 17., 22., 13.])"
      ]
     },
     "execution_count": 91,
     "metadata": {},
     "output_type": "execute_result"
    }
   ],
   "source": [
    "#Теперь проверим столбец critic_score на уникальные значения\n",
    "df_games['critic_score'].unique()\n",
    "\n"
   ]
  },
  {
   "cell_type": "markdown",
   "metadata": {},
   "source": [
    "Непонятных значений нет, только NaN."
   ]
  },
  {
   "cell_type": "markdown",
   "metadata": {},
   "source": [
    "- Теперь обработаем пропуски в стобцах critic_score, user_score и rating. Значения в этих стобцах (оценки и рейтинг) определяются количеством оценок, соответсвенно пропуски можно объяснить недостаточным количеством данных."
   ]
  },
  {
   "cell_type": "code",
   "execution_count": 92,
   "metadata": {},
   "outputs": [],
   "source": [
    "#Заполним пропуски в столбце 'rating' значением 'unrated'\n",
    "df_games['rating'] = df_games['rating'].fillna('unrated')\n",
    "\n",
    "#Заполним пропуски в столбце 'user_score' и передадим значение '0'\n",
    "df_games['user_score'] = df_games['user_score'].fillna('0')\n",
    "\n",
    "#То же самое и для столбца 'critic_score'\n",
    "df_games['critic_score'] = df_games['critic_score'].fillna('0')"
   ]
  },
  {
   "cell_type": "code",
   "execution_count": 93,
   "metadata": {
    "scrolled": true
   },
   "outputs": [
    {
     "data": {
      "text/plain": [
       "name                 2\n",
       "platform             0\n",
       "year_of_release    269\n",
       "genre                2\n",
       "na_sales             0\n",
       "eu_sales             0\n",
       "jp_sales             0\n",
       "other_sales          0\n",
       "critic_score         0\n",
       "user_score           0\n",
       "rating               0\n",
       "dtype: int64"
      ]
     },
     "execution_count": 93,
     "metadata": {},
     "output_type": "execute_result"
    }
   ],
   "source": [
    "#Проверим результат \n",
    "df_games.isna().sum()"
   ]
  },
  {
   "cell_type": "markdown",
   "metadata": {},
   "source": [
    "  Также еще остались пропущенные значения в столбцах name, genre и year_of_release. \n",
    "  Данные неизвестны, поэтому обработаем их так:"
   ]
  },
  {
   "cell_type": "code",
   "execution_count": 94,
   "metadata": {},
   "outputs": [],
   "source": [
    "#Заполним пропуски в столбце 'name' значением 'unknown'\n",
    "df_games['name'] = df_games['name'].fillna('unknown')\n",
    "\n",
    "#Заполним пропуски в столбце 'genre' и передадим значение 'unknown'\n",
    "df_games['genre'] = df_games['genre'].fillna('unknown')\n"
   ]
  },
  {
   "cell_type": "code",
   "execution_count": 95,
   "metadata": {
    "scrolled": true
   },
   "outputs": [
    {
     "name": "stdout",
     "output_type": "stream",
     "text": [
      "<class 'pandas.core.frame.DataFrame'>\n",
      "RangeIndex: 16715 entries, 0 to 16714\n",
      "Data columns (total 11 columns):\n",
      " #   Column           Non-Null Count  Dtype         \n",
      "---  ------           --------------  -----         \n",
      " 0   name             16715 non-null  object        \n",
      " 1   platform         16715 non-null  object        \n",
      " 2   year_of_release  16446 non-null  datetime64[ns]\n",
      " 3   genre            16715 non-null  object        \n",
      " 4   na_sales         16715 non-null  float64       \n",
      " 5   eu_sales         16715 non-null  float64       \n",
      " 6   jp_sales         16715 non-null  float64       \n",
      " 7   other_sales      16715 non-null  float64       \n",
      " 8   critic_score     16715 non-null  int64         \n",
      " 9   user_score       16715 non-null  float64       \n",
      " 10  rating           16715 non-null  object        \n",
      "dtypes: datetime64[ns](1), float64(5), int64(1), object(4)\n",
      "memory usage: 1.4+ MB\n"
     ]
    }
   ],
   "source": [
    "#Поменяем тип данных на целые числа в столбце с оценкой критиков и тип float для столбца с оценкой пользователя\n",
    "df_games['critic_score'] = df_games['critic_score'].astype('int')\n",
    "df_games['user_score'] = df_games['user_score'].astype('float')\n",
    "df_games.info()"
   ]
  },
  {
   "cell_type": "code",
   "execution_count": 96,
   "metadata": {},
   "outputs": [
    {
     "data": {
      "text/plain": [
       "name                 0\n",
       "platform             0\n",
       "year_of_release    269\n",
       "genre                0\n",
       "na_sales             0\n",
       "eu_sales             0\n",
       "jp_sales             0\n",
       "other_sales          0\n",
       "critic_score         0\n",
       "user_score           0\n",
       "rating               0\n",
       "dtype: int64"
      ]
     },
     "execution_count": 96,
     "metadata": {},
     "output_type": "execute_result"
    }
   ],
   "source": [
    "#Проверим результат \n",
    "df_games.isna().sum()"
   ]
  },
  {
   "cell_type": "markdown",
   "metadata": {},
   "source": [
    "Обработали все пропуски!  На среднее и медианное значение в нашем случае не надо менять, по моему мнению, так как это сильно исказит выводы в нашем исследовании. Поэтому заменили пропуски в данных '0'-значением или условно '0' ('unknown'). Например, в столбцах 'rating ', 'critic_score' и 'user_score' недостаточно данных для оценки или рейтинга, поэтому будем понимать почему там '0'.\n",
    "Также поменяли тип данных в столбцах, где это необходимо."
   ]
  },
  {
   "cell_type": "markdown",
   "metadata": {},
   "source": [
    "- Создадим новый столбец, где посчитаем суммарные продажи во всех регионах для каждой игры."
   ]
  },
  {
   "cell_type": "code",
   "execution_count": 97,
   "metadata": {},
   "outputs": [],
   "source": [
    "df_games['total_sales'] = df_games['na_sales'] + df_games['eu_sales'] + df_games['jp_sales'] + df_games['other_sales']"
   ]
  },
  {
   "cell_type": "code",
   "execution_count": 98,
   "metadata": {
    "scrolled": false
   },
   "outputs": [
    {
     "data": {
      "text/html": [
       "<div>\n",
       "<style scoped>\n",
       "    .dataframe tbody tr th:only-of-type {\n",
       "        vertical-align: middle;\n",
       "    }\n",
       "\n",
       "    .dataframe tbody tr th {\n",
       "        vertical-align: top;\n",
       "    }\n",
       "\n",
       "    .dataframe thead th {\n",
       "        text-align: right;\n",
       "    }\n",
       "</style>\n",
       "<table border=\"1\" class=\"dataframe\">\n",
       "  <thead>\n",
       "    <tr style=\"text-align: right;\">\n",
       "      <th></th>\n",
       "      <th>name</th>\n",
       "      <th>platform</th>\n",
       "      <th>year_of_release</th>\n",
       "      <th>genre</th>\n",
       "      <th>na_sales</th>\n",
       "      <th>eu_sales</th>\n",
       "      <th>jp_sales</th>\n",
       "      <th>other_sales</th>\n",
       "      <th>critic_score</th>\n",
       "      <th>user_score</th>\n",
       "      <th>rating</th>\n",
       "      <th>total_sales</th>\n",
       "    </tr>\n",
       "  </thead>\n",
       "  <tbody>\n",
       "    <tr>\n",
       "      <th>0</th>\n",
       "      <td>Wii Sports</td>\n",
       "      <td>Wii</td>\n",
       "      <td>2006-01-01</td>\n",
       "      <td>Sports</td>\n",
       "      <td>41.36</td>\n",
       "      <td>28.96</td>\n",
       "      <td>3.77</td>\n",
       "      <td>8.45</td>\n",
       "      <td>76</td>\n",
       "      <td>8.0</td>\n",
       "      <td>E</td>\n",
       "      <td>82.54</td>\n",
       "    </tr>\n",
       "    <tr>\n",
       "      <th>1</th>\n",
       "      <td>Super Mario Bros.</td>\n",
       "      <td>NES</td>\n",
       "      <td>1985-01-01</td>\n",
       "      <td>Platform</td>\n",
       "      <td>29.08</td>\n",
       "      <td>3.58</td>\n",
       "      <td>6.81</td>\n",
       "      <td>0.77</td>\n",
       "      <td>0</td>\n",
       "      <td>0.0</td>\n",
       "      <td>unrated</td>\n",
       "      <td>40.24</td>\n",
       "    </tr>\n",
       "    <tr>\n",
       "      <th>2</th>\n",
       "      <td>Mario Kart Wii</td>\n",
       "      <td>Wii</td>\n",
       "      <td>2008-01-01</td>\n",
       "      <td>Racing</td>\n",
       "      <td>15.68</td>\n",
       "      <td>12.76</td>\n",
       "      <td>3.79</td>\n",
       "      <td>3.29</td>\n",
       "      <td>82</td>\n",
       "      <td>8.3</td>\n",
       "      <td>E</td>\n",
       "      <td>35.52</td>\n",
       "    </tr>\n",
       "    <tr>\n",
       "      <th>3</th>\n",
       "      <td>Wii Sports Resort</td>\n",
       "      <td>Wii</td>\n",
       "      <td>2009-01-01</td>\n",
       "      <td>Sports</td>\n",
       "      <td>15.61</td>\n",
       "      <td>10.93</td>\n",
       "      <td>3.28</td>\n",
       "      <td>2.95</td>\n",
       "      <td>80</td>\n",
       "      <td>8.0</td>\n",
       "      <td>E</td>\n",
       "      <td>32.77</td>\n",
       "    </tr>\n",
       "    <tr>\n",
       "      <th>4</th>\n",
       "      <td>Pokemon Red/Pokemon Blue</td>\n",
       "      <td>GB</td>\n",
       "      <td>1996-01-01</td>\n",
       "      <td>Role-Playing</td>\n",
       "      <td>11.27</td>\n",
       "      <td>8.89</td>\n",
       "      <td>10.22</td>\n",
       "      <td>1.00</td>\n",
       "      <td>0</td>\n",
       "      <td>0.0</td>\n",
       "      <td>unrated</td>\n",
       "      <td>31.38</td>\n",
       "    </tr>\n",
       "    <tr>\n",
       "      <th>5</th>\n",
       "      <td>Tetris</td>\n",
       "      <td>GB</td>\n",
       "      <td>1989-01-01</td>\n",
       "      <td>Puzzle</td>\n",
       "      <td>23.20</td>\n",
       "      <td>2.26</td>\n",
       "      <td>4.22</td>\n",
       "      <td>0.58</td>\n",
       "      <td>0</td>\n",
       "      <td>0.0</td>\n",
       "      <td>unrated</td>\n",
       "      <td>30.26</td>\n",
       "    </tr>\n",
       "    <tr>\n",
       "      <th>6</th>\n",
       "      <td>New Super Mario Bros.</td>\n",
       "      <td>DS</td>\n",
       "      <td>2006-01-01</td>\n",
       "      <td>Platform</td>\n",
       "      <td>11.28</td>\n",
       "      <td>9.14</td>\n",
       "      <td>6.50</td>\n",
       "      <td>2.88</td>\n",
       "      <td>89</td>\n",
       "      <td>8.5</td>\n",
       "      <td>E</td>\n",
       "      <td>29.80</td>\n",
       "    </tr>\n",
       "    <tr>\n",
       "      <th>7</th>\n",
       "      <td>Wii Play</td>\n",
       "      <td>Wii</td>\n",
       "      <td>2006-01-01</td>\n",
       "      <td>Misc</td>\n",
       "      <td>13.96</td>\n",
       "      <td>9.18</td>\n",
       "      <td>2.93</td>\n",
       "      <td>2.84</td>\n",
       "      <td>58</td>\n",
       "      <td>6.6</td>\n",
       "      <td>E</td>\n",
       "      <td>28.91</td>\n",
       "    </tr>\n",
       "    <tr>\n",
       "      <th>8</th>\n",
       "      <td>New Super Mario Bros. Wii</td>\n",
       "      <td>Wii</td>\n",
       "      <td>2009-01-01</td>\n",
       "      <td>Platform</td>\n",
       "      <td>14.44</td>\n",
       "      <td>6.94</td>\n",
       "      <td>4.70</td>\n",
       "      <td>2.24</td>\n",
       "      <td>87</td>\n",
       "      <td>8.4</td>\n",
       "      <td>E</td>\n",
       "      <td>28.32</td>\n",
       "    </tr>\n",
       "    <tr>\n",
       "      <th>9</th>\n",
       "      <td>Duck Hunt</td>\n",
       "      <td>NES</td>\n",
       "      <td>1984-01-01</td>\n",
       "      <td>Shooter</td>\n",
       "      <td>26.93</td>\n",
       "      <td>0.63</td>\n",
       "      <td>0.28</td>\n",
       "      <td>0.47</td>\n",
       "      <td>0</td>\n",
       "      <td>0.0</td>\n",
       "      <td>unrated</td>\n",
       "      <td>28.31</td>\n",
       "    </tr>\n",
       "  </tbody>\n",
       "</table>\n",
       "</div>"
      ],
      "text/plain": [
       "                        name platform year_of_release         genre  na_sales  \\\n",
       "0                 Wii Sports      Wii      2006-01-01        Sports     41.36   \n",
       "1          Super Mario Bros.      NES      1985-01-01      Platform     29.08   \n",
       "2             Mario Kart Wii      Wii      2008-01-01        Racing     15.68   \n",
       "3          Wii Sports Resort      Wii      2009-01-01        Sports     15.61   \n",
       "4   Pokemon Red/Pokemon Blue       GB      1996-01-01  Role-Playing     11.27   \n",
       "5                     Tetris       GB      1989-01-01        Puzzle     23.20   \n",
       "6      New Super Mario Bros.       DS      2006-01-01      Platform     11.28   \n",
       "7                   Wii Play      Wii      2006-01-01          Misc     13.96   \n",
       "8  New Super Mario Bros. Wii      Wii      2009-01-01      Platform     14.44   \n",
       "9                  Duck Hunt      NES      1984-01-01       Shooter     26.93   \n",
       "\n",
       "   eu_sales  jp_sales  other_sales  critic_score  user_score   rating  \\\n",
       "0     28.96      3.77         8.45            76         8.0        E   \n",
       "1      3.58      6.81         0.77             0         0.0  unrated   \n",
       "2     12.76      3.79         3.29            82         8.3        E   \n",
       "3     10.93      3.28         2.95            80         8.0        E   \n",
       "4      8.89     10.22         1.00             0         0.0  unrated   \n",
       "5      2.26      4.22         0.58             0         0.0  unrated   \n",
       "6      9.14      6.50         2.88            89         8.5        E   \n",
       "7      9.18      2.93         2.84            58         6.6        E   \n",
       "8      6.94      4.70         2.24            87         8.4        E   \n",
       "9      0.63      0.28         0.47             0         0.0  unrated   \n",
       "\n",
       "   total_sales  \n",
       "0        82.54  \n",
       "1        40.24  \n",
       "2        35.52  \n",
       "3        32.77  \n",
       "4        31.38  \n",
       "5        30.26  \n",
       "6        29.80  \n",
       "7        28.91  \n",
       "8        28.32  \n",
       "9        28.31  "
      ]
     },
     "execution_count": 98,
     "metadata": {},
     "output_type": "execute_result"
    }
   ],
   "source": [
    "df_games.head(10)"
   ]
  },
  {
   "cell_type": "markdown",
   "metadata": {},
   "source": [
    "Выводы после обработки:\n",
    "    \n",
    "- Заменили названия столбцов, привели к нижнему регистру;\n",
    "    \n",
    "- Преобразовали данные в нужные типы:\n",
    "'year_of_release' был преобразован в тип данных datetime;\n",
    "'critic_score' и 'user_score' были преобразованы в числовой тип данных;\n",
    "    \n",
    "- Пропуски в столбцах 'critic_score', 'user_score', 'rating' поменяли на '0', так как заполнение их средними или медианными значениями может исказить анализ. Обработали аббревиатуру 'tbd' в столбце пользовательской оценки также заменили на '0', так как этот показатель означает нехватку оценок;\n",
    "    \n",
    "- В столбцах 'genre' и 'name' пропуски заполнили значением 'unknown';\n",
    "    \n",
    "- Создали новый столбец 'total_sales', где посчитали сумму всех продаж по регионам.\n",
    "\n",
    "\n"
   ]
  },
  {
   "cell_type": "code",
   "execution_count": 99,
   "metadata": {},
   "outputs": [
    {
     "data": {
      "text/plain": [
       "0"
      ]
     },
     "execution_count": 99,
     "metadata": {},
     "output_type": "execute_result"
    }
   ],
   "source": [
    "df_games.duplicated().sum()"
   ]
  },
  {
   "cell_type": "markdown",
   "metadata": {},
   "source": [
    "Полных дубликатов нет."
   ]
  },
  {
   "cell_type": "code",
   "execution_count": 100,
   "metadata": {
    "scrolled": true
   },
   "outputs": [
    {
     "data": {
      "text/html": [
       "<div>\n",
       "<style scoped>\n",
       "    .dataframe tbody tr th:only-of-type {\n",
       "        vertical-align: middle;\n",
       "    }\n",
       "\n",
       "    .dataframe tbody tr th {\n",
       "        vertical-align: top;\n",
       "    }\n",
       "\n",
       "    .dataframe thead th {\n",
       "        text-align: right;\n",
       "    }\n",
       "</style>\n",
       "<table border=\"1\" class=\"dataframe\">\n",
       "  <thead>\n",
       "    <tr style=\"text-align: right;\">\n",
       "      <th></th>\n",
       "      <th>name</th>\n",
       "      <th>platform</th>\n",
       "      <th>year_of_release</th>\n",
       "      <th>genre</th>\n",
       "      <th>na_sales</th>\n",
       "      <th>eu_sales</th>\n",
       "      <th>jp_sales</th>\n",
       "      <th>other_sales</th>\n",
       "      <th>critic_score</th>\n",
       "      <th>user_score</th>\n",
       "      <th>rating</th>\n",
       "      <th>total_sales</th>\n",
       "    </tr>\n",
       "  </thead>\n",
       "  <tbody>\n",
       "    <tr>\n",
       "      <th>16230</th>\n",
       "      <td>Madden NFL 13</td>\n",
       "      <td>PS3</td>\n",
       "      <td>2012-01-01</td>\n",
       "      <td>Sports</td>\n",
       "      <td>0.0</td>\n",
       "      <td>0.01</td>\n",
       "      <td>0.00</td>\n",
       "      <td>0.00</td>\n",
       "      <td>83</td>\n",
       "      <td>5.5</td>\n",
       "      <td>E</td>\n",
       "      <td>0.01</td>\n",
       "    </tr>\n",
       "    <tr>\n",
       "      <th>1591</th>\n",
       "      <td>Need for Speed: Most Wanted</td>\n",
       "      <td>X360</td>\n",
       "      <td>2005-01-01</td>\n",
       "      <td>Racing</td>\n",
       "      <td>1.0</td>\n",
       "      <td>0.13</td>\n",
       "      <td>0.02</td>\n",
       "      <td>0.10</td>\n",
       "      <td>83</td>\n",
       "      <td>8.5</td>\n",
       "      <td>T</td>\n",
       "      <td>1.25</td>\n",
       "    </tr>\n",
       "    <tr>\n",
       "      <th>11715</th>\n",
       "      <td>Need for Speed: Most Wanted</td>\n",
       "      <td>PC</td>\n",
       "      <td>2012-01-01</td>\n",
       "      <td>Racing</td>\n",
       "      <td>0.0</td>\n",
       "      <td>0.06</td>\n",
       "      <td>0.00</td>\n",
       "      <td>0.02</td>\n",
       "      <td>82</td>\n",
       "      <td>8.5</td>\n",
       "      <td>T</td>\n",
       "      <td>0.08</td>\n",
       "    </tr>\n",
       "    <tr>\n",
       "      <th>4127</th>\n",
       "      <td>Sonic the Hedgehog</td>\n",
       "      <td>PS3</td>\n",
       "      <td>NaT</td>\n",
       "      <td>Platform</td>\n",
       "      <td>0.0</td>\n",
       "      <td>0.48</td>\n",
       "      <td>0.00</td>\n",
       "      <td>0.00</td>\n",
       "      <td>43</td>\n",
       "      <td>4.1</td>\n",
       "      <td>E10+</td>\n",
       "      <td>0.48</td>\n",
       "    </tr>\n",
       "    <tr>\n",
       "      <th>14244</th>\n",
       "      <td>unknown</td>\n",
       "      <td>GEN</td>\n",
       "      <td>1993-01-01</td>\n",
       "      <td>unknown</td>\n",
       "      <td>0.0</td>\n",
       "      <td>0.00</td>\n",
       "      <td>0.03</td>\n",
       "      <td>0.00</td>\n",
       "      <td>0</td>\n",
       "      <td>0.0</td>\n",
       "      <td>unrated</td>\n",
       "      <td>0.03</td>\n",
       "    </tr>\n",
       "  </tbody>\n",
       "</table>\n",
       "</div>"
      ],
      "text/plain": [
       "                              name platform year_of_release     genre  \\\n",
       "16230                Madden NFL 13      PS3      2012-01-01    Sports   \n",
       "1591   Need for Speed: Most Wanted     X360      2005-01-01    Racing   \n",
       "11715  Need for Speed: Most Wanted       PC      2012-01-01    Racing   \n",
       "4127            Sonic the Hedgehog      PS3             NaT  Platform   \n",
       "14244                      unknown      GEN      1993-01-01   unknown   \n",
       "\n",
       "       na_sales  eu_sales  jp_sales  other_sales  critic_score  user_score  \\\n",
       "16230       0.0      0.01      0.00         0.00            83         5.5   \n",
       "1591        1.0      0.13      0.02         0.10            83         8.5   \n",
       "11715       0.0      0.06      0.00         0.02            82         8.5   \n",
       "4127        0.0      0.48      0.00         0.00            43         4.1   \n",
       "14244       0.0      0.00      0.03         0.00             0         0.0   \n",
       "\n",
       "        rating  total_sales  \n",
       "16230        E         0.01  \n",
       "1591         T         1.25  \n",
       "11715        T         0.08  \n",
       "4127      E10+         0.48  \n",
       "14244  unrated         0.03  "
      ]
     },
     "metadata": {},
     "output_type": "display_data"
    }
   ],
   "source": [
    "#Посмотрим явные дубликаты для пары Имя-Платформа\n",
    "duplicates = df_games[df_games.duplicated(subset=['name', 'platform'],keep='first')]\n",
    "display(duplicates.sort_values(by='name'))"
   ]
  },
  {
   "cell_type": "markdown",
   "metadata": {},
   "source": [
    "Видим дубликаты игр Madden, Sonic,  Unknown и NFS.\n",
    "Следующим шагом удалим явные дубликаты."
   ]
  },
  {
   "cell_type": "code",
   "execution_count": 101,
   "metadata": {},
   "outputs": [
    {
     "data": {
      "text/html": [
       "<div>\n",
       "<style scoped>\n",
       "    .dataframe tbody tr th:only-of-type {\n",
       "        vertical-align: middle;\n",
       "    }\n",
       "\n",
       "    .dataframe tbody tr th {\n",
       "        vertical-align: top;\n",
       "    }\n",
       "\n",
       "    .dataframe thead th {\n",
       "        text-align: right;\n",
       "    }\n",
       "</style>\n",
       "<table border=\"1\" class=\"dataframe\">\n",
       "  <thead>\n",
       "    <tr style=\"text-align: right;\">\n",
       "      <th></th>\n",
       "      <th>name</th>\n",
       "      <th>platform</th>\n",
       "      <th>year_of_release</th>\n",
       "      <th>genre</th>\n",
       "      <th>na_sales</th>\n",
       "      <th>eu_sales</th>\n",
       "      <th>jp_sales</th>\n",
       "      <th>other_sales</th>\n",
       "      <th>critic_score</th>\n",
       "      <th>user_score</th>\n",
       "      <th>rating</th>\n",
       "      <th>total_sales</th>\n",
       "    </tr>\n",
       "  </thead>\n",
       "  <tbody>\n",
       "    <tr>\n",
       "      <th>0</th>\n",
       "      <td>Wii Sports</td>\n",
       "      <td>Wii</td>\n",
       "      <td>2006-01-01</td>\n",
       "      <td>Sports</td>\n",
       "      <td>41.36</td>\n",
       "      <td>28.96</td>\n",
       "      <td>3.77</td>\n",
       "      <td>8.45</td>\n",
       "      <td>76</td>\n",
       "      <td>8.0</td>\n",
       "      <td>E</td>\n",
       "      <td>82.54</td>\n",
       "    </tr>\n",
       "    <tr>\n",
       "      <th>1</th>\n",
       "      <td>Super Mario Bros.</td>\n",
       "      <td>NES</td>\n",
       "      <td>1985-01-01</td>\n",
       "      <td>Platform</td>\n",
       "      <td>29.08</td>\n",
       "      <td>3.58</td>\n",
       "      <td>6.81</td>\n",
       "      <td>0.77</td>\n",
       "      <td>0</td>\n",
       "      <td>0.0</td>\n",
       "      <td>unrated</td>\n",
       "      <td>40.24</td>\n",
       "    </tr>\n",
       "    <tr>\n",
       "      <th>2</th>\n",
       "      <td>Mario Kart Wii</td>\n",
       "      <td>Wii</td>\n",
       "      <td>2008-01-01</td>\n",
       "      <td>Racing</td>\n",
       "      <td>15.68</td>\n",
       "      <td>12.76</td>\n",
       "      <td>3.79</td>\n",
       "      <td>3.29</td>\n",
       "      <td>82</td>\n",
       "      <td>8.3</td>\n",
       "      <td>E</td>\n",
       "      <td>35.52</td>\n",
       "    </tr>\n",
       "    <tr>\n",
       "      <th>3</th>\n",
       "      <td>Wii Sports Resort</td>\n",
       "      <td>Wii</td>\n",
       "      <td>2009-01-01</td>\n",
       "      <td>Sports</td>\n",
       "      <td>15.61</td>\n",
       "      <td>10.93</td>\n",
       "      <td>3.28</td>\n",
       "      <td>2.95</td>\n",
       "      <td>80</td>\n",
       "      <td>8.0</td>\n",
       "      <td>E</td>\n",
       "      <td>32.77</td>\n",
       "    </tr>\n",
       "    <tr>\n",
       "      <th>4</th>\n",
       "      <td>Pokemon Red/Pokemon Blue</td>\n",
       "      <td>GB</td>\n",
       "      <td>1996-01-01</td>\n",
       "      <td>Role-Playing</td>\n",
       "      <td>11.27</td>\n",
       "      <td>8.89</td>\n",
       "      <td>10.22</td>\n",
       "      <td>1.00</td>\n",
       "      <td>0</td>\n",
       "      <td>0.0</td>\n",
       "      <td>unrated</td>\n",
       "      <td>31.38</td>\n",
       "    </tr>\n",
       "    <tr>\n",
       "      <th>...</th>\n",
       "      <td>...</td>\n",
       "      <td>...</td>\n",
       "      <td>...</td>\n",
       "      <td>...</td>\n",
       "      <td>...</td>\n",
       "      <td>...</td>\n",
       "      <td>...</td>\n",
       "      <td>...</td>\n",
       "      <td>...</td>\n",
       "      <td>...</td>\n",
       "      <td>...</td>\n",
       "      <td>...</td>\n",
       "    </tr>\n",
       "    <tr>\n",
       "      <th>16705</th>\n",
       "      <td>Samurai Warriors: Sanada Maru</td>\n",
       "      <td>PS3</td>\n",
       "      <td>2016-01-01</td>\n",
       "      <td>Action</td>\n",
       "      <td>0.00</td>\n",
       "      <td>0.00</td>\n",
       "      <td>0.01</td>\n",
       "      <td>0.00</td>\n",
       "      <td>0</td>\n",
       "      <td>0.0</td>\n",
       "      <td>unrated</td>\n",
       "      <td>0.01</td>\n",
       "    </tr>\n",
       "    <tr>\n",
       "      <th>16706</th>\n",
       "      <td>LMA Manager 2007</td>\n",
       "      <td>X360</td>\n",
       "      <td>2006-01-01</td>\n",
       "      <td>Sports</td>\n",
       "      <td>0.00</td>\n",
       "      <td>0.01</td>\n",
       "      <td>0.00</td>\n",
       "      <td>0.00</td>\n",
       "      <td>0</td>\n",
       "      <td>0.0</td>\n",
       "      <td>unrated</td>\n",
       "      <td>0.01</td>\n",
       "    </tr>\n",
       "    <tr>\n",
       "      <th>16707</th>\n",
       "      <td>Haitaka no Psychedelica</td>\n",
       "      <td>PSV</td>\n",
       "      <td>2016-01-01</td>\n",
       "      <td>Adventure</td>\n",
       "      <td>0.00</td>\n",
       "      <td>0.00</td>\n",
       "      <td>0.01</td>\n",
       "      <td>0.00</td>\n",
       "      <td>0</td>\n",
       "      <td>0.0</td>\n",
       "      <td>unrated</td>\n",
       "      <td>0.01</td>\n",
       "    </tr>\n",
       "    <tr>\n",
       "      <th>16708</th>\n",
       "      <td>Spirits &amp; Spells</td>\n",
       "      <td>GBA</td>\n",
       "      <td>2003-01-01</td>\n",
       "      <td>Platform</td>\n",
       "      <td>0.01</td>\n",
       "      <td>0.00</td>\n",
       "      <td>0.00</td>\n",
       "      <td>0.00</td>\n",
       "      <td>0</td>\n",
       "      <td>0.0</td>\n",
       "      <td>unrated</td>\n",
       "      <td>0.01</td>\n",
       "    </tr>\n",
       "    <tr>\n",
       "      <th>16709</th>\n",
       "      <td>Winning Post 8 2016</td>\n",
       "      <td>PSV</td>\n",
       "      <td>2016-01-01</td>\n",
       "      <td>Simulation</td>\n",
       "      <td>0.00</td>\n",
       "      <td>0.00</td>\n",
       "      <td>0.01</td>\n",
       "      <td>0.00</td>\n",
       "      <td>0</td>\n",
       "      <td>0.0</td>\n",
       "      <td>unrated</td>\n",
       "      <td>0.01</td>\n",
       "    </tr>\n",
       "  </tbody>\n",
       "</table>\n",
       "<p>16710 rows × 12 columns</p>\n",
       "</div>"
      ],
      "text/plain": [
       "                                name platform year_of_release         genre  \\\n",
       "0                         Wii Sports      Wii      2006-01-01        Sports   \n",
       "1                  Super Mario Bros.      NES      1985-01-01      Platform   \n",
       "2                     Mario Kart Wii      Wii      2008-01-01        Racing   \n",
       "3                  Wii Sports Resort      Wii      2009-01-01        Sports   \n",
       "4           Pokemon Red/Pokemon Blue       GB      1996-01-01  Role-Playing   \n",
       "...                              ...      ...             ...           ...   \n",
       "16705  Samurai Warriors: Sanada Maru      PS3      2016-01-01        Action   \n",
       "16706               LMA Manager 2007     X360      2006-01-01        Sports   \n",
       "16707        Haitaka no Psychedelica      PSV      2016-01-01     Adventure   \n",
       "16708               Spirits & Spells      GBA      2003-01-01      Platform   \n",
       "16709            Winning Post 8 2016      PSV      2016-01-01    Simulation   \n",
       "\n",
       "       na_sales  eu_sales  jp_sales  other_sales  critic_score  user_score  \\\n",
       "0         41.36     28.96      3.77         8.45            76         8.0   \n",
       "1         29.08      3.58      6.81         0.77             0         0.0   \n",
       "2         15.68     12.76      3.79         3.29            82         8.3   \n",
       "3         15.61     10.93      3.28         2.95            80         8.0   \n",
       "4         11.27      8.89     10.22         1.00             0         0.0   \n",
       "...         ...       ...       ...          ...           ...         ...   \n",
       "16705      0.00      0.00      0.01         0.00             0         0.0   \n",
       "16706      0.00      0.01      0.00         0.00             0         0.0   \n",
       "16707      0.00      0.00      0.01         0.00             0         0.0   \n",
       "16708      0.01      0.00      0.00         0.00             0         0.0   \n",
       "16709      0.00      0.00      0.01         0.00             0         0.0   \n",
       "\n",
       "        rating  total_sales  \n",
       "0            E        82.54  \n",
       "1      unrated        40.24  \n",
       "2            E        35.52  \n",
       "3            E        32.77  \n",
       "4      unrated        31.38  \n",
       "...        ...          ...  \n",
       "16705  unrated         0.01  \n",
       "16706  unrated         0.01  \n",
       "16707  unrated         0.01  \n",
       "16708  unrated         0.01  \n",
       "16709  unrated         0.01  \n",
       "\n",
       "[16710 rows x 12 columns]"
      ]
     },
     "execution_count": 101,
     "metadata": {},
     "output_type": "execute_result"
    }
   ],
   "source": [
    "df_games.drop_duplicates(subset = ['name', 'platform'], keep = 'first').reset_index(drop=True)\n"
   ]
  },
  {
   "cell_type": "markdown",
   "metadata": {},
   "source": [
    "Удалили явные дубликаты, строк стало 16710, а было 16715"
   ]
  },
  {
   "cell_type": "code",
   "execution_count": 102,
   "metadata": {},
   "outputs": [
    {
     "data": {
      "text/html": [
       "<div>\n",
       "<style scoped>\n",
       "    .dataframe tbody tr th:only-of-type {\n",
       "        vertical-align: middle;\n",
       "    }\n",
       "\n",
       "    .dataframe tbody tr th {\n",
       "        vertical-align: top;\n",
       "    }\n",
       "\n",
       "    .dataframe thead th {\n",
       "        text-align: right;\n",
       "    }\n",
       "</style>\n",
       "<table border=\"1\" class=\"dataframe\">\n",
       "  <thead>\n",
       "    <tr style=\"text-align: right;\">\n",
       "      <th></th>\n",
       "      <th>name</th>\n",
       "      <th>platform</th>\n",
       "      <th>year_of_release</th>\n",
       "      <th>genre</th>\n",
       "      <th>na_sales</th>\n",
       "      <th>eu_sales</th>\n",
       "      <th>jp_sales</th>\n",
       "      <th>other_sales</th>\n",
       "      <th>critic_score</th>\n",
       "      <th>user_score</th>\n",
       "      <th>rating</th>\n",
       "      <th>total_sales</th>\n",
       "    </tr>\n",
       "  </thead>\n",
       "  <tbody>\n",
       "    <tr>\n",
       "      <th>604</th>\n",
       "      <td>Madden NFL 13</td>\n",
       "      <td>PS3</td>\n",
       "      <td>2012-01-01</td>\n",
       "      <td>Sports</td>\n",
       "      <td>2.11</td>\n",
       "      <td>0.22</td>\n",
       "      <td>0.00</td>\n",
       "      <td>0.23</td>\n",
       "      <td>83</td>\n",
       "      <td>5.5</td>\n",
       "      <td>E</td>\n",
       "      <td>2.56</td>\n",
       "    </tr>\n",
       "    <tr>\n",
       "      <th>16230</th>\n",
       "      <td>Madden NFL 13</td>\n",
       "      <td>PS3</td>\n",
       "      <td>2012-01-01</td>\n",
       "      <td>Sports</td>\n",
       "      <td>0.00</td>\n",
       "      <td>0.01</td>\n",
       "      <td>0.00</td>\n",
       "      <td>0.00</td>\n",
       "      <td>83</td>\n",
       "      <td>5.5</td>\n",
       "      <td>E</td>\n",
       "      <td>0.01</td>\n",
       "    </tr>\n",
       "    <tr>\n",
       "      <th>1190</th>\n",
       "      <td>Need for Speed: Most Wanted</td>\n",
       "      <td>X360</td>\n",
       "      <td>2012-01-01</td>\n",
       "      <td>Racing</td>\n",
       "      <td>0.62</td>\n",
       "      <td>0.78</td>\n",
       "      <td>0.01</td>\n",
       "      <td>0.15</td>\n",
       "      <td>83</td>\n",
       "      <td>8.5</td>\n",
       "      <td>T</td>\n",
       "      <td>1.56</td>\n",
       "    </tr>\n",
       "    <tr>\n",
       "      <th>1591</th>\n",
       "      <td>Need for Speed: Most Wanted</td>\n",
       "      <td>X360</td>\n",
       "      <td>2005-01-01</td>\n",
       "      <td>Racing</td>\n",
       "      <td>1.00</td>\n",
       "      <td>0.13</td>\n",
       "      <td>0.02</td>\n",
       "      <td>0.10</td>\n",
       "      <td>83</td>\n",
       "      <td>8.5</td>\n",
       "      <td>T</td>\n",
       "      <td>1.25</td>\n",
       "    </tr>\n",
       "    <tr>\n",
       "      <th>5972</th>\n",
       "      <td>Need for Speed: Most Wanted</td>\n",
       "      <td>PC</td>\n",
       "      <td>2005-01-01</td>\n",
       "      <td>Racing</td>\n",
       "      <td>0.02</td>\n",
       "      <td>0.23</td>\n",
       "      <td>0.00</td>\n",
       "      <td>0.04</td>\n",
       "      <td>82</td>\n",
       "      <td>8.5</td>\n",
       "      <td>T</td>\n",
       "      <td>0.29</td>\n",
       "    </tr>\n",
       "    <tr>\n",
       "      <th>11715</th>\n",
       "      <td>Need for Speed: Most Wanted</td>\n",
       "      <td>PC</td>\n",
       "      <td>2012-01-01</td>\n",
       "      <td>Racing</td>\n",
       "      <td>0.00</td>\n",
       "      <td>0.06</td>\n",
       "      <td>0.00</td>\n",
       "      <td>0.02</td>\n",
       "      <td>82</td>\n",
       "      <td>8.5</td>\n",
       "      <td>T</td>\n",
       "      <td>0.08</td>\n",
       "    </tr>\n",
       "    <tr>\n",
       "      <th>1745</th>\n",
       "      <td>Sonic the Hedgehog</td>\n",
       "      <td>PS3</td>\n",
       "      <td>2006-01-01</td>\n",
       "      <td>Platform</td>\n",
       "      <td>0.41</td>\n",
       "      <td>0.06</td>\n",
       "      <td>0.04</td>\n",
       "      <td>0.66</td>\n",
       "      <td>43</td>\n",
       "      <td>4.1</td>\n",
       "      <td>E10+</td>\n",
       "      <td>1.17</td>\n",
       "    </tr>\n",
       "    <tr>\n",
       "      <th>4127</th>\n",
       "      <td>Sonic the Hedgehog</td>\n",
       "      <td>PS3</td>\n",
       "      <td>NaT</td>\n",
       "      <td>Platform</td>\n",
       "      <td>0.00</td>\n",
       "      <td>0.48</td>\n",
       "      <td>0.00</td>\n",
       "      <td>0.00</td>\n",
       "      <td>43</td>\n",
       "      <td>4.1</td>\n",
       "      <td>E10+</td>\n",
       "      <td>0.48</td>\n",
       "    </tr>\n",
       "    <tr>\n",
       "      <th>659</th>\n",
       "      <td>unknown</td>\n",
       "      <td>GEN</td>\n",
       "      <td>1993-01-01</td>\n",
       "      <td>unknown</td>\n",
       "      <td>1.78</td>\n",
       "      <td>0.53</td>\n",
       "      <td>0.00</td>\n",
       "      <td>0.08</td>\n",
       "      <td>0</td>\n",
       "      <td>0.0</td>\n",
       "      <td>unrated</td>\n",
       "      <td>2.39</td>\n",
       "    </tr>\n",
       "    <tr>\n",
       "      <th>14244</th>\n",
       "      <td>unknown</td>\n",
       "      <td>GEN</td>\n",
       "      <td>1993-01-01</td>\n",
       "      <td>unknown</td>\n",
       "      <td>0.00</td>\n",
       "      <td>0.00</td>\n",
       "      <td>0.03</td>\n",
       "      <td>0.00</td>\n",
       "      <td>0</td>\n",
       "      <td>0.0</td>\n",
       "      <td>unrated</td>\n",
       "      <td>0.03</td>\n",
       "    </tr>\n",
       "  </tbody>\n",
       "</table>\n",
       "</div>"
      ],
      "text/plain": [
       "                              name platform year_of_release     genre  \\\n",
       "604                  Madden NFL 13      PS3      2012-01-01    Sports   \n",
       "16230                Madden NFL 13      PS3      2012-01-01    Sports   \n",
       "1190   Need for Speed: Most Wanted     X360      2012-01-01    Racing   \n",
       "1591   Need for Speed: Most Wanted     X360      2005-01-01    Racing   \n",
       "5972   Need for Speed: Most Wanted       PC      2005-01-01    Racing   \n",
       "11715  Need for Speed: Most Wanted       PC      2012-01-01    Racing   \n",
       "1745            Sonic the Hedgehog      PS3      2006-01-01  Platform   \n",
       "4127            Sonic the Hedgehog      PS3             NaT  Platform   \n",
       "659                        unknown      GEN      1993-01-01   unknown   \n",
       "14244                      unknown      GEN      1993-01-01   unknown   \n",
       "\n",
       "       na_sales  eu_sales  jp_sales  other_sales  critic_score  user_score  \\\n",
       "604        2.11      0.22      0.00         0.23            83         5.5   \n",
       "16230      0.00      0.01      0.00         0.00            83         5.5   \n",
       "1190       0.62      0.78      0.01         0.15            83         8.5   \n",
       "1591       1.00      0.13      0.02         0.10            83         8.5   \n",
       "5972       0.02      0.23      0.00         0.04            82         8.5   \n",
       "11715      0.00      0.06      0.00         0.02            82         8.5   \n",
       "1745       0.41      0.06      0.04         0.66            43         4.1   \n",
       "4127       0.00      0.48      0.00         0.00            43         4.1   \n",
       "659        1.78      0.53      0.00         0.08             0         0.0   \n",
       "14244      0.00      0.00      0.03         0.00             0         0.0   \n",
       "\n",
       "        rating  total_sales  \n",
       "604          E         2.56  \n",
       "16230        E         0.01  \n",
       "1190         T         1.56  \n",
       "1591         T         1.25  \n",
       "5972         T         0.29  \n",
       "11715        T         0.08  \n",
       "1745      E10+         1.17  \n",
       "4127      E10+         0.48  \n",
       "659    unrated         2.39  \n",
       "14244  unrated         0.03  "
      ]
     },
     "metadata": {},
     "output_type": "display_data"
    }
   ],
   "source": [
    "duplicates_1 = df_games[df_games.duplicated(subset=['name', 'platform'], keep=False)]\n",
    "display(duplicates_1.sort_values(by = 'name'))"
   ]
  },
  {
   "cell_type": "markdown",
   "metadata": {},
   "source": [
    "Должен был удалить дубликаты этих игр, но снова выводит их на экран. Не рахобрался что нужно сделать."
   ]
  },
  {
   "cell_type": "markdown",
   "metadata": {},
   "source": [
    "# Шаг 3. Проведем исследовательский анализ данных"
   ]
  },
  {
   "cell_type": "markdown",
   "metadata": {},
   "source": [
    "- Посмотрим на дубликаты игр по годам."
   ]
  },
  {
   "cell_type": "code",
   "execution_count": 103,
   "metadata": {
    "scrolled": true
   },
   "outputs": [
    {
     "data": {
      "text/html": [
       "<div>\n",
       "<style scoped>\n",
       "    .dataframe tbody tr th:only-of-type {\n",
       "        vertical-align: middle;\n",
       "    }\n",
       "\n",
       "    .dataframe tbody tr th {\n",
       "        vertical-align: top;\n",
       "    }\n",
       "\n",
       "    .dataframe thead th {\n",
       "        text-align: right;\n",
       "    }\n",
       "</style>\n",
       "<table border=\"1\" class=\"dataframe\">\n",
       "  <thead>\n",
       "    <tr style=\"text-align: right;\">\n",
       "      <th></th>\n",
       "      <th>name</th>\n",
       "      <th>platform</th>\n",
       "      <th>year_of_release</th>\n",
       "      <th>genre</th>\n",
       "      <th>na_sales</th>\n",
       "      <th>eu_sales</th>\n",
       "      <th>jp_sales</th>\n",
       "      <th>other_sales</th>\n",
       "      <th>critic_score</th>\n",
       "      <th>user_score</th>\n",
       "      <th>rating</th>\n",
       "      <th>total_sales</th>\n",
       "    </tr>\n",
       "  </thead>\n",
       "  <tbody>\n",
       "    <tr>\n",
       "      <th>3862</th>\n",
       "      <td>Frozen: Olaf's Quest</td>\n",
       "      <td>DS</td>\n",
       "      <td>2013-01-01</td>\n",
       "      <td>Platform</td>\n",
       "      <td>0.21</td>\n",
       "      <td>0.26</td>\n",
       "      <td>0.00</td>\n",
       "      <td>0.04</td>\n",
       "      <td>0</td>\n",
       "      <td>0.0</td>\n",
       "      <td>unrated</td>\n",
       "      <td>0.51</td>\n",
       "    </tr>\n",
       "    <tr>\n",
       "      <th>14658</th>\n",
       "      <td>007: Quantum of Solace</td>\n",
       "      <td>PC</td>\n",
       "      <td>2008-01-01</td>\n",
       "      <td>Action</td>\n",
       "      <td>0.01</td>\n",
       "      <td>0.01</td>\n",
       "      <td>0.00</td>\n",
       "      <td>0.00</td>\n",
       "      <td>70</td>\n",
       "      <td>6.3</td>\n",
       "      <td>T</td>\n",
       "      <td>0.02</td>\n",
       "    </tr>\n",
       "    <tr>\n",
       "      <th>1785</th>\n",
       "      <td>007: Quantum of Solace</td>\n",
       "      <td>PS3</td>\n",
       "      <td>2008-01-01</td>\n",
       "      <td>Action</td>\n",
       "      <td>0.43</td>\n",
       "      <td>0.51</td>\n",
       "      <td>0.02</td>\n",
       "      <td>0.19</td>\n",
       "      <td>65</td>\n",
       "      <td>6.6</td>\n",
       "      <td>T</td>\n",
       "      <td>1.15</td>\n",
       "    </tr>\n",
       "    <tr>\n",
       "      <th>4475</th>\n",
       "      <td>007: Quantum of Solace</td>\n",
       "      <td>PS2</td>\n",
       "      <td>2008-01-01</td>\n",
       "      <td>Action</td>\n",
       "      <td>0.17</td>\n",
       "      <td>0.00</td>\n",
       "      <td>0.00</td>\n",
       "      <td>0.26</td>\n",
       "      <td>0</td>\n",
       "      <td>0.0</td>\n",
       "      <td>unrated</td>\n",
       "      <td>0.43</td>\n",
       "    </tr>\n",
       "    <tr>\n",
       "      <th>3120</th>\n",
       "      <td>007: Quantum of Solace</td>\n",
       "      <td>Wii</td>\n",
       "      <td>2008-01-01</td>\n",
       "      <td>Action</td>\n",
       "      <td>0.29</td>\n",
       "      <td>0.28</td>\n",
       "      <td>0.01</td>\n",
       "      <td>0.07</td>\n",
       "      <td>54</td>\n",
       "      <td>7.5</td>\n",
       "      <td>T</td>\n",
       "      <td>0.65</td>\n",
       "    </tr>\n",
       "    <tr>\n",
       "      <th>...</th>\n",
       "      <td>...</td>\n",
       "      <td>...</td>\n",
       "      <td>...</td>\n",
       "      <td>...</td>\n",
       "      <td>...</td>\n",
       "      <td>...</td>\n",
       "      <td>...</td>\n",
       "      <td>...</td>\n",
       "      <td>...</td>\n",
       "      <td>...</td>\n",
       "      <td>...</td>\n",
       "      <td>...</td>\n",
       "    </tr>\n",
       "    <tr>\n",
       "      <th>2583</th>\n",
       "      <td>pro evolution soccer 2011</td>\n",
       "      <td>PSP</td>\n",
       "      <td>2010-01-01</td>\n",
       "      <td>Sports</td>\n",
       "      <td>0.05</td>\n",
       "      <td>0.30</td>\n",
       "      <td>0.29</td>\n",
       "      <td>0.16</td>\n",
       "      <td>74</td>\n",
       "      <td>5.8</td>\n",
       "      <td>E</td>\n",
       "      <td>0.80</td>\n",
       "    </tr>\n",
       "    <tr>\n",
       "      <th>4664</th>\n",
       "      <td>pro evolution soccer 2011</td>\n",
       "      <td>PS2</td>\n",
       "      <td>2010-01-01</td>\n",
       "      <td>Sports</td>\n",
       "      <td>0.04</td>\n",
       "      <td>0.21</td>\n",
       "      <td>0.05</td>\n",
       "      <td>0.11</td>\n",
       "      <td>0</td>\n",
       "      <td>6.7</td>\n",
       "      <td>E</td>\n",
       "      <td>0.41</td>\n",
       "    </tr>\n",
       "    <tr>\n",
       "      <th>12648</th>\n",
       "      <td>pro evolution soccer 2011</td>\n",
       "      <td>PC</td>\n",
       "      <td>2010-01-01</td>\n",
       "      <td>Sports</td>\n",
       "      <td>0.00</td>\n",
       "      <td>0.05</td>\n",
       "      <td>0.00</td>\n",
       "      <td>0.01</td>\n",
       "      <td>79</td>\n",
       "      <td>0.0</td>\n",
       "      <td>unrated</td>\n",
       "      <td>0.06</td>\n",
       "    </tr>\n",
       "    <tr>\n",
       "      <th>15612</th>\n",
       "      <td>uDraw Studio: Instant Artist</td>\n",
       "      <td>X360</td>\n",
       "      <td>2011-01-01</td>\n",
       "      <td>Misc</td>\n",
       "      <td>0.01</td>\n",
       "      <td>0.01</td>\n",
       "      <td>0.00</td>\n",
       "      <td>0.00</td>\n",
       "      <td>54</td>\n",
       "      <td>5.7</td>\n",
       "      <td>E</td>\n",
       "      <td>0.02</td>\n",
       "    </tr>\n",
       "    <tr>\n",
       "      <th>14244</th>\n",
       "      <td>unknown</td>\n",
       "      <td>GEN</td>\n",
       "      <td>1993-01-01</td>\n",
       "      <td>unknown</td>\n",
       "      <td>0.00</td>\n",
       "      <td>0.00</td>\n",
       "      <td>0.03</td>\n",
       "      <td>0.00</td>\n",
       "      <td>0</td>\n",
       "      <td>0.0</td>\n",
       "      <td>unrated</td>\n",
       "      <td>0.03</td>\n",
       "    </tr>\n",
       "  </tbody>\n",
       "</table>\n",
       "<p>4287 rows × 12 columns</p>\n",
       "</div>"
      ],
      "text/plain": [
       "                               name platform year_of_release     genre  \\\n",
       "3862           Frozen: Olaf's Quest       DS      2013-01-01  Platform   \n",
       "14658        007: Quantum of Solace       PC      2008-01-01    Action   \n",
       "1785         007: Quantum of Solace      PS3      2008-01-01    Action   \n",
       "4475         007: Quantum of Solace      PS2      2008-01-01    Action   \n",
       "3120         007: Quantum of Solace      Wii      2008-01-01    Action   \n",
       "...                             ...      ...             ...       ...   \n",
       "2583      pro evolution soccer 2011      PSP      2010-01-01    Sports   \n",
       "4664      pro evolution soccer 2011      PS2      2010-01-01    Sports   \n",
       "12648     pro evolution soccer 2011       PC      2010-01-01    Sports   \n",
       "15612  uDraw Studio: Instant Artist     X360      2011-01-01      Misc   \n",
       "14244                       unknown      GEN      1993-01-01   unknown   \n",
       "\n",
       "       na_sales  eu_sales  jp_sales  other_sales  critic_score  user_score  \\\n",
       "3862       0.21      0.26      0.00         0.04             0         0.0   \n",
       "14658      0.01      0.01      0.00         0.00            70         6.3   \n",
       "1785       0.43      0.51      0.02         0.19            65         6.6   \n",
       "4475       0.17      0.00      0.00         0.26             0         0.0   \n",
       "3120       0.29      0.28      0.01         0.07            54         7.5   \n",
       "...         ...       ...       ...          ...           ...         ...   \n",
       "2583       0.05      0.30      0.29         0.16            74         5.8   \n",
       "4664       0.04      0.21      0.05         0.11             0         6.7   \n",
       "12648      0.00      0.05      0.00         0.01            79         0.0   \n",
       "15612      0.01      0.01      0.00         0.00            54         5.7   \n",
       "14244      0.00      0.00      0.03         0.00             0         0.0   \n",
       "\n",
       "        rating  total_sales  \n",
       "3862   unrated         0.51  \n",
       "14658        T         0.02  \n",
       "1785         T         1.15  \n",
       "4475   unrated         0.43  \n",
       "3120         T         0.65  \n",
       "...        ...          ...  \n",
       "2583         E         0.80  \n",
       "4664         E         0.41  \n",
       "12648  unrated         0.06  \n",
       "15612        E         0.02  \n",
       "14244  unrated         0.03  \n",
       "\n",
       "[4287 rows x 12 columns]"
      ]
     },
     "metadata": {},
     "output_type": "display_data"
    }
   ],
   "source": [
    "duplicates = df_games[df_games.duplicated(subset=['name', 'year_of_release'],keep='first')]\n",
    "display(duplicates.sort_values(by='name'))"
   ]
  },
  {
   "cell_type": "markdown",
   "metadata": {},
   "source": [
    "- Удалим явные дубликаты игр, выпущенных в один год, но на разных платформах."
   ]
  },
  {
   "cell_type": "code",
   "execution_count": 104,
   "metadata": {},
   "outputs": [
    {
     "name": "stdout",
     "output_type": "stream",
     "text": [
      "<class 'pandas.core.frame.DataFrame'>\n",
      "Int64Index: 12428 entries, 0 to 16712\n",
      "Data columns (total 12 columns):\n",
      " #   Column           Non-Null Count  Dtype         \n",
      "---  ------           --------------  -----         \n",
      " 0   name             12428 non-null  object        \n",
      " 1   platform         12428 non-null  object        \n",
      " 2   year_of_release  12196 non-null  datetime64[ns]\n",
      " 3   genre            12428 non-null  object        \n",
      " 4   na_sales         12428 non-null  float64       \n",
      " 5   eu_sales         12428 non-null  float64       \n",
      " 6   jp_sales         12428 non-null  float64       \n",
      " 7   other_sales      12428 non-null  float64       \n",
      " 8   critic_score     12428 non-null  int64         \n",
      " 9   user_score       12428 non-null  float64       \n",
      " 10  rating           12428 non-null  object        \n",
      " 11  total_sales      12428 non-null  float64       \n",
      "dtypes: datetime64[ns](1), float64(6), int64(1), object(4)\n",
      "memory usage: 1.2+ MB\n",
      "None\n"
     ]
    }
   ],
   "source": [
    "df_games = df_games.drop_duplicates(subset=['name', 'year_of_release'], keep='first')\n",
    "print(df_games.info())"
   ]
  },
  {
   "cell_type": "markdown",
   "metadata": {},
   "source": [
    "- Посмотрим, сколько игр выпускалось в разные годы"
   ]
  },
  {
   "cell_type": "code",
   "execution_count": 105,
   "metadata": {},
   "outputs": [
    {
     "data": {
      "image/png": "[encoded data removed]",
      "text/plain": [
       "<Figure size 720x576 with 1 Axes>"
      ]
     },
     "metadata": {
      "needs_background": "light"
     },
     "output_type": "display_data"
    }
   ],
   "source": [
    "#Посчитаем сколько игр выпущено за каждый год\n",
    "games_per_year = df_games['year_of_release'].dt.year.value_counts().sort_index()\n",
    "#print(games_per_year)\n",
    "\n",
    "#Построим диаграмму для наглядности\n",
    "plt.figure(figsize=(10, 8))\n",
    "games_per_year.plot(kind='bar', color='gold',edgecolor='black')\n",
    "plt.title('Количество игр по годам')\n",
    "plt.xlabel('Год выпуска')\n",
    "plt.ylabel('Количество игр')\n",
    "plt.grid(axis = 'y', linestyle = '--', alpha = 1)\n",
    "plt.show()\n",
    "\n",
    "\n"
   ]
  },
  {
   "cell_type": "markdown",
   "metadata": {},
   "source": [
    "На графике мы видим:\n",
    "- Зародилась индустрия игр в 1980 году, а активные продажи игр начались примерно в 1991-1995 годах;\n",
    "- В 2001 году начинается рост производства, вероятнее всего это связано с развитием интернет-индустрии;\n",
    "- Пик развития индустрии приходится на 2008-2009 годы, далее начинается спад (резкий спад в 2012 году). Скорее всего это связано с появляением прорывных технологий (iPhone, iPad и пр.), которые многим стали постепенно заменять игровые консоли. В связи в этим спрос упал."
   ]
  },
  {
   "cell_type": "markdown",
   "metadata": {},
   "source": [
    "- Посмотрим, как менялись продажи по платформам. Выберем платформы с наибольшими суммарными продажами и построим распределение по годам."
   ]
  },
  {
   "cell_type": "code",
   "execution_count": 106,
   "metadata": {},
   "outputs": [
    {
     "name": "stdout",
     "output_type": "stream",
     "text": [
      "platform\n",
      "PS2     1164.63\n",
      "Wii      800.85\n",
      "DS       719.82\n",
      "PS       718.57\n",
      "X360     592.75\n",
      "Name: total_sales, dtype: float64\n"
     ]
    }
   ],
   "source": [
    "#Сгруппируем платформы и суммируем по продажам. Далее посмотрим на топ-5 платформ\n",
    "platform_sales = df_games.groupby('platform')['total_sales'].sum().sort_values(ascending=False)\n",
    "top_platforms = platform_sales.head(5)\n",
    "print(top_platforms)"
   ]
  },
  {
   "cell_type": "markdown",
   "metadata": {},
   "source": [
    "PS2 лидирует по продажам с явным перевесом. "
   ]
  },
  {
   "cell_type": "code",
   "execution_count": 107,
   "metadata": {
    "scrolled": false
   },
   "outputs": [
    {
     "data": {
      "image/png": "[encoded data removed]",
      "text/plain": [
       "<Figure size 720x504 with 1 Axes>"
      ]
     },
     "metadata": {
      "needs_background": "light"
     },
     "output_type": "display_data"
    }
   ],
   "source": [
    "#Построим график распределения продаж по годам.\n",
    "plt.figure(figsize = (10, 7))\n",
    "for platform in top_platforms.index:\n",
    "    platform_data = df_games[df_games['platform'] == platform]\n",
    "    platform_sales_by_year = platform_data.groupby('year_of_release')['total_sales'].sum()\n",
    "    plt.plot(platform_sales_by_year.index, platform_sales_by_year, label = platform)\n",
    "\n",
    "plt.xlabel('Год выпуска')\n",
    "plt.ylabel('Суммарные продажи (млн)')\n",
    "plt.title('Распределение продаж по годам')\n",
    "plt.legend()\n",
    "plt.grid(True)\n",
    "plt.show()\n"
   ]
  },
  {
   "cell_type": "markdown",
   "metadata": {},
   "source": [
    "На графике видим следующее:\n",
    "- PS2 появилась в продаже в 2000 году, пик продаж игр выпал на период до 2004 года и окончательно упал в 2010-2011;\n",
    "- Xbox появился в 2005 году и продажи игр были на пике в 2010 году;\n",
    "- PS3 стали продавать в 2006 году и пик продаж игр выпал на 2010-2011 годы;\n",
    "- Nintendo Wii также появилась на полках в 2006 году и на первых порах видим, что она обогнала в 2009 по продажам игр выше упомянутые приставки этого года, но далее видим резкий спад (видимо, уступала конкурентам по техническим показателям и количестве выпускаемых игр);\n",
    "- Nintendo DS самая старая приставка среди топ-5, была выпущена в 1984. Первое название было Nintendo Famicom. Далее был ребрендинг в 2004 году и новое название было как раз Nintendo DS. Пик продаж игр был в 2005 году и после 2008 продажи стали падать, так как в этот период набрали популярность Xbox, PS3 и Nintendo Wii.\n",
    "\n",
    "По итогу видим резкий спад у двух самых популярных приставок того времени (Xbox и PS3), связано это с появлением приставок нового поколения - Xbox One и PS4 в 2013 году. Среднее время \"жизни\" приставки ~10 лет. Новые поколения приставок заменяют старые."
   ]
  },
  {
   "cell_type": "markdown",
   "metadata": {},
   "source": [
    "- Возьмем за актуальный период игры с 2014 года."
   ]
  },
  {
   "cell_type": "code",
   "execution_count": 108,
   "metadata": {},
   "outputs": [],
   "source": [
    "#Отфильтруем данные, год выпуска после 2014\n",
    "df_games['year_of_release'] = pd.to_datetime(df_games['year_of_release'], errors='coerce').dt.year\n",
    "games_filtered = df_games[df_games['year_of_release'] >= 2014]\n",
    "\n",
    "#Сгруппируем по платформам и просуммируем продажи и возьмем топ-5\n",
    "platform_sales = games_filtered.groupby('platform')['total_sales'].sum().sort_values(ascending=False)\n",
    "top_platforms = platform_sales.head(20)"
   ]
  },
  {
   "cell_type": "code",
   "execution_count": 109,
   "metadata": {},
   "outputs": [
    {
     "data": {
      "image/png": "[encoded data removed]",
      "text/plain": [
       "<Figure size 720x504 with 1 Axes>"
      ]
     },
     "metadata": {
      "needs_background": "light"
     },
     "output_type": "display_data"
    }
   ],
   "source": [
    "#Построим график\n",
    "plt.figure(figsize = (10, 7))\n",
    "for platform in top_platforms.index:\n",
    "    platform_data = games_filtered[games_filtered['platform'] == platform]\n",
    "    platform_sales_by_year = platform_data.groupby('year_of_release')['total_sales'].sum()\n",
    "    plt.plot(platform_sales_by_year.index, platform_sales_by_year, label=platform)\n",
    "\n",
    "plt.xlabel('Год выпуска')\n",
    "plt.ylabel('Суммарные продажи, млн копий')\n",
    "plt.title('Распределение продаж с 2014 года')\n",
    "plt.legend(loc='right', bbox_to_anchor=(1.13, 0.8))\n",
    "plt.grid(True)\n",
    "plt.show()"
   ]
  },
  {
   "cell_type": "markdown",
   "metadata": {},
   "source": [
    "- На графике видим наибольший спрос на игры PS4 от 60 до 120 млн проаднных игр. Далее идут Nintendo 3Ds, Nintendo Wii и Xbox One.\n",
    "Пики выпущенным играм на PS4, Xbox One и Nintendo Wii были в начале 2015 года. На Nintendo 3Ds из года в год уменьшается кол-во игр ~ на 15 млн с каждым годом."
   ]
  },
  {
   "cell_type": "markdown",
   "metadata": {},
   "source": [
    "- Построим график «ящик с усами» по глобальным продажам игр в разбивке по платформам за 2016 год."
   ]
  },
  {
   "cell_type": "code",
   "execution_count": 110,
   "metadata": {},
   "outputs": [
    {
     "data": {
      "image/png": "[encoded data removed]",
      "text/plain": [
       "<Figure size 864x576 with 1 Axes>"
      ]
     },
     "metadata": {
      "needs_background": "light"
     },
     "output_type": "display_data"
    },
    {
     "data": {
      "image/png": "[encoded data removed]",
      "text/plain": [
       "<Figure size 864x576 with 1 Axes>"
      ]
     },
     "metadata": {
      "needs_background": "light"
     },
     "output_type": "display_data"
    }
   ],
   "source": [
    "#Определим топ-5 платформ по глобальным продажам за 2016 год\n",
    "games_2016 = games_filtered[games_filtered['year_of_release'] == 2016]\n",
    "top_platforms = games_2016.groupby('platform')['total_sales'].sum().nlargest(5).index\n",
    "df_top_platforms = games_2016[games_2016['platform'].isin(top_platforms)]\n",
    "\n",
    "#Построим \"ящик с усами\"\n",
    "plt.figure(figsize = (12, 8))\n",
    "sns.boxplot(x = 'platform', y = 'total_sales', data = df_top_platforms, order = top_platforms)\n",
    "plt.title('Глобальные продажи игр в 2016 году')\n",
    "plt.xlabel('Платформа')\n",
    "plt.ylabel('Глобальные продажи (млн)')\n",
    "plt.xticks(rotation = 45)\n",
    "plt.show()\n",
    "\n",
    "#Приблизим\n",
    "plt.figure(figsize = (12, 8))\n",
    "sns.boxplot(x = 'platform', y = 'total_sales', data = df_top_platforms, order = top_platforms)\n",
    "plt.title('Глобальные продажи игр в 2016 году')\n",
    "plt.xlabel('Платформа')\n",
    "plt.ylabel('Глобальные продажи (млн)')\n",
    "plt.xticks(rotation = 45)\n",
    "plt.ylim(0,0.8)\n",
    "plt.show()"
   ]
  },
  {
   "cell_type": "markdown",
   "metadata": {},
   "source": [
    "- На графике видим:\n",
    "    \n",
    "  - PS4 является лидером по продажам игр на 2016 год, имеет медианное значение 0.9 млн, межквартильный размах от 0.04 до 0.35 млн продаж, но мы видим на первом графике много выбросов от 1 до 7 млн;\n",
    "    \n",
    "  - Nintendo 3Ds с медианой 0.07 млн, межквартильный размех от 0.04 до 0.21 млн, есть выбросы до 1.5 млн и 1 выброс 7 млн;\n",
    "    \n",
    "  - у Nintendo Wii медиана 0.4 млн, межквартильный размах от 0.15 до 0.75 млн(это самый высокий показатель медианного значения), но нет выбросов с продажами более 1 млн;\n",
    "    \n",
    "  - Xbox One имеет медиану 0.05 млн и межквартильный размах от 0.01 до 0.55 млн. Выбросов нет;\n",
    "    \n",
    "  - PS Vita имеет медиана в 0.02 млн и межквартильный размах в пределах 0.01 и 0.03 млн."
   ]
  },
  {
   "cell_type": "markdown",
   "metadata": {},
   "source": [
    "Посмотрим на самые популярные платформы за актуальный период."
   ]
  },
  {
   "cell_type": "code",
   "execution_count": 111,
   "metadata": {},
   "outputs": [
    {
     "data": {
      "text/plain": [
       "platform\n",
       "PS4     275.39\n",
       "3DS      83.08\n",
       "WiiU     30.72\n",
       "XOne     25.79\n",
       "PS3      18.77\n",
       "Name: total_sales, dtype: float64"
      ]
     },
     "execution_count": 111,
     "metadata": {},
     "output_type": "execute_result"
    }
   ],
   "source": [
    "platform_sales = games_filtered.groupby('platform')['total_sales'].sum().sort_values(ascending=False)\n",
    "platform_sales.head()"
   ]
  },
  {
   "cell_type": "markdown",
   "metadata": {},
   "source": [
    "- Построим диаграммы размаха по глобальным продажам топ-3 приставок за актуальный период."
   ]
  },
  {
   "cell_type": "code",
   "execution_count": 112,
   "metadata": {},
   "outputs": [
    {
     "data": {
      "image/png": "[encoded data removed]",
      "text/plain": [
       "<Figure size 1008x648 with 1 Axes>"
      ]
     },
     "metadata": {
      "needs_background": "light"
     },
     "output_type": "display_data"
    }
   ],
   "source": [
    "#Построим диаграмму размаха для продаж игр на PS4\n",
    "df_ps4 = games_filtered[games_filtered['platform'] == 'PS4']\n",
    "\n",
    "plt.figure(figsize = (14, 9))\n",
    "sns.boxplot( y = 'total_sales', data = df_ps4, color = 'gold')\n",
    "plt.title('Глобальные продажи игр на PS4')\n",
    "plt.ylabel('Глобальные продажи (млн)')\n",
    "plt.ylim(0,2)\n",
    "plt.show()\n",
    "\n",
    "\n",
    "\n",
    "\n"
   ]
  },
  {
   "cell_type": "markdown",
   "metadata": {},
   "source": [
    "Среднее количество продаж игр на PS4 составляет до 1.75 млн. Медианное значение ~0.2 млн. Не слишком большое значение."
   ]
  },
  {
   "cell_type": "code",
   "execution_count": 113,
   "metadata": {},
   "outputs": [
    {
     "data": {
      "image/png": "[encoded data removed]",
      "text/plain": [
       "<Figure size 1008x648 with 1 Axes>"
      ]
     },
     "metadata": {
      "needs_background": "light"
     },
     "output_type": "display_data"
    }
   ],
   "source": [
    "#Построим диаграмму размаха для продаж игр на 3Ds\n",
    "df_3ds = games_filtered[games_filtered['platform'] == '3DS']\n",
    "\n",
    "plt.figure(figsize = (14, 9))\n",
    "sns.boxplot( y = 'total_sales', data = df_3ds, color = 'gold')\n",
    "plt.title('Глобальные продажи игр на 3DS')\n",
    "plt.ylabel('Глобальные продажи (млн)')\n",
    "plt.ylim (0,1)\n",
    "plt.show()\n"
   ]
  },
  {
   "cell_type": "markdown",
   "metadata": {},
   "source": [
    "У Nintendo 3Ds видим медиану продаж 0.08 млн и межквартильный размах от 0.04 до 0.26 млн."
   ]
  },
  {
   "cell_type": "code",
   "execution_count": 114,
   "metadata": {},
   "outputs": [
    {
     "data": {
      "image/png": "[encoded data removed]",
      "text/plain": [
       "<Figure size 1008x648 with 1 Axes>"
      ]
     },
     "metadata": {
      "needs_background": "light"
     },
     "output_type": "display_data"
    }
   ],
   "source": [
    "#Построим диаграмму размаха для продаж игр на PS2\n",
    "df_wiiu = games_filtered[games_filtered['platform'] == 'WiiU']\n",
    "\n",
    "plt.figure(figsize = (14, 9))\n",
    "sns.boxplot( y = 'total_sales', data = df_wiiu , color = 'gold')\n",
    "plt.title('Глобальные продажи игр на Wii')\n",
    "plt.ylabel('Глобальные продажи (млн)')\n",
    "plt.ylim(0,2)\n",
    "plt.show()\n"
   ]
  },
  {
   "cell_type": "markdown",
   "metadata": {},
   "source": [
    "У платформы Nintendo Wii медиана составляет ~ 0.4 млн, межквартильный размах от 0.1 до 1 млн. Среднее количество продаж до 1.6 млн"
   ]
  },
  {
   "cell_type": "markdown",
   "metadata": {},
   "source": [
    "- Посмотрим, как влияют на продажи внутри одной популярной платформы отзывы пользователей и критиков. Построим диаграмму рассеяния и посчитаем корреляцию между отзывами и продажами. \n",
    "- Возьмем платформу PS3 для примера."
   ]
  },
  {
   "cell_type": "code",
   "execution_count": 115,
   "metadata": {
    "scrolled": false
   },
   "outputs": [
    {
     "data": {
      "text/plain": [
       "<AxesSubplot:xlabel='critic_score', ylabel='total_sales'>"
      ]
     },
     "execution_count": 115,
     "metadata": {},
     "output_type": "execute_result"
    },
    {
     "data": {
      "image/png": "[encoded data removed]",
      "text/plain": [
       "<Figure size 720x432 with 1 Axes>"
      ]
     },
     "metadata": {
      "needs_background": "light"
     },
     "output_type": "display_data"
    }
   ],
   "source": [
    "#Создадим переменную с PS4\n",
    "data_ps4 = games_filtered[(games_filtered['platform'] == 'PS4') & (games_filtered['critic_score'] > 0)]\n",
    "\n",
    "#Посмотрим диаграмму рассеяния относительно оценки критиков\n",
    "data_ps4.plot(kind = 'scatter', x = 'critic_score', y = 'total_sales', color = 'orange', figsize=(10,6))   \n"
   ]
  },
  {
   "cell_type": "markdown",
   "metadata": {},
   "source": [
    "По этой диаграмме можно сказать, что продажи игр растут с увеличением оценки критиков. Вполне логичный вывод, высокая оценка говорит о популярности игры на рынке."
   ]
  },
  {
   "cell_type": "code",
   "execution_count": 116,
   "metadata": {},
   "outputs": [
    {
     "data": {
      "text/plain": [
       "<AxesSubplot:xlabel='user_score', ylabel='total_sales'>"
      ]
     },
     "execution_count": 116,
     "metadata": {},
     "output_type": "execute_result"
    },
    {
     "data": {
      "image/png": "[encoded data removed]",
      "text/plain": [
       "<Figure size 720x432 with 1 Axes>"
      ]
     },
     "metadata": {
      "needs_background": "light"
     },
     "output_type": "display_data"
    }
   ],
   "source": [
    "#Посмотрим диаграмму рассеяния относительно оценки пользователей\n",
    "data_ps4 = games_filtered[(games_filtered['platform'] == 'PS4') & (games_filtered['user_score'] > 0)]\n",
    "data_ps4.plot(kind = 'scatter', x = 'user_score', y = 'total_sales', color = 'blue', figsize=(10,6))"
   ]
  },
  {
   "cell_type": "markdown",
   "metadata": {},
   "source": [
    "На этом графике также видим рост показателя по продажам игр относительно роста оценки пользователя. "
   ]
  },
  {
   "cell_type": "code",
   "execution_count": 117,
   "metadata": {},
   "outputs": [
    {
     "name": "stdout",
     "output_type": "stream",
     "text": [
      "Корреляция между отзывами пользователей и продажами: -0.030789529878820755\n",
      "Корреляция между отзывами критиков и продажами: 0.36152769199970514\n"
     ]
    }
   ],
   "source": [
    "#Посчитаем корреляцию относительно оценок и продаж.\n",
    "correlation_user = data_ps4['user_score'].corr(data_ps4['total_sales'])\n",
    "correlation_critic = data_ps4['critic_score'].corr(data_ps4['total_sales'])\n",
    "\n",
    "print(f'Корреляция между отзывами пользователей и продажами: {correlation_user}')\n",
    "print(f'Корреляция между отзывами критиков и продажами: {correlation_critic}')\n"
   ]
  },
  {
   "cell_type": "markdown",
   "metadata": {},
   "source": [
    "Коэффицент корреляции - 0.03 между отзывами пользователей и продажами указывает на  очень слабую отрицательную линейную зависимость между двумя переменными.  \n",
    "Коэффицент корреляции 0.36 указывает на слабую положительную линейную зависимость между переменными, но уже сильнее, чем в предыдущем случае. Увеличение рейтинга критиков более явно сопровождается увеличением количества продаж."
   ]
  },
  {
   "cell_type": "markdown",
   "metadata": {},
   "source": [
    "- Соотнесем выводы со следующей по продажам приставкой Nintendo Wii"
   ]
  },
  {
   "cell_type": "code",
   "execution_count": 118,
   "metadata": {},
   "outputs": [
    {
     "data": {
      "text/plain": [
       "<AxesSubplot:xlabel='critic_score', ylabel='total_sales'>"
      ]
     },
     "execution_count": 118,
     "metadata": {},
     "output_type": "execute_result"
    },
    {
     "data": {
      "image/png": "[encoded data removed]",
      "text/plain": [
       "<Figure size 720x432 with 1 Axes>"
      ]
     },
     "metadata": {
      "needs_background": "light"
     },
     "output_type": "display_data"
    }
   ],
   "source": [
    "#Создадим переменную с Nintendo Wii\n",
    "data_wiiu = games_filtered[(games_filtered['platform'] == 'WiiU') & (games_filtered['critic_score'] > 0)]\n",
    "\n",
    "#Посмотрим диаграмму рассеяния относительно оценки критиков\n",
    "data_wiiu.plot(kind = 'scatter', x = 'critic_score', y = 'total_sales', color = 'orange', figsize=(10,6))   \n"
   ]
  },
  {
   "cell_type": "code",
   "execution_count": 119,
   "metadata": {},
   "outputs": [
    {
     "data": {
      "text/plain": [
       "<AxesSubplot:xlabel='user_score', ylabel='total_sales'>"
      ]
     },
     "execution_count": 119,
     "metadata": {},
     "output_type": "execute_result"
    },
    {
     "data": {
      "image/png": "[encoded data removed]",
      "text/plain": [
       "<Figure size 720x432 with 1 Axes>"
      ]
     },
     "metadata": {
      "needs_background": "light"
     },
     "output_type": "display_data"
    }
   ],
   "source": [
    "#Посмотрим диаграмму рассеяния относительно оценки пользователей\n",
    "data_wiiu = games_filtered[(games_filtered['platform'] == 'WiiU') & (games_filtered['user_score'] > 0)]\n",
    "data_wiiu.plot(kind = 'scatter', x = 'user_score', y = 'total_sales', color = 'blue', figsize=(10,6))"
   ]
  },
  {
   "cell_type": "code",
   "execution_count": 120,
   "metadata": {},
   "outputs": [
    {
     "name": "stdout",
     "output_type": "stream",
     "text": [
      "Корреляция между отзывами пользователей и продажами: 0.42198802974083843\n",
      "Корреляция между отзывами критиков и продажами: 0.39996064744692794\n"
     ]
    }
   ],
   "source": [
    "#Посчитаем корреляцию относительно оценок и продаж.\n",
    "correlation_user_x = data_wiiu['user_score'].corr(data_wiiu['total_sales'])\n",
    "correlation_critic_x = data_wiiu['critic_score'].corr(data_wiiu['total_sales'])\n",
    "\n",
    "print(f'Корреляция между отзывами пользователей и продажами: {correlation_user_x}')\n",
    "print(f'Корреляция между отзывами критиков и продажами: {correlation_critic_x}')\n"
   ]
  },
  {
   "cell_type": "markdown",
   "metadata": {},
   "source": [
    "Достаточно сильная положительная линейная связь между отзывами пользователей и продажами - 0.42. Чуть менее сильная положительная связь между отзывами критиков и продажами - 0.4.\n",
    "Можно сказать, что для игры приставки Nintendo Wii более выраженная связь между отзывами и продажами, в сравнении с PS4\n",
    "- Теперь возьмем топ-10 платформ и посмотрим на показатель корреляции."
   ]
  },
  {
   "cell_type": "code",
   "execution_count": 121,
   "metadata": {},
   "outputs": [
    {
     "name": "stdout",
     "output_type": "stream",
     "text": [
      "              total_sales  user_score  critic_score\n",
      "total_sales      1.000000    0.193087      0.266193\n",
      "user_score       0.193087    1.000000      0.910289\n",
      "critic_score     0.266193    0.910289      1.000000\n"
     ]
    },
    {
     "data": {
      "image/png": "[encoded data removed]",
      "text/plain": [
       "<Figure size 720x504 with 2 Axes>"
      ]
     },
     "metadata": {
      "needs_background": "light"
     },
     "output_type": "display_data"
    }
   ],
   "source": [
    "#Отфильтруем топ-10 платформ с выпущенными играми после 2005 года (переменную уже создавали до этого с годом)\n",
    "games_filtered = games_filtered[games_filtered['platform'].isin(games_filtered['platform'].value_counts().head(10).index)]\n",
    "\n",
    "#Построим матрицу корреляции\n",
    "correlation_matrix = games_filtered[['total_sales', 'user_score', 'critic_score']].corr()\n",
    "print(correlation_matrix)\n",
    "\n",
    "#Также можно построить тепловую карту\n",
    "plt.figure(figsize=(10, 7))\n",
    "sns.heatmap(correlation_matrix, annot=True, cmap='crest')\n",
    "plt.title('Correlation Matrix')\n",
    "plt.show()\n"
   ]
  },
  {
   "cell_type": "markdown",
   "metadata": {},
   "source": [
    "- На примере топ-10 платформ по выпуску игр с 2014 года видим, что есть слабая положительная линейная связь. Корреляция между оценкой критиков и продажами - 0.27. Между оценкой пользователей и продажами - 0.19.Положительная линейная связь есть между этими показателями, но слабая."
   ]
  },
  {
   "cell_type": "code",
   "execution_count": 122,
   "metadata": {},
   "outputs": [
    {
     "data": {
      "image/png": "[encoded data removed]",
      "text/plain": [
       "<Figure size 864x432 with 1 Axes>"
      ]
     },
     "metadata": {
      "needs_background": "light"
     },
     "output_type": "display_data"
    },
    {
     "name": "stdout",
     "output_type": "stream",
     "text": [
      "Самые прибыльные жанры: genre\n",
      "Action          126.61\n",
      "Shooter         101.66\n",
      "Role-Playing     81.27\n",
      "Name: total_sales, dtype: float64\n",
      "\n",
      "Жанры с наименьшими продажами: genre\n",
      "Simulation    11.61\n",
      "Strategy       3.61\n",
      "Puzzle         2.09\n",
      "Name: total_sales, dtype: float64\n"
     ]
    }
   ],
   "source": [
    "#Сгруппируем данные по жанру и суммируем продажи\n",
    "genre_sales = games_filtered.groupby('genre')['total_sales'].sum().sort_values(ascending=False)\n",
    "\n",
    "#Построим график\n",
    "plt.figure(figsize=(12, 6))\n",
    "genre_sales.plot(kind='bar', color='seagreen', edgecolor = 'black')\n",
    "plt.title('Рейтинг жанров по выручке')\n",
    "plt.xlabel('genre')\n",
    "plt.ylabel('total sales')\n",
    "plt.xticks(rotation=45)\n",
    "plt.show()\n",
    "\n",
    "print(\"Самые прибыльные жанры:\",genre_sales.head(3))\n",
    "print(\"\\nЖанры с наименьшими продажами:\",genre_sales.tail(3))\n",
    "\n",
    "\n",
    "\n",
    "\n",
    "\n",
    "\n"
   ]
  },
  {
   "cell_type": "markdown",
   "metadata": {},
   "source": [
    "Не удивительно, что игры жанра \"Action\" являются такими популярными, ведь эта разновидность появилась раньше всех и сама по себе динамика таких игр не надоедает пользователям. Первая Fifa появилась в 1993 году, и по сей день является одной из самых топовых игр среди всех остальных, не говоря уже о других играх жанра \"Sports\". Шутеры также уже очень давно популярны среди пользователей. Взять например, всемирно известный COD, которые практически каждый год выпускают продолжения, дополнения и прочее. \n",
    "Пазлы являются детским жанром, поэтому рассчитаны на определенных пользователей, отсюда и низкие продажи. Качественные игры в жанрах Adventure и Strategy выпускаются редко, это сложные по своей наполненности игры и их нельзя штамповать как условную Fifa из года в год. В этих жанрах нужно постоянно добавлять новое и увлекать пользователя, отсюда и такие низкие показатели. В целом игр этих жанров не так много, их производство требует больших финансов.\n"
   ]
  },
  {
   "cell_type": "markdown",
   "metadata": {},
   "source": [
    "- Рассмотрим теперь медианные значения продаж по жанрам, так как количество выпускаемых игр жанра Action сильно превышает остальные.  "
   ]
  },
  {
   "cell_type": "code",
   "execution_count": 123,
   "metadata": {},
   "outputs": [
    {
     "data": {
      "image/png": "[encoded data removed]",
      "text/plain": [
       "<Figure size 864x432 with 1 Axes>"
      ]
     },
     "metadata": {
      "needs_background": "light"
     },
     "output_type": "display_data"
    },
    {
     "name": "stdout",
     "output_type": "stream",
     "text": [
      "Самые прибыльные жанры: genre\n",
      "Shooter    1.993333\n",
      "Sports     0.955893\n",
      "Racing     0.775172\n",
      "Name: total_sales, dtype: float64\n",
      "\n",
      "Жанры с наименьшими продажами: genre\n",
      "Puzzle       0.209000\n",
      "Strategy     0.112812\n",
      "Adventure    0.091395\n",
      "Name: total_sales, dtype: float64\n"
     ]
    }
   ],
   "source": [
    "genre_sales = games_filtered.groupby('genre')['total_sales'].mean().sort_values(ascending=False)\n",
    "\n",
    "#Построим график\n",
    "plt.figure(figsize=(12, 6))\n",
    "genre_sales.plot(kind='bar', color='seagreen', edgecolor = 'black')\n",
    "plt.title('Рейтинг жанров по выручке')\n",
    "plt.xlabel('genre')\n",
    "plt.ylabel('total sales')\n",
    "plt.xticks(rotation=45)\n",
    "plt.show()\n",
    "\n",
    "print(\"Самые прибыльные жанры:\",genre_sales.head(3))\n",
    "print(\"\\nЖанры с наименьшими продажами:\",genre_sales.tail(3))"
   ]
  },
  {
   "cell_type": "markdown",
   "metadata": {},
   "source": [
    "Да, действительно. Правильные выводы нужно делать по второму графику, где представлены средние значения по продажам.\n",
    "    \n",
    "- Шутеры приносят в среднем 2 млн ;\n",
    "    \n",
    "- Игры в жанре Спорт ~1млн;\n",
    "    \n",
    "- Гонки приносят ~0.8 млн.\n",
    "    \n",
    "- Action при таком расладе лишь на 7 месте по выручке;\n",
    "    \n",
    "- Самые не прибыльные жанры Puzzle, Strategy и Adventure. "
   ]
  },
  {
   "cell_type": "markdown",
   "metadata": {},
   "source": [
    "# Шаг 4. Составим портрет пользователя каждого региона. "
   ]
  },
  {
   "cell_type": "markdown",
   "metadata": {},
   "source": [
    "- Определим для пользователя каждого региона (NA, EU, JP): Самые популярные платформы (топ-5)"
   ]
  },
  {
   "cell_type": "code",
   "execution_count": 124,
   "metadata": {},
   "outputs": [
    {
     "name": "stdout",
     "output_type": "stream",
     "text": [
      "Доля продаж по топ-5 платформам в Северной Америке: platform\n",
      "PS4     59.291200\n",
      "3DS     13.282135\n",
      "XOne     9.486340\n",
      "WiiU     8.290319\n",
      "PS3      3.405514\n",
      "Name: na_sales, dtype: float64\n",
      "\n",
      "Доля продаж по топ-5 платформам в Европе: platform\n",
      "PS4     70.906516\n",
      "3DS      8.181303\n",
      "WiiU     5.178470\n",
      "PC       4.895184\n",
      "XOne     4.662890\n",
      "Name: eu_sales, dtype: float64\n",
      "\n",
      "Доля продаж по топ-5 платформам в Японии: platform\n",
      "3DS     55.168104\n",
      "PS4     16.722910\n",
      "PSV     13.185852\n",
      "WiiU     7.786527\n",
      "PS3      6.611674\n",
      "Name: jp_sales, dtype: float64\n"
     ]
    }
   ],
   "source": [
    "#Сгруппируем данные по платформе и региону\n",
    "platform_sales_na = games_filtered.groupby('platform')['na_sales'].sum().sort_values(ascending=False).head()\n",
    "platform_sales_eu = games_filtered.groupby('platform')['eu_sales'].sum().sort_values(ascending=False).head()\n",
    "platform_sales_jp = games_filtered.groupby('platform')['jp_sales'].sum().sort_values(ascending=False).head()\n",
    "\n",
    "#Посчитаем доли для каждого региона\n",
    "total_sales_na = games_filtered['na_sales'].sum()\n",
    "sales_percent_na = (platform_sales_na / total_sales_na) * 100 \n",
    "\n",
    "total_sales_eu = games_filtered['eu_sales'].sum()\n",
    "sales_percent_eu = (platform_sales_eu / total_sales_eu) * 100\n",
    "\n",
    "total_sales_jp = games_filtered['jp_sales'].sum()\n",
    "sales_percent_jp = (platform_sales_jp / total_sales_jp) * 100\n",
    "\n",
    "#Выведем на экран долю продаж в каждом регионе\n",
    "print(\"Доля продаж по топ-5 платформам в Северной Америке:\", sales_percent_na)\n",
    "print(\"\\nДоля продаж по топ-5 платформам в Европе:\", sales_percent_eu)\n",
    "print(\"\\nДоля продаж по топ-5 платформам в Японии:\", sales_percent_jp)\n",
    "\n",
    "\n"
   ]
  },
  {
   "cell_type": "markdown",
   "metadata": {},
   "source": [
    "- Самые популярные платформы в Северной Америке считаются приставки PS4(59%) и Nintendo 3Ds (13%). Далее Xbox One (9%). Следующими по популярности идут Nintendo WiiU (8%) и PS3 (3%)\n",
    "- В Европе самыми популярными являются PS4 (71%), Nintendo 3Ds (8%) и потом Nintendo Wii (5%). Далее идут PC (4.9%) и Xbox One (4.6%).\n",
    "- В Японии Топ-5 приставок являются приставки их собственного производства. Nintendo 3Ds (55%), PS4 (17%), PSV(13%), Nintendo Wii (11%) и PS3 (7%)."
   ]
  },
  {
   "cell_type": "markdown",
   "metadata": {},
   "source": [
    "- Определим для пользователя каждого региона (NA, EU, JP):\n",
    "Самые популярные жанры (топ-5)\n",
    "- Теперь построим графики для наглядности"
   ]
  },
  {
   "cell_type": "code",
   "execution_count": 125,
   "metadata": {},
   "outputs": [
    {
     "data": {
      "image/png": "[encoded data removed]",
      "text/plain": [
       "<Figure size 576x576 with 1 Axes>"
      ]
     },
     "metadata": {},
     "output_type": "display_data"
    },
    {
     "data": {
      "image/png": "[encoded data removed]",
      "text/plain": [
       "<Figure size 576x576 with 1 Axes>"
      ]
     },
     "metadata": {},
     "output_type": "display_data"
    },
    {
     "data": {
      "image/png": "[encoded data removed]",
      "text/plain": [
       "<Figure size 576x576 with 1 Axes>"
      ]
     },
     "metadata": {},
     "output_type": "display_data"
    }
   ],
   "source": [
    "#Создадим 3 переменные, где сгруппируем продажи в отдельном регионе и жанрам.\n",
    "#Далее построим для каждой переменной круговую диаграмму\n",
    "\n",
    "grouped_na = games_filtered.groupby(by='genre').agg({'na_sales':'sum'}).sort_values(\n",
    "    by='na_sales', ascending=False)\n",
    "grouped_na.plot(x = 'genre', y = 'na_sales',kind = 'pie', figsize = (8,8),autopct='%1.1f%%',\n",
    "                title = 'Топ жанров в Северной Америке', startangle=90)\n",
    "plt.legend(loc='right', bbox_to_anchor=(1.3, 0.8))\n",
    "\n",
    "grouped_eu = games_filtered.groupby(by='genre').agg({'eu_sales':'sum'}).sort_values(\n",
    "    by='eu_sales', ascending=False)\n",
    "grouped_eu.plot(x = 'genre', y = 'eu_sales',kind = 'pie', figsize = (8,8),autopct='%1.1f%%',\n",
    "                title = 'Топ жанров в Европе', startangle=90)\n",
    "plt.legend(loc='right', bbox_to_anchor=(1.3, 0.8))\n",
    "\n",
    "grouped_jp = games_filtered.groupby(by='genre').agg({'jp_sales':'sum'}).sort_values(\n",
    "    by='jp_sales', ascending=False)\n",
    "grouped_jp.plot(x = 'genre', y = 'jp_sales',kind = 'pie', figsize = (8,8),autopct='%1.1f%%',\n",
    "                title = 'Топ жанров в Японии', startangle=90)\n",
    "\n",
    "plt.legend(loc='right',bbox_to_anchor=(1.3, 0.8))\n",
    "plt.show()"
   ]
  },
  {
   "cell_type": "markdown",
   "metadata": {},
   "source": [
    "В Северной Америке самые популярные жанры:\n",
    "- Shooter 26.5%\n",
    "- Action 24.7%\n",
    "- RPG 15%\n",
    "- Sports 11.7%  \n",
    "- Misc 4.9%\n",
    "\n",
    "\n",
    "В Европе самые популярные жанры:\n",
    "- Action 26.9%\n",
    "- Shooter 23.2% \n",
    "- Sports 14%\n",
    "- RPG 12.2%\n",
    "- Racing 6.4%\n",
    "\n",
    "В Японии самые популярные жанры:\n",
    "- RPG 36.2%\n",
    "- Action 30.4%\n",
    "- Fighting 6%\n",
    "- Misc 5.2%\n",
    "- Shooter 5.2%"
   ]
  },
  {
   "cell_type": "markdown",
   "metadata": {},
   "source": [
    "Ситуация по играм в Северной Америке и Европе практически идентичная. Топ-5 очень похож в этих регионах.\n",
    "В Японии лидером жанров является RPG с более явным преимуществом, далее Action, Fighting, Misc и Shooter. "
   ]
  },
  {
   "cell_type": "markdown",
   "metadata": {},
   "source": [
    "- Определим, влияет ли рейтинг ESRB на продажи в отдельном регионе\n"
   ]
  },
  {
   "cell_type": "code",
   "execution_count": 126,
   "metadata": {},
   "outputs": [
    {
     "name": "stdout",
     "output_type": "stream",
     "text": [
      "['unrated' 'M' 'E' 'T' 'E10+']\n"
     ]
    }
   ],
   "source": [
    "#Построим какие бывают рейтинги\n",
    "print(games_filtered['rating'].unique())\n",
    "\n",
    "#Сгруппируем по региону и рейтингу\n",
    "genre_sales_na = games_filtered.groupby('genre')['na_sales'].sum().sort_values(ascending=False)\n",
    "genre_sales_eu = games_filtered.groupby('genre')['eu_sales'].sum().sort_values(ascending=False)\n",
    "genre_sales_jp = games_filtered.groupby('genre')['jp_sales'].sum().sort_values(ascending=False)"
   ]
  },
  {
   "cell_type": "markdown",
   "metadata": {},
   "source": [
    "Опишем значение рейтинга ESRB:\n",
    "- 'E' - 'Все возраста'\n",
    "- 'E10+' - '10+'\n",
    "- 'T' - '13+'\n",
    "- 'M' - '17+'\n",
    "- 'AO' - '18+'\n",
    "- 'RP' - 'Рейтинг ожидается'\n",
    "- 'K-A' - 'Все возраста' (старое значение)\n",
    "- 'EC' - '3+'\n",
    "- 'unrated' - 'Рейтинга нет'"
   ]
  },
  {
   "cell_type": "code",
   "execution_count": 127,
   "metadata": {},
   "outputs": [
    {
     "data": {
      "text/plain": [
       "array(['unrated', 'M', 'E', 'T', 'E10+'], dtype=object)"
      ]
     },
     "execution_count": 127,
     "metadata": {},
     "output_type": "execute_result"
    }
   ],
   "source": [
    "#Переименуем рейтинг 'K-E' на 'E', так как у них одно и то же значение\n",
    "#games_filtered['rating'] = games_filtered['rating'].replace('K-A','E')\n",
    "games_filtered['rating'].unique()"
   ]
  },
  {
   "cell_type": "code",
   "execution_count": 128,
   "metadata": {},
   "outputs": [
    {
     "data": {
      "image/png": "[encoded data removed]",
      "text/plain": [
       "<Figure size 432x288 with 1 Axes>"
      ]
     },
     "metadata": {
      "needs_background": "light"
     },
     "output_type": "display_data"
    },
    {
     "data": {
      "image/png": "[encoded data removed]",
      "text/plain": [
       "<Figure size 432x288 with 1 Axes>"
      ]
     },
     "metadata": {
      "needs_background": "light"
     },
     "output_type": "display_data"
    },
    {
     "data": {
      "image/png": "[encoded data removed]",
      "text/plain": [
       "<Figure size 432x288 with 1 Axes>"
      ]
     },
     "metadata": {
      "needs_background": "light"
     },
     "output_type": "display_data"
    }
   ],
   "source": [
    "#Сгруппируем данные по рейтингу и продажам. Далее выведем на экран столбчатые диаграммы\n",
    "games_filtered.groupby(by = 'rating').agg({'na_sales':'sum'}).sort_values(by='na_sales', ascending=False).head(5).plot(kind='bar', color = 'blue',edgecolor = 'black')\n",
    "games_filtered.groupby(by = 'rating').agg({'eu_sales':'sum'}).sort_values(by='eu_sales', ascending=False).head(5).plot(kind='bar', color = 'blue',edgecolor = 'black')\n",
    "games_filtered.groupby(by = 'rating').agg({'jp_sales':'sum'}).sort_values(by='jp_sales', ascending=False).head(5).plot(kind='bar', color = 'blue',edgecolor = 'black')\n",
    "\n",
    "plt.show()\n",
    "\n",
    "\n"
   ]
  },
  {
   "cell_type": "markdown",
   "metadata": {},
   "source": [
    "На графиках видим количество проданных игр по рейтингу ESRB. В Северной Америке и Европе схожие графики. \n",
    "- В Северной Америке больше всего проданных игр с рейтингом  M (17+) - 50млн, Игры без ретинга ~ 40 млн, E (Для всех возратов) - 27млн, далее рейтинг T (13+) - 25 млн и E10+ ~ 15 млн.\n",
    "- В Европе очень схожее распределение: M - 60млн, Unrated - 40 млн, E - 37 млн, T - 25 млн и E10+ - 13 млн.\n",
    "- В Японии на первом месте игры без рейтинга ~ 50млн. Далее идут T - 12 млн, E - 9 млн, M - 7 млн и E10+ - 4 млн\n",
    "# \n",
    "Объяснить лидерство в Японии игр без рейтинга можно так. ESRB является американской системой оценок игр и  возможно эта система не популярна в Азии и в частности в Японии, поэтому многие игры местного производства выходят на рынок без такой оценки."
   ]
  },
  {
   "cell_type": "markdown",
   "metadata": {},
   "source": [
    "# Шаг 5. Проверим гипотезы"
   ]
  },
  {
   "cell_type": "markdown",
   "metadata": {},
   "source": [
    "## Гипотеза о равенстве средних пользовательских рейтингов платформ Xbox One и PC. \n",
    "\n",
    "- H0 - средний пользовательский рейтинг у Xbox One и PC одинаковый \n",
    "- H1 - средний пользовательский рейтинг у Xbox One и у PC различается\n",
    "\n"
   ]
  },
  {
   "cell_type": "code",
   "execution_count": 129,
   "metadata": {},
   "outputs": [
    {
     "name": "stdout",
     "output_type": "stream",
     "text": [
      "p-значение: 0.4875375907642625\n",
      "Не получилось отвергнуть нулевую гипотезу: средний пользовательский рейтинг у Xbox One и PC одинаковый\n"
     ]
    }
   ],
   "source": [
    "#Создадим переменные по платформам Xbox и PC\n",
    "\n",
    "xbox_ratings = games_filtered[(games_filtered['platform'] == 'XOne') & (games_filtered['user_score'] > 0)]['user_score']\n",
    "pc_ratings = games_filtered[(games_filtered['platform'] == 'PC') & (games_filtered['user_score'] > 0)]['user_score']\n",
    "\n",
    "#Проведем t-тест для двух независимых выборок \n",
    "\n",
    "alpha = 0.05  \n",
    "results = st.ttest_ind(xbox_ratings, pc_ratings)\n",
    "\n",
    "print ('p-значение:',results.pvalue)\n",
    "if results.pvalue < alpha:\n",
    "    print(\"Отвергаем нулевую гипотезу: средний пользовательский рейтинг у Xbox One и у PC различается\")\n",
    "else:\n",
    "    print(\"Не получилось отвергнуть нулевую гипотезу: средний пользовательский рейтинг у Xbox One и PC одинаковый\")\n"
   ]
  },
  {
   "cell_type": "markdown",
   "metadata": {},
   "source": [
    "Не получилось отвергнуть нулевую гипотезу. Это значит у нас нет оснований утверждать, что средние пользовательские рейтинги на Xbox One и PC значимо различаются. Выведем эти показатели.\n"
   ]
  },
  {
   "cell_type": "code",
   "execution_count": 130,
   "metadata": {},
   "outputs": [
    {
     "name": "stdout",
     "output_type": "stream",
     "text": [
      "Пользовательский рейтинг Xbox One: 7.0227272727272725\n",
      "Пользовательский рейтинг PC: 6.792500000000001\n"
     ]
    }
   ],
   "source": [
    "print ('Пользовательский рейтинг Xbox One:', xbox_ratings.mean())\n",
    "print ('Пользовательский рейтинг PC:', pc_ratings.mean())"
   ]
  },
  {
   "cell_type": "markdown",
   "metadata": {},
   "source": [
    "Пользовательский рейтинг игр на Xbox One выше на 0.22. Это достаточно значимая разница, учитывая количество выпускаемых игр. "
   ]
  },
  {
   "cell_type": "markdown",
   "metadata": {},
   "source": [
    "## Гипотеза о равенстве пользовательских рейтингов жанров Action и Sports.\n",
    "\n",
    "- H0 - средние пользовательские рейтинги жанра Action и Sports одинаковые\n",
    "- H1 - средние пользовательские рейтинги жанра Action и Sports отличаются"
   ]
  },
  {
   "cell_type": "code",
   "execution_count": 131,
   "metadata": {},
   "outputs": [
    {
     "name": "stdout",
     "output_type": "stream",
     "text": [
      "p-значение: 1.3665726646393027e-06\n",
      "Отвергаем нулевую гипотезу: средний пользовательский рейтинг Action и Sports различается\n"
     ]
    }
   ],
   "source": [
    "action_ratings = games_filtered[(games_filtered['genre'] == 'Action') & (games_filtered['user_score'] > 0)]['user_score']\n",
    "sports_ratings = games_filtered[(games_filtered['genre'] == 'Sports') & (games_filtered['user_score'] > 0)]['user_score']\n",
    "\n",
    "alpha = 0.05  \n",
    "results = st.ttest_ind(action_ratings, sports_ratings)\n",
    "\n",
    "print ('p-значение:',results.pvalue)\n",
    "if results.pvalue < alpha:\n",
    "    print(\"Отвергаем нулевую гипотезу: средний пользовательский рейтинг Action и Sports различается\")\n",
    "else:\n",
    "    print(\"Не получилось отвергнуть нулевую гипотезу: средний пользовательский рейтинг Action и Sports одинаковый\")\n"
   ]
  },
  {
   "cell_type": "code",
   "execution_count": 132,
   "metadata": {},
   "outputs": [
    {
     "name": "stdout",
     "output_type": "stream",
     "text": [
      "Пользовательский рейтинг Action: 7.0204545454545455\n",
      "Пользовательский рейтинг Sports: 5.815555555555555\n"
     ]
    }
   ],
   "source": [
    "#Посмотрим на значения\n",
    "print ('Пользовательский рейтинг Action:', action_ratings.mean())\n",
    "print ('Пользовательский рейтинг Sports:', sports_ratings.mean())"
   ]
  },
  {
   "cell_type": "markdown",
   "metadata": {},
   "source": [
    "Отвергли нулевую гипотезу, а это значит, что есть основания утверждать о различии средних пользовательских рейтингов жанров Action и Sports. Средний рейтинг выше у игр жанра Action на 1.18, чем у жанра Sports."
   ]
  },
  {
   "cell_type": "markdown",
   "metadata": {},
   "source": [
    "# Выводы по исследованию.\n",
    "\n",
    "# Подготовили данные:\n",
    "1. Заменили названия столбцов, привели к нижнему регистру.\n",
    "2. Преобразовали данные в нужные типы:\n",
    "   - 'year_of_release' был преобразован в тип данных datetime;\n",
    "   - 'critic_score' и 'user_score' были преобразованы в числовой тип данных.\n",
    "3. Обработали дубликаты по двум столбцам Название-Платформа;\n",
    "4. Пропуски в столбцах 'critic_score', 'user_score', 'rating' поменяли на '0', так как заполнение их средними или медианными значениями может исказить анализ. Обработали аббревиатуру 'tbd' в столбце пользовательской оценки также заменили на '0', так как этот показатель означает нехватку оценок;\n",
    "5. В столбцах 'genre' и 'name' пропуски заполнили значением 'unknown';\n",
    "6. Создали новый столбец 'total_sales', где посчитали сумму всех продаж по регионам.\n",
    "\n",
    "# Далее перешли к исследованию:\n",
    "\n",
    "1. Проанализировали количество выпущенных игр по годам, в 2008-2009 году были самые высокие показатели по выпущенным играм, далее был спад, скорее всего из-за популяризации мобильных гаджетов;\n",
    "2. Изучили изменения продаж по платформам. Выявили топ-5 платформ с наибольшими суммарными продажами : PS2, X360, PS3, Nintendo Wii и Nintendo DS;\n",
    "3. Выявлен актуальный период для анализа данных - начиная с 2014 года;\n",
    "4. Проанализировали график с прожами игр с 2014 года, выявяли что средний показатель \"жизни\" приставки ~10 лет, новые поколения заменяют всегда старые;\n",
    "5. Построили \"ящик с усами\" по глобальным продажам игр топ-5 платформ в 2016 году - PS4, Nintendo 3Ds и следом Nintendo Wii являлись самыми актуальными и прибыльными по данным за 2016 год;\n",
    "6. Далее построили \"Ящик с усами\" для топ-3 платформ за актуальный период и изучили глобальные продажи;\n",
    "7. Изучили влияние отзывов пользователей и критиков на продажи игр, определили что коэффицент корреляции слабый, но положительный в обоих случаях ~ 0.2;\n",
    "8. Проанализировали распределение игр по жанрам. Топ-3 жанра - Action, Sports и Shooter.\n",
    "\n",
    "# Составили портрет пользователя по региону:\n",
    "\n",
    "1. Пользователи Северной Америки отдают предпочтения следующим приставкам (топ-3) PS4, Nintendo 3DS, XOne. Предпочитаемые жанры Shooter, Action, RPG. Рейтинг \"17+\", Без рейтинга и \"для всех возрастов\" также самые актуальные в этом регионе.\n",
    "2. Пользователи из Европы предпочитают PS4, 3DS, WiiU . Любимые жанры как и в Европе - Action, Shooter, Sports. С рейтингом ESRB все идентично с Америкой.\n",
    "3. В Японии самые популярные приставки(топ-3) за актуальный период 3DS, PS4, PSV.  Самый попялярный жанр - RPG 36%, Action 30.4%, Fighting 6%. В Японии есть своя рейтинговая модель CERO, поэтому в нашей таблице с рейтингом ESRB в Японии лидирующее место занимают Игры без рейтинга. \n",
    "\n",
    "# Проверили гипотезы:\n",
    "\n",
    "- о равенстве средних пользовательских рейтингов платформ Xbox One и PC;\n",
    "- о различии средних пользовательских рейтингов жанров Action и Sports.\n",
    "Сделали выводы, что пользовательский рейтинг игр Xbox One выше рейтинга на PC на 0.22 и средний рейтинг выше у игр жанра Action на 1.18, чем у жанра Sports.\n",
    "\n",
    "# \n",
    "В результате проведенного исследования были выявлены основные тенденции на рынке компьютерных игр, определены потенциально прибыльные платформы и жанры, а также изучено влияние различных факторов на продажи игр. Полученные данные могут быть использованы для формирования стратегии развития компании в индустрии видеоигр.\n",
    "\n"
   ]
  },
  {
   "cell_type": "markdown",
   "metadata": {},
   "source": [
    "# Рекомендации для интернет-магазина игр Стримчик:\n",
    "\n",
    "\n",
    "1. Платформы: \n",
    "- Рекламируйте игры на платформах PS4 и Nintendo 3DS, так как они показывают хорошие результаты по продажам в различных регионах.\n",
    "\n",
    "2. Жанры:\n",
    "- Сосредоточьтесь на жанрах Action и Shooter, так как они популярны во всех регионах и имеют высокие продажи, в Японии большим спросом пользуются PRG игры.\n",
    "\n",
    "3. Рейтинг ESRB:\n",
    "- Игры с рейтингом \"17+\" и \"для всех возрастов\" также показывают хорошие результаты продаж, поэтому стоит уделить внимание играм с этими рейтингами.\n",
    "\n",
    "4. Регион:\n",
    "- В Северной Америке и Европе рекламируйте игры на PS4, а в Японии обратите внимание на 3DS, так как эти платформы наиболее популярны в соответствующих регионах.\n",
    "\n",
    "5. Отзывы:\n",
    "- Учитывайте отзывы пользователей и критиков при выборе игр для рекламы, так как они могут оказать влияние на продажи. Важно отметить, что хотя корреляция между отзывами и продажами слабая, положительные отзывы могут привлечь больше покупателей.\n",
    "\n",
    "# \n",
    "\n",
    "Таким образом, рекомендуется сосредоточить рекламный бюджет на играх для платформ PS4 и Nintendo 3DS, жанрах Action и Shooter с рейтингом \"17+\" и \"для всех возрастов\", а также учитывать региональные особенности при планировании рекламных кампаний."
   ]
  }
 ],
 "metadata": {
  "ExecuteTimeLog": [
   {
    "duration": 119,
    "start_time": "2024-03-11T17:19:00.132Z"
   },
   {
    "duration": 107,
    "start_time": "2024-03-11T17:19:03.373Z"
   },
   {
    "duration": 438,
    "start_time": "2024-03-11T17:19:51.376Z"
   },
   {
    "duration": 185,
    "start_time": "2024-03-11T17:20:31.870Z"
   },
   {
    "duration": 19,
    "start_time": "2024-03-11T17:21:43.574Z"
   },
   {
    "duration": 3,
    "start_time": "2024-03-11T17:25:26.134Z"
   },
   {
    "duration": 54,
    "start_time": "2024-03-11T17:25:26.522Z"
   },
   {
    "duration": 14,
    "start_time": "2024-03-11T17:25:26.957Z"
   },
   {
    "duration": 1101,
    "start_time": "2024-03-11T17:30:03.100Z"
   },
   {
    "duration": 66,
    "start_time": "2024-03-11T17:30:04.805Z"
   },
   {
    "duration": 17,
    "start_time": "2024-03-11T17:30:05.402Z"
   },
   {
    "duration": 29,
    "start_time": "2024-03-11T17:30:26.185Z"
   },
   {
    "duration": 14,
    "start_time": "2024-03-11T17:32:51.645Z"
   },
   {
    "duration": 14,
    "start_time": "2024-03-11T17:32:57.754Z"
   },
   {
    "duration": 14,
    "start_time": "2024-03-11T17:33:50.565Z"
   },
   {
    "duration": 19,
    "start_time": "2024-03-11T17:37:52.940Z"
   },
   {
    "duration": 131,
    "start_time": "2024-03-11T17:39:56.510Z"
   },
   {
    "duration": 13,
    "start_time": "2024-03-11T17:41:37.575Z"
   },
   {
    "duration": 4,
    "start_time": "2024-03-11T17:42:40.331Z"
   },
   {
    "duration": 5,
    "start_time": "2024-03-11T17:44:03.420Z"
   },
   {
    "duration": 56,
    "start_time": "2024-03-11T17:47:25.344Z"
   },
   {
    "duration": 53,
    "start_time": "2024-03-11T17:47:26.062Z"
   },
   {
    "duration": 14,
    "start_time": "2024-03-11T17:47:26.937Z"
   },
   {
    "duration": 19,
    "start_time": "2024-03-11T17:47:28.301Z"
   },
   {
    "duration": 14,
    "start_time": "2024-03-11T17:47:32.059Z"
   },
   {
    "duration": 16,
    "start_time": "2024-03-11T17:53:39.589Z"
   },
   {
    "duration": 13,
    "start_time": "2024-03-11T17:53:56.670Z"
   },
   {
    "duration": 4,
    "start_time": "2024-03-11T17:54:00.782Z"
   },
   {
    "duration": 53,
    "start_time": "2024-03-11T17:54:01.348Z"
   },
   {
    "duration": 15,
    "start_time": "2024-03-11T17:54:01.747Z"
   },
   {
    "duration": 22,
    "start_time": "2024-03-11T17:54:02.201Z"
   },
   {
    "duration": 15,
    "start_time": "2024-03-11T17:54:03.923Z"
   },
   {
    "duration": 18,
    "start_time": "2024-03-11T17:54:05.120Z"
   },
   {
    "duration": 5,
    "start_time": "2024-03-11T17:57:34.378Z"
   },
   {
    "duration": 8,
    "start_time": "2024-03-11T18:04:39.618Z"
   },
   {
    "duration": 9,
    "start_time": "2024-03-11T18:04:45.850Z"
   },
   {
    "duration": 4,
    "start_time": "2024-03-11T18:05:44.262Z"
   },
   {
    "duration": 6,
    "start_time": "2024-03-11T18:06:38.384Z"
   },
   {
    "duration": 16,
    "start_time": "2024-03-11T18:07:07.226Z"
   },
   {
    "duration": 21,
    "start_time": "2024-03-11T18:07:28.335Z"
   },
   {
    "duration": 19,
    "start_time": "2024-03-11T18:21:18.707Z"
   },
   {
    "duration": 6,
    "start_time": "2024-03-11T18:21:30.326Z"
   },
   {
    "duration": 7,
    "start_time": "2024-03-11T18:31:16.145Z"
   },
   {
    "duration": 12,
    "start_time": "2024-03-11T18:35:25.491Z"
   },
   {
    "duration": 1575,
    "start_time": "2024-03-11T18:37:14.613Z"
   },
   {
    "duration": 6,
    "start_time": "2024-03-11T18:37:27.479Z"
   },
   {
    "duration": 10,
    "start_time": "2024-03-11T18:38:49.156Z"
   },
   {
    "duration": 10,
    "start_time": "2024-03-11T18:38:51.205Z"
   },
   {
    "duration": 13,
    "start_time": "2024-03-11T18:45:08.750Z"
   },
   {
    "duration": 11,
    "start_time": "2024-03-11T18:45:19.114Z"
   },
   {
    "duration": 10,
    "start_time": "2024-03-11T18:47:45.110Z"
   },
   {
    "duration": 6,
    "start_time": "2024-03-11T18:48:05.959Z"
   },
   {
    "duration": 16,
    "start_time": "2024-03-11T18:48:19.336Z"
   },
   {
    "duration": 3,
    "start_time": "2024-03-11T18:50:19.970Z"
   },
   {
    "duration": 52,
    "start_time": "2024-03-11T18:50:20.363Z"
   },
   {
    "duration": 19,
    "start_time": "2024-03-11T18:50:20.812Z"
   },
   {
    "duration": 22,
    "start_time": "2024-03-11T18:50:21.265Z"
   },
   {
    "duration": 13,
    "start_time": "2024-03-11T18:50:23.102Z"
   },
   {
    "duration": 5,
    "start_time": "2024-03-11T18:50:24.216Z"
   },
   {
    "duration": 18,
    "start_time": "2024-03-11T18:50:25.339Z"
   },
   {
    "duration": 6,
    "start_time": "2024-03-11T18:50:26.567Z"
   },
   {
    "duration": 13,
    "start_time": "2024-03-11T18:50:28.662Z"
   },
   {
    "duration": 10,
    "start_time": "2024-03-11T18:50:29.538Z"
   },
   {
    "duration": 13,
    "start_time": "2024-03-11T18:50:31.090Z"
   },
   {
    "duration": 11,
    "start_time": "2024-03-11T18:50:32.012Z"
   },
   {
    "duration": 4,
    "start_time": "2024-03-11T18:50:34.191Z"
   },
   {
    "duration": 16,
    "start_time": "2024-03-11T18:50:35.359Z"
   },
   {
    "duration": 8,
    "start_time": "2024-03-11T18:51:03.126Z"
   },
   {
    "duration": 13,
    "start_time": "2024-03-11T18:51:03.911Z"
   },
   {
    "duration": 9,
    "start_time": "2024-03-11T18:51:05.206Z"
   },
   {
    "duration": 11,
    "start_time": "2024-03-11T18:51:05.750Z"
   },
   {
    "duration": 4,
    "start_time": "2024-03-11T18:51:08.023Z"
   },
   {
    "duration": 17,
    "start_time": "2024-03-11T18:51:08.598Z"
   },
   {
    "duration": 3,
    "start_time": "2024-03-11T18:51:18.962Z"
   },
   {
    "duration": 53,
    "start_time": "2024-03-11T18:51:19.585Z"
   },
   {
    "duration": 16,
    "start_time": "2024-03-11T18:51:20.095Z"
   },
   {
    "duration": 19,
    "start_time": "2024-03-11T18:51:20.763Z"
   },
   {
    "duration": 14,
    "start_time": "2024-03-11T18:51:23.028Z"
   },
   {
    "duration": 5,
    "start_time": "2024-03-11T18:51:24.154Z"
   },
   {
    "duration": 24,
    "start_time": "2024-03-11T18:51:25.643Z"
   },
   {
    "duration": 5,
    "start_time": "2024-03-11T18:51:26.909Z"
   },
   {
    "duration": 11,
    "start_time": "2024-03-11T18:51:39.167Z"
   },
   {
    "duration": 11,
    "start_time": "2024-03-11T18:51:40.133Z"
   },
   {
    "duration": 9,
    "start_time": "2024-03-11T18:51:41.390Z"
   },
   {
    "duration": 12,
    "start_time": "2024-03-11T18:51:41.986Z"
   },
   {
    "duration": 5,
    "start_time": "2024-03-11T18:51:43.764Z"
   },
   {
    "duration": 15,
    "start_time": "2024-03-11T18:51:44.345Z"
   },
   {
    "duration": 8,
    "start_time": "2024-03-11T18:56:09.046Z"
   },
   {
    "duration": 11,
    "start_time": "2024-03-11T18:56:09.444Z"
   },
   {
    "duration": 4,
    "start_time": "2024-03-11T18:56:10.479Z"
   },
   {
    "duration": 15,
    "start_time": "2024-03-11T18:56:10.764Z"
   },
   {
    "duration": 3,
    "start_time": "2024-03-11T18:56:15.347Z"
   },
   {
    "duration": 54,
    "start_time": "2024-03-11T18:56:15.623Z"
   },
   {
    "duration": 20,
    "start_time": "2024-03-11T18:56:15.894Z"
   },
   {
    "duration": 3,
    "start_time": "2024-03-11T18:56:19.215Z"
   },
   {
    "duration": 54,
    "start_time": "2024-03-11T18:56:19.478Z"
   },
   {
    "duration": 15,
    "start_time": "2024-03-11T18:56:19.779Z"
   },
   {
    "duration": 20,
    "start_time": "2024-03-11T18:56:20.045Z"
   },
   {
    "duration": 13,
    "start_time": "2024-03-11T18:56:21.238Z"
   },
   {
    "duration": 5,
    "start_time": "2024-03-11T18:56:21.836Z"
   },
   {
    "duration": 15,
    "start_time": "2024-03-11T18:56:22.427Z"
   },
   {
    "duration": 6,
    "start_time": "2024-03-11T18:56:23.028Z"
   },
   {
    "duration": 9,
    "start_time": "2024-03-11T18:56:23.912Z"
   },
   {
    "duration": 10,
    "start_time": "2024-03-11T18:56:24.199Z"
   },
   {
    "duration": 8,
    "start_time": "2024-03-11T18:56:24.819Z"
   },
   {
    "duration": 10,
    "start_time": "2024-03-11T18:56:25.097Z"
   },
   {
    "duration": 5,
    "start_time": "2024-03-11T18:56:25.983Z"
   },
   {
    "duration": 16,
    "start_time": "2024-03-11T18:56:26.262Z"
   },
   {
    "duration": 1296,
    "start_time": "2024-03-12T16:27:48.476Z"
   },
   {
    "duration": 98,
    "start_time": "2024-03-12T16:27:50.111Z"
   },
   {
    "duration": 15,
    "start_time": "2024-03-12T16:27:50.764Z"
   },
   {
    "duration": 22,
    "start_time": "2024-03-12T16:27:51.167Z"
   },
   {
    "duration": 96,
    "start_time": "2024-03-12T16:27:52.572Z"
   },
   {
    "duration": 1207,
    "start_time": "2024-03-12T16:27:53.238Z"
   },
   {
    "duration": 14,
    "start_time": "2024-03-12T16:28:11.825Z"
   },
   {
    "duration": 5,
    "start_time": "2024-03-12T16:28:15.289Z"
   },
   {
    "duration": 17,
    "start_time": "2024-03-12T16:28:16.547Z"
   },
   {
    "duration": 5,
    "start_time": "2024-03-12T16:28:17.457Z"
   },
   {
    "duration": 11,
    "start_time": "2024-03-12T16:28:18.779Z"
   },
   {
    "duration": 10,
    "start_time": "2024-03-12T16:28:19.497Z"
   },
   {
    "duration": 9,
    "start_time": "2024-03-12T16:28:22.375Z"
   },
   {
    "duration": 12,
    "start_time": "2024-03-12T16:28:23.101Z"
   },
   {
    "duration": 6,
    "start_time": "2024-03-12T16:28:24.895Z"
   },
   {
    "duration": 16,
    "start_time": "2024-03-12T16:28:25.399Z"
   },
   {
    "duration": 4,
    "start_time": "2024-03-12T16:32:37.610Z"
   },
   {
    "duration": 17,
    "start_time": "2024-03-12T16:32:38.048Z"
   },
   {
    "duration": 5,
    "start_time": "2024-03-12T16:34:41.706Z"
   },
   {
    "duration": 16,
    "start_time": "2024-03-12T16:34:44.742Z"
   },
   {
    "duration": 9,
    "start_time": "2024-03-12T16:39:32.032Z"
   },
   {
    "duration": 7,
    "start_time": "2024-03-12T16:40:34.728Z"
   },
   {
    "duration": 8,
    "start_time": "2024-03-12T16:40:43.060Z"
   },
   {
    "duration": 8,
    "start_time": "2024-03-12T16:41:00.841Z"
   },
   {
    "duration": 7,
    "start_time": "2024-03-12T16:43:23.682Z"
   },
   {
    "duration": 1118,
    "start_time": "2024-03-12T16:43:52.331Z"
   },
   {
    "duration": 7,
    "start_time": "2024-03-12T16:44:13.891Z"
   },
   {
    "duration": 3,
    "start_time": "2024-03-12T16:47:56.913Z"
   },
   {
    "duration": 60,
    "start_time": "2024-03-12T16:47:57.324Z"
   },
   {
    "duration": 14,
    "start_time": "2024-03-12T16:47:58.323Z"
   },
   {
    "duration": 21,
    "start_time": "2024-03-12T16:47:59.513Z"
   },
   {
    "duration": 14,
    "start_time": "2024-03-12T16:48:01.994Z"
   },
   {
    "duration": 5,
    "start_time": "2024-03-12T16:48:03.543Z"
   },
   {
    "duration": 17,
    "start_time": "2024-03-12T16:48:04.748Z"
   },
   {
    "duration": 1142,
    "start_time": "2024-03-12T16:48:05.384Z"
   },
   {
    "duration": 15,
    "start_time": "2024-03-12T16:48:45.994Z"
   },
   {
    "duration": 23,
    "start_time": "2024-03-12T16:49:27.300Z"
   },
   {
    "duration": 5,
    "start_time": "2024-03-12T16:49:30.730Z"
   },
   {
    "duration": 11,
    "start_time": "2024-03-12T16:49:31.581Z"
   },
   {
    "duration": 10,
    "start_time": "2024-03-12T16:49:31.924Z"
   },
   {
    "duration": 43,
    "start_time": "2024-03-12T16:49:32.830Z"
   },
   {
    "duration": 11,
    "start_time": "2024-03-12T16:49:33.277Z"
   },
   {
    "duration": 5,
    "start_time": "2024-03-12T16:49:34.672Z"
   },
   {
    "duration": 16,
    "start_time": "2024-03-12T16:49:34.977Z"
   },
   {
    "duration": 13,
    "start_time": "2024-03-12T16:49:51.882Z"
   },
   {
    "duration": 8,
    "start_time": "2024-03-12T16:50:53.981Z"
   },
   {
    "duration": 10,
    "start_time": "2024-03-12T16:51:06.489Z"
   },
   {
    "duration": 8,
    "start_time": "2024-03-12T16:52:52.565Z"
   },
   {
    "duration": 3,
    "start_time": "2024-03-12T16:53:01.281Z"
   },
   {
    "duration": 3,
    "start_time": "2024-03-12T16:53:54.912Z"
   },
   {
    "duration": 55,
    "start_time": "2024-03-12T16:53:55.258Z"
   },
   {
    "duration": 15,
    "start_time": "2024-03-12T16:53:55.648Z"
   },
   {
    "duration": 18,
    "start_time": "2024-03-12T16:53:55.951Z"
   },
   {
    "duration": 14,
    "start_time": "2024-03-12T16:53:57.381Z"
   },
   {
    "duration": 4,
    "start_time": "2024-03-12T16:53:58.196Z"
   },
   {
    "duration": 17,
    "start_time": "2024-03-12T16:53:59.344Z"
   },
   {
    "duration": 16,
    "start_time": "2024-03-12T16:54:00.257Z"
   },
   {
    "duration": 5,
    "start_time": "2024-03-12T16:54:01.863Z"
   },
   {
    "duration": 11,
    "start_time": "2024-03-12T16:54:03.511Z"
   },
   {
    "duration": 11,
    "start_time": "2024-03-12T16:54:04.756Z"
   },
   {
    "duration": 43,
    "start_time": "2024-03-12T16:54:08.640Z"
   },
   {
    "duration": 12,
    "start_time": "2024-03-12T16:54:09.666Z"
   },
   {
    "duration": 5,
    "start_time": "2024-03-12T16:54:12.163Z"
   },
   {
    "duration": 19,
    "start_time": "2024-03-12T16:54:12.769Z"
   },
   {
    "duration": 4,
    "start_time": "2024-03-12T16:54:15.522Z"
   },
   {
    "duration": 3,
    "start_time": "2024-03-12T16:54:29.923Z"
   },
   {
    "duration": 55,
    "start_time": "2024-03-12T16:54:30.223Z"
   },
   {
    "duration": 16,
    "start_time": "2024-03-12T16:54:30.509Z"
   },
   {
    "duration": 20,
    "start_time": "2024-03-12T16:54:30.798Z"
   },
   {
    "duration": 14,
    "start_time": "2024-03-12T16:54:32.317Z"
   },
   {
    "duration": 6,
    "start_time": "2024-03-12T16:54:33.197Z"
   },
   {
    "duration": 17,
    "start_time": "2024-03-12T16:54:34.117Z"
   },
   {
    "duration": 15,
    "start_time": "2024-03-12T16:54:34.808Z"
   },
   {
    "duration": 4,
    "start_time": "2024-03-12T16:54:45.596Z"
   },
   {
    "duration": 11,
    "start_time": "2024-03-12T16:54:47.050Z"
   },
   {
    "duration": 11,
    "start_time": "2024-03-12T16:54:47.644Z"
   },
   {
    "duration": 46,
    "start_time": "2024-03-12T16:54:48.972Z"
   },
   {
    "duration": 13,
    "start_time": "2024-03-12T16:54:49.489Z"
   },
   {
    "duration": 5,
    "start_time": "2024-03-12T16:54:51.547Z"
   },
   {
    "duration": 16,
    "start_time": "2024-03-12T16:54:51.898Z"
   },
   {
    "duration": 3,
    "start_time": "2024-03-12T16:54:53.147Z"
   },
   {
    "duration": 4,
    "start_time": "2024-03-12T16:56:53.541Z"
   },
   {
    "duration": 72,
    "start_time": "2024-03-12T16:57:01.740Z"
   },
   {
    "duration": 3,
    "start_time": "2024-03-12T16:57:13.240Z"
   },
   {
    "duration": 10,
    "start_time": "2024-03-12T16:59:52.152Z"
   },
   {
    "duration": 3,
    "start_time": "2024-03-12T17:00:07.552Z"
   },
   {
    "duration": 59,
    "start_time": "2024-03-12T17:00:07.931Z"
   },
   {
    "duration": 14,
    "start_time": "2024-03-12T17:00:08.262Z"
   },
   {
    "duration": 20,
    "start_time": "2024-03-12T17:00:08.657Z"
   },
   {
    "duration": 15,
    "start_time": "2024-03-12T17:00:10.564Z"
   },
   {
    "duration": 7,
    "start_time": "2024-03-12T17:00:11.592Z"
   },
   {
    "duration": 18,
    "start_time": "2024-03-12T17:00:12.723Z"
   },
   {
    "duration": 601,
    "start_time": "2024-03-12T17:00:15.356Z"
   },
   {
    "duration": 5,
    "start_time": "2024-03-12T17:00:59.834Z"
   },
   {
    "duration": 581,
    "start_time": "2024-03-12T17:01:09.161Z"
   },
   {
    "duration": 5,
    "start_time": "2024-03-12T17:02:26.392Z"
   },
   {
    "duration": 555,
    "start_time": "2024-03-12T17:02:28.667Z"
   },
   {
    "duration": 5,
    "start_time": "2024-03-12T17:02:49.768Z"
   },
   {
    "duration": 537,
    "start_time": "2024-03-12T17:02:52.464Z"
   },
   {
    "duration": 5,
    "start_time": "2024-03-12T17:03:10.164Z"
   },
   {
    "duration": 594,
    "start_time": "2024-03-12T17:03:11.142Z"
   },
   {
    "duration": 1436,
    "start_time": "2024-03-12T17:04:20.041Z"
   },
   {
    "duration": 6,
    "start_time": "2024-03-12T17:04:40.181Z"
   },
   {
    "duration": 19,
    "start_time": "2024-03-12T17:04:46.843Z"
   },
   {
    "duration": 14,
    "start_time": "2024-03-12T17:05:25.214Z"
   },
   {
    "duration": 16,
    "start_time": "2024-03-12T17:05:25.523Z"
   },
   {
    "duration": 3,
    "start_time": "2024-03-12T17:05:34.656Z"
   },
   {
    "duration": 54,
    "start_time": "2024-03-12T17:05:34.941Z"
   },
   {
    "duration": 15,
    "start_time": "2024-03-12T17:05:35.389Z"
   },
   {
    "duration": 20,
    "start_time": "2024-03-12T17:05:36.065Z"
   },
   {
    "duration": 14,
    "start_time": "2024-03-12T17:05:37.990Z"
   },
   {
    "duration": 5,
    "start_time": "2024-03-12T17:05:38.976Z"
   },
   {
    "duration": 16,
    "start_time": "2024-03-12T17:05:39.914Z"
   },
   {
    "duration": 15,
    "start_time": "2024-03-12T17:05:40.916Z"
   },
   {
    "duration": 5,
    "start_time": "2024-03-12T17:05:46.657Z"
   },
   {
    "duration": 10,
    "start_time": "2024-03-12T17:05:48.060Z"
   },
   {
    "duration": 16,
    "start_time": "2024-03-12T17:05:48.757Z"
   },
   {
    "duration": 105,
    "start_time": "2024-03-12T17:05:56.473Z"
   },
   {
    "duration": 12,
    "start_time": "2024-03-12T17:05:57.346Z"
   },
   {
    "duration": 5,
    "start_time": "2024-03-12T17:05:58.527Z"
   },
   {
    "duration": 16,
    "start_time": "2024-03-12T17:05:58.707Z"
   },
   {
    "duration": 3,
    "start_time": "2024-03-12T17:05:59.694Z"
   },
   {
    "duration": 11,
    "start_time": "2024-03-12T17:06:18.806Z"
   },
   {
    "duration": 14,
    "start_time": "2024-03-12T17:07:30.398Z"
   },
   {
    "duration": 589,
    "start_time": "2024-03-12T17:08:15.364Z"
   },
   {
    "duration": 3,
    "start_time": "2024-03-12T17:08:20.556Z"
   },
   {
    "duration": 66,
    "start_time": "2024-03-12T17:08:20.898Z"
   },
   {
    "duration": 13,
    "start_time": "2024-03-12T17:08:21.289Z"
   },
   {
    "duration": 19,
    "start_time": "2024-03-12T17:08:21.617Z"
   },
   {
    "duration": 21,
    "start_time": "2024-03-12T17:08:23.448Z"
   },
   {
    "duration": 5,
    "start_time": "2024-03-12T17:08:25.760Z"
   },
   {
    "duration": 17,
    "start_time": "2024-03-12T17:08:28.469Z"
   },
   {
    "duration": 15,
    "start_time": "2024-03-12T17:08:31.742Z"
   },
   {
    "duration": 5,
    "start_time": "2024-03-12T17:09:00.406Z"
   },
   {
    "duration": 1414,
    "start_time": "2024-03-12T17:11:52.448Z"
   },
   {
    "duration": 5,
    "start_time": "2024-03-12T17:12:37.840Z"
   },
   {
    "duration": 4,
    "start_time": "2024-03-12T17:13:00.730Z"
   },
   {
    "duration": 5,
    "start_time": "2024-03-12T17:13:04.258Z"
   },
   {
    "duration": 11,
    "start_time": "2024-03-12T17:13:06.377Z"
   },
   {
    "duration": 11,
    "start_time": "2024-03-12T17:13:07.100Z"
   },
   {
    "duration": 4,
    "start_time": "2024-03-12T17:13:21.563Z"
   },
   {
    "duration": 56,
    "start_time": "2024-03-12T17:13:21.857Z"
   },
   {
    "duration": 16,
    "start_time": "2024-03-12T17:13:22.258Z"
   },
   {
    "duration": 20,
    "start_time": "2024-03-12T17:13:22.867Z"
   },
   {
    "duration": 14,
    "start_time": "2024-03-12T17:13:24.569Z"
   },
   {
    "duration": 5,
    "start_time": "2024-03-12T17:13:25.559Z"
   },
   {
    "duration": 17,
    "start_time": "2024-03-12T17:13:26.474Z"
   },
   {
    "duration": 16,
    "start_time": "2024-03-12T17:13:27.599Z"
   },
   {
    "duration": 4,
    "start_time": "2024-03-12T17:13:30.060Z"
   },
   {
    "duration": 4,
    "start_time": "2024-03-12T17:13:31.548Z"
   },
   {
    "duration": 6,
    "start_time": "2024-03-12T17:13:48.248Z"
   },
   {
    "duration": 4,
    "start_time": "2024-03-12T17:16:20.730Z"
   },
   {
    "duration": 5,
    "start_time": "2024-03-12T17:16:39.848Z"
   },
   {
    "duration": 6,
    "start_time": "2024-03-12T17:17:16.235Z"
   },
   {
    "duration": 3,
    "start_time": "2024-03-12T17:17:19.856Z"
   },
   {
    "duration": 54,
    "start_time": "2024-03-12T17:17:20.117Z"
   },
   {
    "duration": 15,
    "start_time": "2024-03-12T17:17:20.390Z"
   },
   {
    "duration": 21,
    "start_time": "2024-03-12T17:17:20.728Z"
   },
   {
    "duration": 14,
    "start_time": "2024-03-12T17:17:22.482Z"
   },
   {
    "duration": 5,
    "start_time": "2024-03-12T17:17:23.866Z"
   },
   {
    "duration": 19,
    "start_time": "2024-03-12T17:17:25.785Z"
   },
   {
    "duration": 10,
    "start_time": "2024-03-12T17:17:26.404Z"
   },
   {
    "duration": 566,
    "start_time": "2024-03-12T17:17:42.249Z"
   },
   {
    "duration": 565,
    "start_time": "2024-03-12T17:17:58.661Z"
   },
   {
    "duration": 3,
    "start_time": "2024-03-12T17:18:02.848Z"
   },
   {
    "duration": 54,
    "start_time": "2024-03-12T17:18:02.994Z"
   },
   {
    "duration": 15,
    "start_time": "2024-03-12T17:18:03.159Z"
   },
   {
    "duration": 23,
    "start_time": "2024-03-12T17:18:03.308Z"
   },
   {
    "duration": 14,
    "start_time": "2024-03-12T17:18:04.233Z"
   },
   {
    "duration": 5,
    "start_time": "2024-03-12T17:18:05.049Z"
   },
   {
    "duration": 16,
    "start_time": "2024-03-12T17:18:06.404Z"
   },
   {
    "duration": 15,
    "start_time": "2024-03-12T17:18:07.364Z"
   },
   {
    "duration": 5,
    "start_time": "2024-03-12T17:18:12.983Z"
   },
   {
    "duration": 6,
    "start_time": "2024-03-12T17:18:13.482Z"
   },
   {
    "duration": 42,
    "start_time": "2024-03-12T17:21:20.799Z"
   },
   {
    "duration": 8,
    "start_time": "2024-03-12T17:21:27.531Z"
   },
   {
    "duration": 8,
    "start_time": "2024-03-12T17:22:01.732Z"
   },
   {
    "duration": 6,
    "start_time": "2024-03-12T17:22:02.790Z"
   },
   {
    "duration": 11,
    "start_time": "2024-03-12T17:22:05.716Z"
   },
   {
    "duration": 13,
    "start_time": "2024-03-12T17:22:06.367Z"
   },
   {
    "duration": 7,
    "start_time": "2024-03-12T17:22:17.441Z"
   },
   {
    "duration": 12,
    "start_time": "2024-03-12T17:22:18.016Z"
   },
   {
    "duration": 5,
    "start_time": "2024-03-12T17:22:44.698Z"
   },
   {
    "duration": 24,
    "start_time": "2024-03-12T17:22:45.000Z"
   },
   {
    "duration": 11,
    "start_time": "2024-03-12T17:22:50.176Z"
   },
   {
    "duration": 4,
    "start_time": "2024-03-12T17:23:34.665Z"
   },
   {
    "duration": 678,
    "start_time": "2024-03-12T17:24:12.166Z"
   },
   {
    "duration": 9,
    "start_time": "2024-03-12T17:28:52.575Z"
   },
   {
    "duration": 26,
    "start_time": "2024-03-12T17:29:34.407Z"
   },
   {
    "duration": 18,
    "start_time": "2024-03-12T17:31:02.264Z"
   },
   {
    "duration": 3,
    "start_time": "2024-03-12T17:31:07.777Z"
   },
   {
    "duration": 54,
    "start_time": "2024-03-12T17:31:07.990Z"
   },
   {
    "duration": 14,
    "start_time": "2024-03-12T17:31:08.207Z"
   },
   {
    "duration": 19,
    "start_time": "2024-03-12T17:31:08.608Z"
   },
   {
    "duration": 14,
    "start_time": "2024-03-12T17:31:10.295Z"
   },
   {
    "duration": 5,
    "start_time": "2024-03-12T17:31:11.518Z"
   },
   {
    "duration": 16,
    "start_time": "2024-03-12T17:31:14.557Z"
   },
   {
    "duration": 15,
    "start_time": "2024-03-12T17:31:17.958Z"
   },
   {
    "duration": 15,
    "start_time": "2024-03-12T17:34:48.946Z"
   },
   {
    "duration": 3,
    "start_time": "2024-03-12T17:35:03.436Z"
   },
   {
    "duration": 14,
    "start_time": "2024-03-12T17:35:08.661Z"
   },
   {
    "duration": 103,
    "start_time": "2024-03-12T17:36:09.508Z"
   },
   {
    "duration": 13,
    "start_time": "2024-03-12T17:36:40.358Z"
   },
   {
    "duration": 15,
    "start_time": "2024-03-12T17:36:46.609Z"
   },
   {
    "duration": 13,
    "start_time": "2024-03-12T17:38:44.849Z"
   },
   {
    "duration": 2,
    "start_time": "2024-03-12T17:39:17.909Z"
   },
   {
    "duration": 5,
    "start_time": "2024-03-12T17:39:20.360Z"
   },
   {
    "duration": 10,
    "start_time": "2024-03-12T17:39:20.865Z"
   },
   {
    "duration": 12,
    "start_time": "2024-03-12T17:39:21.023Z"
   },
   {
    "duration": 7,
    "start_time": "2024-03-12T17:39:21.747Z"
   },
   {
    "duration": 10,
    "start_time": "2024-03-12T17:39:21.940Z"
   },
   {
    "duration": 5,
    "start_time": "2024-03-12T17:39:22.764Z"
   },
   {
    "duration": 16,
    "start_time": "2024-03-12T17:39:23.009Z"
   },
   {
    "duration": 12,
    "start_time": "2024-03-12T17:39:24.444Z"
   },
   {
    "duration": 8,
    "start_time": "2024-03-12T17:39:25.956Z"
   },
   {
    "duration": 348,
    "start_time": "2024-03-12T17:54:09.920Z"
   },
   {
    "duration": 132,
    "start_time": "2024-03-12T17:55:10.563Z"
   },
   {
    "duration": 335,
    "start_time": "2024-03-12T17:55:48.665Z"
   },
   {
    "duration": 415,
    "start_time": "2024-03-12T17:55:58.827Z"
   },
   {
    "duration": 340,
    "start_time": "2024-03-12T17:56:05.107Z"
   },
   {
    "duration": 319,
    "start_time": "2024-03-12T18:10:07.769Z"
   },
   {
    "duration": 3,
    "start_time": "2024-03-12T18:12:44.119Z"
   },
   {
    "duration": 51,
    "start_time": "2024-03-12T18:12:44.517Z"
   },
   {
    "duration": 15,
    "start_time": "2024-03-12T18:12:44.917Z"
   },
   {
    "duration": 20,
    "start_time": "2024-03-12T18:12:45.627Z"
   },
   {
    "duration": 14,
    "start_time": "2024-03-12T18:12:49.435Z"
   },
   {
    "duration": 5,
    "start_time": "2024-03-12T18:12:51.047Z"
   },
   {
    "duration": 17,
    "start_time": "2024-03-12T18:12:55.492Z"
   },
   {
    "duration": 15,
    "start_time": "2024-03-12T18:12:56.438Z"
   },
   {
    "duration": 4,
    "start_time": "2024-03-12T18:12:57.228Z"
   },
   {
    "duration": 13,
    "start_time": "2024-03-12T18:12:58.201Z"
   },
   {
    "duration": 3,
    "start_time": "2024-03-12T18:12:58.825Z"
   },
   {
    "duration": 2,
    "start_time": "2024-03-12T18:13:17.627Z"
   },
   {
    "duration": 2,
    "start_time": "2024-03-12T18:13:24.399Z"
   },
   {
    "duration": 5,
    "start_time": "2024-03-12T18:13:25.043Z"
   },
   {
    "duration": 11,
    "start_time": "2024-03-12T18:13:26.035Z"
   },
   {
    "duration": 11,
    "start_time": "2024-03-12T18:13:26.388Z"
   },
   {
    "duration": 7,
    "start_time": "2024-03-12T18:13:27.368Z"
   },
   {
    "duration": 13,
    "start_time": "2024-03-12T18:13:27.775Z"
   },
   {
    "duration": 72,
    "start_time": "2024-03-12T18:14:17.319Z"
   },
   {
    "duration": 4,
    "start_time": "2024-03-12T18:14:28.643Z"
   },
   {
    "duration": 16,
    "start_time": "2024-03-12T18:14:29.011Z"
   },
   {
    "duration": 336,
    "start_time": "2024-03-12T18:14:30.940Z"
   },
   {
    "duration": 5,
    "start_time": "2024-03-12T18:15:01.026Z"
   },
   {
    "duration": 16,
    "start_time": "2024-03-12T18:15:01.394Z"
   },
   {
    "duration": 333,
    "start_time": "2024-03-12T18:15:02.094Z"
   },
   {
    "duration": 3,
    "start_time": "2024-03-12T18:15:06.808Z"
   },
   {
    "duration": 51,
    "start_time": "2024-03-12T18:15:07.019Z"
   },
   {
    "duration": 14,
    "start_time": "2024-03-12T18:15:07.378Z"
   },
   {
    "duration": 19,
    "start_time": "2024-03-12T18:15:07.708Z"
   },
   {
    "duration": 14,
    "start_time": "2024-03-12T18:15:09.235Z"
   },
   {
    "duration": 5,
    "start_time": "2024-03-12T18:15:10.679Z"
   },
   {
    "duration": 19,
    "start_time": "2024-03-12T18:15:11.485Z"
   },
   {
    "duration": 15,
    "start_time": "2024-03-12T18:15:11.929Z"
   },
   {
    "duration": 3,
    "start_time": "2024-03-12T18:15:12.344Z"
   },
   {
    "duration": 2,
    "start_time": "2024-03-12T18:15:12.769Z"
   },
   {
    "duration": 5,
    "start_time": "2024-03-12T18:15:14.125Z"
   },
   {
    "duration": 10,
    "start_time": "2024-03-12T18:15:15.560Z"
   },
   {
    "duration": 11,
    "start_time": "2024-03-12T18:15:16.079Z"
   },
   {
    "duration": 7,
    "start_time": "2024-03-12T18:15:16.991Z"
   },
   {
    "duration": 18,
    "start_time": "2024-03-12T18:15:17.408Z"
   },
   {
    "duration": 6,
    "start_time": "2024-03-12T18:15:18.645Z"
   },
   {
    "duration": 16,
    "start_time": "2024-03-12T18:15:19.008Z"
   },
   {
    "duration": 348,
    "start_time": "2024-03-12T18:15:20.276Z"
   },
   {
    "duration": 1535,
    "start_time": "2024-03-13T14:49:40.874Z"
   },
   {
    "duration": 211,
    "start_time": "2024-03-13T14:49:42.411Z"
   },
   {
    "duration": 15,
    "start_time": "2024-03-13T14:49:44.840Z"
   },
   {
    "duration": 24,
    "start_time": "2024-03-13T14:49:45.443Z"
   },
   {
    "duration": 14,
    "start_time": "2024-03-13T14:49:47.319Z"
   },
   {
    "duration": 9,
    "start_time": "2024-03-13T14:49:48.475Z"
   },
   {
    "duration": 30,
    "start_time": "2024-03-13T14:49:49.476Z"
   },
   {
    "duration": 16,
    "start_time": "2024-03-13T14:49:50.337Z"
   },
   {
    "duration": 2,
    "start_time": "2024-03-13T14:49:50.768Z"
   },
   {
    "duration": 3,
    "start_time": "2024-03-13T14:49:51.602Z"
   },
   {
    "duration": 9,
    "start_time": "2024-03-13T14:49:52.879Z"
   },
   {
    "duration": 15,
    "start_time": "2024-03-13T14:49:54.314Z"
   },
   {
    "duration": 18,
    "start_time": "2024-03-13T14:49:54.940Z"
   },
   {
    "duration": 8,
    "start_time": "2024-03-13T14:49:55.909Z"
   },
   {
    "duration": 11,
    "start_time": "2024-03-13T14:49:56.411Z"
   },
   {
    "duration": 7,
    "start_time": "2024-03-13T14:49:57.958Z"
   },
   {
    "duration": 16,
    "start_time": "2024-03-13T14:49:58.513Z"
   },
   {
    "duration": 395,
    "start_time": "2024-03-13T14:50:03.703Z"
   },
   {
    "duration": 6,
    "start_time": "2024-03-13T14:51:31.955Z"
   },
   {
    "duration": 8,
    "start_time": "2024-03-13T14:51:50.836Z"
   },
   {
    "duration": 97,
    "start_time": "2024-03-13T14:55:34.603Z"
   },
   {
    "duration": 306,
    "start_time": "2024-03-13T14:56:33.025Z"
   },
   {
    "duration": 241,
    "start_time": "2024-03-13T15:20:47.130Z"
   },
   {
    "duration": 202,
    "start_time": "2024-03-13T15:21:05.609Z"
   },
   {
    "duration": 286,
    "start_time": "2024-03-13T15:21:19.078Z"
   },
   {
    "duration": 251,
    "start_time": "2024-03-13T15:21:25.511Z"
   },
   {
    "duration": 29,
    "start_time": "2024-03-13T15:29:17.693Z"
   },
   {
    "duration": 8,
    "start_time": "2024-03-13T15:32:10.724Z"
   },
   {
    "duration": 18,
    "start_time": "2024-03-13T15:32:30.720Z"
   },
   {
    "duration": 11,
    "start_time": "2024-03-13T15:35:35.701Z"
   },
   {
    "duration": 65,
    "start_time": "2024-03-13T15:35:36.163Z"
   },
   {
    "duration": 14,
    "start_time": "2024-03-13T15:35:36.613Z"
   },
   {
    "duration": 31,
    "start_time": "2024-03-13T15:35:37.331Z"
   },
   {
    "duration": 24,
    "start_time": "2024-03-13T15:35:40.047Z"
   },
   {
    "duration": 5,
    "start_time": "2024-03-13T15:35:41.244Z"
   },
   {
    "duration": 28,
    "start_time": "2024-03-13T15:35:42.303Z"
   },
   {
    "duration": 17,
    "start_time": "2024-03-13T15:35:42.871Z"
   },
   {
    "duration": 15,
    "start_time": "2024-03-13T15:35:54.805Z"
   },
   {
    "duration": 22,
    "start_time": "2024-03-13T15:36:02.294Z"
   },
   {
    "duration": 6,
    "start_time": "2024-03-13T15:36:07.981Z"
   },
   {
    "duration": 2,
    "start_time": "2024-03-13T15:36:08.239Z"
   },
   {
    "duration": 4,
    "start_time": "2024-03-13T15:36:09.646Z"
   },
   {
    "duration": 16,
    "start_time": "2024-03-13T15:36:10.993Z"
   },
   {
    "duration": 14,
    "start_time": "2024-03-13T15:36:11.372Z"
   },
   {
    "duration": 7,
    "start_time": "2024-03-13T15:36:12.262Z"
   },
   {
    "duration": 13,
    "start_time": "2024-03-13T15:36:12.702Z"
   },
   {
    "duration": 4,
    "start_time": "2024-03-13T15:36:14.021Z"
   },
   {
    "duration": 16,
    "start_time": "2024-03-13T15:36:14.356Z"
   },
   {
    "duration": 14,
    "start_time": "2024-03-13T15:36:16.643Z"
   },
   {
    "duration": 20,
    "start_time": "2024-03-13T15:36:51.329Z"
   },
   {
    "duration": 5,
    "start_time": "2024-03-13T15:37:06.904Z"
   },
   {
    "duration": 2,
    "start_time": "2024-03-13T15:37:12.216Z"
   },
   {
    "duration": 3,
    "start_time": "2024-03-13T15:37:15.480Z"
   },
   {
    "duration": 5,
    "start_time": "2024-03-13T15:37:16.397Z"
   },
   {
    "duration": 8,
    "start_time": "2024-03-13T15:37:17.354Z"
   },
   {
    "duration": 11,
    "start_time": "2024-03-13T15:37:17.654Z"
   },
   {
    "duration": 7,
    "start_time": "2024-03-13T15:37:18.615Z"
   },
   {
    "duration": 12,
    "start_time": "2024-03-13T15:37:18.922Z"
   },
   {
    "duration": 5,
    "start_time": "2024-03-13T15:37:20.027Z"
   },
   {
    "duration": 17,
    "start_time": "2024-03-13T15:37:20.355Z"
   },
   {
    "duration": 12,
    "start_time": "2024-03-13T15:37:21.691Z"
   },
   {
    "duration": 17,
    "start_time": "2024-03-13T15:38:14.522Z"
   },
   {
    "duration": 2,
    "start_time": "2024-03-13T15:38:19.262Z"
   },
   {
    "duration": 3,
    "start_time": "2024-03-13T15:38:19.708Z"
   },
   {
    "duration": 6,
    "start_time": "2024-03-13T15:38:20.962Z"
   },
   {
    "duration": 8,
    "start_time": "2024-03-13T15:38:22.355Z"
   },
   {
    "duration": 12,
    "start_time": "2024-03-13T15:38:22.714Z"
   },
   {
    "duration": 6,
    "start_time": "2024-03-13T15:38:23.697Z"
   },
   {
    "duration": 11,
    "start_time": "2024-03-13T15:38:24.125Z"
   },
   {
    "duration": 4,
    "start_time": "2024-03-13T15:38:25.695Z"
   },
   {
    "duration": 18,
    "start_time": "2024-03-13T15:38:26.105Z"
   },
   {
    "duration": 27,
    "start_time": "2024-03-13T15:39:00.528Z"
   },
   {
    "duration": 18,
    "start_time": "2024-03-13T15:39:20.125Z"
   },
   {
    "duration": 3,
    "start_time": "2024-03-13T15:39:24.730Z"
   },
   {
    "duration": 2,
    "start_time": "2024-03-13T15:39:25.067Z"
   },
   {
    "duration": 5,
    "start_time": "2024-03-13T15:39:26.505Z"
   },
   {
    "duration": 8,
    "start_time": "2024-03-13T15:39:27.721Z"
   },
   {
    "duration": 10,
    "start_time": "2024-03-13T15:39:28.130Z"
   },
   {
    "duration": 6,
    "start_time": "2024-03-13T15:39:28.955Z"
   },
   {
    "duration": 13,
    "start_time": "2024-03-13T15:39:29.346Z"
   },
   {
    "duration": 11,
    "start_time": "2024-03-13T15:39:30.580Z"
   },
   {
    "duration": 16,
    "start_time": "2024-03-13T15:39:30.947Z"
   },
   {
    "duration": 26,
    "start_time": "2024-03-13T15:39:50.639Z"
   },
   {
    "duration": 2,
    "start_time": "2024-03-13T15:39:59.873Z"
   },
   {
    "duration": 2,
    "start_time": "2024-03-13T15:40:00.094Z"
   },
   {
    "duration": 5,
    "start_time": "2024-03-13T15:40:00.996Z"
   },
   {
    "duration": 8,
    "start_time": "2024-03-13T15:40:02.008Z"
   },
   {
    "duration": 11,
    "start_time": "2024-03-13T15:40:02.318Z"
   },
   {
    "duration": 6,
    "start_time": "2024-03-13T15:40:03.125Z"
   },
   {
    "duration": 11,
    "start_time": "2024-03-13T15:40:03.529Z"
   },
   {
    "duration": 4,
    "start_time": "2024-03-13T15:40:04.614Z"
   },
   {
    "duration": 16,
    "start_time": "2024-03-13T15:40:04.957Z"
   },
   {
    "duration": 12,
    "start_time": "2024-03-13T15:40:06.198Z"
   },
   {
    "duration": 165,
    "start_time": "2024-03-13T15:40:17.071Z"
   },
   {
    "duration": 7,
    "start_time": "2024-03-13T15:41:02.989Z"
   },
   {
    "duration": 210,
    "start_time": "2024-03-13T15:41:05.718Z"
   },
   {
    "duration": 4,
    "start_time": "2024-03-13T15:41:11.531Z"
   },
   {
    "duration": 99,
    "start_time": "2024-03-13T15:41:35.031Z"
   },
   {
    "duration": 14,
    "start_time": "2024-03-13T15:41:41.630Z"
   },
   {
    "duration": 11,
    "start_time": "2024-03-13T15:41:45.592Z"
   },
   {
    "duration": 213,
    "start_time": "2024-03-13T15:41:46.146Z"
   },
   {
    "duration": 19,
    "start_time": "2024-03-13T15:42:13.191Z"
   },
   {
    "duration": 2,
    "start_time": "2024-03-13T15:42:16.146Z"
   },
   {
    "duration": 2,
    "start_time": "2024-03-13T15:42:16.632Z"
   },
   {
    "duration": 5,
    "start_time": "2024-03-13T15:42:17.997Z"
   },
   {
    "duration": 8,
    "start_time": "2024-03-13T15:42:19.242Z"
   },
   {
    "duration": 13,
    "start_time": "2024-03-13T15:42:19.597Z"
   },
   {
    "duration": 6,
    "start_time": "2024-03-13T15:42:20.466Z"
   },
   {
    "duration": 11,
    "start_time": "2024-03-13T15:42:20.857Z"
   },
   {
    "duration": 5,
    "start_time": "2024-03-13T15:42:22.095Z"
   },
   {
    "duration": 17,
    "start_time": "2024-03-13T15:42:22.490Z"
   },
   {
    "duration": 24,
    "start_time": "2024-03-13T15:46:27.031Z"
   },
   {
    "duration": 11,
    "start_time": "2024-03-13T15:46:29.480Z"
   },
   {
    "duration": 3,
    "start_time": "2024-03-13T15:46:29.755Z"
   },
   {
    "duration": 6,
    "start_time": "2024-03-13T15:46:31.265Z"
   },
   {
    "duration": 16,
    "start_time": "2024-03-13T15:46:32.880Z"
   },
   {
    "duration": 14,
    "start_time": "2024-03-13T15:46:33.482Z"
   },
   {
    "duration": 5,
    "start_time": "2024-03-13T15:46:34.459Z"
   },
   {
    "duration": 10,
    "start_time": "2024-03-13T15:46:34.722Z"
   },
   {
    "duration": 4,
    "start_time": "2024-03-13T15:46:36.230Z"
   },
   {
    "duration": 22,
    "start_time": "2024-03-13T15:46:36.773Z"
   },
   {
    "duration": 152,
    "start_time": "2024-03-13T15:46:43.313Z"
   },
   {
    "duration": 5,
    "start_time": "2024-03-13T15:47:01.299Z"
   },
   {
    "duration": 61,
    "start_time": "2024-03-13T15:47:01.565Z"
   },
   {
    "duration": 14,
    "start_time": "2024-03-13T15:47:01.966Z"
   },
   {
    "duration": 19,
    "start_time": "2024-03-13T15:47:02.313Z"
   },
   {
    "duration": 13,
    "start_time": "2024-03-13T15:47:03.906Z"
   },
   {
    "duration": 5,
    "start_time": "2024-03-13T15:47:04.813Z"
   },
   {
    "duration": 15,
    "start_time": "2024-03-13T15:47:05.839Z"
   },
   {
    "duration": 16,
    "start_time": "2024-03-13T15:47:07.833Z"
   },
   {
    "duration": 3,
    "start_time": "2024-03-13T15:47:08.393Z"
   },
   {
    "duration": 2,
    "start_time": "2024-03-13T15:47:10.629Z"
   },
   {
    "duration": 6,
    "start_time": "2024-03-13T15:47:11.552Z"
   },
   {
    "duration": 10,
    "start_time": "2024-03-13T15:47:12.900Z"
   },
   {
    "duration": 11,
    "start_time": "2024-03-13T15:47:13.431Z"
   },
   {
    "duration": 6,
    "start_time": "2024-03-13T15:47:14.531Z"
   },
   {
    "duration": 11,
    "start_time": "2024-03-13T15:47:15.008Z"
   },
   {
    "duration": 5,
    "start_time": "2024-03-13T15:47:16.518Z"
   },
   {
    "duration": 16,
    "start_time": "2024-03-13T15:47:16.909Z"
   },
   {
    "duration": 402,
    "start_time": "2024-03-13T15:47:19.193Z"
   },
   {
    "duration": 7,
    "start_time": "2024-03-13T15:47:22.227Z"
   },
   {
    "duration": 233,
    "start_time": "2024-03-13T15:47:23.763Z"
   },
   {
    "duration": 15,
    "start_time": "2024-03-13T15:47:27.307Z"
   },
   {
    "duration": 13,
    "start_time": "2024-03-13T15:48:46.587Z"
   },
   {
    "duration": 16,
    "start_time": "2024-03-13T15:49:00.426Z"
   },
   {
    "duration": 9,
    "start_time": "2024-03-13T15:50:31.122Z"
   },
   {
    "duration": 173,
    "start_time": "2024-03-13T15:51:51.643Z"
   },
   {
    "duration": 157,
    "start_time": "2024-03-13T15:52:47.080Z"
   },
   {
    "duration": 167,
    "start_time": "2024-03-13T15:53:34.061Z"
   },
   {
    "duration": 162,
    "start_time": "2024-03-13T15:53:40.943Z"
   },
   {
    "duration": 4,
    "start_time": "2024-03-13T15:53:47.203Z"
   },
   {
    "duration": 54,
    "start_time": "2024-03-13T15:53:47.435Z"
   },
   {
    "duration": 15,
    "start_time": "2024-03-13T15:53:47.918Z"
   },
   {
    "duration": 20,
    "start_time": "2024-03-13T15:53:48.441Z"
   },
   {
    "duration": 15,
    "start_time": "2024-03-13T15:53:50.235Z"
   },
   {
    "duration": 5,
    "start_time": "2024-03-13T15:53:51.452Z"
   },
   {
    "duration": 17,
    "start_time": "2024-03-13T15:53:52.524Z"
   },
   {
    "duration": 15,
    "start_time": "2024-03-13T15:53:53.800Z"
   },
   {
    "duration": 2,
    "start_time": "2024-03-13T15:53:56.522Z"
   },
   {
    "duration": 2,
    "start_time": "2024-03-13T15:53:57.227Z"
   },
   {
    "duration": 6,
    "start_time": "2024-03-13T15:53:58.293Z"
   },
   {
    "duration": 10,
    "start_time": "2024-03-13T15:53:59.626Z"
   },
   {
    "duration": 11,
    "start_time": "2024-03-13T15:54:00.152Z"
   },
   {
    "duration": 9,
    "start_time": "2024-03-13T15:54:01.386Z"
   },
   {
    "duration": 11,
    "start_time": "2024-03-13T15:54:01.535Z"
   },
   {
    "duration": 5,
    "start_time": "2024-03-13T15:54:02.852Z"
   },
   {
    "duration": 22,
    "start_time": "2024-03-13T15:54:03.186Z"
   },
   {
    "duration": 358,
    "start_time": "2024-03-13T15:54:06.814Z"
   },
   {
    "duration": 7,
    "start_time": "2024-03-13T15:54:09.103Z"
   },
   {
    "duration": 250,
    "start_time": "2024-03-13T15:54:10.285Z"
   },
   {
    "duration": 349,
    "start_time": "2024-03-13T15:54:12.623Z"
   },
   {
    "duration": 166,
    "start_time": "2024-03-13T15:54:47.193Z"
   },
   {
    "duration": 143,
    "start_time": "2024-03-13T15:54:52.392Z"
   },
   {
    "duration": 4,
    "start_time": "2024-03-13T15:54:57.856Z"
   },
   {
    "duration": 65,
    "start_time": "2024-03-13T15:54:58.067Z"
   },
   {
    "duration": 15,
    "start_time": "2024-03-13T15:54:58.271Z"
   },
   {
    "duration": 20,
    "start_time": "2024-03-13T15:54:58.484Z"
   },
   {
    "duration": 15,
    "start_time": "2024-03-13T15:54:59.593Z"
   },
   {
    "duration": 5,
    "start_time": "2024-03-13T15:55:00.161Z"
   },
   {
    "duration": 18,
    "start_time": "2024-03-13T15:55:00.709Z"
   },
   {
    "duration": 20,
    "start_time": "2024-03-13T15:55:01.019Z"
   },
   {
    "duration": 2,
    "start_time": "2024-03-13T15:55:01.251Z"
   },
   {
    "duration": 3,
    "start_time": "2024-03-13T15:55:01.535Z"
   },
   {
    "duration": 9,
    "start_time": "2024-03-13T15:55:02.487Z"
   },
   {
    "duration": 10,
    "start_time": "2024-03-13T15:55:03.560Z"
   },
   {
    "duration": 11,
    "start_time": "2024-03-13T15:55:03.835Z"
   },
   {
    "duration": 6,
    "start_time": "2024-03-13T15:55:04.568Z"
   },
   {
    "duration": 11,
    "start_time": "2024-03-13T15:55:05.102Z"
   },
   {
    "duration": 5,
    "start_time": "2024-03-13T15:55:06.555Z"
   },
   {
    "duration": 19,
    "start_time": "2024-03-13T15:55:06.886Z"
   },
   {
    "duration": 330,
    "start_time": "2024-03-13T15:55:08.397Z"
   },
   {
    "duration": 8,
    "start_time": "2024-03-13T15:55:11.569Z"
   },
   {
    "duration": 232,
    "start_time": "2024-03-13T15:55:14.521Z"
   },
   {
    "duration": 18,
    "start_time": "2024-03-13T15:55:36.794Z"
   },
   {
    "duration": 269,
    "start_time": "2024-03-13T15:55:38.493Z"
   },
   {
    "duration": 223,
    "start_time": "2024-03-13T15:55:54.954Z"
   },
   {
    "duration": 216,
    "start_time": "2024-03-13T16:13:37.541Z"
   },
   {
    "duration": 4,
    "start_time": "2024-03-13T16:14:06.227Z"
   },
   {
    "duration": 54,
    "start_time": "2024-03-13T16:14:06.476Z"
   },
   {
    "duration": 14,
    "start_time": "2024-03-13T16:14:06.914Z"
   },
   {
    "duration": 19,
    "start_time": "2024-03-13T16:14:07.324Z"
   },
   {
    "duration": 13,
    "start_time": "2024-03-13T16:14:08.713Z"
   },
   {
    "duration": 7,
    "start_time": "2024-03-13T16:14:09.571Z"
   },
   {
    "duration": 18,
    "start_time": "2024-03-13T16:14:10.392Z"
   },
   {
    "duration": 23,
    "start_time": "2024-03-13T16:14:10.854Z"
   },
   {
    "duration": 3,
    "start_time": "2024-03-13T16:14:11.262Z"
   },
   {
    "duration": 2,
    "start_time": "2024-03-13T16:14:11.761Z"
   },
   {
    "duration": 7,
    "start_time": "2024-03-13T16:14:12.977Z"
   },
   {
    "duration": 10,
    "start_time": "2024-03-13T16:14:14.238Z"
   },
   {
    "duration": 12,
    "start_time": "2024-03-13T16:14:14.593Z"
   },
   {
    "duration": 6,
    "start_time": "2024-03-13T16:14:15.491Z"
   },
   {
    "duration": 11,
    "start_time": "2024-03-13T16:14:15.919Z"
   },
   {
    "duration": 4,
    "start_time": "2024-03-13T16:14:17.175Z"
   },
   {
    "duration": 16,
    "start_time": "2024-03-13T16:14:17.535Z"
   },
   {
    "duration": 447,
    "start_time": "2024-03-13T16:14:19.320Z"
   },
   {
    "duration": 10,
    "start_time": "2024-03-13T16:14:21.186Z"
   },
   {
    "duration": 241,
    "start_time": "2024-03-13T16:14:22.028Z"
   },
   {
    "duration": 19,
    "start_time": "2024-03-13T16:14:31.250Z"
   },
   {
    "duration": 276,
    "start_time": "2024-03-13T16:14:34.145Z"
   },
   {
    "duration": 9,
    "start_time": "2024-03-13T16:14:59.044Z"
   },
   {
    "duration": 174,
    "start_time": "2024-03-13T16:15:00.362Z"
   },
   {
    "duration": 3,
    "start_time": "2024-03-13T16:15:07.310Z"
   },
   {
    "duration": 56,
    "start_time": "2024-03-13T16:15:07.619Z"
   },
   {
    "duration": 15,
    "start_time": "2024-03-13T16:15:07.905Z"
   },
   {
    "duration": 22,
    "start_time": "2024-03-13T16:15:08.187Z"
   },
   {
    "duration": 27,
    "start_time": "2024-03-13T16:15:09.578Z"
   },
   {
    "duration": 7,
    "start_time": "2024-03-13T16:15:10.321Z"
   },
   {
    "duration": 23,
    "start_time": "2024-03-13T16:15:11.012Z"
   },
   {
    "duration": 15,
    "start_time": "2024-03-13T16:15:11.319Z"
   },
   {
    "duration": 3,
    "start_time": "2024-03-13T16:15:11.698Z"
   },
   {
    "duration": 3,
    "start_time": "2024-03-13T16:15:12.061Z"
   },
   {
    "duration": 5,
    "start_time": "2024-03-13T16:15:13.077Z"
   },
   {
    "duration": 10,
    "start_time": "2024-03-13T16:15:14.126Z"
   },
   {
    "duration": 11,
    "start_time": "2024-03-13T16:15:14.447Z"
   },
   {
    "duration": 7,
    "start_time": "2024-03-13T16:15:15.095Z"
   },
   {
    "duration": 12,
    "start_time": "2024-03-13T16:15:15.427Z"
   },
   {
    "duration": 5,
    "start_time": "2024-03-13T16:15:16.412Z"
   },
   {
    "duration": 17,
    "start_time": "2024-03-13T16:15:16.730Z"
   },
   {
    "duration": 340,
    "start_time": "2024-03-13T16:15:17.712Z"
   },
   {
    "duration": 10,
    "start_time": "2024-03-13T16:15:19.389Z"
   },
   {
    "duration": 253,
    "start_time": "2024-03-13T16:15:20.378Z"
   },
   {
    "duration": 18,
    "start_time": "2024-03-13T16:15:22.505Z"
   },
   {
    "duration": 382,
    "start_time": "2024-03-13T16:15:23.360Z"
   },
   {
    "duration": 435,
    "start_time": "2024-03-13T16:15:38.213Z"
   },
   {
    "duration": 16,
    "start_time": "2024-03-13T16:31:09.598Z"
   },
   {
    "duration": 553,
    "start_time": "2024-03-13T16:31:28.644Z"
   },
   {
    "duration": 1042,
    "start_time": "2024-03-13T16:31:44.476Z"
   },
   {
    "duration": 867,
    "start_time": "2024-03-13T16:32:14.077Z"
   },
   {
    "duration": 672,
    "start_time": "2024-03-13T16:33:02.148Z"
   },
   {
    "duration": 896,
    "start_time": "2024-03-13T16:33:29.793Z"
   },
   {
    "duration": 20,
    "start_time": "2024-03-13T16:59:32.441Z"
   },
   {
    "duration": 446,
    "start_time": "2024-03-13T17:00:07.686Z"
   },
   {
    "duration": 884,
    "start_time": "2024-03-13T17:01:20.034Z"
   },
   {
    "duration": 976,
    "start_time": "2024-03-13T17:01:38.375Z"
   },
   {
    "duration": 97,
    "start_time": "2024-03-13T17:15:59.711Z"
   },
   {
    "duration": 10,
    "start_time": "2024-03-13T17:17:13.603Z"
   },
   {
    "duration": 145,
    "start_time": "2024-03-13T17:17:28.628Z"
   },
   {
    "duration": 10,
    "start_time": "2024-03-13T17:17:32.452Z"
   },
   {
    "duration": 158,
    "start_time": "2024-03-13T17:17:33.070Z"
   },
   {
    "duration": 3,
    "start_time": "2024-03-13T17:17:38.268Z"
   },
   {
    "duration": 55,
    "start_time": "2024-03-13T17:17:38.622Z"
   },
   {
    "duration": 15,
    "start_time": "2024-03-13T17:17:39.185Z"
   },
   {
    "duration": 20,
    "start_time": "2024-03-13T17:17:39.535Z"
   },
   {
    "duration": 15,
    "start_time": "2024-03-13T17:17:41.082Z"
   },
   {
    "duration": 6,
    "start_time": "2024-03-13T17:17:41.920Z"
   },
   {
    "duration": 17,
    "start_time": "2024-03-13T17:17:42.714Z"
   },
   {
    "duration": 16,
    "start_time": "2024-03-13T17:17:43.192Z"
   },
   {
    "duration": 2,
    "start_time": "2024-03-13T17:17:44.100Z"
   },
   {
    "duration": 2,
    "start_time": "2024-03-13T17:17:44.136Z"
   },
   {
    "duration": 6,
    "start_time": "2024-03-13T17:17:45.587Z"
   },
   {
    "duration": 10,
    "start_time": "2024-03-13T17:17:47.103Z"
   },
   {
    "duration": 12,
    "start_time": "2024-03-13T17:17:47.530Z"
   },
   {
    "duration": 8,
    "start_time": "2024-03-13T17:17:48.584Z"
   },
   {
    "duration": 20,
    "start_time": "2024-03-13T17:17:49.045Z"
   },
   {
    "duration": 6,
    "start_time": "2024-03-13T17:17:51.265Z"
   },
   {
    "duration": 17,
    "start_time": "2024-03-13T17:17:51.820Z"
   },
   {
    "duration": 334,
    "start_time": "2024-03-13T17:17:53.570Z"
   },
   {
    "duration": 7,
    "start_time": "2024-03-13T17:17:55.953Z"
   },
   {
    "duration": 236,
    "start_time": "2024-03-13T17:17:57.272Z"
   },
   {
    "duration": 20,
    "start_time": "2024-03-13T17:17:59.695Z"
   },
   {
    "duration": 364,
    "start_time": "2024-03-13T17:18:00.597Z"
   },
   {
    "duration": 334,
    "start_time": "2024-03-13T17:18:09.367Z"
   },
   {
    "duration": 832,
    "start_time": "2024-03-13T17:18:57.158Z"
   },
   {
    "duration": 24,
    "start_time": "2024-03-13T17:19:33.245Z"
   },
   {
    "duration": 22,
    "start_time": "2024-03-13T17:19:49.403Z"
   },
   {
    "duration": 9,
    "start_time": "2024-03-13T17:20:38.353Z"
   },
   {
    "duration": 15,
    "start_time": "2024-03-13T17:20:40.812Z"
   },
   {
    "duration": 3,
    "start_time": "2024-03-13T17:21:32.386Z"
   },
   {
    "duration": 52,
    "start_time": "2024-03-13T17:21:32.728Z"
   },
   {
    "duration": 15,
    "start_time": "2024-03-13T17:21:33.144Z"
   },
   {
    "duration": 20,
    "start_time": "2024-03-13T17:21:33.506Z"
   },
   {
    "duration": 15,
    "start_time": "2024-03-13T17:21:34.923Z"
   },
   {
    "duration": 5,
    "start_time": "2024-03-13T17:21:35.647Z"
   },
   {
    "duration": 18,
    "start_time": "2024-03-13T17:21:36.378Z"
   },
   {
    "duration": 16,
    "start_time": "2024-03-13T17:21:36.740Z"
   },
   {
    "duration": 3,
    "start_time": "2024-03-13T17:21:37.035Z"
   },
   {
    "duration": 3,
    "start_time": "2024-03-13T17:21:37.436Z"
   },
   {
    "duration": 5,
    "start_time": "2024-03-13T17:21:38.485Z"
   },
   {
    "duration": 11,
    "start_time": "2024-03-13T17:21:39.533Z"
   },
   {
    "duration": 11,
    "start_time": "2024-03-13T17:21:39.908Z"
   },
   {
    "duration": 8,
    "start_time": "2024-03-13T17:21:40.685Z"
   },
   {
    "duration": 11,
    "start_time": "2024-03-13T17:21:40.998Z"
   },
   {
    "duration": 4,
    "start_time": "2024-03-13T17:21:42.038Z"
   },
   {
    "duration": 17,
    "start_time": "2024-03-13T17:21:42.354Z"
   },
   {
    "duration": 442,
    "start_time": "2024-03-13T17:21:43.363Z"
   },
   {
    "duration": 7,
    "start_time": "2024-03-13T17:21:44.421Z"
   },
   {
    "duration": 234,
    "start_time": "2024-03-13T17:21:45.832Z"
   },
   {
    "duration": 18,
    "start_time": "2024-03-13T17:21:47.913Z"
   },
   {
    "duration": 342,
    "start_time": "2024-03-13T17:21:48.728Z"
   },
   {
    "duration": 250,
    "start_time": "2024-03-13T17:21:55.464Z"
   },
   {
    "duration": 12,
    "start_time": "2024-03-13T17:21:59.878Z"
   },
   {
    "duration": 16,
    "start_time": "2024-03-13T17:22:01.175Z"
   },
   {
    "duration": 18,
    "start_time": "2024-03-13T17:22:59.253Z"
   },
   {
    "duration": 11,
    "start_time": "2024-03-13T17:24:32.339Z"
   },
   {
    "duration": 10,
    "start_time": "2024-03-13T17:24:41.062Z"
   },
   {
    "duration": 16,
    "start_time": "2024-03-13T17:24:41.788Z"
   },
   {
    "duration": 3,
    "start_time": "2024-03-13T17:25:06.644Z"
   },
   {
    "duration": 54,
    "start_time": "2024-03-13T17:25:06.969Z"
   },
   {
    "duration": 14,
    "start_time": "2024-03-13T17:25:07.327Z"
   },
   {
    "duration": 21,
    "start_time": "2024-03-13T17:25:07.645Z"
   },
   {
    "duration": 14,
    "start_time": "2024-03-13T17:25:09.111Z"
   },
   {
    "duration": 4,
    "start_time": "2024-03-13T17:25:09.850Z"
   },
   {
    "duration": 17,
    "start_time": "2024-03-13T17:25:10.562Z"
   },
   {
    "duration": 16,
    "start_time": "2024-03-13T17:25:10.931Z"
   },
   {
    "duration": 2,
    "start_time": "2024-03-13T17:25:11.403Z"
   },
   {
    "duration": 2,
    "start_time": "2024-03-13T17:25:11.878Z"
   },
   {
    "duration": 4,
    "start_time": "2024-03-13T17:25:13.132Z"
   },
   {
    "duration": 10,
    "start_time": "2024-03-13T17:25:14.420Z"
   },
   {
    "duration": 11,
    "start_time": "2024-03-13T17:25:14.807Z"
   },
   {
    "duration": 6,
    "start_time": "2024-03-13T17:25:15.652Z"
   },
   {
    "duration": 11,
    "start_time": "2024-03-13T17:25:16.118Z"
   },
   {
    "duration": 5,
    "start_time": "2024-03-13T17:25:17.458Z"
   },
   {
    "duration": 16,
    "start_time": "2024-03-13T17:25:17.870Z"
   },
   {
    "duration": 419,
    "start_time": "2024-03-13T17:25:19.286Z"
   },
   {
    "duration": 7,
    "start_time": "2024-03-13T17:25:21.253Z"
   },
   {
    "duration": 237,
    "start_time": "2024-03-13T17:25:22.195Z"
   },
   {
    "duration": 18,
    "start_time": "2024-03-13T17:25:24.123Z"
   },
   {
    "duration": 354,
    "start_time": "2024-03-13T17:25:24.869Z"
   },
   {
    "duration": 248,
    "start_time": "2024-03-13T17:25:27.279Z"
   },
   {
    "duration": 11,
    "start_time": "2024-03-13T17:25:30.244Z"
   },
   {
    "duration": 16,
    "start_time": "2024-03-13T17:25:31.247Z"
   },
   {
    "duration": 21,
    "start_time": "2024-03-13T17:26:31.639Z"
   },
   {
    "duration": 21,
    "start_time": "2024-03-13T17:26:55.618Z"
   },
   {
    "duration": 15,
    "start_time": "2024-03-13T17:27:35.307Z"
   },
   {
    "duration": 13,
    "start_time": "2024-03-13T17:30:33.004Z"
   },
   {
    "duration": 5,
    "start_time": "2024-03-13T17:32:08.905Z"
   },
   {
    "duration": 14,
    "start_time": "2024-03-13T17:32:22.863Z"
   },
   {
    "duration": 14,
    "start_time": "2024-03-13T17:33:39.181Z"
   },
   {
    "duration": 11,
    "start_time": "2024-03-13T17:39:47.845Z"
   },
   {
    "duration": 1640,
    "start_time": "2024-03-13T17:40:53.629Z"
   },
   {
    "duration": 15,
    "start_time": "2024-03-13T17:41:03.277Z"
   },
   {
    "duration": 240,
    "start_time": "2024-03-13T17:42:28.482Z"
   },
   {
    "duration": 15,
    "start_time": "2024-03-13T17:43:31.450Z"
   },
   {
    "duration": 18,
    "start_time": "2024-03-13T17:43:39.094Z"
   },
   {
    "duration": 3,
    "start_time": "2024-03-13T17:43:44.892Z"
   },
   {
    "duration": 56,
    "start_time": "2024-03-13T17:43:45.112Z"
   },
   {
    "duration": 15,
    "start_time": "2024-03-13T17:43:45.342Z"
   },
   {
    "duration": 26,
    "start_time": "2024-03-13T17:43:45.668Z"
   },
   {
    "duration": 14,
    "start_time": "2024-03-13T17:43:46.910Z"
   },
   {
    "duration": 5,
    "start_time": "2024-03-13T17:43:47.633Z"
   },
   {
    "duration": 17,
    "start_time": "2024-03-13T17:43:48.209Z"
   },
   {
    "duration": 15,
    "start_time": "2024-03-13T17:43:48.562Z"
   },
   {
    "duration": 2,
    "start_time": "2024-03-13T17:43:48.900Z"
   },
   {
    "duration": 2,
    "start_time": "2024-03-13T17:43:49.337Z"
   },
   {
    "duration": 5,
    "start_time": "2024-03-13T17:43:50.402Z"
   },
   {
    "duration": 10,
    "start_time": "2024-03-13T17:43:51.444Z"
   },
   {
    "duration": 11,
    "start_time": "2024-03-13T17:43:51.833Z"
   },
   {
    "duration": 7,
    "start_time": "2024-03-13T17:43:52.633Z"
   },
   {
    "duration": 20,
    "start_time": "2024-03-13T17:43:52.978Z"
   },
   {
    "duration": 5,
    "start_time": "2024-03-13T17:43:54.192Z"
   },
   {
    "duration": 15,
    "start_time": "2024-03-13T17:43:54.601Z"
   },
   {
    "duration": 343,
    "start_time": "2024-03-13T17:43:55.827Z"
   },
   {
    "duration": 7,
    "start_time": "2024-03-13T17:43:57.618Z"
   },
   {
    "duration": 256,
    "start_time": "2024-03-13T17:43:58.468Z"
   },
   {
    "duration": 25,
    "start_time": "2024-03-13T17:44:00.063Z"
   },
   {
    "duration": 395,
    "start_time": "2024-03-13T17:44:00.751Z"
   },
   {
    "duration": 258,
    "start_time": "2024-03-13T17:44:02.361Z"
   },
   {
    "duration": 9,
    "start_time": "2024-03-13T17:44:04.899Z"
   },
   {
    "duration": 348,
    "start_time": "2024-03-13T17:44:05.718Z"
   },
   {
    "duration": 277,
    "start_time": "2024-03-13T17:44:21.250Z"
   },
   {
    "duration": 258,
    "start_time": "2024-03-13T17:45:39.901Z"
   },
   {
    "duration": 262,
    "start_time": "2024-03-13T17:48:54.252Z"
   },
   {
    "duration": 217,
    "start_time": "2024-03-13T17:52:18.087Z"
   },
   {
    "duration": 14,
    "start_time": "2024-03-13T17:56:47.004Z"
   },
   {
    "duration": 1611,
    "start_time": "2024-03-13T17:56:55.611Z"
   },
   {
    "duration": 203,
    "start_time": "2024-03-13T17:57:12.392Z"
   },
   {
    "duration": 103,
    "start_time": "2024-03-13T17:57:32.942Z"
   },
   {
    "duration": 111,
    "start_time": "2024-03-13T17:57:38.207Z"
   },
   {
    "duration": 113,
    "start_time": "2024-03-13T17:57:45.908Z"
   },
   {
    "duration": 114,
    "start_time": "2024-03-13T17:57:56.006Z"
   },
   {
    "duration": 117,
    "start_time": "2024-03-13T17:58:21.431Z"
   },
   {
    "duration": 131,
    "start_time": "2024-03-13T17:59:19.529Z"
   },
   {
    "duration": 125,
    "start_time": "2024-03-13T17:59:34.650Z"
   },
   {
    "duration": 134,
    "start_time": "2024-03-13T17:59:43.185Z"
   },
   {
    "duration": 129,
    "start_time": "2024-03-13T18:00:41.794Z"
   },
   {
    "duration": 127,
    "start_time": "2024-03-13T18:01:16.925Z"
   },
   {
    "duration": 129,
    "start_time": "2024-03-13T18:01:23.307Z"
   },
   {
    "duration": 117,
    "start_time": "2024-03-13T18:04:01.168Z"
   },
   {
    "duration": 210,
    "start_time": "2024-03-13T18:04:36.669Z"
   },
   {
    "duration": 86,
    "start_time": "2024-03-13T18:04:50.068Z"
   },
   {
    "duration": 3033,
    "start_time": "2024-03-13T18:04:57.992Z"
   },
   {
    "duration": 17,
    "start_time": "2024-03-13T18:06:35.890Z"
   },
   {
    "duration": 118,
    "start_time": "2024-03-13T18:06:51.965Z"
   },
   {
    "duration": 90,
    "start_time": "2024-03-13T18:06:58.460Z"
   },
   {
    "duration": 112,
    "start_time": "2024-03-13T18:07:23.141Z"
   },
   {
    "duration": 116,
    "start_time": "2024-03-13T18:07:30.793Z"
   },
   {
    "duration": 137,
    "start_time": "2024-03-13T18:08:00.118Z"
   },
   {
    "duration": 99,
    "start_time": "2024-03-13T18:08:05.348Z"
   },
   {
    "duration": 202,
    "start_time": "2024-03-13T18:08:34.248Z"
   },
   {
    "duration": 196,
    "start_time": "2024-03-13T18:09:04.249Z"
   },
   {
    "duration": 291,
    "start_time": "2024-03-13T18:09:11.714Z"
   },
   {
    "duration": 95,
    "start_time": "2024-03-13T18:09:31.356Z"
   },
   {
    "duration": 77,
    "start_time": "2024-03-13T18:10:46.598Z"
   },
   {
    "duration": 89,
    "start_time": "2024-03-13T18:11:14.729Z"
   },
   {
    "duration": 14,
    "start_time": "2024-03-13T18:19:52.597Z"
   },
   {
    "duration": 98,
    "start_time": "2024-03-13T18:19:59.210Z"
   },
   {
    "duration": 3,
    "start_time": "2024-03-13T18:51:59.557Z"
   },
   {
    "duration": 52,
    "start_time": "2024-03-13T18:51:59.823Z"
   },
   {
    "duration": 15,
    "start_time": "2024-03-13T18:52:00.135Z"
   },
   {
    "duration": 20,
    "start_time": "2024-03-13T18:52:00.455Z"
   },
   {
    "duration": 14,
    "start_time": "2024-03-13T18:52:01.713Z"
   },
   {
    "duration": 5,
    "start_time": "2024-03-13T18:52:02.435Z"
   },
   {
    "duration": 17,
    "start_time": "2024-03-13T18:52:03.121Z"
   },
   {
    "duration": 21,
    "start_time": "2024-03-13T18:52:03.469Z"
   },
   {
    "duration": 2,
    "start_time": "2024-03-13T18:52:03.803Z"
   },
   {
    "duration": 2,
    "start_time": "2024-03-13T18:52:04.154Z"
   },
   {
    "duration": 5,
    "start_time": "2024-03-13T18:52:05.248Z"
   },
   {
    "duration": 10,
    "start_time": "2024-03-13T18:52:06.256Z"
   },
   {
    "duration": 13,
    "start_time": "2024-03-13T18:52:06.590Z"
   },
   {
    "duration": 7,
    "start_time": "2024-03-13T18:52:07.354Z"
   },
   {
    "duration": 17,
    "start_time": "2024-03-13T18:52:07.684Z"
   },
   {
    "duration": 5,
    "start_time": "2024-03-13T18:52:08.952Z"
   },
   {
    "duration": 16,
    "start_time": "2024-03-13T18:52:09.294Z"
   },
   {
    "duration": 354,
    "start_time": "2024-03-13T18:52:11.257Z"
   },
   {
    "duration": 7,
    "start_time": "2024-03-13T18:52:13.561Z"
   },
   {
    "duration": 258,
    "start_time": "2024-03-13T18:52:15.017Z"
   },
   {
    "duration": 109,
    "start_time": "2024-03-13T18:52:17.009Z"
   },
   {
    "duration": 367,
    "start_time": "2024-03-13T18:52:17.716Z"
   },
   {
    "duration": 208,
    "start_time": "2024-03-13T18:52:19.721Z"
   },
   {
    "duration": 117,
    "start_time": "2024-03-13T18:52:22.306Z"
   },
   {
    "duration": 101,
    "start_time": "2024-03-13T18:52:29.436Z"
   },
   {
    "duration": 98,
    "start_time": "2024-03-13T18:52:34.053Z"
   },
   {
    "duration": 100,
    "start_time": "2024-03-13T18:53:02.563Z"
   },
   {
    "duration": 150,
    "start_time": "2024-03-13T18:53:45.568Z"
   },
   {
    "duration": 134,
    "start_time": "2024-03-13T18:53:52.691Z"
   },
   {
    "duration": 135,
    "start_time": "2024-03-13T18:54:11.319Z"
   },
   {
    "duration": 138,
    "start_time": "2024-03-13T18:54:17.803Z"
   },
   {
    "duration": 151,
    "start_time": "2024-03-13T18:54:24.777Z"
   },
   {
    "duration": 146,
    "start_time": "2024-03-13T18:54:30.316Z"
   },
   {
    "duration": 230,
    "start_time": "2024-03-13T18:55:03.926Z"
   },
   {
    "duration": 5,
    "start_time": "2024-03-13T18:55:24.351Z"
   },
   {
    "duration": 132,
    "start_time": "2024-03-13T18:55:26.101Z"
   },
   {
    "duration": 135,
    "start_time": "2024-03-13T18:55:40.793Z"
   },
   {
    "duration": 142,
    "start_time": "2024-03-13T18:56:06.145Z"
   },
   {
    "duration": 134,
    "start_time": "2024-03-13T18:56:25.593Z"
   },
   {
    "duration": 124,
    "start_time": "2024-03-13T18:56:34.418Z"
   },
   {
    "duration": 127,
    "start_time": "2024-03-13T18:56:48.193Z"
   },
   {
    "duration": 125,
    "start_time": "2024-03-13T18:58:05.643Z"
   },
   {
    "duration": 125,
    "start_time": "2024-03-13T18:58:13.918Z"
   },
   {
    "duration": 132,
    "start_time": "2024-03-13T19:03:28.531Z"
   },
   {
    "duration": 138,
    "start_time": "2024-03-13T19:03:56.726Z"
   },
   {
    "duration": 134,
    "start_time": "2024-03-13T19:07:53.729Z"
   },
   {
    "duration": 144,
    "start_time": "2024-03-13T19:09:26.677Z"
   },
   {
    "duration": 229,
    "start_time": "2024-03-13T19:09:48.884Z"
   },
   {
    "duration": 143,
    "start_time": "2024-03-13T19:09:58.265Z"
   },
   {
    "duration": 143,
    "start_time": "2024-03-13T19:10:03.909Z"
   },
   {
    "duration": 156,
    "start_time": "2024-03-13T19:10:19.379Z"
   },
   {
    "duration": 3,
    "start_time": "2024-03-13T19:12:57.999Z"
   },
   {
    "duration": 60,
    "start_time": "2024-03-13T19:12:58.247Z"
   },
   {
    "duration": 14,
    "start_time": "2024-03-13T19:12:58.631Z"
   },
   {
    "duration": 19,
    "start_time": "2024-03-13T19:12:58.911Z"
   },
   {
    "duration": 19,
    "start_time": "2024-03-13T19:13:00.485Z"
   },
   {
    "duration": 5,
    "start_time": "2024-03-13T19:13:01.160Z"
   },
   {
    "duration": 18,
    "start_time": "2024-03-13T19:13:01.797Z"
   },
   {
    "duration": 17,
    "start_time": "2024-03-13T19:13:02.121Z"
   },
   {
    "duration": 3,
    "start_time": "2024-03-13T19:13:02.815Z"
   },
   {
    "duration": 2,
    "start_time": "2024-03-13T19:13:02.907Z"
   },
   {
    "duration": 5,
    "start_time": "2024-03-13T19:13:03.965Z"
   },
   {
    "duration": 11,
    "start_time": "2024-03-13T19:13:05.072Z"
   },
   {
    "duration": 12,
    "start_time": "2024-03-13T19:13:05.399Z"
   },
   {
    "duration": 7,
    "start_time": "2024-03-13T19:13:06.130Z"
   },
   {
    "duration": 21,
    "start_time": "2024-03-13T19:13:06.477Z"
   },
   {
    "duration": 6,
    "start_time": "2024-03-13T19:13:07.496Z"
   },
   {
    "duration": 23,
    "start_time": "2024-03-13T19:13:07.881Z"
   },
   {
    "duration": 344,
    "start_time": "2024-03-13T19:13:08.981Z"
   },
   {
    "duration": 7,
    "start_time": "2024-03-13T19:13:10.498Z"
   },
   {
    "duration": 270,
    "start_time": "2024-03-13T19:13:11.431Z"
   },
   {
    "duration": 19,
    "start_time": "2024-03-13T19:13:13.198Z"
   },
   {
    "duration": 370,
    "start_time": "2024-03-13T19:13:14.122Z"
   },
   {
    "duration": 208,
    "start_time": "2024-03-13T19:13:16.516Z"
   },
   {
    "duration": 247,
    "start_time": "2024-03-13T19:13:30.294Z"
   },
   {
    "duration": 154,
    "start_time": "2024-03-13T19:13:47.697Z"
   },
   {
    "duration": 142,
    "start_time": "2024-03-13T19:13:49.210Z"
   },
   {
    "duration": 154,
    "start_time": "2024-03-13T19:13:51.315Z"
   },
   {
    "duration": 156,
    "start_time": "2024-03-13T19:14:26.956Z"
   },
   {
    "duration": 147,
    "start_time": "2024-03-13T19:14:43.395Z"
   },
   {
    "duration": 152,
    "start_time": "2024-03-13T19:14:50.773Z"
   },
   {
    "duration": 162,
    "start_time": "2024-03-13T19:14:53.047Z"
   },
   {
    "duration": 156,
    "start_time": "2024-03-13T19:15:15.314Z"
   },
   {
    "duration": 149,
    "start_time": "2024-03-13T19:15:26.028Z"
   },
   {
    "duration": 143,
    "start_time": "2024-03-13T19:15:28.295Z"
   },
   {
    "duration": 159,
    "start_time": "2024-03-13T19:15:30.545Z"
   },
   {
    "duration": 149,
    "start_time": "2024-03-13T19:16:15.621Z"
   },
   {
    "duration": 236,
    "start_time": "2024-03-13T19:16:59.856Z"
   },
   {
    "duration": 157,
    "start_time": "2024-03-13T19:17:16.486Z"
   },
   {
    "duration": 148,
    "start_time": "2024-03-13T19:18:06.130Z"
   },
   {
    "duration": 8,
    "start_time": "2024-03-13T19:24:14.832Z"
   },
   {
    "duration": 1544,
    "start_time": "2024-03-13T19:24:28.239Z"
   },
   {
    "duration": 1600,
    "start_time": "2024-03-13T19:27:40.368Z"
   },
   {
    "duration": 10,
    "start_time": "2024-03-13T19:28:23.502Z"
   },
   {
    "duration": 15,
    "start_time": "2024-03-13T19:30:13.913Z"
   },
   {
    "duration": 24,
    "start_time": "2024-03-13T19:30:34.939Z"
   },
   {
    "duration": 313,
    "start_time": "2024-03-13T19:31:26.712Z"
   },
   {
    "duration": 316,
    "start_time": "2024-03-13T19:33:31.912Z"
   },
   {
    "duration": 214,
    "start_time": "2024-03-13T19:37:55.605Z"
   },
   {
    "duration": 213,
    "start_time": "2024-03-13T19:38:39.344Z"
   },
   {
    "duration": 4,
    "start_time": "2024-03-13T19:45:40.207Z"
   },
   {
    "duration": 443,
    "start_time": "2024-03-13T19:45:55.142Z"
   },
   {
    "duration": 3,
    "start_time": "2024-03-13T20:16:30.312Z"
   },
   {
    "duration": 54,
    "start_time": "2024-03-13T20:16:30.521Z"
   },
   {
    "duration": 16,
    "start_time": "2024-03-13T20:16:30.804Z"
   },
   {
    "duration": 19,
    "start_time": "2024-03-13T20:16:31.129Z"
   },
   {
    "duration": 14,
    "start_time": "2024-03-13T20:16:32.495Z"
   },
   {
    "duration": 5,
    "start_time": "2024-03-13T20:16:33.203Z"
   },
   {
    "duration": 17,
    "start_time": "2024-03-13T20:16:33.854Z"
   },
   {
    "duration": 15,
    "start_time": "2024-03-13T20:16:34.162Z"
   },
   {
    "duration": 2,
    "start_time": "2024-03-13T20:16:34.465Z"
   },
   {
    "duration": 3,
    "start_time": "2024-03-13T20:16:34.770Z"
   },
   {
    "duration": 5,
    "start_time": "2024-03-13T20:16:35.754Z"
   },
   {
    "duration": 11,
    "start_time": "2024-03-13T20:16:36.744Z"
   },
   {
    "duration": 11,
    "start_time": "2024-03-13T20:16:37.094Z"
   },
   {
    "duration": 6,
    "start_time": "2024-03-13T20:16:37.820Z"
   },
   {
    "duration": 11,
    "start_time": "2024-03-13T20:16:38.154Z"
   },
   {
    "duration": 5,
    "start_time": "2024-03-13T20:16:39.123Z"
   },
   {
    "duration": 17,
    "start_time": "2024-03-13T20:16:39.411Z"
   },
   {
    "duration": 347,
    "start_time": "2024-03-13T20:16:40.453Z"
   },
   {
    "duration": 7,
    "start_time": "2024-03-13T20:16:42.330Z"
   },
   {
    "duration": 250,
    "start_time": "2024-03-13T20:16:52.144Z"
   },
   {
    "duration": 106,
    "start_time": "2024-03-13T20:16:54.018Z"
   },
   {
    "duration": 364,
    "start_time": "2024-03-13T20:16:54.354Z"
   },
   {
    "duration": 207,
    "start_time": "2024-03-13T20:16:56.036Z"
   },
   {
    "duration": 150,
    "start_time": "2024-03-13T20:16:57.920Z"
   },
   {
    "duration": 153,
    "start_time": "2024-03-13T20:16:58.987Z"
   },
   {
    "duration": 161,
    "start_time": "2024-03-13T20:17:00.153Z"
   },
   {
    "duration": 410,
    "start_time": "2024-03-13T20:17:01.952Z"
   },
   {
    "duration": 28364,
    "start_time": "2024-03-13T20:17:28.416Z"
   },
   {
    "duration": 15,
    "start_time": "2024-03-13T20:18:20.791Z"
   },
   {
    "duration": 10,
    "start_time": "2024-03-13T20:18:42.556Z"
   },
   {
    "duration": 9,
    "start_time": "2024-03-13T20:21:48.606Z"
   },
   {
    "duration": 412,
    "start_time": "2024-03-13T20:28:16.652Z"
   },
   {
    "duration": 397,
    "start_time": "2024-03-13T20:29:06.847Z"
   },
   {
    "duration": 1742,
    "start_time": "2024-03-13T20:29:25.932Z"
   },
   {
    "duration": 157,
    "start_time": "2024-03-13T20:29:44.380Z"
   },
   {
    "duration": 395,
    "start_time": "2024-03-13T20:30:09.205Z"
   },
   {
    "duration": 396,
    "start_time": "2024-03-13T20:30:35.408Z"
   },
   {
    "duration": 179,
    "start_time": "2024-03-13T20:33:23.191Z"
   },
   {
    "duration": 3,
    "start_time": "2024-03-13T20:33:29.540Z"
   },
   {
    "duration": 53,
    "start_time": "2024-03-13T20:33:29.995Z"
   },
   {
    "duration": 15,
    "start_time": "2024-03-13T20:33:30.366Z"
   },
   {
    "duration": 19,
    "start_time": "2024-03-13T20:33:30.745Z"
   },
   {
    "duration": 15,
    "start_time": "2024-03-13T20:33:32.257Z"
   },
   {
    "duration": 6,
    "start_time": "2024-03-13T20:33:32.972Z"
   },
   {
    "duration": 24,
    "start_time": "2024-03-13T20:33:33.683Z"
   },
   {
    "duration": 16,
    "start_time": "2024-03-13T20:33:34.039Z"
   },
   {
    "duration": 2,
    "start_time": "2024-03-13T20:33:34.424Z"
   },
   {
    "duration": 2,
    "start_time": "2024-03-13T20:33:34.765Z"
   },
   {
    "duration": 4,
    "start_time": "2024-03-13T20:33:35.856Z"
   },
   {
    "duration": 12,
    "start_time": "2024-03-13T20:33:36.892Z"
   },
   {
    "duration": 12,
    "start_time": "2024-03-13T20:33:37.239Z"
   },
   {
    "duration": 7,
    "start_time": "2024-03-13T20:33:37.958Z"
   },
   {
    "duration": 11,
    "start_time": "2024-03-13T20:33:38.199Z"
   },
   {
    "duration": 12,
    "start_time": "2024-03-13T20:33:42.050Z"
   },
   {
    "duration": 6,
    "start_time": "2024-03-13T20:33:42.774Z"
   },
   {
    "duration": 11,
    "start_time": "2024-03-13T20:33:43.097Z"
   },
   {
    "duration": 5,
    "start_time": "2024-03-13T20:33:44.309Z"
   },
   {
    "duration": 15,
    "start_time": "2024-03-13T20:33:44.709Z"
   },
   {
    "duration": 356,
    "start_time": "2024-03-13T20:33:45.873Z"
   },
   {
    "duration": 7,
    "start_time": "2024-03-13T20:33:47.065Z"
   },
   {
    "duration": 268,
    "start_time": "2024-03-13T20:33:47.841Z"
   },
   {
    "duration": 19,
    "start_time": "2024-03-13T20:33:49.020Z"
   },
   {
    "duration": 370,
    "start_time": "2024-03-13T20:33:49.409Z"
   },
   {
    "duration": 207,
    "start_time": "2024-03-13T20:33:50.516Z"
   },
   {
    "duration": 319,
    "start_time": "2024-03-13T20:33:51.686Z"
   },
   {
    "duration": 154,
    "start_time": "2024-03-13T20:33:52.458Z"
   },
   {
    "duration": 158,
    "start_time": "2024-03-13T20:33:53.234Z"
   },
   {
    "duration": 188,
    "start_time": "2024-03-13T20:33:55.247Z"
   },
   {
    "duration": 1659,
    "start_time": "2024-03-13T20:34:36.416Z"
   },
   {
    "duration": 191,
    "start_time": "2024-03-13T20:35:04.174Z"
   },
   {
    "duration": 9,
    "start_time": "2024-03-13T20:35:59.143Z"
   },
   {
    "duration": 1556,
    "start_time": "2024-03-13T20:38:06.029Z"
   },
   {
    "duration": 412,
    "start_time": "2024-03-13T20:38:35.676Z"
   },
   {
    "duration": 104,
    "start_time": "2024-03-13T20:38:49.588Z"
   },
   {
    "duration": 105,
    "start_time": "2024-03-13T20:39:12.542Z"
   },
   {
    "duration": 101,
    "start_time": "2024-03-13T20:39:18.774Z"
   },
   {
    "duration": 3,
    "start_time": "2024-03-13T20:39:23.817Z"
   },
   {
    "duration": 51,
    "start_time": "2024-03-13T20:39:24.002Z"
   },
   {
    "duration": 13,
    "start_time": "2024-03-13T20:39:24.199Z"
   },
   {
    "duration": 19,
    "start_time": "2024-03-13T20:39:24.419Z"
   },
   {
    "duration": 23,
    "start_time": "2024-03-13T20:39:25.476Z"
   },
   {
    "duration": 5,
    "start_time": "2024-03-13T20:39:25.968Z"
   },
   {
    "duration": 17,
    "start_time": "2024-03-13T20:39:26.507Z"
   },
   {
    "duration": 19,
    "start_time": "2024-03-13T20:39:26.767Z"
   },
   {
    "duration": 2,
    "start_time": "2024-03-13T20:39:27.167Z"
   },
   {
    "duration": 2,
    "start_time": "2024-03-13T20:39:27.350Z"
   },
   {
    "duration": 5,
    "start_time": "2024-03-13T20:39:28.099Z"
   },
   {
    "duration": 11,
    "start_time": "2024-03-13T20:39:28.769Z"
   },
   {
    "duration": 11,
    "start_time": "2024-03-13T20:39:28.971Z"
   },
   {
    "duration": 10,
    "start_time": "2024-03-13T20:39:29.485Z"
   },
   {
    "duration": 11,
    "start_time": "2024-03-13T20:39:29.719Z"
   },
   {
    "duration": 6,
    "start_time": "2024-03-13T20:39:30.454Z"
   },
   {
    "duration": 19,
    "start_time": "2024-03-13T20:39:30.667Z"
   },
   {
    "duration": 380,
    "start_time": "2024-03-13T20:39:31.424Z"
   },
   {
    "duration": 7,
    "start_time": "2024-03-13T20:39:32.117Z"
   },
   {
    "duration": 249,
    "start_time": "2024-03-13T20:39:32.550Z"
   },
   {
    "duration": 18,
    "start_time": "2024-03-13T20:39:33.600Z"
   },
   {
    "duration": 448,
    "start_time": "2024-03-13T20:39:33.820Z"
   },
   {
    "duration": 206,
    "start_time": "2024-03-13T20:39:34.533Z"
   },
   {
    "duration": 157,
    "start_time": "2024-03-13T20:39:35.856Z"
   },
   {
    "duration": 149,
    "start_time": "2024-03-13T20:39:36.808Z"
   },
   {
    "duration": 149,
    "start_time": "2024-03-13T20:39:37.692Z"
   },
   {
    "duration": 102,
    "start_time": "2024-03-13T20:39:38.975Z"
   },
   {
    "duration": 99,
    "start_time": "2024-03-13T20:40:02.226Z"
   },
   {
    "duration": 100,
    "start_time": "2024-03-13T20:40:30.734Z"
   },
   {
    "duration": 7,
    "start_time": "2024-03-13T20:42:05.359Z"
   },
   {
    "duration": 6,
    "start_time": "2024-03-13T20:42:15.106Z"
   },
   {
    "duration": 7,
    "start_time": "2024-03-13T20:42:27.841Z"
   },
   {
    "duration": 11,
    "start_time": "2024-03-13T20:42:28.407Z"
   },
   {
    "duration": 6,
    "start_time": "2024-03-13T20:42:29.997Z"
   },
   {
    "duration": 10,
    "start_time": "2024-03-13T20:42:31.044Z"
   },
   {
    "duration": 6,
    "start_time": "2024-03-13T20:42:32.485Z"
   },
   {
    "duration": 16,
    "start_time": "2024-03-13T20:42:33.161Z"
   },
   {
    "duration": 16,
    "start_time": "2024-03-13T20:43:01.246Z"
   },
   {
    "duration": 15,
    "start_time": "2024-03-13T20:43:19.750Z"
   },
   {
    "duration": 8,
    "start_time": "2024-03-13T20:43:23.842Z"
   },
   {
    "duration": 10,
    "start_time": "2024-03-13T20:43:24.168Z"
   },
   {
    "duration": 7,
    "start_time": "2024-03-13T20:43:25.067Z"
   },
   {
    "duration": 11,
    "start_time": "2024-03-13T20:43:25.425Z"
   },
   {
    "duration": 5,
    "start_time": "2024-03-13T20:43:26.351Z"
   },
   {
    "duration": 16,
    "start_time": "2024-03-13T20:43:26.710Z"
   },
   {
    "duration": 12,
    "start_time": "2024-03-13T20:43:28.059Z"
   },
   {
    "duration": 3,
    "start_time": "2024-03-13T20:43:38.352Z"
   },
   {
    "duration": 52,
    "start_time": "2024-03-13T20:43:38.726Z"
   },
   {
    "duration": 13,
    "start_time": "2024-03-13T20:43:39.109Z"
   },
   {
    "duration": 19,
    "start_time": "2024-03-13T20:43:39.527Z"
   },
   {
    "duration": 14,
    "start_time": "2024-03-13T20:43:42.951Z"
   },
   {
    "duration": 7,
    "start_time": "2024-03-13T20:43:43.943Z"
   },
   {
    "duration": 19,
    "start_time": "2024-03-13T20:43:46.192Z"
   },
   {
    "duration": 14,
    "start_time": "2024-03-13T20:43:49.943Z"
   },
   {
    "duration": 16,
    "start_time": "2024-03-13T20:43:51.201Z"
   },
   {
    "duration": 2,
    "start_time": "2024-03-13T20:43:53.525Z"
   },
   {
    "duration": 2,
    "start_time": "2024-03-13T20:43:54.061Z"
   },
   {
    "duration": 14,
    "start_time": "2024-03-13T20:43:55.239Z"
   },
   {
    "duration": 5,
    "start_time": "2024-03-13T20:44:30.110Z"
   },
   {
    "duration": 15,
    "start_time": "2024-03-13T20:44:34.710Z"
   },
   {
    "duration": 19,
    "start_time": "2024-03-13T20:44:35.683Z"
   },
   {
    "duration": 24,
    "start_time": "2024-03-13T20:44:46.875Z"
   },
   {
    "duration": 25,
    "start_time": "2024-03-13T20:45:30.575Z"
   },
   {
    "duration": 10,
    "start_time": "2024-03-13T20:45:32.994Z"
   },
   {
    "duration": 4,
    "start_time": "2024-03-13T20:45:35.242Z"
   },
   {
    "duration": 3,
    "start_time": "2024-03-13T20:45:44.759Z"
   },
   {
    "duration": 62,
    "start_time": "2024-03-13T20:45:45.136Z"
   },
   {
    "duration": 13,
    "start_time": "2024-03-13T20:45:45.604Z"
   },
   {
    "duration": 20,
    "start_time": "2024-03-13T20:45:46.003Z"
   },
   {
    "duration": 15,
    "start_time": "2024-03-13T20:45:48.052Z"
   },
   {
    "duration": 5,
    "start_time": "2024-03-13T20:45:49.275Z"
   },
   {
    "duration": 17,
    "start_time": "2024-03-13T20:45:54.741Z"
   },
   {
    "duration": 15,
    "start_time": "2024-03-13T20:45:59.228Z"
   },
   {
    "duration": 23,
    "start_time": "2024-03-13T20:46:06.045Z"
   },
   {
    "duration": 2,
    "start_time": "2024-03-13T20:46:08.498Z"
   },
   {
    "duration": 3,
    "start_time": "2024-03-13T20:46:09.292Z"
   },
   {
    "duration": 7,
    "start_time": "2024-03-13T20:46:10.878Z"
   },
   {
    "duration": 12,
    "start_time": "2024-03-13T20:46:14.808Z"
   },
   {
    "duration": 11,
    "start_time": "2024-03-13T20:46:15.808Z"
   },
   {
    "duration": 6,
    "start_time": "2024-03-13T20:46:18.629Z"
   },
   {
    "duration": 17,
    "start_time": "2024-03-13T20:46:19.818Z"
   },
   {
    "duration": 10,
    "start_time": "2024-03-13T20:46:22.040Z"
   },
   {
    "duration": 6,
    "start_time": "2024-03-13T20:46:38.653Z"
   },
   {
    "duration": 21,
    "start_time": "2024-03-13T20:46:40.631Z"
   },
   {
    "duration": 353,
    "start_time": "2024-03-13T20:46:42.694Z"
   },
   {
    "duration": 7,
    "start_time": "2024-03-13T20:46:45.072Z"
   },
   {
    "duration": 249,
    "start_time": "2024-03-13T20:46:46.087Z"
   },
   {
    "duration": 20,
    "start_time": "2024-03-13T20:46:47.526Z"
   },
   {
    "duration": 485,
    "start_time": "2024-03-13T20:46:47.977Z"
   },
   {
    "duration": 216,
    "start_time": "2024-03-13T20:46:51.424Z"
   },
   {
    "duration": 160,
    "start_time": "2024-03-13T20:46:53.558Z"
   },
   {
    "duration": 145,
    "start_time": "2024-03-13T20:46:54.633Z"
   },
   {
    "duration": 143,
    "start_time": "2024-03-13T20:46:55.603Z"
   },
   {
    "duration": 100,
    "start_time": "2024-03-13T20:46:59.014Z"
   },
   {
    "duration": 7,
    "start_time": "2024-03-13T20:47:34.576Z"
   },
   {
    "duration": 149,
    "start_time": "2024-03-13T20:48:16.629Z"
   },
   {
    "duration": 171,
    "start_time": "2024-03-13T20:51:30.925Z"
   },
   {
    "duration": 165,
    "start_time": "2024-03-13T20:51:42.962Z"
   },
   {
    "duration": 136,
    "start_time": "2024-03-13T20:53:23.995Z"
   },
   {
    "duration": 395,
    "start_time": "2024-03-13T20:54:08.162Z"
   },
   {
    "duration": 160,
    "start_time": "2024-03-13T20:54:28.714Z"
   },
   {
    "duration": 154,
    "start_time": "2024-03-13T20:54:40.980Z"
   },
   {
    "duration": 171,
    "start_time": "2024-03-13T20:56:10.230Z"
   },
   {
    "duration": 154,
    "start_time": "2024-03-13T20:56:15.067Z"
   },
   {
    "duration": 10,
    "start_time": "2024-03-13T20:59:41.265Z"
   },
   {
    "duration": 8,
    "start_time": "2024-03-13T20:59:51.406Z"
   },
   {
    "duration": 155,
    "start_time": "2024-03-13T21:00:01.750Z"
   },
   {
    "duration": 1530,
    "start_time": "2024-03-13T21:02:55.338Z"
   },
   {
    "duration": 323,
    "start_time": "2024-03-13T21:03:11.198Z"
   },
   {
    "duration": 162,
    "start_time": "2024-03-13T21:04:03.678Z"
   },
   {
    "duration": 244,
    "start_time": "2024-03-13T21:04:08.191Z"
   },
   {
    "duration": 324,
    "start_time": "2024-03-13T21:04:09.977Z"
   },
   {
    "duration": 141,
    "start_time": "2024-03-13T21:06:34.686Z"
   },
   {
    "duration": 326,
    "start_time": "2024-03-13T21:07:13.538Z"
   },
   {
    "duration": 14,
    "start_time": "2024-03-13T21:12:04.455Z"
   },
   {
    "duration": 5,
    "start_time": "2024-03-13T21:14:46.275Z"
   },
   {
    "duration": 23,
    "start_time": "2024-03-13T21:15:01.981Z"
   },
   {
    "duration": 20,
    "start_time": "2024-03-13T21:15:54.143Z"
   },
   {
    "duration": 5,
    "start_time": "2024-03-13T21:15:58.187Z"
   },
   {
    "duration": 54,
    "start_time": "2024-03-13T21:15:58.464Z"
   },
   {
    "duration": 13,
    "start_time": "2024-03-13T21:15:58.760Z"
   },
   {
    "duration": 18,
    "start_time": "2024-03-13T21:15:59.118Z"
   },
   {
    "duration": 21,
    "start_time": "2024-03-13T21:16:00.778Z"
   },
   {
    "duration": 6,
    "start_time": "2024-03-13T21:16:01.596Z"
   },
   {
    "duration": 17,
    "start_time": "2024-03-13T21:16:02.340Z"
   },
   {
    "duration": 25,
    "start_time": "2024-03-13T21:16:02.774Z"
   },
   {
    "duration": 3,
    "start_time": "2024-03-13T21:16:03.416Z"
   },
   {
    "duration": 2,
    "start_time": "2024-03-13T21:16:04.091Z"
   },
   {
    "duration": 5,
    "start_time": "2024-03-13T21:16:05.308Z"
   },
   {
    "duration": 15,
    "start_time": "2024-03-13T21:16:06.574Z"
   },
   {
    "duration": 15,
    "start_time": "2024-03-13T21:16:07.075Z"
   },
   {
    "duration": 7,
    "start_time": "2024-03-13T21:16:08.006Z"
   },
   {
    "duration": 18,
    "start_time": "2024-03-13T21:16:08.391Z"
   },
   {
    "duration": 10,
    "start_time": "2024-03-13T21:16:09.000Z"
   },
   {
    "duration": 5,
    "start_time": "2024-03-13T21:16:16.009Z"
   },
   {
    "duration": 16,
    "start_time": "2024-03-13T21:16:16.501Z"
   },
   {
    "duration": 4,
    "start_time": "2024-03-13T21:16:54.732Z"
   },
   {
    "duration": 25,
    "start_time": "2024-03-13T21:16:55.074Z"
   },
   {
    "duration": 352,
    "start_time": "2024-03-13T21:16:56.174Z"
   },
   {
    "duration": 8,
    "start_time": "2024-03-13T21:16:57.775Z"
   },
   {
    "duration": 259,
    "start_time": "2024-03-13T21:16:58.699Z"
   },
   {
    "duration": 22,
    "start_time": "2024-03-13T21:17:00.156Z"
   },
   {
    "duration": 383,
    "start_time": "2024-03-13T21:17:00.792Z"
   },
   {
    "duration": 205,
    "start_time": "2024-03-13T21:17:02.444Z"
   },
   {
    "duration": 146,
    "start_time": "2024-03-13T21:17:04.192Z"
   },
   {
    "duration": 155,
    "start_time": "2024-03-13T21:17:05.149Z"
   },
   {
    "duration": 265,
    "start_time": "2024-03-13T21:17:06.065Z"
   },
   {
    "duration": 153,
    "start_time": "2024-03-13T21:17:08.036Z"
   },
   {
    "duration": 156,
    "start_time": "2024-03-13T21:17:09.448Z"
   },
   {
    "duration": 5,
    "start_time": "2024-03-13T21:17:11.158Z"
   },
   {
    "duration": 10,
    "start_time": "2024-03-13T21:20:57.401Z"
   },
   {
    "duration": 167,
    "start_time": "2024-03-13T21:21:08.714Z"
   },
   {
    "duration": 147,
    "start_time": "2024-03-13T21:21:29.831Z"
   },
   {
    "duration": 6,
    "start_time": "2024-03-13T21:21:38.615Z"
   },
   {
    "duration": 1396,
    "start_time": "2024-03-14T16:03:31.432Z"
   },
   {
    "duration": 116,
    "start_time": "2024-03-14T16:03:32.830Z"
   },
   {
    "duration": 16,
    "start_time": "2024-03-14T16:03:33.810Z"
   },
   {
    "duration": 36,
    "start_time": "2024-03-14T16:03:34.197Z"
   },
   {
    "duration": 16,
    "start_time": "2024-03-14T16:03:35.992Z"
   },
   {
    "duration": 5,
    "start_time": "2024-03-14T16:03:36.817Z"
   },
   {
    "duration": 19,
    "start_time": "2024-03-14T16:03:37.520Z"
   },
   {
    "duration": 17,
    "start_time": "2024-03-14T16:03:37.826Z"
   },
   {
    "duration": 2,
    "start_time": "2024-03-14T16:03:38.210Z"
   },
   {
    "duration": 2,
    "start_time": "2024-03-14T16:03:38.810Z"
   },
   {
    "duration": 6,
    "start_time": "2024-03-14T16:03:39.893Z"
   },
   {
    "duration": 11,
    "start_time": "2024-03-14T16:03:40.992Z"
   },
   {
    "duration": 11,
    "start_time": "2024-03-14T16:03:56.974Z"
   },
   {
    "duration": 6,
    "start_time": "2024-03-14T16:03:57.694Z"
   },
   {
    "duration": 20,
    "start_time": "2024-03-14T16:03:58.068Z"
   },
   {
    "duration": 11,
    "start_time": "2024-03-14T16:03:58.450Z"
   },
   {
    "duration": 6,
    "start_time": "2024-03-14T16:03:59.591Z"
   },
   {
    "duration": 18,
    "start_time": "2024-03-14T16:03:59.975Z"
   },
   {
    "duration": 375,
    "start_time": "2024-03-14T16:04:01.125Z"
   },
   {
    "duration": 8,
    "start_time": "2024-03-14T16:04:02.657Z"
   },
   {
    "duration": 362,
    "start_time": "2024-03-14T16:04:03.558Z"
   },
   {
    "duration": 20,
    "start_time": "2024-03-14T16:04:05.360Z"
   },
   {
    "duration": 115,
    "start_time": "2024-03-14T16:04:05.984Z"
   },
   {
    "duration": 430,
    "start_time": "2024-03-14T16:04:45.110Z"
   },
   {
    "duration": 234,
    "start_time": "2024-03-14T16:04:52.213Z"
   },
   {
    "duration": 227,
    "start_time": "2024-03-14T16:04:54.792Z"
   },
   {
    "duration": 148,
    "start_time": "2024-03-14T16:04:55.966Z"
   },
   {
    "duration": 150,
    "start_time": "2024-03-14T16:04:56.840Z"
   },
   {
    "duration": 166,
    "start_time": "2024-03-14T16:04:59.117Z"
   },
   {
    "duration": 161,
    "start_time": "2024-03-14T16:05:00.423Z"
   },
   {
    "duration": 6,
    "start_time": "2024-03-14T16:05:02.025Z"
   },
   {
    "duration": 143,
    "start_time": "2024-03-14T16:06:23.302Z"
   },
   {
    "duration": 149,
    "start_time": "2024-03-14T16:06:35.484Z"
   },
   {
    "duration": 7,
    "start_time": "2024-03-14T16:06:48.101Z"
   },
   {
    "duration": 7,
    "start_time": "2024-03-14T16:06:59.735Z"
   },
   {
    "duration": 154,
    "start_time": "2024-03-14T16:07:32.044Z"
   },
   {
    "duration": 143,
    "start_time": "2024-03-14T16:07:34.632Z"
   },
   {
    "duration": 7,
    "start_time": "2024-03-14T16:07:42.236Z"
   },
   {
    "duration": 178,
    "start_time": "2024-03-14T16:09:24.838Z"
   },
   {
    "duration": 151,
    "start_time": "2024-03-14T16:10:02.926Z"
   },
   {
    "duration": 8,
    "start_time": "2024-03-14T16:10:54.862Z"
   },
   {
    "duration": 387,
    "start_time": "2024-03-14T16:20:22.683Z"
   },
   {
    "duration": 416,
    "start_time": "2024-03-14T16:21:23.601Z"
   },
   {
    "duration": 339,
    "start_time": "2024-03-14T16:25:39.273Z"
   },
   {
    "duration": 20,
    "start_time": "2024-03-14T16:28:52.812Z"
   },
   {
    "duration": 72,
    "start_time": "2024-03-14T16:29:33.728Z"
   },
   {
    "duration": 89,
    "start_time": "2024-03-14T16:35:00.442Z"
   },
   {
    "duration": 75,
    "start_time": "2024-03-14T16:35:09.493Z"
   },
   {
    "duration": 4,
    "start_time": "2024-03-14T16:35:24.098Z"
   },
   {
    "duration": 55,
    "start_time": "2024-03-14T16:35:24.302Z"
   },
   {
    "duration": 16,
    "start_time": "2024-03-14T16:35:24.550Z"
   },
   {
    "duration": 21,
    "start_time": "2024-03-14T16:35:24.827Z"
   },
   {
    "duration": 15,
    "start_time": "2024-03-14T16:35:26.033Z"
   },
   {
    "duration": 6,
    "start_time": "2024-03-14T16:35:26.700Z"
   },
   {
    "duration": 18,
    "start_time": "2024-03-14T16:35:27.338Z"
   },
   {
    "duration": 17,
    "start_time": "2024-03-14T16:35:27.683Z"
   },
   {
    "duration": 2,
    "start_time": "2024-03-14T16:35:28.014Z"
   },
   {
    "duration": 2,
    "start_time": "2024-03-14T16:35:28.681Z"
   },
   {
    "duration": 5,
    "start_time": "2024-03-14T16:35:29.322Z"
   },
   {
    "duration": 11,
    "start_time": "2024-03-14T16:35:30.434Z"
   },
   {
    "duration": 11,
    "start_time": "2024-03-14T16:35:30.812Z"
   },
   {
    "duration": 8,
    "start_time": "2024-03-14T16:35:31.583Z"
   },
   {
    "duration": 20,
    "start_time": "2024-03-14T16:35:31.928Z"
   },
   {
    "duration": 11,
    "start_time": "2024-03-14T16:35:32.282Z"
   },
   {
    "duration": 4,
    "start_time": "2024-03-14T16:35:33.357Z"
   },
   {
    "duration": 17,
    "start_time": "2024-03-14T16:35:33.716Z"
   },
   {
    "duration": 339,
    "start_time": "2024-03-14T16:35:34.831Z"
   },
   {
    "duration": 7,
    "start_time": "2024-03-14T16:35:36.308Z"
   },
   {
    "duration": 255,
    "start_time": "2024-03-14T16:35:37.116Z"
   },
   {
    "duration": 21,
    "start_time": "2024-03-14T16:35:39.590Z"
   },
   {
    "duration": 381,
    "start_time": "2024-03-14T16:35:40.275Z"
   },
   {
    "duration": 224,
    "start_time": "2024-03-14T16:35:42.262Z"
   },
   {
    "duration": 150,
    "start_time": "2024-03-14T16:35:44.032Z"
   },
   {
    "duration": 156,
    "start_time": "2024-03-14T16:35:45.167Z"
   },
   {
    "duration": 249,
    "start_time": "2024-03-14T16:35:46.217Z"
   },
   {
    "duration": 147,
    "start_time": "2024-03-14T16:35:47.866Z"
   },
   {
    "duration": 150,
    "start_time": "2024-03-14T16:35:49.016Z"
   },
   {
    "duration": 6,
    "start_time": "2024-03-14T16:35:50.016Z"
   },
   {
    "duration": 169,
    "start_time": "2024-03-14T16:35:51.977Z"
   },
   {
    "duration": 138,
    "start_time": "2024-03-14T16:35:52.785Z"
   },
   {
    "duration": 6,
    "start_time": "2024-03-14T16:35:53.568Z"
   },
   {
    "duration": 70,
    "start_time": "2024-03-14T16:35:56.268Z"
   },
   {
    "duration": 10,
    "start_time": "2024-03-14T16:36:09.451Z"
   },
   {
    "duration": 15,
    "start_time": "2024-03-14T16:36:15.157Z"
   },
   {
    "duration": 3,
    "start_time": "2024-03-14T16:38:15.184Z"
   },
   {
    "duration": 14,
    "start_time": "2024-03-14T16:38:28.717Z"
   },
   {
    "duration": 335,
    "start_time": "2024-03-14T16:40:03.979Z"
   },
   {
    "duration": 17,
    "start_time": "2024-03-14T16:40:10.566Z"
   },
   {
    "duration": 324,
    "start_time": "2024-03-14T16:40:18.201Z"
   },
   {
    "duration": 13,
    "start_time": "2024-03-14T16:47:10.791Z"
   },
   {
    "duration": 343,
    "start_time": "2024-03-14T16:51:18.084Z"
   },
   {
    "duration": 208,
    "start_time": "2024-03-14T16:52:55.519Z"
   },
   {
    "duration": 222,
    "start_time": "2024-03-14T16:53:23.713Z"
   },
   {
    "duration": 210,
    "start_time": "2024-03-14T16:53:37.919Z"
   },
   {
    "duration": 317,
    "start_time": "2024-03-14T16:53:52.961Z"
   },
   {
    "duration": 21,
    "start_time": "2024-03-14T16:54:42.702Z"
   },
   {
    "duration": 226,
    "start_time": "2024-03-14T16:55:03.019Z"
   },
   {
    "duration": 145,
    "start_time": "2024-03-14T16:56:29.402Z"
   },
   {
    "duration": 140,
    "start_time": "2024-03-14T16:56:42.347Z"
   },
   {
    "duration": 77,
    "start_time": "2024-03-14T16:57:10.480Z"
   },
   {
    "duration": 3,
    "start_time": "2024-03-14T16:57:21.235Z"
   },
   {
    "duration": 55,
    "start_time": "2024-03-14T16:57:21.491Z"
   },
   {
    "duration": 15,
    "start_time": "2024-03-14T16:57:21.768Z"
   },
   {
    "duration": 33,
    "start_time": "2024-03-14T16:57:22.052Z"
   },
   {
    "duration": 15,
    "start_time": "2024-03-14T16:57:23.226Z"
   },
   {
    "duration": 6,
    "start_time": "2024-03-14T16:57:23.814Z"
   },
   {
    "duration": 18,
    "start_time": "2024-03-14T16:57:24.625Z"
   },
   {
    "duration": 17,
    "start_time": "2024-03-14T16:57:24.902Z"
   },
   {
    "duration": 2,
    "start_time": "2024-03-14T16:57:25.222Z"
   },
   {
    "duration": 2,
    "start_time": "2024-03-14T16:57:25.468Z"
   },
   {
    "duration": 6,
    "start_time": "2024-03-14T16:57:26.460Z"
   },
   {
    "duration": 11,
    "start_time": "2024-03-14T16:57:27.554Z"
   },
   {
    "duration": 11,
    "start_time": "2024-03-14T16:57:27.884Z"
   },
   {
    "duration": 7,
    "start_time": "2024-03-14T16:57:28.607Z"
   },
   {
    "duration": 19,
    "start_time": "2024-03-14T16:57:28.937Z"
   },
   {
    "duration": 10,
    "start_time": "2024-03-14T16:57:29.343Z"
   },
   {
    "duration": 5,
    "start_time": "2024-03-14T16:57:30.467Z"
   },
   {
    "duration": 18,
    "start_time": "2024-03-14T16:57:30.917Z"
   },
   {
    "duration": 366,
    "start_time": "2024-03-14T16:57:32.258Z"
   },
   {
    "duration": 351,
    "start_time": "2024-03-14T16:57:47.706Z"
   },
   {
    "duration": 7,
    "start_time": "2024-03-14T16:57:51.877Z"
   },
   {
    "duration": 249,
    "start_time": "2024-03-14T16:57:52.584Z"
   },
   {
    "duration": 20,
    "start_time": "2024-03-14T16:57:54.126Z"
   },
   {
    "duration": 458,
    "start_time": "2024-03-14T16:57:54.536Z"
   },
   {
    "duration": 213,
    "start_time": "2024-03-14T16:57:56.410Z"
   },
   {
    "duration": 149,
    "start_time": "2024-03-14T16:57:58.265Z"
   },
   {
    "duration": 163,
    "start_time": "2024-03-14T16:57:59.376Z"
   },
   {
    "duration": 150,
    "start_time": "2024-03-14T16:58:00.427Z"
   },
   {
    "duration": 161,
    "start_time": "2024-03-14T16:58:02.169Z"
   },
   {
    "duration": 140,
    "start_time": "2024-03-14T16:58:04.035Z"
   },
   {
    "duration": 6,
    "start_time": "2024-03-14T16:58:05.275Z"
   },
   {
    "duration": 159,
    "start_time": "2024-03-14T16:58:07.247Z"
   },
   {
    "duration": 138,
    "start_time": "2024-03-14T16:58:08.491Z"
   },
   {
    "duration": 7,
    "start_time": "2024-03-14T16:58:09.477Z"
   },
   {
    "duration": 341,
    "start_time": "2024-03-14T16:58:11.134Z"
   },
   {
    "duration": 81,
    "start_time": "2024-03-14T16:58:13.817Z"
   },
   {
    "duration": 72,
    "start_time": "2024-03-14T16:58:44.069Z"
   },
   {
    "duration": 68,
    "start_time": "2024-03-14T16:58:49.777Z"
   },
   {
    "duration": 3,
    "start_time": "2024-03-14T16:59:02.526Z"
   },
   {
    "duration": 55,
    "start_time": "2024-03-14T16:59:02.717Z"
   },
   {
    "duration": 16,
    "start_time": "2024-03-14T16:59:03.000Z"
   },
   {
    "duration": 20,
    "start_time": "2024-03-14T16:59:03.236Z"
   },
   {
    "duration": 15,
    "start_time": "2024-03-14T16:59:04.506Z"
   },
   {
    "duration": 5,
    "start_time": "2024-03-14T16:59:05.135Z"
   },
   {
    "duration": 22,
    "start_time": "2024-03-14T16:59:05.710Z"
   },
   {
    "duration": 19,
    "start_time": "2024-03-14T16:59:06.009Z"
   },
   {
    "duration": 3,
    "start_time": "2024-03-14T16:59:06.293Z"
   },
   {
    "duration": 3,
    "start_time": "2024-03-14T16:59:06.595Z"
   },
   {
    "duration": 5,
    "start_time": "2024-03-14T16:59:07.669Z"
   },
   {
    "duration": 11,
    "start_time": "2024-03-14T16:59:08.507Z"
   },
   {
    "duration": 12,
    "start_time": "2024-03-14T16:59:08.754Z"
   },
   {
    "duration": 7,
    "start_time": "2024-03-14T16:59:09.300Z"
   },
   {
    "duration": 20,
    "start_time": "2024-03-14T16:59:09.609Z"
   },
   {
    "duration": 12,
    "start_time": "2024-03-14T16:59:09.856Z"
   },
   {
    "duration": 4,
    "start_time": "2024-03-14T16:59:10.676Z"
   },
   {
    "duration": 18,
    "start_time": "2024-03-14T16:59:10.918Z"
   },
   {
    "duration": 346,
    "start_time": "2024-03-14T16:59:11.942Z"
   },
   {
    "duration": 7,
    "start_time": "2024-03-14T16:59:13.270Z"
   },
   {
    "duration": 265,
    "start_time": "2024-03-14T16:59:14.078Z"
   },
   {
    "duration": 122,
    "start_time": "2024-03-14T16:59:15.425Z"
   },
   {
    "duration": 363,
    "start_time": "2024-03-14T16:59:16.030Z"
   },
   {
    "duration": 207,
    "start_time": "2024-03-14T16:59:17.834Z"
   },
   {
    "duration": 164,
    "start_time": "2024-03-14T16:59:19.873Z"
   },
   {
    "duration": 162,
    "start_time": "2024-03-14T16:59:21.384Z"
   },
   {
    "duration": 149,
    "start_time": "2024-03-14T16:59:24.702Z"
   },
   {
    "duration": 152,
    "start_time": "2024-03-14T16:59:26.773Z"
   },
   {
    "duration": 141,
    "start_time": "2024-03-14T16:59:28.541Z"
   },
   {
    "duration": 7,
    "start_time": "2024-03-14T16:59:29.843Z"
   },
   {
    "duration": 161,
    "start_time": "2024-03-14T16:59:31.727Z"
   },
   {
    "duration": 134,
    "start_time": "2024-03-14T16:59:34.640Z"
   },
   {
    "duration": 6,
    "start_time": "2024-03-14T16:59:35.522Z"
   },
   {
    "duration": 308,
    "start_time": "2024-03-14T16:59:37.002Z"
   },
   {
    "duration": 72,
    "start_time": "2024-03-14T16:59:38.517Z"
   },
   {
    "duration": 66,
    "start_time": "2024-03-14T16:59:59.510Z"
   },
   {
    "duration": 73,
    "start_time": "2024-03-14T17:00:10.042Z"
   },
   {
    "duration": 3,
    "start_time": "2024-03-14T17:02:00.851Z"
   },
   {
    "duration": 56,
    "start_time": "2024-03-14T17:02:01.167Z"
   },
   {
    "duration": 15,
    "start_time": "2024-03-14T17:02:01.676Z"
   },
   {
    "duration": 22,
    "start_time": "2024-03-14T17:02:02.031Z"
   },
   {
    "duration": 17,
    "start_time": "2024-03-14T17:02:03.400Z"
   },
   {
    "duration": 6,
    "start_time": "2024-03-14T17:02:04.095Z"
   },
   {
    "duration": 26,
    "start_time": "2024-03-14T17:02:04.787Z"
   },
   {
    "duration": 16,
    "start_time": "2024-03-14T17:02:05.108Z"
   },
   {
    "duration": 3,
    "start_time": "2024-03-14T17:02:05.454Z"
   },
   {
    "duration": 3,
    "start_time": "2024-03-14T17:02:05.824Z"
   },
   {
    "duration": 6,
    "start_time": "2024-03-14T17:02:06.874Z"
   },
   {
    "duration": 11,
    "start_time": "2024-03-14T17:02:07.934Z"
   },
   {
    "duration": 13,
    "start_time": "2024-03-14T17:02:08.291Z"
   },
   {
    "duration": 8,
    "start_time": "2024-03-14T17:02:09.024Z"
   },
   {
    "duration": 19,
    "start_time": "2024-03-14T17:02:09.375Z"
   },
   {
    "duration": 10,
    "start_time": "2024-03-14T17:02:09.737Z"
   },
   {
    "duration": 4,
    "start_time": "2024-03-14T17:02:10.835Z"
   },
   {
    "duration": 18,
    "start_time": "2024-03-14T17:02:11.189Z"
   },
   {
    "duration": 366,
    "start_time": "2024-03-14T17:02:12.287Z"
   },
   {
    "duration": 8,
    "start_time": "2024-03-14T17:02:13.841Z"
   },
   {
    "duration": 250,
    "start_time": "2024-03-14T17:02:14.770Z"
   },
   {
    "duration": 126,
    "start_time": "2024-03-14T17:02:16.625Z"
   },
   {
    "duration": 386,
    "start_time": "2024-03-14T17:02:17.071Z"
   },
   {
    "duration": 207,
    "start_time": "2024-03-14T17:02:19.036Z"
   },
   {
    "duration": 152,
    "start_time": "2024-03-14T17:02:20.675Z"
   },
   {
    "duration": 154,
    "start_time": "2024-03-14T17:02:21.584Z"
   },
   {
    "duration": 155,
    "start_time": "2024-03-14T17:02:22.395Z"
   },
   {
    "duration": 153,
    "start_time": "2024-03-14T17:02:23.751Z"
   },
   {
    "duration": 160,
    "start_time": "2024-03-14T17:02:24.892Z"
   },
   {
    "duration": 6,
    "start_time": "2024-03-14T17:02:25.754Z"
   },
   {
    "duration": 162,
    "start_time": "2024-03-14T17:02:27.236Z"
   },
   {
    "duration": 136,
    "start_time": "2024-03-14T17:02:28.041Z"
   },
   {
    "duration": 6,
    "start_time": "2024-03-14T17:02:28.450Z"
   },
   {
    "duration": 368,
    "start_time": "2024-03-14T17:02:29.457Z"
   },
   {
    "duration": 84,
    "start_time": "2024-03-14T17:02:31.024Z"
   },
   {
    "duration": 2,
    "start_time": "2024-03-14T17:02:41.226Z"
   },
   {
    "duration": 8,
    "start_time": "2024-03-14T17:03:08.408Z"
   },
   {
    "duration": 207,
    "start_time": "2024-03-14T17:04:38.493Z"
   },
   {
    "duration": 317,
    "start_time": "2024-03-14T17:05:22.171Z"
   },
   {
    "duration": 205,
    "start_time": "2024-03-14T17:05:41.464Z"
   },
   {
    "duration": 14,
    "start_time": "2024-03-14T17:05:56.814Z"
   },
   {
    "duration": 3,
    "start_time": "2024-03-14T17:06:03.600Z"
   },
   {
    "duration": 54,
    "start_time": "2024-03-14T17:06:03.858Z"
   },
   {
    "duration": 16,
    "start_time": "2024-03-14T17:06:04.100Z"
   },
   {
    "duration": 29,
    "start_time": "2024-03-14T17:06:04.443Z"
   },
   {
    "duration": 15,
    "start_time": "2024-03-14T17:06:05.551Z"
   },
   {
    "duration": 6,
    "start_time": "2024-03-14T17:06:06.183Z"
   },
   {
    "duration": 21,
    "start_time": "2024-03-14T17:06:06.787Z"
   },
   {
    "duration": 22,
    "start_time": "2024-03-14T17:06:07.069Z"
   },
   {
    "duration": 2,
    "start_time": "2024-03-14T17:06:07.414Z"
   },
   {
    "duration": 2,
    "start_time": "2024-03-14T17:06:07.776Z"
   },
   {
    "duration": 6,
    "start_time": "2024-03-14T17:06:08.738Z"
   },
   {
    "duration": 12,
    "start_time": "2024-03-14T17:06:09.799Z"
   },
   {
    "duration": 12,
    "start_time": "2024-03-14T17:06:10.116Z"
   },
   {
    "duration": 7,
    "start_time": "2024-03-14T17:06:10.804Z"
   },
   {
    "duration": 21,
    "start_time": "2024-03-14T17:06:11.165Z"
   },
   {
    "duration": 11,
    "start_time": "2024-03-14T17:06:11.520Z"
   },
   {
    "duration": 4,
    "start_time": "2024-03-14T17:06:12.637Z"
   },
   {
    "duration": 17,
    "start_time": "2024-03-14T17:06:13.011Z"
   },
   {
    "duration": 354,
    "start_time": "2024-03-14T17:06:14.334Z"
   },
   {
    "duration": 6,
    "start_time": "2024-03-14T17:06:16.080Z"
   },
   {
    "duration": 269,
    "start_time": "2024-03-14T17:06:16.777Z"
   },
   {
    "duration": 21,
    "start_time": "2024-03-14T17:06:17.871Z"
   },
   {
    "duration": 369,
    "start_time": "2024-03-14T17:06:18.197Z"
   },
   {
    "duration": 207,
    "start_time": "2024-03-14T17:06:19.237Z"
   },
   {
    "duration": 148,
    "start_time": "2024-03-14T17:06:20.492Z"
   },
   {
    "duration": 149,
    "start_time": "2024-03-14T17:06:21.163Z"
   },
   {
    "duration": 161,
    "start_time": "2024-03-14T17:06:49.822Z"
   },
   {
    "duration": 260,
    "start_time": "2024-03-14T17:07:00.218Z"
   },
   {
    "duration": 145,
    "start_time": "2024-03-14T17:07:12.802Z"
   },
   {
    "duration": 152,
    "start_time": "2024-03-14T17:07:23.904Z"
   },
   {
    "duration": 143,
    "start_time": "2024-03-14T17:07:26.912Z"
   },
   {
    "duration": 139,
    "start_time": "2024-03-14T17:07:28.233Z"
   },
   {
    "duration": 6,
    "start_time": "2024-03-14T17:07:29.292Z"
   },
   {
    "duration": 158,
    "start_time": "2024-03-14T17:07:30.572Z"
   },
   {
    "duration": 140,
    "start_time": "2024-03-14T17:07:31.201Z"
   },
   {
    "duration": 8,
    "start_time": "2024-03-14T17:07:31.676Z"
   },
   {
    "duration": 317,
    "start_time": "2024-03-14T17:07:32.717Z"
   },
   {
    "duration": 206,
    "start_time": "2024-03-14T17:07:55.557Z"
   },
   {
    "duration": 209,
    "start_time": "2024-03-14T17:08:38.909Z"
   },
   {
    "duration": 206,
    "start_time": "2024-03-14T17:08:55.155Z"
   },
   {
    "duration": 208,
    "start_time": "2024-03-14T17:13:26.725Z"
   },
   {
    "duration": 13,
    "start_time": "2024-03-14T17:37:47.074Z"
   },
   {
    "duration": 12,
    "start_time": "2024-03-14T17:39:10.621Z"
   },
   {
    "duration": 18,
    "start_time": "2024-03-14T17:39:28.842Z"
   },
   {
    "duration": 20,
    "start_time": "2024-03-14T17:40:14.073Z"
   },
   {
    "duration": 17,
    "start_time": "2024-03-14T17:40:37.492Z"
   },
   {
    "duration": 16,
    "start_time": "2024-03-14T17:41:16.758Z"
   },
   {
    "duration": 23,
    "start_time": "2024-03-14T17:41:59.292Z"
   },
   {
    "duration": 17,
    "start_time": "2024-03-14T17:42:49.141Z"
   },
   {
    "duration": 18,
    "start_time": "2024-03-14T17:57:58.493Z"
   },
   {
    "duration": 16,
    "start_time": "2024-03-14T18:02:04.014Z"
   },
   {
    "duration": 16,
    "start_time": "2024-03-14T18:04:18.372Z"
   },
   {
    "duration": 14,
    "start_time": "2024-03-14T18:06:49.946Z"
   },
   {
    "duration": 530,
    "start_time": "2024-03-14T18:08:22.414Z"
   },
   {
    "duration": 692,
    "start_time": "2024-03-14T18:08:33.240Z"
   },
   {
    "duration": 520,
    "start_time": "2024-03-14T18:09:00.757Z"
   },
   {
    "duration": 514,
    "start_time": "2024-03-14T18:09:18.477Z"
   },
   {
    "duration": 550,
    "start_time": "2024-03-14T18:09:30.482Z"
   },
   {
    "duration": 327,
    "start_time": "2024-03-14T18:13:02.646Z"
   },
   {
    "duration": 761,
    "start_time": "2024-03-14T18:18:58.813Z"
   },
   {
    "duration": 17,
    "start_time": "2024-03-14T18:22:28.917Z"
   },
   {
    "duration": 491,
    "start_time": "2024-03-14T18:25:08.688Z"
   },
   {
    "duration": 326,
    "start_time": "2024-03-14T18:34:21.344Z"
   },
   {
    "duration": 758,
    "start_time": "2024-03-14T18:40:59.338Z"
   },
   {
    "duration": 349,
    "start_time": "2024-03-14T18:41:16.256Z"
   },
   {
    "duration": 13,
    "start_time": "2024-03-14T18:43:53.268Z"
   },
   {
    "duration": 13,
    "start_time": "2024-03-14T18:46:30.236Z"
   },
   {
    "duration": 1439,
    "start_time": "2024-03-15T13:38:40.260Z"
   },
   {
    "duration": 104,
    "start_time": "2024-03-15T13:38:41.701Z"
   },
   {
    "duration": 15,
    "start_time": "2024-03-15T13:38:41.807Z"
   },
   {
    "duration": 29,
    "start_time": "2024-03-15T13:38:41.824Z"
   },
   {
    "duration": 17,
    "start_time": "2024-03-15T13:38:43.352Z"
   },
   {
    "duration": 5,
    "start_time": "2024-03-15T13:38:44.354Z"
   },
   {
    "duration": 17,
    "start_time": "2024-03-15T13:38:45.275Z"
   },
   {
    "duration": 24,
    "start_time": "2024-03-15T13:38:45.721Z"
   },
   {
    "duration": 3,
    "start_time": "2024-03-15T13:38:46.092Z"
   },
   {
    "duration": 2,
    "start_time": "2024-03-15T13:38:46.509Z"
   },
   {
    "duration": 5,
    "start_time": "2024-03-15T13:38:48.218Z"
   },
   {
    "duration": 12,
    "start_time": "2024-03-15T13:38:59.327Z"
   },
   {
    "duration": 12,
    "start_time": "2024-03-15T13:38:59.845Z"
   },
   {
    "duration": 6,
    "start_time": "2024-03-15T13:39:01.052Z"
   },
   {
    "duration": 21,
    "start_time": "2024-03-15T13:39:01.691Z"
   },
   {
    "duration": 11,
    "start_time": "2024-03-15T13:39:02.285Z"
   },
   {
    "duration": 8,
    "start_time": "2024-03-15T13:39:34.558Z"
   },
   {
    "duration": 17,
    "start_time": "2024-03-15T13:39:35.274Z"
   },
   {
    "duration": 401,
    "start_time": "2024-03-15T13:39:37.313Z"
   },
   {
    "duration": 7,
    "start_time": "2024-03-15T13:39:39.093Z"
   },
   {
    "duration": 344,
    "start_time": "2024-03-15T13:39:39.883Z"
   },
   {
    "duration": 20,
    "start_time": "2024-03-15T13:39:41.531Z"
   },
   {
    "duration": 395,
    "start_time": "2024-03-15T13:39:42.225Z"
   },
   {
    "duration": 217,
    "start_time": "2024-03-15T13:39:44.551Z"
   },
   {
    "duration": 282,
    "start_time": "2024-03-15T13:40:11.612Z"
   },
   {
    "duration": 224,
    "start_time": "2024-03-15T13:47:23.806Z"
   },
   {
    "duration": 414,
    "start_time": "2024-03-15T13:58:24.265Z"
   },
   {
    "duration": 143,
    "start_time": "2024-03-15T14:14:48.311Z"
   },
   {
    "duration": 163,
    "start_time": "2024-03-15T14:14:49.560Z"
   },
   {
    "duration": 160,
    "start_time": "2024-03-15T14:14:50.659Z"
   },
   {
    "duration": 132,
    "start_time": "2024-03-15T14:14:52.575Z"
   },
   {
    "duration": 126,
    "start_time": "2024-03-15T14:14:54.249Z"
   },
   {
    "duration": 6,
    "start_time": "2024-03-15T14:14:55.225Z"
   },
   {
    "duration": 147,
    "start_time": "2024-03-15T14:15:00.023Z"
   },
   {
    "duration": 133,
    "start_time": "2024-03-15T14:15:00.771Z"
   },
   {
    "duration": 6,
    "start_time": "2024-03-15T14:15:01.104Z"
   },
   {
    "duration": 105,
    "start_time": "2024-03-15T14:15:12.968Z"
   },
   {
    "duration": 277,
    "start_time": "2024-03-15T14:15:15.977Z"
   },
   {
    "duration": 356,
    "start_time": "2024-03-15T14:15:49.361Z"
   },
   {
    "duration": 204,
    "start_time": "2024-03-15T14:15:53.417Z"
   },
   {
    "duration": 17,
    "start_time": "2024-03-15T14:16:12.130Z"
   },
   {
    "duration": 342,
    "start_time": "2024-03-15T14:16:14.801Z"
   },
   {
    "duration": 786,
    "start_time": "2024-03-15T14:16:32.919Z"
   },
   {
    "duration": 18,
    "start_time": "2024-03-15T14:18:26.961Z"
   },
   {
    "duration": 5,
    "start_time": "2024-03-15T14:20:32.412Z"
   },
   {
    "duration": 10,
    "start_time": "2024-03-15T15:01:15.192Z"
   },
   {
    "duration": 11,
    "start_time": "2024-03-15T15:01:50.282Z"
   },
   {
    "duration": 12,
    "start_time": "2024-03-15T15:02:10.006Z"
   },
   {
    "duration": 13,
    "start_time": "2024-03-15T15:02:14.850Z"
   },
   {
    "duration": 3,
    "start_time": "2024-03-15T15:02:31.414Z"
   },
   {
    "duration": 53,
    "start_time": "2024-03-15T15:02:32.069Z"
   },
   {
    "duration": 15,
    "start_time": "2024-03-15T15:02:32.482Z"
   },
   {
    "duration": 21,
    "start_time": "2024-03-15T15:02:32.916Z"
   },
   {
    "duration": 14,
    "start_time": "2024-03-15T15:02:34.585Z"
   },
   {
    "duration": 5,
    "start_time": "2024-03-15T15:02:35.502Z"
   },
   {
    "duration": 17,
    "start_time": "2024-03-15T15:02:36.348Z"
   },
   {
    "duration": 16,
    "start_time": "2024-03-15T15:02:36.832Z"
   },
   {
    "duration": 2,
    "start_time": "2024-03-15T15:02:37.299Z"
   },
   {
    "duration": 2,
    "start_time": "2024-03-15T15:02:37.741Z"
   },
   {
    "duration": 5,
    "start_time": "2024-03-15T15:02:38.933Z"
   },
   {
    "duration": 10,
    "start_time": "2024-03-15T15:02:40.222Z"
   },
   {
    "duration": 10,
    "start_time": "2024-03-15T15:02:40.591Z"
   },
   {
    "duration": 6,
    "start_time": "2024-03-15T15:02:41.439Z"
   },
   {
    "duration": 18,
    "start_time": "2024-03-15T15:02:41.865Z"
   },
   {
    "duration": 10,
    "start_time": "2024-03-15T15:02:42.323Z"
   },
   {
    "duration": 5,
    "start_time": "2024-03-15T15:02:43.573Z"
   },
   {
    "duration": 17,
    "start_time": "2024-03-15T15:02:43.935Z"
   },
   {
    "duration": 330,
    "start_time": "2024-03-15T15:02:45.183Z"
   },
   {
    "duration": 10,
    "start_time": "2024-03-15T15:02:46.926Z"
   },
   {
    "duration": 228,
    "start_time": "2024-03-15T15:02:47.808Z"
   },
   {
    "duration": 105,
    "start_time": "2024-03-15T15:02:49.222Z"
   },
   {
    "duration": 355,
    "start_time": "2024-03-15T15:02:52.165Z"
   },
   {
    "duration": 375,
    "start_time": "2024-03-15T15:02:53.739Z"
   },
   {
    "duration": 142,
    "start_time": "2024-03-15T15:02:55.665Z"
   },
   {
    "duration": 144,
    "start_time": "2024-03-15T15:02:56.701Z"
   },
   {
    "duration": 144,
    "start_time": "2024-03-15T15:02:57.631Z"
   },
   {
    "duration": 129,
    "start_time": "2024-03-15T15:03:40.870Z"
   },
   {
    "duration": 128,
    "start_time": "2024-03-15T15:03:41.911Z"
   },
   {
    "duration": 6,
    "start_time": "2024-03-15T15:03:42.924Z"
   },
   {
    "duration": 144,
    "start_time": "2024-03-15T15:03:44.228Z"
   },
   {
    "duration": 133,
    "start_time": "2024-03-15T15:03:44.740Z"
   },
   {
    "duration": 6,
    "start_time": "2024-03-15T15:03:45.232Z"
   },
   {
    "duration": 312,
    "start_time": "2024-03-15T15:03:47.371Z"
   },
   {
    "duration": 281,
    "start_time": "2024-03-15T15:04:07.928Z"
   },
   {
    "duration": 18,
    "start_time": "2024-03-15T15:04:09.920Z"
   },
   {
    "duration": 739,
    "start_time": "2024-03-15T15:04:11.311Z"
   },
   {
    "duration": 8,
    "start_time": "2024-03-15T15:04:13.766Z"
   },
   {
    "duration": 10,
    "start_time": "2024-03-15T15:04:25.472Z"
   },
   {
    "duration": 11,
    "start_time": "2024-03-15T15:04:32.854Z"
   },
   {
    "duration": 10,
    "start_time": "2024-03-15T15:04:49.650Z"
   },
   {
    "duration": 11,
    "start_time": "2024-03-15T15:05:36.365Z"
   },
   {
    "duration": 15,
    "start_time": "2024-03-15T15:13:03.036Z"
   },
   {
    "duration": 13,
    "start_time": "2024-03-15T15:15:17.832Z"
   },
   {
    "duration": 12,
    "start_time": "2024-03-15T15:15:23.673Z"
   },
   {
    "duration": 4,
    "start_time": "2024-03-15T15:21:24.731Z"
   },
   {
    "duration": 3,
    "start_time": "2024-03-15T15:21:29.997Z"
   },
   {
    "duration": 52,
    "start_time": "2024-03-15T15:21:30.246Z"
   },
   {
    "duration": 15,
    "start_time": "2024-03-15T15:21:30.502Z"
   },
   {
    "duration": 20,
    "start_time": "2024-03-15T15:21:30.819Z"
   },
   {
    "duration": 14,
    "start_time": "2024-03-15T15:21:32.039Z"
   },
   {
    "duration": 6,
    "start_time": "2024-03-15T15:21:32.755Z"
   },
   {
    "duration": 19,
    "start_time": "2024-03-15T15:21:33.370Z"
   },
   {
    "duration": 15,
    "start_time": "2024-03-15T15:21:33.688Z"
   },
   {
    "duration": 2,
    "start_time": "2024-03-15T15:21:33.930Z"
   },
   {
    "duration": 3,
    "start_time": "2024-03-15T15:21:34.259Z"
   },
   {
    "duration": 6,
    "start_time": "2024-03-15T15:21:35.128Z"
   },
   {
    "duration": 11,
    "start_time": "2024-03-15T15:21:36.031Z"
   },
   {
    "duration": 12,
    "start_time": "2024-03-15T15:21:36.346Z"
   },
   {
    "duration": 6,
    "start_time": "2024-03-15T15:21:36.942Z"
   },
   {
    "duration": 18,
    "start_time": "2024-03-15T15:21:37.251Z"
   },
   {
    "duration": 10,
    "start_time": "2024-03-15T15:21:37.572Z"
   },
   {
    "duration": 5,
    "start_time": "2024-03-15T15:21:38.445Z"
   },
   {
    "duration": 16,
    "start_time": "2024-03-15T15:21:38.764Z"
   },
   {
    "duration": 318,
    "start_time": "2024-03-15T15:21:39.655Z"
   },
   {
    "duration": 9,
    "start_time": "2024-03-15T15:21:40.611Z"
   },
   {
    "duration": 222,
    "start_time": "2024-03-15T15:21:41.221Z"
   },
   {
    "duration": 19,
    "start_time": "2024-03-15T15:21:42.364Z"
   },
   {
    "duration": 348,
    "start_time": "2024-03-15T15:21:42.680Z"
   },
   {
    "duration": 362,
    "start_time": "2024-03-15T15:21:43.672Z"
   },
   {
    "duration": 228,
    "start_time": "2024-03-15T15:21:50.765Z"
   },
   {
    "duration": 147,
    "start_time": "2024-03-15T15:21:51.558Z"
   },
   {
    "duration": 136,
    "start_time": "2024-03-15T15:21:52.381Z"
   },
   {
    "duration": 124,
    "start_time": "2024-03-15T15:21:53.724Z"
   },
   {
    "duration": 126,
    "start_time": "2024-03-15T15:21:54.539Z"
   },
   {
    "duration": 6,
    "start_time": "2024-03-15T15:21:55.214Z"
   },
   {
    "duration": 154,
    "start_time": "2024-03-15T15:21:56.354Z"
   },
   {
    "duration": 130,
    "start_time": "2024-03-15T15:21:56.805Z"
   },
   {
    "duration": 6,
    "start_time": "2024-03-15T15:21:57.219Z"
   },
   {
    "duration": 320,
    "start_time": "2024-03-15T15:21:58.249Z"
   },
   {
    "duration": 187,
    "start_time": "2024-03-15T15:21:59.565Z"
   },
   {
    "duration": 16,
    "start_time": "2024-03-15T15:22:01.406Z"
   },
   {
    "duration": 733,
    "start_time": "2024-03-15T15:22:02.619Z"
   },
   {
    "duration": 4,
    "start_time": "2024-03-15T15:22:05.130Z"
   },
   {
    "duration": 5,
    "start_time": "2024-03-15T15:22:34.949Z"
   },
   {
    "duration": 594,
    "start_time": "2024-03-15T15:25:33.993Z"
   },
   {
    "duration": 226,
    "start_time": "2024-03-15T15:25:57.531Z"
   },
   {
    "duration": 510,
    "start_time": "2024-03-15T15:26:05.508Z"
   },
   {
    "duration": 223,
    "start_time": "2024-03-15T15:26:17.137Z"
   },
   {
    "duration": 305,
    "start_time": "2024-03-15T15:26:31.842Z"
   },
   {
    "duration": 503,
    "start_time": "2024-03-15T15:26:40.982Z"
   },
   {
    "duration": 573,
    "start_time": "2024-03-15T15:27:26.988Z"
   },
   {
    "duration": 806,
    "start_time": "2024-03-15T15:29:36.139Z"
   },
   {
    "duration": 1091,
    "start_time": "2024-03-15T15:35:56.333Z"
   },
   {
    "duration": 39,
    "start_time": "2024-03-15T15:36:08.215Z"
   },
   {
    "duration": 6,
    "start_time": "2024-03-15T16:09:20.848Z"
   },
   {
    "duration": 34,
    "start_time": "2024-03-15T16:09:20.993Z"
   },
   {
    "duration": 30,
    "start_time": "2024-03-15T16:09:21.029Z"
   },
   {
    "duration": 3,
    "start_time": "2024-03-15T16:17:02.862Z"
   },
   {
    "duration": 54,
    "start_time": "2024-03-15T16:17:03.616Z"
   },
   {
    "duration": 4,
    "start_time": "2024-03-15T16:45:13.333Z"
   },
   {
    "duration": 55,
    "start_time": "2024-03-15T16:45:13.930Z"
   },
   {
    "duration": 16,
    "start_time": "2024-03-15T16:45:14.412Z"
   },
   {
    "duration": 20,
    "start_time": "2024-03-15T16:45:15.270Z"
   },
   {
    "duration": 15,
    "start_time": "2024-03-15T16:45:17.515Z"
   },
   {
    "duration": 5,
    "start_time": "2024-03-15T16:45:18.638Z"
   },
   {
    "duration": 17,
    "start_time": "2024-03-15T16:45:19.529Z"
   },
   {
    "duration": 16,
    "start_time": "2024-03-15T16:45:20.106Z"
   },
   {
    "duration": 2,
    "start_time": "2024-03-15T16:45:20.516Z"
   },
   {
    "duration": 3,
    "start_time": "2024-03-15T16:45:20.939Z"
   },
   {
    "duration": 5,
    "start_time": "2024-03-15T16:45:21.999Z"
   },
   {
    "duration": 10,
    "start_time": "2024-03-15T16:45:23.148Z"
   },
   {
    "duration": 12,
    "start_time": "2024-03-15T16:45:23.487Z"
   },
   {
    "duration": 7,
    "start_time": "2024-03-15T16:45:24.219Z"
   },
   {
    "duration": 19,
    "start_time": "2024-03-15T16:45:24.604Z"
   },
   {
    "duration": 10,
    "start_time": "2024-03-15T16:45:24.946Z"
   },
   {
    "duration": 4,
    "start_time": "2024-03-15T16:45:26.032Z"
   },
   {
    "duration": 16,
    "start_time": "2024-03-15T16:45:26.373Z"
   },
   {
    "duration": 337,
    "start_time": "2024-03-15T16:45:27.532Z"
   },
   {
    "duration": 7,
    "start_time": "2024-03-15T16:45:28.888Z"
   },
   {
    "duration": 238,
    "start_time": "2024-03-15T16:45:29.621Z"
   },
   {
    "duration": 19,
    "start_time": "2024-03-15T16:45:31.071Z"
   },
   {
    "duration": 364,
    "start_time": "2024-03-15T16:45:31.754Z"
   },
   {
    "duration": 402,
    "start_time": "2024-03-15T16:45:33.463Z"
   },
   {
    "duration": 150,
    "start_time": "2024-03-15T16:45:43.247Z"
   },
   {
    "duration": 143,
    "start_time": "2024-03-15T16:45:44.229Z"
   },
   {
    "duration": 145,
    "start_time": "2024-03-15T16:45:45.197Z"
   },
   {
    "duration": 141,
    "start_time": "2024-03-15T16:45:47.104Z"
   },
   {
    "duration": 140,
    "start_time": "2024-03-15T16:45:51.133Z"
   },
   {
    "duration": 5,
    "start_time": "2024-03-15T16:45:51.946Z"
   },
   {
    "duration": 154,
    "start_time": "2024-03-15T16:45:53.231Z"
   },
   {
    "duration": 132,
    "start_time": "2024-03-15T16:45:53.679Z"
   },
   {
    "duration": 6,
    "start_time": "2024-03-15T16:45:54.120Z"
   },
   {
    "duration": 340,
    "start_time": "2024-03-15T16:45:55.287Z"
   },
   {
    "duration": 199,
    "start_time": "2024-03-15T16:45:57.130Z"
   },
   {
    "duration": 18,
    "start_time": "2024-03-15T16:45:59.095Z"
   },
   {
    "duration": 733,
    "start_time": "2024-03-15T16:46:00.580Z"
   },
   {
    "duration": 5,
    "start_time": "2024-03-15T16:46:05.099Z"
   },
   {
    "duration": 6,
    "start_time": "2024-03-15T17:05:53.322Z"
   },
   {
    "duration": 40,
    "start_time": "2024-03-15T17:05:53.367Z"
   },
   {
    "duration": 15,
    "start_time": "2024-03-15T17:06:24.476Z"
   },
   {
    "duration": 27,
    "start_time": "2024-03-15T17:06:25.141Z"
   },
   {
    "duration": 14,
    "start_time": "2024-03-15T17:06:27.050Z"
   },
   {
    "duration": 5,
    "start_time": "2024-03-15T17:06:27.989Z"
   },
   {
    "duration": 17,
    "start_time": "2024-03-15T17:06:28.755Z"
   },
   {
    "duration": 17,
    "start_time": "2024-03-15T17:06:29.122Z"
   },
   {
    "duration": 3,
    "start_time": "2024-03-15T17:06:29.464Z"
   },
   {
    "duration": 2,
    "start_time": "2024-03-15T17:06:29.818Z"
   },
   {
    "duration": 5,
    "start_time": "2024-03-15T17:06:30.820Z"
   },
   {
    "duration": 9,
    "start_time": "2024-03-15T17:06:31.812Z"
   },
   {
    "duration": 12,
    "start_time": "2024-03-15T17:06:32.088Z"
   },
   {
    "duration": 7,
    "start_time": "2024-03-15T17:06:32.787Z"
   },
   {
    "duration": 20,
    "start_time": "2024-03-15T17:06:33.152Z"
   },
   {
    "duration": 10,
    "start_time": "2024-03-15T17:06:33.504Z"
   },
   {
    "duration": 5,
    "start_time": "2024-03-15T17:06:34.586Z"
   },
   {
    "duration": 17,
    "start_time": "2024-03-15T17:06:34.936Z"
   },
   {
    "duration": 320,
    "start_time": "2024-03-15T17:06:36.323Z"
   },
   {
    "duration": 7,
    "start_time": "2024-03-15T17:06:37.658Z"
   },
   {
    "duration": 248,
    "start_time": "2024-03-15T17:06:40.151Z"
   },
   {
    "duration": 19,
    "start_time": "2024-03-15T17:06:41.815Z"
   },
   {
    "duration": 356,
    "start_time": "2024-03-15T17:06:42.163Z"
   },
   {
    "duration": 378,
    "start_time": "2024-03-15T17:06:44.398Z"
   },
   {
    "duration": 143,
    "start_time": "2024-03-15T17:06:46.283Z"
   },
   {
    "duration": 149,
    "start_time": "2024-03-15T17:06:47.860Z"
   },
   {
    "duration": 140,
    "start_time": "2024-03-15T17:06:49.226Z"
   },
   {
    "duration": 136,
    "start_time": "2024-03-15T17:06:51.256Z"
   },
   {
    "duration": 130,
    "start_time": "2024-03-15T17:06:52.791Z"
   },
   {
    "duration": 7,
    "start_time": "2024-03-15T17:06:53.981Z"
   },
   {
    "duration": 155,
    "start_time": "2024-03-15T17:06:56.137Z"
   },
   {
    "duration": 143,
    "start_time": "2024-03-15T17:06:56.849Z"
   },
   {
    "duration": 6,
    "start_time": "2024-03-15T17:06:57.789Z"
   },
   {
    "duration": 325,
    "start_time": "2024-03-15T17:06:59.342Z"
   },
   {
    "duration": 198,
    "start_time": "2024-03-15T17:07:01.727Z"
   },
   {
    "duration": 17,
    "start_time": "2024-03-15T17:07:04.822Z"
   },
   {
    "duration": 717,
    "start_time": "2024-03-15T17:07:09.341Z"
   },
   {
    "duration": 5,
    "start_time": "2024-03-15T17:07:16.124Z"
   },
   {
    "duration": 41,
    "start_time": "2024-03-15T17:07:18.223Z"
   },
   {
    "duration": 392118,
    "start_time": "2024-03-15T17:07:19.806Z"
   },
   {
    "duration": 112302,
    "start_time": "2024-03-15T17:27:12.484Z"
   },
   {
    "duration": 13,
    "start_time": "2024-03-15T17:48:03.790Z"
   },
   {
    "duration": 739,
    "start_time": "2024-03-15T17:50:03.859Z"
   },
   {
    "duration": 748,
    "start_time": "2024-03-15T17:50:14.501Z"
   },
   {
    "duration": 3,
    "start_time": "2024-03-15T17:50:23.958Z"
   },
   {
    "duration": 50,
    "start_time": "2024-03-15T17:50:24.163Z"
   },
   {
    "duration": 14,
    "start_time": "2024-03-15T17:50:24.414Z"
   },
   {
    "duration": 21,
    "start_time": "2024-03-15T17:50:24.683Z"
   },
   {
    "duration": 15,
    "start_time": "2024-03-15T17:50:25.792Z"
   },
   {
    "duration": 5,
    "start_time": "2024-03-15T17:50:26.406Z"
   },
   {
    "duration": 20,
    "start_time": "2024-03-15T17:50:27.065Z"
   },
   {
    "duration": 16,
    "start_time": "2024-03-15T17:50:27.391Z"
   },
   {
    "duration": 2,
    "start_time": "2024-03-15T17:50:27.723Z"
   },
   {
    "duration": 2,
    "start_time": "2024-03-15T17:50:28.043Z"
   },
   {
    "duration": 5,
    "start_time": "2024-03-15T17:50:28.957Z"
   },
   {
    "duration": 11,
    "start_time": "2024-03-15T17:50:30.006Z"
   },
   {
    "duration": 12,
    "start_time": "2024-03-15T17:50:30.294Z"
   },
   {
    "duration": 7,
    "start_time": "2024-03-15T17:50:30.935Z"
   },
   {
    "duration": 20,
    "start_time": "2024-03-15T17:50:31.272Z"
   },
   {
    "duration": 10,
    "start_time": "2024-03-15T17:50:31.590Z"
   },
   {
    "duration": 5,
    "start_time": "2024-03-15T17:50:32.504Z"
   },
   {
    "duration": 16,
    "start_time": "2024-03-15T17:50:32.783Z"
   },
   {
    "duration": 315,
    "start_time": "2024-03-15T17:50:33.739Z"
   },
   {
    "duration": 7,
    "start_time": "2024-03-15T17:50:34.899Z"
   },
   {
    "duration": 241,
    "start_time": "2024-03-15T17:50:35.667Z"
   },
   {
    "duration": 19,
    "start_time": "2024-03-15T17:50:36.820Z"
   },
   {
    "duration": 340,
    "start_time": "2024-03-15T17:50:37.179Z"
   },
   {
    "duration": 355,
    "start_time": "2024-03-15T17:50:38.294Z"
   },
   {
    "duration": 138,
    "start_time": "2024-03-15T17:50:39.607Z"
   },
   {
    "duration": 144,
    "start_time": "2024-03-15T17:50:40.482Z"
   },
   {
    "duration": 142,
    "start_time": "2024-03-15T17:50:41.257Z"
   },
   {
    "duration": 3693,
    "start_time": "2024-03-15T17:50:42.592Z"
   },
   {
    "duration": 147,
    "start_time": "2024-03-15T17:50:47.690Z"
   },
   {
    "duration": 7,
    "start_time": "2024-03-15T17:50:48.747Z"
   },
   {
    "duration": 148,
    "start_time": "2024-03-15T17:50:50.398Z"
   },
   {
    "duration": 145,
    "start_time": "2024-03-15T17:50:55.105Z"
   },
   {
    "duration": 6,
    "start_time": "2024-03-15T17:50:55.845Z"
   },
   {
    "duration": 318,
    "start_time": "2024-03-15T17:50:56.956Z"
   },
   {
    "duration": 190,
    "start_time": "2024-03-15T17:50:58.141Z"
   },
   {
    "duration": 16,
    "start_time": "2024-03-15T17:50:59.983Z"
   },
   {
    "duration": 685,
    "start_time": "2024-03-15T17:51:01.281Z"
   },
   {
    "duration": 11,
    "start_time": "2024-03-15T17:51:30.533Z"
   },
   {
    "duration": 4,
    "start_time": "2024-03-15T17:58:30.274Z"
   },
   {
    "duration": 6,
    "start_time": "2024-03-15T17:58:42.807Z"
   },
   {
    "duration": 6,
    "start_time": "2024-03-15T17:59:28.635Z"
   },
   {
    "duration": 10,
    "start_time": "2024-03-15T18:08:38.226Z"
   },
   {
    "duration": 162,
    "start_time": "2024-03-15T18:08:58.624Z"
   },
   {
    "duration": 1166,
    "start_time": "2024-03-15T18:09:29.015Z"
   },
   {
    "duration": 3,
    "start_time": "2024-03-15T18:10:03.867Z"
   },
   {
    "duration": 52,
    "start_time": "2024-03-15T18:10:04.125Z"
   },
   {
    "duration": 16,
    "start_time": "2024-03-15T18:10:04.416Z"
   },
   {
    "duration": 18,
    "start_time": "2024-03-15T18:10:04.686Z"
   },
   {
    "duration": 14,
    "start_time": "2024-03-15T18:10:05.848Z"
   },
   {
    "duration": 5,
    "start_time": "2024-03-15T18:10:06.485Z"
   },
   {
    "duration": 16,
    "start_time": "2024-03-15T18:10:07.091Z"
   },
   {
    "duration": 16,
    "start_time": "2024-03-15T18:10:07.432Z"
   },
   {
    "duration": 2,
    "start_time": "2024-03-15T18:10:07.808Z"
   },
   {
    "duration": 2,
    "start_time": "2024-03-15T18:10:08.149Z"
   },
   {
    "duration": 4,
    "start_time": "2024-03-15T18:10:09.047Z"
   },
   {
    "duration": 10,
    "start_time": "2024-03-15T18:10:10.009Z"
   },
   {
    "duration": 12,
    "start_time": "2024-03-15T18:10:10.356Z"
   },
   {
    "duration": 7,
    "start_time": "2024-03-15T18:10:11.021Z"
   },
   {
    "duration": 27,
    "start_time": "2024-03-15T18:10:11.339Z"
   },
   {
    "duration": 12,
    "start_time": "2024-03-15T18:10:11.718Z"
   },
   {
    "duration": 5,
    "start_time": "2024-03-15T18:10:12.717Z"
   },
   {
    "duration": 16,
    "start_time": "2024-03-15T18:10:13.100Z"
   },
   {
    "duration": 339,
    "start_time": "2024-03-15T18:10:14.131Z"
   },
   {
    "duration": 8,
    "start_time": "2024-03-15T18:10:15.304Z"
   },
   {
    "duration": 230,
    "start_time": "2024-03-15T18:10:15.900Z"
   },
   {
    "duration": 20,
    "start_time": "2024-03-15T18:10:17.091Z"
   },
   {
    "duration": 358,
    "start_time": "2024-03-15T18:10:17.514Z"
   },
   {
    "duration": 543,
    "start_time": "2024-03-15T18:10:18.556Z"
   },
   {
    "duration": 145,
    "start_time": "2024-03-15T18:10:19.688Z"
   },
   {
    "duration": 148,
    "start_time": "2024-03-15T18:10:20.359Z"
   },
   {
    "duration": 154,
    "start_time": "2024-03-15T18:10:21.080Z"
   },
   {
    "duration": 140,
    "start_time": "2024-03-15T18:10:22.363Z"
   },
   {
    "duration": 143,
    "start_time": "2024-03-15T18:10:23.115Z"
   },
   {
    "duration": 8,
    "start_time": "2024-03-15T18:10:23.931Z"
   },
   {
    "duration": 149,
    "start_time": "2024-03-15T18:10:25.190Z"
   },
   {
    "duration": 139,
    "start_time": "2024-03-15T18:10:25.564Z"
   },
   {
    "duration": 6,
    "start_time": "2024-03-15T18:10:25.931Z"
   },
   {
    "duration": 352,
    "start_time": "2024-03-15T18:10:26.621Z"
   },
   {
    "duration": 197,
    "start_time": "2024-03-15T18:10:27.693Z"
   },
   {
    "duration": 17,
    "start_time": "2024-03-15T18:10:29.511Z"
   },
   {
    "duration": 735,
    "start_time": "2024-03-15T18:10:30.769Z"
   },
   {
    "duration": 11,
    "start_time": "2024-03-15T18:10:33.522Z"
   },
   {
    "duration": 8,
    "start_time": "2024-03-15T18:10:34.422Z"
   },
   {
    "duration": 1169,
    "start_time": "2024-03-15T18:10:34.905Z"
   },
   {
    "duration": 1206,
    "start_time": "2024-03-15T18:11:05.606Z"
   },
   {
    "duration": 1097,
    "start_time": "2024-03-15T18:11:11.306Z"
   },
   {
    "duration": 1137,
    "start_time": "2024-03-15T18:11:57.556Z"
   },
   {
    "duration": 6,
    "start_time": "2024-03-15T18:13:08.235Z"
   },
   {
    "duration": 551,
    "start_time": "2024-03-15T18:18:19.269Z"
   },
   {
    "duration": 11,
    "start_time": "2024-03-15T18:18:47.093Z"
   },
   {
    "duration": 15,
    "start_time": "2024-03-15T18:19:11.241Z"
   },
   {
    "duration": 1084,
    "start_time": "2024-03-15T18:19:23.999Z"
   },
   {
    "duration": 355,
    "start_time": "2024-03-15T18:24:19.955Z"
   },
   {
    "duration": 141,
    "start_time": "2024-03-15T18:24:29.742Z"
   },
   {
    "duration": 139,
    "start_time": "2024-03-15T18:24:46.119Z"
   },
   {
    "duration": 141,
    "start_time": "2024-03-15T18:24:55.138Z"
   },
   {
    "duration": 155,
    "start_time": "2024-03-15T18:25:09.126Z"
   },
   {
    "duration": 136,
    "start_time": "2024-03-15T18:25:27.261Z"
   },
   {
    "duration": 138,
    "start_time": "2024-03-15T18:25:28.773Z"
   },
   {
    "duration": 5,
    "start_time": "2024-03-15T18:25:34.197Z"
   },
   {
    "duration": 150,
    "start_time": "2024-03-15T18:25:48.234Z"
   },
   {
    "duration": 133,
    "start_time": "2024-03-15T18:26:11.828Z"
   },
   {
    "duration": 6,
    "start_time": "2024-03-15T18:26:12.537Z"
   },
   {
    "duration": 303,
    "start_time": "2024-03-15T18:26:52.974Z"
   },
   {
    "duration": 196,
    "start_time": "2024-03-15T18:27:05.368Z"
   },
   {
    "duration": 16,
    "start_time": "2024-03-15T18:29:13.047Z"
   },
   {
    "duration": 701,
    "start_time": "2024-03-15T18:32:05.039Z"
   },
   {
    "duration": 10,
    "start_time": "2024-03-15T18:35:16.299Z"
   },
   {
    "duration": 12,
    "start_time": "2024-03-15T18:35:25.218Z"
   },
   {
    "duration": 8,
    "start_time": "2024-03-15T18:35:46.993Z"
   },
   {
    "duration": 146,
    "start_time": "2024-03-15T18:39:05.877Z"
   },
   {
    "duration": 570,
    "start_time": "2024-03-15T18:39:26.422Z"
   },
   {
    "duration": 365,
    "start_time": "2024-03-15T18:40:37.458Z"
   },
   {
    "duration": 400,
    "start_time": "2024-03-15T18:41:06.018Z"
   },
   {
    "duration": 413,
    "start_time": "2024-03-15T18:41:22.182Z"
   },
   {
    "duration": 403,
    "start_time": "2024-03-15T18:41:30.475Z"
   },
   {
    "duration": 369,
    "start_time": "2024-03-15T18:41:54.575Z"
   },
   {
    "duration": 391,
    "start_time": "2024-03-15T18:42:01.885Z"
   },
   {
    "duration": 417,
    "start_time": "2024-03-15T18:42:14.887Z"
   },
   {
    "duration": 522,
    "start_time": "2024-03-15T18:43:45.870Z"
   },
   {
    "duration": 346,
    "start_time": "2024-03-15T18:43:52.302Z"
   },
   {
    "duration": 319,
    "start_time": "2024-03-15T18:44:13.515Z"
   },
   {
    "duration": 355,
    "start_time": "2024-03-15T18:45:25.963Z"
   },
   {
    "duration": 334,
    "start_time": "2024-03-15T18:45:35.490Z"
   },
   {
    "duration": 171,
    "start_time": "2024-03-15T18:45:50.238Z"
   },
   {
    "duration": 139,
    "start_time": "2024-03-15T18:51:11.393Z"
   },
   {
    "duration": 139,
    "start_time": "2024-03-15T18:51:18.586Z"
   },
   {
    "duration": 144,
    "start_time": "2024-03-15T18:51:30.542Z"
   },
   {
    "duration": 140,
    "start_time": "2024-03-15T18:51:45.474Z"
   },
   {
    "duration": 139,
    "start_time": "2024-03-15T18:51:46.794Z"
   },
   {
    "duration": 6,
    "start_time": "2024-03-15T18:51:47.723Z"
   },
   {
    "duration": 160,
    "start_time": "2024-03-15T18:51:51.059Z"
   },
   {
    "duration": 128,
    "start_time": "2024-03-15T18:51:51.639Z"
   },
   {
    "duration": 5,
    "start_time": "2024-03-15T18:51:51.984Z"
   },
   {
    "duration": 334,
    "start_time": "2024-03-15T18:51:53.143Z"
   },
   {
    "duration": 190,
    "start_time": "2024-03-15T18:51:54.800Z"
   },
   {
    "duration": 16,
    "start_time": "2024-03-15T18:51:57.026Z"
   },
   {
    "duration": 876,
    "start_time": "2024-03-15T18:52:09.854Z"
   },
   {
    "duration": 12,
    "start_time": "2024-03-15T18:52:13.238Z"
   },
   {
    "duration": 7,
    "start_time": "2024-03-15T18:52:14.942Z"
   },
   {
    "duration": 391,
    "start_time": "2024-03-15T18:52:16.097Z"
   },
   {
    "duration": 418,
    "start_time": "2024-03-15T19:03:18.213Z"
   },
   {
    "duration": 1315,
    "start_time": "2024-03-16T09:03:46.561Z"
   },
   {
    "duration": 178,
    "start_time": "2024-03-16T09:03:47.878Z"
   },
   {
    "duration": 16,
    "start_time": "2024-03-16T09:03:50.133Z"
   },
   {
    "duration": 23,
    "start_time": "2024-03-16T09:03:50.564Z"
   },
   {
    "duration": 16,
    "start_time": "2024-03-16T09:03:51.953Z"
   },
   {
    "duration": 5,
    "start_time": "2024-03-16T09:03:52.719Z"
   },
   {
    "duration": 16,
    "start_time": "2024-03-16T09:03:53.350Z"
   },
   {
    "duration": 17,
    "start_time": "2024-03-16T09:03:53.649Z"
   },
   {
    "duration": 2,
    "start_time": "2024-03-16T09:03:53.953Z"
   },
   {
    "duration": 1,
    "start_time": "2024-03-16T09:03:54.267Z"
   },
   {
    "duration": 5,
    "start_time": "2024-03-16T09:03:55.233Z"
   },
   {
    "duration": 11,
    "start_time": "2024-03-16T09:03:56.109Z"
   },
   {
    "duration": 11,
    "start_time": "2024-03-16T09:03:56.451Z"
   },
   {
    "duration": 6,
    "start_time": "2024-03-16T09:03:57.069Z"
   },
   {
    "duration": 20,
    "start_time": "2024-03-16T09:03:57.335Z"
   },
   {
    "duration": 9,
    "start_time": "2024-03-16T09:03:57.608Z"
   },
   {
    "duration": 7,
    "start_time": "2024-03-16T09:03:58.533Z"
   },
   {
    "duration": 15,
    "start_time": "2024-03-16T09:03:58.867Z"
   },
   {
    "duration": 331,
    "start_time": "2024-03-16T09:03:59.752Z"
   },
   {
    "duration": 7,
    "start_time": "2024-03-16T09:04:00.715Z"
   },
   {
    "duration": 293,
    "start_time": "2024-03-16T09:04:01.383Z"
   },
   {
    "duration": 18,
    "start_time": "2024-03-16T09:04:02.633Z"
   },
   {
    "duration": 343,
    "start_time": "2024-03-16T09:04:02.992Z"
   },
   {
    "duration": 153,
    "start_time": "2024-03-16T09:04:04.106Z"
   },
   {
    "duration": 195,
    "start_time": "2024-03-16T09:04:05.191Z"
   },
   {
    "duration": 131,
    "start_time": "2024-03-16T09:04:05.832Z"
   },
   {
    "duration": 130,
    "start_time": "2024-03-16T09:04:06.475Z"
   },
   {
    "duration": 134,
    "start_time": "2024-03-16T09:04:07.478Z"
   },
   {
    "duration": 117,
    "start_time": "2024-03-16T09:04:08.198Z"
   },
   {
    "duration": 6,
    "start_time": "2024-03-16T09:04:08.866Z"
   },
   {
    "duration": 135,
    "start_time": "2024-03-16T09:04:10.583Z"
   },
   {
    "duration": 127,
    "start_time": "2024-03-16T09:04:11.085Z"
   },
   {
    "duration": 6,
    "start_time": "2024-03-16T09:04:11.408Z"
   },
   {
    "duration": 346,
    "start_time": "2024-03-16T09:04:35.992Z"
   },
   {
    "duration": 164,
    "start_time": "2024-03-16T09:04:37.218Z"
   },
   {
    "duration": 14,
    "start_time": "2024-03-16T09:04:39.316Z"
   },
   {
    "duration": 639,
    "start_time": "2024-03-16T09:04:50.033Z"
   },
   {
    "duration": 9,
    "start_time": "2024-03-16T09:05:22.487Z"
   },
   {
    "duration": 6,
    "start_time": "2024-03-16T09:05:23.242Z"
   },
   {
    "duration": 424,
    "start_time": "2024-03-16T09:05:23.834Z"
   },
   {
    "duration": 335,
    "start_time": "2024-03-16T09:06:06.310Z"
   },
   {
    "duration": 650,
    "start_time": "2024-03-16T09:06:32.591Z"
   },
   {
    "duration": 3,
    "start_time": "2024-03-16T09:07:41.600Z"
   },
   {
    "duration": 47,
    "start_time": "2024-03-16T09:07:41.810Z"
   },
   {
    "duration": 17,
    "start_time": "2024-03-16T09:07:42.115Z"
   },
   {
    "duration": 18,
    "start_time": "2024-03-16T09:07:42.609Z"
   },
   {
    "duration": 12,
    "start_time": "2024-03-16T09:07:44.807Z"
   },
   {
    "duration": 5,
    "start_time": "2024-03-16T09:07:45.691Z"
   },
   {
    "duration": 17,
    "start_time": "2024-03-16T09:07:46.736Z"
   },
   {
    "duration": 15,
    "start_time": "2024-03-16T09:07:47.360Z"
   },
   {
    "duration": 3,
    "start_time": "2024-03-16T09:07:47.715Z"
   },
   {
    "duration": 2,
    "start_time": "2024-03-16T09:07:48.062Z"
   },
   {
    "duration": 6,
    "start_time": "2024-03-16T09:07:49.215Z"
   },
   {
    "duration": 10,
    "start_time": "2024-03-16T09:07:50.333Z"
   },
   {
    "duration": 11,
    "start_time": "2024-03-16T09:07:50.641Z"
   },
   {
    "duration": 6,
    "start_time": "2024-03-16T09:07:51.350Z"
   },
   {
    "duration": 17,
    "start_time": "2024-03-16T09:07:51.695Z"
   },
   {
    "duration": 10,
    "start_time": "2024-03-16T09:07:52.080Z"
   },
   {
    "duration": 5,
    "start_time": "2024-03-16T09:07:53.224Z"
   },
   {
    "duration": 16,
    "start_time": "2024-03-16T09:07:53.550Z"
   },
   {
    "duration": 314,
    "start_time": "2024-03-16T09:07:54.682Z"
   },
   {
    "duration": 8,
    "start_time": "2024-03-16T09:07:56.065Z"
   },
   {
    "duration": 211,
    "start_time": "2024-03-16T09:07:56.875Z"
   },
   {
    "duration": 18,
    "start_time": "2024-03-16T09:07:58.440Z"
   },
   {
    "duration": 329,
    "start_time": "2024-03-16T09:07:58.774Z"
   },
   {
    "duration": 258,
    "start_time": "2024-03-16T09:08:00.066Z"
   },
   {
    "duration": 338,
    "start_time": "2024-03-16T09:08:35.236Z"
   },
   {
    "duration": 356,
    "start_time": "2024-03-16T09:10:28.931Z"
   },
   {
    "duration": 357,
    "start_time": "2024-03-16T09:10:39.725Z"
   },
   {
    "duration": 360,
    "start_time": "2024-03-16T09:11:24.508Z"
   },
   {
    "duration": 134,
    "start_time": "2024-03-16T09:21:38.643Z"
   },
   {
    "duration": 133,
    "start_time": "2024-03-16T09:21:40.431Z"
   },
   {
    "duration": 226,
    "start_time": "2024-03-16T09:21:41.350Z"
   },
   {
    "duration": 118,
    "start_time": "2024-03-16T09:21:43.090Z"
   },
   {
    "duration": 128,
    "start_time": "2024-03-16T09:21:44.732Z"
   },
   {
    "duration": 5,
    "start_time": "2024-03-16T09:21:45.772Z"
   },
   {
    "duration": 142,
    "start_time": "2024-03-16T09:21:47.423Z"
   },
   {
    "duration": 116,
    "start_time": "2024-03-16T09:21:47.947Z"
   },
   {
    "duration": 5,
    "start_time": "2024-03-16T09:21:48.305Z"
   },
   {
    "duration": 331,
    "start_time": "2024-03-16T09:21:49.633Z"
   },
   {
    "duration": 176,
    "start_time": "2024-03-16T09:21:50.734Z"
   },
   {
    "duration": 19,
    "start_time": "2024-03-16T09:21:53.477Z"
   },
   {
    "duration": 631,
    "start_time": "2024-03-16T09:21:57.981Z"
   },
   {
    "duration": 106,
    "start_time": "2024-03-16T09:24:09.932Z"
   },
   {
    "duration": 1207,
    "start_time": "2024-03-16T11:52:19.662Z"
   },
   {
    "duration": 103,
    "start_time": "2024-03-16T11:52:20.871Z"
   },
   {
    "duration": 13,
    "start_time": "2024-03-16T11:52:21.855Z"
   },
   {
    "duration": 29,
    "start_time": "2024-03-16T11:52:22.250Z"
   },
   {
    "duration": 15,
    "start_time": "2024-03-16T11:52:24.097Z"
   },
   {
    "duration": 4,
    "start_time": "2024-03-16T11:52:25.111Z"
   },
   {
    "duration": 18,
    "start_time": "2024-03-16T11:52:26.119Z"
   },
   {
    "duration": 13,
    "start_time": "2024-03-16T11:52:26.691Z"
   },
   {
    "duration": 2,
    "start_time": "2024-03-16T11:52:27.491Z"
   },
   {
    "duration": 2,
    "start_time": "2024-03-16T11:52:34.374Z"
   },
   {
    "duration": 5,
    "start_time": "2024-03-16T11:52:35.662Z"
   },
   {
    "duration": 9,
    "start_time": "2024-03-16T11:52:37.045Z"
   },
   {
    "duration": 8,
    "start_time": "2024-03-16T11:52:37.481Z"
   },
   {
    "duration": 5,
    "start_time": "2024-03-16T11:52:38.746Z"
   },
   {
    "duration": 15,
    "start_time": "2024-03-16T11:52:39.278Z"
   },
   {
    "duration": 7,
    "start_time": "2024-03-16T11:52:39.777Z"
   },
   {
    "duration": 4,
    "start_time": "2024-03-16T11:52:41.306Z"
   },
   {
    "duration": 13,
    "start_time": "2024-03-16T11:52:41.815Z"
   },
   {
    "duration": 273,
    "start_time": "2024-03-16T11:52:43.240Z"
   },
   {
    "duration": 6,
    "start_time": "2024-03-16T11:52:45.128Z"
   },
   {
    "duration": 258,
    "start_time": "2024-03-16T11:52:46.249Z"
   },
   {
    "duration": 15,
    "start_time": "2024-03-16T11:52:48.241Z"
   },
   {
    "duration": 304,
    "start_time": "2024-03-16T11:52:48.812Z"
   },
   {
    "duration": 367,
    "start_time": "2024-03-16T11:52:51.289Z"
   },
   {
    "duration": 123,
    "start_time": "2024-03-16T11:53:01.246Z"
   },
   {
    "duration": 118,
    "start_time": "2024-03-16T11:53:02.282Z"
   },
   {
    "duration": 131,
    "start_time": "2024-03-16T11:53:03.211Z"
   },
   {
    "duration": 107,
    "start_time": "2024-03-16T11:53:04.764Z"
   },
   {
    "duration": 113,
    "start_time": "2024-03-16T11:53:05.853Z"
   },
   {
    "duration": 5,
    "start_time": "2024-03-16T11:53:06.796Z"
   },
   {
    "duration": 140,
    "start_time": "2024-03-16T11:53:08.236Z"
   },
   {
    "duration": 106,
    "start_time": "2024-03-16T11:53:08.703Z"
   },
   {
    "duration": 4,
    "start_time": "2024-03-16T11:53:09.262Z"
   },
   {
    "duration": 365,
    "start_time": "2024-03-16T11:53:10.749Z"
   },
   {
    "duration": 170,
    "start_time": "2024-03-16T11:53:13.145Z"
   },
   {
    "duration": 12,
    "start_time": "2024-03-16T11:53:15.379Z"
   },
   {
    "duration": 104,
    "start_time": "2024-03-16T11:53:20.188Z"
   },
   {
    "duration": 18,
    "start_time": "2024-03-16T11:58:02.514Z"
   },
   {
    "duration": 12,
    "start_time": "2024-03-16T12:02:53.020Z"
   },
   {
    "duration": 150,
    "start_time": "2024-03-16T12:05:33.338Z"
   },
   {
    "duration": 302,
    "start_time": "2024-03-16T12:06:11.484Z"
   },
   {
    "duration": 260,
    "start_time": "2024-03-16T12:07:45.790Z"
   },
   {
    "duration": 252,
    "start_time": "2024-03-16T12:07:56.693Z"
   },
   {
    "duration": 269,
    "start_time": "2024-03-16T12:08:11.179Z"
   },
   {
    "duration": 270,
    "start_time": "2024-03-16T12:08:23.551Z"
   },
   {
    "duration": 283,
    "start_time": "2024-03-16T12:09:11.035Z"
   },
   {
    "duration": 298,
    "start_time": "2024-03-16T12:09:30.299Z"
   },
   {
    "duration": 277,
    "start_time": "2024-03-16T12:09:45.642Z"
   },
   {
    "duration": 611,
    "start_time": "2024-03-16T12:11:29.453Z"
   },
   {
    "duration": 896,
    "start_time": "2024-03-16T12:14:06.561Z"
   },
   {
    "duration": 814,
    "start_time": "2024-03-16T12:14:39.223Z"
   },
   {
    "duration": 2,
    "start_time": "2024-03-16T12:26:59.842Z"
   },
   {
    "duration": 50,
    "start_time": "2024-03-16T12:27:00.112Z"
   },
   {
    "duration": 12,
    "start_time": "2024-03-16T12:27:00.422Z"
   },
   {
    "duration": 17,
    "start_time": "2024-03-16T12:27:00.797Z"
   },
   {
    "duration": 17,
    "start_time": "2024-03-16T12:27:02.010Z"
   },
   {
    "duration": 4,
    "start_time": "2024-03-16T12:27:02.778Z"
   },
   {
    "duration": 14,
    "start_time": "2024-03-16T12:27:03.444Z"
   },
   {
    "duration": 13,
    "start_time": "2024-03-16T12:27:03.736Z"
   },
   {
    "duration": 2,
    "start_time": "2024-03-16T12:27:04.160Z"
   },
   {
    "duration": 2,
    "start_time": "2024-03-16T12:27:04.533Z"
   },
   {
    "duration": 4,
    "start_time": "2024-03-16T12:27:05.611Z"
   },
   {
    "duration": 8,
    "start_time": "2024-03-16T12:27:06.694Z"
   },
   {
    "duration": 9,
    "start_time": "2024-03-16T12:27:07.052Z"
   },
   {
    "duration": 6,
    "start_time": "2024-03-16T12:27:07.755Z"
   },
   {
    "duration": 14,
    "start_time": "2024-03-16T12:27:08.113Z"
   },
   {
    "duration": 7,
    "start_time": "2024-03-16T12:27:08.445Z"
   },
   {
    "duration": 4,
    "start_time": "2024-03-16T12:27:09.609Z"
   },
   {
    "duration": 14,
    "start_time": "2024-03-16T12:27:09.996Z"
   },
   {
    "duration": 258,
    "start_time": "2024-03-16T12:27:11.078Z"
   },
   {
    "duration": 7,
    "start_time": "2024-03-16T12:27:17.745Z"
   },
   {
    "duration": 183,
    "start_time": "2024-03-16T12:27:18.553Z"
   },
   {
    "duration": 15,
    "start_time": "2024-03-16T12:27:19.910Z"
   },
   {
    "duration": 283,
    "start_time": "2024-03-16T12:27:20.462Z"
   },
   {
    "duration": 397,
    "start_time": "2024-03-16T12:27:21.841Z"
   },
   {
    "duration": 133,
    "start_time": "2024-03-16T12:27:23.503Z"
   },
   {
    "duration": 123,
    "start_time": "2024-03-16T12:27:24.453Z"
   },
   {
    "duration": 124,
    "start_time": "2024-03-16T12:27:25.194Z"
   },
   {
    "duration": 118,
    "start_time": "2024-03-16T12:27:26.446Z"
   },
   {
    "duration": 104,
    "start_time": "2024-03-16T12:27:27.353Z"
   },
   {
    "duration": 4,
    "start_time": "2024-03-16T12:27:28.472Z"
   },
   {
    "duration": 120,
    "start_time": "2024-03-16T12:27:29.786Z"
   },
   {
    "duration": 103,
    "start_time": "2024-03-16T12:27:30.485Z"
   },
   {
    "duration": 5,
    "start_time": "2024-03-16T12:27:30.869Z"
   },
   {
    "duration": 269,
    "start_time": "2024-03-16T12:27:32.755Z"
   },
   {
    "duration": 165,
    "start_time": "2024-03-16T12:27:34.371Z"
   },
   {
    "duration": 12,
    "start_time": "2024-03-16T12:27:43.521Z"
   },
   {
    "duration": 894,
    "start_time": "2024-03-16T12:27:45.716Z"
   },
   {
    "duration": 9,
    "start_time": "2024-03-16T12:28:01.352Z"
   },
   {
    "duration": 5,
    "start_time": "2024-03-16T12:28:03.564Z"
   },
   {
    "duration": 320,
    "start_time": "2024-03-16T12:28:11.580Z"
   },
   {
    "duration": 15,
    "start_time": "2024-03-16T12:49:52.823Z"
   },
   {
    "duration": 3,
    "start_time": "2024-03-16T12:50:09.849Z"
   },
   {
    "duration": 48,
    "start_time": "2024-03-16T12:50:10.673Z"
   },
   {
    "duration": 12,
    "start_time": "2024-03-16T12:50:11.037Z"
   },
   {
    "duration": 17,
    "start_time": "2024-03-16T12:50:11.423Z"
   },
   {
    "duration": 11,
    "start_time": "2024-03-16T12:50:12.755Z"
   },
   {
    "duration": 4,
    "start_time": "2024-03-16T12:50:13.523Z"
   },
   {
    "duration": 13,
    "start_time": "2024-03-16T12:50:14.284Z"
   },
   {
    "duration": 13,
    "start_time": "2024-03-16T12:50:14.721Z"
   },
   {
    "duration": 3,
    "start_time": "2024-03-16T12:50:15.143Z"
   },
   {
    "duration": 2,
    "start_time": "2024-03-16T12:50:15.471Z"
   },
   {
    "duration": 4,
    "start_time": "2024-03-16T12:50:16.563Z"
   },
   {
    "duration": 8,
    "start_time": "2024-03-16T12:50:17.637Z"
   },
   {
    "duration": 8,
    "start_time": "2024-03-16T12:50:18.012Z"
   },
   {
    "duration": 5,
    "start_time": "2024-03-16T12:50:18.745Z"
   },
   {
    "duration": 14,
    "start_time": "2024-03-16T12:50:19.070Z"
   },
   {
    "duration": 7,
    "start_time": "2024-03-16T12:50:19.437Z"
   },
   {
    "duration": 4,
    "start_time": "2024-03-16T12:50:20.512Z"
   },
   {
    "duration": 14,
    "start_time": "2024-03-16T12:50:20.886Z"
   },
   {
    "duration": 251,
    "start_time": "2024-03-16T12:50:21.944Z"
   },
   {
    "duration": 5,
    "start_time": "2024-03-16T12:50:23.113Z"
   },
   {
    "duration": 193,
    "start_time": "2024-03-16T12:50:23.836Z"
   },
   {
    "duration": 15,
    "start_time": "2024-03-16T12:50:24.915Z"
   },
   {
    "duration": 273,
    "start_time": "2024-03-16T12:50:25.254Z"
   },
   {
    "duration": 380,
    "start_time": "2024-03-16T12:50:26.363Z"
   },
   {
    "duration": 115,
    "start_time": "2024-03-16T12:50:32.417Z"
   },
   {
    "duration": 115,
    "start_time": "2024-03-16T12:50:33.338Z"
   },
   {
    "duration": 118,
    "start_time": "2024-03-16T12:50:34.092Z"
   },
   {
    "duration": 106,
    "start_time": "2024-03-16T12:50:35.269Z"
   },
   {
    "duration": 118,
    "start_time": "2024-03-16T12:50:36.171Z"
   },
   {
    "duration": 5,
    "start_time": "2024-03-16T12:50:36.979Z"
   },
   {
    "duration": 120,
    "start_time": "2024-03-16T12:50:38.145Z"
   },
   {
    "duration": 104,
    "start_time": "2024-03-16T12:50:38.563Z"
   },
   {
    "duration": 4,
    "start_time": "2024-03-16T12:50:38.979Z"
   },
   {
    "duration": 314,
    "start_time": "2024-03-16T12:50:39.762Z"
   },
   {
    "duration": 145,
    "start_time": "2024-03-16T12:50:40.562Z"
   },
   {
    "duration": 16,
    "start_time": "2024-03-16T12:50:42.432Z"
   },
   {
    "duration": 877,
    "start_time": "2024-03-16T12:50:43.783Z"
   },
   {
    "duration": 9,
    "start_time": "2024-03-16T12:50:49.362Z"
   },
   {
    "duration": 5,
    "start_time": "2024-03-16T12:50:50.429Z"
   },
   {
    "duration": 295,
    "start_time": "2024-03-16T12:50:51.147Z"
   },
   {
    "duration": 6,
    "start_time": "2024-03-16T12:51:14.588Z"
   },
   {
    "duration": 6,
    "start_time": "2024-03-16T12:51:55.421Z"
   },
   {
    "duration": 8,
    "start_time": "2024-03-16T12:54:04.881Z"
   },
   {
    "duration": 8,
    "start_time": "2024-03-16T12:54:30.081Z"
   },
   {
    "duration": 7,
    "start_time": "2024-03-16T12:54:37.322Z"
   },
   {
    "duration": 9,
    "start_time": "2024-03-16T12:55:27.605Z"
   },
   {
    "duration": 7,
    "start_time": "2024-03-16T12:57:00.971Z"
   },
   {
    "duration": 11,
    "start_time": "2024-03-16T13:10:28.951Z"
   },
   {
    "duration": 2,
    "start_time": "2024-03-16T13:11:04.705Z"
   },
   {
    "duration": 48,
    "start_time": "2024-03-16T13:11:05.150Z"
   },
   {
    "duration": 11,
    "start_time": "2024-03-16T13:11:05.579Z"
   },
   {
    "duration": 16,
    "start_time": "2024-03-16T13:11:05.976Z"
   },
   {
    "duration": 11,
    "start_time": "2024-03-16T13:11:07.571Z"
   },
   {
    "duration": 4,
    "start_time": "2024-03-16T13:11:08.315Z"
   },
   {
    "duration": 14,
    "start_time": "2024-03-16T13:11:08.952Z"
   },
   {
    "duration": 12,
    "start_time": "2024-03-16T13:11:09.254Z"
   },
   {
    "duration": 2,
    "start_time": "2024-03-16T13:11:09.594Z"
   },
   {
    "duration": 2,
    "start_time": "2024-03-16T13:11:09.969Z"
   },
   {
    "duration": 4,
    "start_time": "2024-03-16T13:11:10.949Z"
   },
   {
    "duration": 8,
    "start_time": "2024-03-16T13:11:11.912Z"
   },
   {
    "duration": 9,
    "start_time": "2024-03-16T13:11:12.268Z"
   },
   {
    "duration": 5,
    "start_time": "2024-03-16T13:11:13.061Z"
   },
   {
    "duration": 14,
    "start_time": "2024-03-16T13:11:13.405Z"
   },
   {
    "duration": 7,
    "start_time": "2024-03-16T13:11:13.725Z"
   },
   {
    "duration": 4,
    "start_time": "2024-03-16T13:11:14.719Z"
   },
   {
    "duration": 15,
    "start_time": "2024-03-16T13:11:15.031Z"
   },
   {
    "duration": 251,
    "start_time": "2024-03-16T13:11:16.038Z"
   },
   {
    "duration": 7,
    "start_time": "2024-03-16T13:11:17.503Z"
   },
   {
    "duration": 188,
    "start_time": "2024-03-16T13:11:18.762Z"
   },
   {
    "duration": 18,
    "start_time": "2024-03-16T13:11:19.254Z"
   },
   {
    "duration": 303,
    "start_time": "2024-03-16T13:11:19.596Z"
   },
   {
    "duration": 400,
    "start_time": "2024-03-16T13:11:20.712Z"
   },
   {
    "duration": 116,
    "start_time": "2024-03-16T13:11:21.828Z"
   },
   {
    "duration": 124,
    "start_time": "2024-03-16T13:11:22.563Z"
   },
   {
    "duration": 120,
    "start_time": "2024-03-16T13:11:23.339Z"
   },
   {
    "duration": 109,
    "start_time": "2024-03-16T13:11:24.519Z"
   },
   {
    "duration": 105,
    "start_time": "2024-03-16T13:11:25.270Z"
   },
   {
    "duration": 4,
    "start_time": "2024-03-16T13:11:25.966Z"
   },
   {
    "duration": 115,
    "start_time": "2024-03-16T13:11:27.080Z"
   },
   {
    "duration": 103,
    "start_time": "2024-03-16T13:11:27.433Z"
   },
   {
    "duration": 4,
    "start_time": "2024-03-16T13:11:27.812Z"
   },
   {
    "duration": 251,
    "start_time": "2024-03-16T13:11:28.632Z"
   },
   {
    "duration": 147,
    "start_time": "2024-03-16T13:11:29.619Z"
   },
   {
    "duration": 146,
    "start_time": "2024-03-16T13:12:22.822Z"
   },
   {
    "duration": 13,
    "start_time": "2024-03-16T13:14:15.804Z"
   },
   {
    "duration": 886,
    "start_time": "2024-03-16T13:14:16.892Z"
   },
   {
    "duration": 9,
    "start_time": "2024-03-16T13:14:18.930Z"
   },
   {
    "duration": 9,
    "start_time": "2024-03-16T13:14:26.212Z"
   },
   {
    "duration": 5,
    "start_time": "2024-03-16T13:14:36.288Z"
   },
   {
    "duration": 294,
    "start_time": "2024-03-16T13:14:36.691Z"
   },
   {
    "duration": 13,
    "start_time": "2024-03-16T13:14:39.189Z"
   },
   {
    "duration": 11,
    "start_time": "2024-03-16T13:15:15.035Z"
   },
   {
    "duration": 16,
    "start_time": "2024-03-16T13:23:27.000Z"
   },
   {
    "duration": 12,
    "start_time": "2024-03-16T13:24:54.593Z"
   },
   {
    "duration": 6,
    "start_time": "2024-03-16T13:25:30.175Z"
   },
   {
    "duration": 12,
    "start_time": "2024-03-16T13:25:41.067Z"
   },
   {
    "duration": 12,
    "start_time": "2024-03-16T13:25:49.081Z"
   },
   {
    "duration": 11,
    "start_time": "2024-03-16T13:27:50.713Z"
   },
   {
    "duration": 7,
    "start_time": "2024-03-16T13:28:42.366Z"
   },
   {
    "duration": 6,
    "start_time": "2024-03-16T13:29:26.753Z"
   },
   {
    "duration": 7,
    "start_time": "2024-03-16T13:30:58.833Z"
   },
   {
    "duration": 7,
    "start_time": "2024-03-16T13:31:09.277Z"
   },
   {
    "duration": 6,
    "start_time": "2024-03-16T13:34:26.913Z"
   },
   {
    "duration": 7,
    "start_time": "2024-03-16T13:35:04.096Z"
   },
   {
    "duration": 7,
    "start_time": "2024-03-16T13:35:18.417Z"
   },
   {
    "duration": 3,
    "start_time": "2024-03-16T13:44:17.697Z"
   },
   {
    "duration": 49,
    "start_time": "2024-03-16T13:44:18.230Z"
   },
   {
    "duration": 12,
    "start_time": "2024-03-16T13:44:18.646Z"
   },
   {
    "duration": 18,
    "start_time": "2024-03-16T13:44:18.951Z"
   },
   {
    "duration": 11,
    "start_time": "2024-03-16T13:44:20.630Z"
   },
   {
    "duration": 5,
    "start_time": "2024-03-16T13:44:21.370Z"
   },
   {
    "duration": 16,
    "start_time": "2024-03-16T13:44:22.004Z"
   },
   {
    "duration": 13,
    "start_time": "2024-03-16T13:44:22.288Z"
   },
   {
    "duration": 2,
    "start_time": "2024-03-16T13:44:22.595Z"
   },
   {
    "duration": 3,
    "start_time": "2024-03-16T13:44:22.897Z"
   },
   {
    "duration": 4,
    "start_time": "2024-03-16T13:44:23.891Z"
   },
   {
    "duration": 8,
    "start_time": "2024-03-16T13:44:24.848Z"
   },
   {
    "duration": 9,
    "start_time": "2024-03-16T13:44:25.179Z"
   },
   {
    "duration": 5,
    "start_time": "2024-03-16T13:44:25.815Z"
   },
   {
    "duration": 15,
    "start_time": "2024-03-16T13:44:26.133Z"
   },
   {
    "duration": 8,
    "start_time": "2024-03-16T13:44:26.429Z"
   },
   {
    "duration": 4,
    "start_time": "2024-03-16T13:44:30.541Z"
   },
   {
    "duration": 14,
    "start_time": "2024-03-16T13:44:30.896Z"
   },
   {
    "duration": 264,
    "start_time": "2024-03-16T13:44:32.064Z"
   },
   {
    "duration": 6,
    "start_time": "2024-03-16T13:44:39.871Z"
   },
   {
    "duration": 189,
    "start_time": "2024-03-16T13:44:40.762Z"
   },
   {
    "duration": 15,
    "start_time": "2024-03-16T13:44:42.038Z"
   },
   {
    "duration": 290,
    "start_time": "2024-03-16T13:44:42.362Z"
   },
   {
    "duration": 436,
    "start_time": "2024-03-16T13:44:43.790Z"
   },
   {
    "duration": 121,
    "start_time": "2024-03-16T13:44:48.226Z"
   },
   {
    "duration": 117,
    "start_time": "2024-03-16T13:44:49.056Z"
   },
   {
    "duration": 123,
    "start_time": "2024-03-16T13:44:49.768Z"
   },
   {
    "duration": 115,
    "start_time": "2024-03-16T13:44:50.999Z"
   },
   {
    "duration": 107,
    "start_time": "2024-03-16T13:44:52.092Z"
   },
   {
    "duration": 6,
    "start_time": "2024-03-16T13:44:53.196Z"
   },
   {
    "duration": 121,
    "start_time": "2024-03-16T13:44:54.429Z"
   },
   {
    "duration": 121,
    "start_time": "2024-03-16T13:44:54.937Z"
   },
   {
    "duration": 5,
    "start_time": "2024-03-16T13:44:55.329Z"
   },
   {
    "duration": 269,
    "start_time": "2024-03-16T13:44:56.120Z"
   },
   {
    "duration": 150,
    "start_time": "2024-03-16T13:44:57.230Z"
   },
   {
    "duration": 13,
    "start_time": "2024-03-16T13:44:59.824Z"
   },
   {
    "duration": 279,
    "start_time": "2024-03-16T13:46:03.093Z"
   },
   {
    "duration": 3,
    "start_time": "2024-03-16T13:46:16.061Z"
   },
   {
    "duration": 49,
    "start_time": "2024-03-16T13:46:16.380Z"
   },
   {
    "duration": 11,
    "start_time": "2024-03-16T13:46:16.664Z"
   },
   {
    "duration": 16,
    "start_time": "2024-03-16T13:46:17.047Z"
   },
   {
    "duration": 11,
    "start_time": "2024-03-16T13:46:18.445Z"
   },
   {
    "duration": 5,
    "start_time": "2024-03-16T13:46:19.153Z"
   },
   {
    "duration": 14,
    "start_time": "2024-03-16T13:46:19.822Z"
   },
   {
    "duration": 12,
    "start_time": "2024-03-16T13:46:20.162Z"
   },
   {
    "duration": 3,
    "start_time": "2024-03-16T13:46:20.514Z"
   },
   {
    "duration": 2,
    "start_time": "2024-03-16T13:46:20.895Z"
   },
   {
    "duration": 4,
    "start_time": "2024-03-16T13:46:21.878Z"
   },
   {
    "duration": 8,
    "start_time": "2024-03-16T13:46:22.981Z"
   },
   {
    "duration": 9,
    "start_time": "2024-03-16T13:46:33.438Z"
   },
   {
    "duration": 5,
    "start_time": "2024-03-16T13:46:34.935Z"
   },
   {
    "duration": 13,
    "start_time": "2024-03-16T13:46:35.571Z"
   },
   {
    "duration": 7,
    "start_time": "2024-03-16T13:46:36.096Z"
   },
   {
    "duration": 3,
    "start_time": "2024-03-16T13:46:37.596Z"
   },
   {
    "duration": 13,
    "start_time": "2024-03-16T13:46:38.038Z"
   },
   {
    "duration": 336,
    "start_time": "2024-03-16T13:46:39.333Z"
   },
   {
    "duration": 5,
    "start_time": "2024-03-16T13:46:40.770Z"
   },
   {
    "duration": 184,
    "start_time": "2024-03-16T13:46:41.636Z"
   },
   {
    "duration": 14,
    "start_time": "2024-03-16T13:46:42.963Z"
   },
   {
    "duration": 276,
    "start_time": "2024-03-16T13:46:43.437Z"
   },
   {
    "duration": 306,
    "start_time": "2024-03-16T13:46:52.013Z"
   },
   {
    "duration": 129,
    "start_time": "2024-03-16T13:46:54.755Z"
   },
   {
    "duration": 120,
    "start_time": "2024-03-16T13:46:55.820Z"
   },
   {
    "duration": 125,
    "start_time": "2024-03-16T13:46:56.563Z"
   },
   {
    "duration": 111,
    "start_time": "2024-03-16T13:47:06.812Z"
   },
   {
    "duration": 113,
    "start_time": "2024-03-16T13:47:07.932Z"
   },
   {
    "duration": 5,
    "start_time": "2024-03-16T13:47:08.779Z"
   },
   {
    "duration": 133,
    "start_time": "2024-03-16T13:47:10.204Z"
   },
   {
    "duration": 203,
    "start_time": "2024-03-16T13:47:10.943Z"
   },
   {
    "duration": 4,
    "start_time": "2024-03-16T13:47:11.349Z"
   },
   {
    "duration": 256,
    "start_time": "2024-03-16T13:47:13.219Z"
   },
   {
    "duration": 151,
    "start_time": "2024-03-16T13:47:16.095Z"
   },
   {
    "duration": 17,
    "start_time": "2024-03-16T13:47:23.312Z"
   },
   {
    "duration": 812,
    "start_time": "2024-03-16T13:47:35.789Z"
   },
   {
    "duration": 829,
    "start_time": "2024-03-16T13:52:58.691Z"
   },
   {
    "duration": 12,
    "start_time": "2024-03-16T13:54:37.310Z"
   },
   {
    "duration": 6,
    "start_time": "2024-03-16T13:54:38.982Z"
   },
   {
    "duration": 5,
    "start_time": "2024-03-16T13:56:49.059Z"
   },
   {
    "duration": 294,
    "start_time": "2024-03-16T13:57:00.762Z"
   },
   {
    "duration": 7,
    "start_time": "2024-03-16T13:57:58.829Z"
   },
   {
    "duration": 7,
    "start_time": "2024-03-16T13:58:01.452Z"
   },
   {
    "duration": 8,
    "start_time": "2024-03-16T13:58:31.010Z"
   },
   {
    "duration": 96,
    "start_time": "2024-03-16T13:59:08.196Z"
   },
   {
    "duration": 64,
    "start_time": "2024-03-16T13:59:15.961Z"
   },
   {
    "duration": 8,
    "start_time": "2024-03-16T13:59:34.854Z"
   },
   {
    "duration": 7,
    "start_time": "2024-03-16T14:01:56.231Z"
   },
   {
    "duration": 8,
    "start_time": "2024-03-16T14:02:45.542Z"
   },
   {
    "duration": 8,
    "start_time": "2024-03-16T14:05:57.570Z"
   },
   {
    "duration": 8,
    "start_time": "2024-03-16T14:06:54.914Z"
   },
   {
    "duration": 8,
    "start_time": "2024-03-16T14:08:23.506Z"
   },
   {
    "duration": 3,
    "start_time": "2024-03-16T14:14:54.499Z"
   },
   {
    "duration": 3,
    "start_time": "2024-03-16T14:15:16.913Z"
   },
   {
    "duration": 3,
    "start_time": "2024-03-16T14:16:44.994Z"
   },
   {
    "duration": 3,
    "start_time": "2024-03-16T14:17:46.535Z"
   },
   {
    "duration": 48,
    "start_time": "2024-03-16T14:17:46.911Z"
   },
   {
    "duration": 12,
    "start_time": "2024-03-16T14:17:47.394Z"
   },
   {
    "duration": 17,
    "start_time": "2024-03-16T14:17:47.778Z"
   },
   {
    "duration": 12,
    "start_time": "2024-03-16T14:17:49.326Z"
   },
   {
    "duration": 4,
    "start_time": "2024-03-16T14:17:50.067Z"
   },
   {
    "duration": 90,
    "start_time": "2024-03-16T14:17:50.777Z"
   },
   {
    "duration": 13,
    "start_time": "2024-03-16T14:17:51.151Z"
   },
   {
    "duration": 2,
    "start_time": "2024-03-16T14:17:51.526Z"
   },
   {
    "duration": 2,
    "start_time": "2024-03-16T14:17:51.884Z"
   },
   {
    "duration": 4,
    "start_time": "2024-03-16T14:17:52.975Z"
   },
   {
    "duration": 9,
    "start_time": "2024-03-16T14:17:54.152Z"
   },
   {
    "duration": 9,
    "start_time": "2024-03-16T14:17:54.545Z"
   },
   {
    "duration": 6,
    "start_time": "2024-03-16T14:17:55.328Z"
   },
   {
    "duration": 15,
    "start_time": "2024-03-16T14:17:55.685Z"
   },
   {
    "duration": 8,
    "start_time": "2024-03-16T14:17:56.084Z"
   },
   {
    "duration": 4,
    "start_time": "2024-03-16T14:17:57.217Z"
   },
   {
    "duration": 13,
    "start_time": "2024-03-16T14:17:57.580Z"
   },
   {
    "duration": 279,
    "start_time": "2024-03-16T14:17:59.027Z"
   },
   {
    "duration": 6,
    "start_time": "2024-03-16T14:18:29.834Z"
   },
   {
    "duration": 196,
    "start_time": "2024-03-16T14:18:30.670Z"
   },
   {
    "duration": 15,
    "start_time": "2024-03-16T14:18:32.028Z"
   },
   {
    "duration": 273,
    "start_time": "2024-03-16T14:18:32.521Z"
   },
   {
    "duration": 311,
    "start_time": "2024-03-16T14:18:35.812Z"
   },
   {
    "duration": 121,
    "start_time": "2024-03-16T14:18:39.283Z"
   },
   {
    "duration": 144,
    "start_time": "2024-03-16T14:18:39.988Z"
   },
   {
    "duration": 121,
    "start_time": "2024-03-16T14:18:40.452Z"
   },
   {
    "duration": 106,
    "start_time": "2024-03-16T14:18:41.812Z"
   },
   {
    "duration": 187,
    "start_time": "2024-03-16T14:18:42.712Z"
   },
   {
    "duration": 5,
    "start_time": "2024-03-16T14:18:43.780Z"
   },
   {
    "duration": 124,
    "start_time": "2024-03-16T14:18:45.169Z"
   },
   {
    "duration": 104,
    "start_time": "2024-03-16T14:18:45.642Z"
   },
   {
    "duration": 5,
    "start_time": "2024-03-16T14:18:46.015Z"
   },
   {
    "duration": 277,
    "start_time": "2024-03-16T14:18:47.309Z"
   },
   {
    "duration": 154,
    "start_time": "2024-03-16T14:19:14.297Z"
   },
   {
    "duration": 13,
    "start_time": "2024-03-16T14:19:54.956Z"
   },
   {
    "duration": 824,
    "start_time": "2024-03-16T14:20:22.474Z"
   },
   {
    "duration": 10,
    "start_time": "2024-03-16T14:20:32.267Z"
   },
   {
    "duration": 7,
    "start_time": "2024-03-16T14:20:33.396Z"
   },
   {
    "duration": 286,
    "start_time": "2024-03-16T14:20:38.838Z"
   },
   {
    "duration": 9,
    "start_time": "2024-03-16T14:20:46.438Z"
   },
   {
    "duration": 4,
    "start_time": "2024-03-16T14:20:53.839Z"
   },
   {
    "duration": 9,
    "start_time": "2024-03-16T14:43:41.452Z"
   },
   {
    "duration": 3,
    "start_time": "2024-03-16T14:44:39.781Z"
   },
   {
    "duration": 10,
    "start_time": "2024-03-16T15:13:36.408Z"
   },
   {
    "duration": 3,
    "start_time": "2024-03-16T15:13:47.343Z"
   },
   {
    "duration": 48,
    "start_time": "2024-03-16T15:13:47.627Z"
   },
   {
    "duration": 11,
    "start_time": "2024-03-16T15:13:47.915Z"
   },
   {
    "duration": 16,
    "start_time": "2024-03-16T15:13:48.249Z"
   },
   {
    "duration": 17,
    "start_time": "2024-03-16T15:13:49.773Z"
   },
   {
    "duration": 5,
    "start_time": "2024-03-16T15:13:50.519Z"
   },
   {
    "duration": 15,
    "start_time": "2024-03-16T15:13:51.208Z"
   },
   {
    "duration": 12,
    "start_time": "2024-03-16T15:13:51.568Z"
   },
   {
    "duration": 2,
    "start_time": "2024-03-16T15:13:51.957Z"
   },
   {
    "duration": 2,
    "start_time": "2024-03-16T15:13:52.308Z"
   },
   {
    "duration": 5,
    "start_time": "2024-03-16T15:13:53.343Z"
   },
   {
    "duration": 8,
    "start_time": "2024-03-16T15:13:54.389Z"
   },
   {
    "duration": 11,
    "start_time": "2024-03-16T15:13:54.732Z"
   },
   {
    "duration": 5,
    "start_time": "2024-03-16T15:13:55.456Z"
   },
   {
    "duration": 14,
    "start_time": "2024-03-16T15:13:55.756Z"
   },
   {
    "duration": 7,
    "start_time": "2024-03-16T15:13:56.123Z"
   },
   {
    "duration": 5,
    "start_time": "2024-03-16T15:13:57.208Z"
   },
   {
    "duration": 19,
    "start_time": "2024-03-16T15:13:57.567Z"
   },
   {
    "duration": 263,
    "start_time": "2024-03-16T15:13:58.606Z"
   },
   {
    "duration": 6,
    "start_time": "2024-03-16T15:13:59.889Z"
   },
   {
    "duration": 300,
    "start_time": "2024-03-16T15:14:00.916Z"
   },
   {
    "duration": 20,
    "start_time": "2024-03-16T15:14:02.324Z"
   },
   {
    "duration": 275,
    "start_time": "2024-03-16T15:14:02.688Z"
   },
   {
    "duration": 3,
    "start_time": "2024-03-16T15:41:59.458Z"
   },
   {
    "duration": 49,
    "start_time": "2024-03-16T15:41:59.959Z"
   },
   {
    "duration": 13,
    "start_time": "2024-03-16T15:42:00.392Z"
   },
   {
    "duration": 18,
    "start_time": "2024-03-16T15:42:00.777Z"
   },
   {
    "duration": 12,
    "start_time": "2024-03-16T15:42:02.431Z"
   },
   {
    "duration": 6,
    "start_time": "2024-03-16T15:42:03.447Z"
   },
   {
    "duration": 18,
    "start_time": "2024-03-16T15:42:04.329Z"
   },
   {
    "duration": 13,
    "start_time": "2024-03-16T15:42:04.787Z"
   },
   {
    "duration": 2,
    "start_time": "2024-03-16T15:42:05.188Z"
   },
   {
    "duration": 2,
    "start_time": "2024-03-16T15:42:05.622Z"
   },
   {
    "duration": 4,
    "start_time": "2024-03-16T15:42:23.055Z"
   },
   {
    "duration": 9,
    "start_time": "2024-03-16T15:42:24.271Z"
   },
   {
    "duration": 10,
    "start_time": "2024-03-16T15:42:24.627Z"
   },
   {
    "duration": 5,
    "start_time": "2024-03-16T15:42:25.371Z"
   },
   {
    "duration": 14,
    "start_time": "2024-03-16T15:42:25.743Z"
   },
   {
    "duration": 7,
    "start_time": "2024-03-16T15:42:26.148Z"
   },
   {
    "duration": 4,
    "start_time": "2024-03-16T15:42:27.354Z"
   },
   {
    "duration": 13,
    "start_time": "2024-03-16T15:42:27.771Z"
   },
   {
    "duration": 286,
    "start_time": "2024-03-16T15:42:29.122Z"
   },
   {
    "duration": 7,
    "start_time": "2024-03-16T15:42:30.805Z"
   },
   {
    "duration": 190,
    "start_time": "2024-03-16T15:42:31.582Z"
   },
   {
    "duration": 14,
    "start_time": "2024-03-16T15:42:32.856Z"
   },
   {
    "duration": 301,
    "start_time": "2024-03-16T15:42:33.281Z"
   },
   {
    "duration": 386,
    "start_time": "2024-03-16T15:42:35.030Z"
   },
   {
    "duration": 118,
    "start_time": "2024-03-16T15:42:37.023Z"
   },
   {
    "duration": 121,
    "start_time": "2024-03-16T15:42:38.004Z"
   },
   {
    "duration": 119,
    "start_time": "2024-03-16T15:42:38.905Z"
   },
   {
    "duration": 126,
    "start_time": "2024-03-16T15:42:40.571Z"
   },
   {
    "duration": 117,
    "start_time": "2024-03-16T15:42:41.816Z"
   },
   {
    "duration": 6,
    "start_time": "2024-03-16T15:42:42.671Z"
   },
   {
    "duration": 123,
    "start_time": "2024-03-16T15:42:44.252Z"
   },
   {
    "duration": 109,
    "start_time": "2024-03-16T15:42:44.957Z"
   },
   {
    "duration": 5,
    "start_time": "2024-03-16T15:42:45.385Z"
   },
   {
    "duration": 279,
    "start_time": "2024-03-16T15:42:46.648Z"
   },
   {
    "duration": 153,
    "start_time": "2024-03-16T15:42:48.355Z"
   },
   {
    "duration": 13,
    "start_time": "2024-03-16T15:42:53.625Z"
   },
   {
    "duration": 831,
    "start_time": "2024-03-16T15:42:56.617Z"
   },
   {
    "duration": 9,
    "start_time": "2024-03-16T15:43:02.492Z"
   },
   {
    "duration": 6,
    "start_time": "2024-03-16T15:43:04.475Z"
   },
   {
    "duration": 5,
    "start_time": "2024-03-16T15:43:39.147Z"
   },
   {
    "duration": 385,
    "start_time": "2024-03-16T15:44:21.560Z"
   },
   {
    "duration": 8,
    "start_time": "2024-03-16T15:44:27.428Z"
   },
   {
    "duration": 9,
    "start_time": "2024-03-16T15:44:30.740Z"
   },
   {
    "duration": 3,
    "start_time": "2024-03-16T15:44:40.499Z"
   },
   {
    "duration": 9,
    "start_time": "2024-03-16T15:45:19.997Z"
   },
   {
    "duration": 3,
    "start_time": "2024-03-16T15:45:23.202Z"
   },
   {
    "duration": 1325,
    "start_time": "2024-03-16T16:06:38.541Z"
   },
   {
    "duration": 182,
    "start_time": "2024-03-16T16:06:39.868Z"
   },
   {
    "duration": 14,
    "start_time": "2024-03-16T16:06:40.051Z"
   },
   {
    "duration": 28,
    "start_time": "2024-03-16T16:06:40.066Z"
   },
   {
    "duration": 13,
    "start_time": "2024-03-16T16:06:40.095Z"
   },
   {
    "duration": 5,
    "start_time": "2024-03-16T16:06:40.109Z"
   },
   {
    "duration": 18,
    "start_time": "2024-03-16T16:06:40.115Z"
   },
   {
    "duration": 35,
    "start_time": "2024-03-16T16:06:40.135Z"
   },
   {
    "duration": 2,
    "start_time": "2024-03-16T16:06:40.172Z"
   },
   {
    "duration": 5,
    "start_time": "2024-03-16T16:06:40.176Z"
   },
   {
    "duration": 10,
    "start_time": "2024-03-16T16:06:40.186Z"
   },
   {
    "duration": 15,
    "start_time": "2024-03-16T16:06:40.198Z"
   },
   {
    "duration": 11,
    "start_time": "2024-03-16T16:06:40.215Z"
   },
   {
    "duration": 30,
    "start_time": "2024-03-16T16:06:40.229Z"
   },
   {
    "duration": 20,
    "start_time": "2024-03-16T16:06:40.261Z"
   },
   {
    "duration": 14,
    "start_time": "2024-03-16T16:06:40.282Z"
   },
   {
    "duration": 5,
    "start_time": "2024-03-16T16:06:40.298Z"
   },
   {
    "duration": 24,
    "start_time": "2024-03-16T16:06:40.304Z"
   },
   {
    "duration": 360,
    "start_time": "2024-03-16T16:06:40.330Z"
   },
   {
    "duration": 7,
    "start_time": "2024-03-16T16:06:40.691Z"
   },
   {
    "duration": 311,
    "start_time": "2024-03-16T16:06:40.699Z"
   },
   {
    "duration": 19,
    "start_time": "2024-03-16T16:06:41.012Z"
   },
   {
    "duration": 386,
    "start_time": "2024-03-16T16:06:41.033Z"
   },
   {
    "duration": 439,
    "start_time": "2024-03-16T16:06:41.421Z"
   },
   {
    "duration": 143,
    "start_time": "2024-03-16T16:06:41.862Z"
   },
   {
    "duration": 159,
    "start_time": "2024-03-16T16:06:42.006Z"
   },
   {
    "duration": 141,
    "start_time": "2024-03-16T16:06:42.167Z"
   },
   {
    "duration": 133,
    "start_time": "2024-03-16T16:06:42.309Z"
   },
   {
    "duration": 136,
    "start_time": "2024-03-16T16:06:42.444Z"
   },
   {
    "duration": 5,
    "start_time": "2024-03-16T16:06:42.582Z"
   },
   {
    "duration": 163,
    "start_time": "2024-03-16T16:06:42.588Z"
   },
   {
    "duration": 134,
    "start_time": "2024-03-16T16:06:42.753Z"
   },
   {
    "duration": 6,
    "start_time": "2024-03-16T16:06:42.889Z"
   },
   {
    "duration": 413,
    "start_time": "2024-03-16T16:06:42.897Z"
   },
   {
    "duration": 181,
    "start_time": "2024-03-16T16:06:43.311Z"
   },
   {
    "duration": 15,
    "start_time": "2024-03-16T16:06:43.494Z"
   },
   {
    "duration": 1074,
    "start_time": "2024-03-16T16:06:43.511Z"
   },
   {
    "duration": 12,
    "start_time": "2024-03-16T16:06:44.586Z"
   },
   {
    "duration": 6,
    "start_time": "2024-03-16T16:06:44.599Z"
   },
   {
    "duration": 356,
    "start_time": "2024-03-16T16:06:44.606Z"
   },
   {
    "duration": 110,
    "start_time": "2024-03-16T16:06:44.965Z"
   },
   {
    "duration": 0,
    "start_time": "2024-03-16T16:06:45.076Z"
   },
   {
    "duration": 0,
    "start_time": "2024-03-16T16:06:45.077Z"
   },
   {
    "duration": 0,
    "start_time": "2024-03-16T16:06:45.078Z"
   },
   {
    "duration": 73,
    "start_time": "2024-03-17T07:34:54.559Z"
   },
   {
    "duration": 1268,
    "start_time": "2024-03-17T07:49:59.583Z"
   },
   {
    "duration": 89,
    "start_time": "2024-03-17T07:50:02.493Z"
   },
   {
    "duration": 12,
    "start_time": "2024-03-17T07:50:23.130Z"
   },
   {
    "duration": 13,
    "start_time": "2024-03-17T07:51:51.823Z"
   },
   {
    "duration": 11,
    "start_time": "2024-03-17T07:51:55.671Z"
   },
   {
    "duration": 4,
    "start_time": "2024-03-17T07:51:58.660Z"
   },
   {
    "duration": 13,
    "start_time": "2024-03-17T07:52:20.903Z"
   },
   {
    "duration": 13,
    "start_time": "2024-03-17T07:52:21.364Z"
   },
   {
    "duration": 2,
    "start_time": "2024-03-17T07:52:22.498Z"
   },
   {
    "duration": 1,
    "start_time": "2024-03-17T07:52:23.309Z"
   },
   {
    "duration": 4,
    "start_time": "2024-03-17T07:52:32.488Z"
   },
   {
    "duration": 10,
    "start_time": "2024-03-17T07:53:07.954Z"
   },
   {
    "duration": 8,
    "start_time": "2024-03-17T07:53:30.162Z"
   },
   {
    "duration": 4,
    "start_time": "2024-03-17T07:53:57.062Z"
   },
   {
    "duration": 14,
    "start_time": "2024-03-17T07:55:30.640Z"
   },
   {
    "duration": 7,
    "start_time": "2024-03-17T07:55:31.752Z"
   },
   {
    "duration": 12,
    "start_time": "2024-03-17T07:58:25.696Z"
   },
   {
    "duration": 17,
    "start_time": "2024-03-17T08:14:02.562Z"
   },
   {
    "duration": 12,
    "start_time": "2024-03-17T08:14:49.200Z"
   },
   {
    "duration": 11,
    "start_time": "2024-03-17T08:15:56.216Z"
   },
   {
    "duration": 21,
    "start_time": "2024-03-17T08:16:10.367Z"
   },
   {
    "duration": 11,
    "start_time": "2024-03-17T08:16:45.096Z"
   },
   {
    "duration": 155,
    "start_time": "2024-03-17T08:21:12.115Z"
   },
   {
    "duration": 87,
    "start_time": "2024-03-17T08:27:19.990Z"
   },
   {
    "duration": 7,
    "start_time": "2024-03-17T08:27:38.244Z"
   },
   {
    "duration": 11,
    "start_time": "2024-03-17T08:28:19.750Z"
   },
   {
    "duration": 12,
    "start_time": "2024-03-17T08:28:33.706Z"
   },
   {
    "duration": 3,
    "start_time": "2024-03-17T08:28:39.723Z"
   },
   {
    "duration": 49,
    "start_time": "2024-03-17T08:28:40.382Z"
   },
   {
    "duration": 12,
    "start_time": "2024-03-17T08:28:41.063Z"
   },
   {
    "duration": 11,
    "start_time": "2024-03-17T08:28:42.017Z"
   },
   {
    "duration": 11,
    "start_time": "2024-03-17T08:28:43.509Z"
   },
   {
    "duration": 4,
    "start_time": "2024-03-17T08:28:44.072Z"
   },
   {
    "duration": 16,
    "start_time": "2024-03-17T08:28:45.040Z"
   },
   {
    "duration": 12,
    "start_time": "2024-03-17T08:28:45.355Z"
   },
   {
    "duration": 2,
    "start_time": "2024-03-17T08:28:45.681Z"
   },
   {
    "duration": 2,
    "start_time": "2024-03-17T08:28:46.007Z"
   },
   {
    "duration": 5,
    "start_time": "2024-03-17T08:28:46.871Z"
   },
   {
    "duration": 8,
    "start_time": "2024-03-17T08:28:47.735Z"
   },
   {
    "duration": 8,
    "start_time": "2024-03-17T08:28:48.724Z"
   },
   {
    "duration": 5,
    "start_time": "2024-03-17T08:28:50.040Z"
   },
   {
    "duration": 14,
    "start_time": "2024-03-17T08:28:50.723Z"
   },
   {
    "duration": 8,
    "start_time": "2024-03-17T08:28:51.324Z"
   },
   {
    "duration": 5,
    "start_time": "2024-03-17T08:28:52.362Z"
   },
   {
    "duration": 14,
    "start_time": "2024-03-17T08:28:53.676Z"
   },
   {
    "duration": 11,
    "start_time": "2024-03-17T08:28:55.974Z"
   },
   {
    "duration": 8,
    "start_time": "2024-03-17T08:29:04.198Z"
   },
   {
    "duration": 8,
    "start_time": "2024-03-17T08:29:19.380Z"
   },
   {
    "duration": 7,
    "start_time": "2024-03-17T08:30:17.508Z"
   },
   {
    "duration": 13,
    "start_time": "2024-03-17T08:30:28.317Z"
   },
   {
    "duration": 17,
    "start_time": "2024-03-17T08:30:40.967Z"
   },
   {
    "duration": 14,
    "start_time": "2024-03-17T08:40:29.291Z"
   },
   {
    "duration": 18,
    "start_time": "2024-03-17T08:41:33.664Z"
   },
   {
    "duration": 7,
    "start_time": "2024-03-17T08:45:44.164Z"
   },
   {
    "duration": 12,
    "start_time": "2024-03-17T08:45:57.374Z"
   },
   {
    "duration": 10,
    "start_time": "2024-03-17T08:46:26.955Z"
   },
   {
    "duration": 11,
    "start_time": "2024-03-17T08:49:15.499Z"
   },
   {
    "duration": 17,
    "start_time": "2024-03-17T09:00:00.413Z"
   },
   {
    "duration": 19,
    "start_time": "2024-03-17T09:00:17.209Z"
   },
   {
    "duration": 11,
    "start_time": "2024-03-17T09:01:17.722Z"
   },
   {
    "duration": 18,
    "start_time": "2024-03-17T09:02:19.420Z"
   },
   {
    "duration": 16,
    "start_time": "2024-03-17T09:03:03.350Z"
   },
   {
    "duration": 16,
    "start_time": "2024-03-17T09:07:17.585Z"
   },
   {
    "duration": 21,
    "start_time": "2024-03-17T09:07:25.356Z"
   },
   {
    "duration": 12,
    "start_time": "2024-03-17T09:10:54.773Z"
   },
   {
    "duration": 9,
    "start_time": "2024-03-17T09:11:02.957Z"
   },
   {
    "duration": 11,
    "start_time": "2024-03-17T09:11:31.758Z"
   },
   {
    "duration": 23,
    "start_time": "2024-03-17T09:14:30.055Z"
   },
   {
    "duration": 12,
    "start_time": "2024-03-17T09:14:41.376Z"
   },
   {
    "duration": 9,
    "start_time": "2024-03-17T09:14:55.705Z"
   },
   {
    "duration": 12,
    "start_time": "2024-03-17T09:15:37.232Z"
   },
   {
    "duration": 17,
    "start_time": "2024-03-17T09:15:47.105Z"
   },
   {
    "duration": 24,
    "start_time": "2024-03-17T09:28:34.219Z"
   },
   {
    "duration": 34,
    "start_time": "2024-03-17T09:28:51.151Z"
   },
   {
    "duration": 14,
    "start_time": "2024-03-17T09:29:13.256Z"
   },
   {
    "duration": 264,
    "start_time": "2024-03-17T09:30:36.756Z"
   },
   {
    "duration": 260,
    "start_time": "2024-03-17T09:31:54.638Z"
   },
   {
    "duration": 64,
    "start_time": "2024-03-17T09:35:00.183Z"
   },
   {
    "duration": 23,
    "start_time": "2024-03-17T09:35:45.509Z"
   },
   {
    "duration": 100,
    "start_time": "2024-03-17T09:38:03.366Z"
   },
   {
    "duration": 91,
    "start_time": "2024-03-17T09:38:29.816Z"
   },
   {
    "duration": 149,
    "start_time": "2024-03-17T09:40:00.097Z"
   },
   {
    "duration": 21,
    "start_time": "2024-03-17T09:46:59.674Z"
   },
   {
    "duration": 6,
    "start_time": "2024-03-17T09:47:22.882Z"
   },
   {
    "duration": 14,
    "start_time": "2024-03-17T09:47:40.568Z"
   },
   {
    "duration": 15,
    "start_time": "2024-03-17T09:49:32.341Z"
   },
   {
    "duration": 255,
    "start_time": "2024-03-17T09:49:35.923Z"
   },
   {
    "duration": 14,
    "start_time": "2024-03-17T09:50:27.751Z"
   },
   {
    "duration": 275,
    "start_time": "2024-03-17T09:50:40.222Z"
   },
   {
    "duration": 6,
    "start_time": "2024-03-17T09:51:58.106Z"
   },
   {
    "duration": 241,
    "start_time": "2024-03-17T09:51:58.662Z"
   },
   {
    "duration": 20,
    "start_time": "2024-03-17T09:56:45.521Z"
   },
   {
    "duration": 11,
    "start_time": "2024-03-17T09:56:46.893Z"
   },
   {
    "duration": 13,
    "start_time": "2024-03-17T09:56:47.361Z"
   },
   {
    "duration": 22,
    "start_time": "2024-03-17T09:56:47.922Z"
   },
   {
    "duration": 13,
    "start_time": "2024-03-17T09:56:48.544Z"
   },
   {
    "duration": 13,
    "start_time": "2024-03-17T09:56:50.269Z"
   },
   {
    "duration": 14,
    "start_time": "2024-03-17T09:56:51.401Z"
   },
   {
    "duration": 259,
    "start_time": "2024-03-17T09:56:52.686Z"
   },
   {
    "duration": 5,
    "start_time": "2024-03-17T09:58:06.519Z"
   },
   {
    "duration": 192,
    "start_time": "2024-03-17T09:58:11.053Z"
   },
   {
    "duration": 14,
    "start_time": "2024-03-17T09:58:58.418Z"
   },
   {
    "duration": 243,
    "start_time": "2024-03-17T09:59:13.101Z"
   },
   {
    "duration": 270,
    "start_time": "2024-03-17T10:02:59.413Z"
   },
   {
    "duration": 237,
    "start_time": "2024-03-17T10:03:30.121Z"
   },
   {
    "duration": 210,
    "start_time": "2024-03-17T10:03:54.105Z"
   },
   {
    "duration": 224,
    "start_time": "2024-03-17T10:05:20.452Z"
   },
   {
    "duration": 213,
    "start_time": "2024-03-17T10:05:39.131Z"
   },
   {
    "duration": 216,
    "start_time": "2024-03-17T10:05:46.754Z"
   },
   {
    "duration": 218,
    "start_time": "2024-03-17T10:05:55.699Z"
   },
   {
    "duration": 209,
    "start_time": "2024-03-17T10:06:06.275Z"
   },
   {
    "duration": 238,
    "start_time": "2024-03-17T10:06:16.572Z"
   },
   {
    "duration": 215,
    "start_time": "2024-03-17T10:06:20.886Z"
   },
   {
    "duration": 215,
    "start_time": "2024-03-17T10:06:29.596Z"
   },
   {
    "duration": 286,
    "start_time": "2024-03-17T10:06:35.212Z"
   },
   {
    "duration": 222,
    "start_time": "2024-03-17T10:06:43.315Z"
   },
   {
    "duration": 219,
    "start_time": "2024-03-17T10:06:48.185Z"
   },
   {
    "duration": 212,
    "start_time": "2024-03-17T10:06:52.572Z"
   },
   {
    "duration": 216,
    "start_time": "2024-03-17T10:06:58.051Z"
   },
   {
    "duration": 207,
    "start_time": "2024-03-17T10:07:03.205Z"
   },
   {
    "duration": 227,
    "start_time": "2024-03-17T10:07:13.036Z"
   },
   {
    "duration": 212,
    "start_time": "2024-03-17T10:07:22.476Z"
   },
   {
    "duration": 215,
    "start_time": "2024-03-17T10:08:44.989Z"
   },
   {
    "duration": 326,
    "start_time": "2024-03-17T10:22:32.795Z"
   },
   {
    "duration": 446,
    "start_time": "2024-03-17T10:24:40.063Z"
   },
   {
    "duration": 336,
    "start_time": "2024-03-17T10:25:37.976Z"
   },
   {
    "duration": 11,
    "start_time": "2024-03-17T10:40:41.393Z"
   },
   {
    "duration": 126,
    "start_time": "2024-03-17T10:41:19.277Z"
   },
   {
    "duration": 132,
    "start_time": "2024-03-17T10:42:07.000Z"
   },
   {
    "duration": 117,
    "start_time": "2024-03-17T10:42:34.474Z"
   },
   {
    "duration": 108,
    "start_time": "2024-03-17T10:42:44.423Z"
   },
   {
    "duration": 100,
    "start_time": "2024-03-17T10:43:01.375Z"
   },
   {
    "duration": 103,
    "start_time": "2024-03-17T10:43:08.177Z"
   },
   {
    "duration": 104,
    "start_time": "2024-03-17T10:43:13.031Z"
   },
   {
    "duration": 181,
    "start_time": "2024-03-17T10:43:35.518Z"
   },
   {
    "duration": 120,
    "start_time": "2024-03-17T10:43:54.056Z"
   },
   {
    "duration": 108,
    "start_time": "2024-03-17T10:43:59.342Z"
   },
   {
    "duration": 7,
    "start_time": "2024-03-17T10:47:00.833Z"
   },
   {
    "duration": 132,
    "start_time": "2024-03-17T10:47:01.726Z"
   },
   {
    "duration": 3,
    "start_time": "2024-03-17T10:47:19.725Z"
   },
   {
    "duration": 52,
    "start_time": "2024-03-17T10:47:20.522Z"
   },
   {
    "duration": 12,
    "start_time": "2024-03-17T10:47:21.268Z"
   },
   {
    "duration": 11,
    "start_time": "2024-03-17T10:47:22.250Z"
   },
   {
    "duration": 11,
    "start_time": "2024-03-17T10:47:23.900Z"
   },
   {
    "duration": 4,
    "start_time": "2024-03-17T10:47:24.627Z"
   },
   {
    "duration": 14,
    "start_time": "2024-03-17T10:47:25.704Z"
   },
   {
    "duration": 13,
    "start_time": "2024-03-17T10:47:26.420Z"
   },
   {
    "duration": 2,
    "start_time": "2024-03-17T10:47:26.434Z"
   },
   {
    "duration": 2,
    "start_time": "2024-03-17T10:47:26.644Z"
   },
   {
    "duration": 4,
    "start_time": "2024-03-17T10:47:27.643Z"
   },
   {
    "duration": 9,
    "start_time": "2024-03-17T10:47:28.616Z"
   },
   {
    "duration": 8,
    "start_time": "2024-03-17T10:47:29.641Z"
   },
   {
    "duration": 5,
    "start_time": "2024-03-17T10:47:30.715Z"
   },
   {
    "duration": 15,
    "start_time": "2024-03-17T10:47:31.440Z"
   },
   {
    "duration": 8,
    "start_time": "2024-03-17T10:47:31.853Z"
   },
   {
    "duration": 4,
    "start_time": "2024-03-17T10:47:33.051Z"
   },
   {
    "duration": 16,
    "start_time": "2024-03-17T10:47:33.779Z"
   },
   {
    "duration": 14,
    "start_time": "2024-03-17T10:47:35.861Z"
   },
   {
    "duration": 18,
    "start_time": "2024-03-17T10:47:37.007Z"
   },
   {
    "duration": 23,
    "start_time": "2024-03-17T10:47:38.950Z"
   },
   {
    "duration": 18,
    "start_time": "2024-03-17T10:47:40.544Z"
   },
   {
    "duration": 23,
    "start_time": "2024-03-17T10:47:45.799Z"
   },
   {
    "duration": 16,
    "start_time": "2024-03-17T10:47:51.387Z"
   },
   {
    "duration": 15,
    "start_time": "2024-03-17T10:48:12.676Z"
   },
   {
    "duration": 252,
    "start_time": "2024-03-17T10:48:14.484Z"
   },
   {
    "duration": 6,
    "start_time": "2024-03-17T10:48:18.283Z"
   },
   {
    "duration": 187,
    "start_time": "2024-03-17T10:48:22.733Z"
   },
   {
    "duration": 12,
    "start_time": "2024-03-17T10:48:29.692Z"
   },
   {
    "duration": 215,
    "start_time": "2024-03-17T10:48:31.975Z"
   },
   {
    "duration": 371,
    "start_time": "2024-03-17T10:48:41.694Z"
   },
   {
    "duration": 4,
    "start_time": "2024-03-17T10:53:38.847Z"
   },
   {
    "duration": 6,
    "start_time": "2024-03-17T10:53:50.789Z"
   },
   {
    "duration": 115,
    "start_time": "2024-03-17T10:54:44.148Z"
   },
   {
    "duration": 123,
    "start_time": "2024-03-17T10:58:02.981Z"
   },
   {
    "duration": 137,
    "start_time": "2024-03-17T10:58:54.518Z"
   },
   {
    "duration": 5,
    "start_time": "2024-03-17T10:59:11.309Z"
   },
   {
    "duration": 119,
    "start_time": "2024-03-17T11:03:11.655Z"
   },
   {
    "duration": 122,
    "start_time": "2024-03-17T11:03:19.838Z"
   },
   {
    "duration": 120,
    "start_time": "2024-03-17T11:03:37.118Z"
   },
   {
    "duration": 4,
    "start_time": "2024-03-17T11:03:40.849Z"
   },
   {
    "duration": 5,
    "start_time": "2024-03-17T11:05:41.580Z"
   },
   {
    "duration": 308,
    "start_time": "2024-03-17T11:07:03.227Z"
   },
   {
    "duration": 1293,
    "start_time": "2024-03-17T16:53:50.206Z"
   },
   {
    "duration": 111,
    "start_time": "2024-03-17T16:53:51.501Z"
   },
   {
    "duration": 24,
    "start_time": "2024-03-17T16:53:52.341Z"
   },
   {
    "duration": 16,
    "start_time": "2024-03-17T16:53:53.707Z"
   },
   {
    "duration": 12,
    "start_time": "2024-03-17T16:53:56.676Z"
   },
   {
    "duration": 7,
    "start_time": "2024-03-17T16:53:57.674Z"
   },
   {
    "duration": 16,
    "start_time": "2024-03-17T16:53:59.278Z"
   },
   {
    "duration": 15,
    "start_time": "2024-03-17T16:53:59.891Z"
   },
   {
    "duration": 3,
    "start_time": "2024-03-17T16:54:00.378Z"
   },
   {
    "duration": 2,
    "start_time": "2024-03-17T16:54:00.976Z"
   },
   {
    "duration": 4,
    "start_time": "2024-03-17T16:54:02.524Z"
   },
   {
    "duration": 11,
    "start_time": "2024-03-17T16:54:04.073Z"
   },
   {
    "duration": 10,
    "start_time": "2024-03-17T16:54:10.056Z"
   },
   {
    "duration": 8,
    "start_time": "2024-03-17T16:54:11.608Z"
   },
   {
    "duration": 16,
    "start_time": "2024-03-17T16:54:13.391Z"
   },
   {
    "duration": 9,
    "start_time": "2024-03-17T16:54:14.111Z"
   },
   {
    "duration": 5,
    "start_time": "2024-03-17T16:54:16.034Z"
   },
   {
    "duration": 14,
    "start_time": "2024-03-17T16:54:17.459Z"
   },
   {
    "duration": 14,
    "start_time": "2024-03-17T16:54:21.562Z"
   },
   {
    "duration": 16,
    "start_time": "2024-03-17T16:54:23.300Z"
   },
   {
    "duration": 26,
    "start_time": "2024-03-17T16:54:32.542Z"
   },
   {
    "duration": 21,
    "start_time": "2024-03-17T16:54:38.240Z"
   },
   {
    "duration": 24,
    "start_time": "2024-03-17T16:54:46.042Z"
   },
   {
    "duration": 17,
    "start_time": "2024-03-17T16:54:48.139Z"
   },
   {
    "duration": 16,
    "start_time": "2024-03-17T16:55:03.772Z"
   },
   {
    "duration": 296,
    "start_time": "2024-03-17T16:55:05.644Z"
   },
   {
    "duration": 6,
    "start_time": "2024-03-17T16:55:09.888Z"
   },
   {
    "duration": 274,
    "start_time": "2024-03-17T16:55:18.074Z"
   },
   {
    "duration": 15,
    "start_time": "2024-03-17T16:55:46.407Z"
   },
   {
    "duration": 250,
    "start_time": "2024-03-17T16:55:53.339Z"
   },
   {
    "duration": 407,
    "start_time": "2024-03-17T16:56:09.490Z"
   },
   {
    "duration": 6,
    "start_time": "2024-03-17T16:58:25.112Z"
   },
   {
    "duration": 141,
    "start_time": "2024-03-17T16:58:31.374Z"
   },
   {
    "duration": 128,
    "start_time": "2024-03-17T16:58:32.856Z"
   },
   {
    "duration": 131,
    "start_time": "2024-03-17T16:58:34.156Z"
   },
   {
    "duration": 138,
    "start_time": "2024-03-17T16:59:13.841Z"
   },
   {
    "duration": 126,
    "start_time": "2024-03-17T16:59:26.835Z"
   },
   {
    "duration": 5,
    "start_time": "2024-03-17T16:59:33.005Z"
   },
   {
    "duration": 140,
    "start_time": "2024-03-17T17:00:40.319Z"
   },
   {
    "duration": 120,
    "start_time": "2024-03-17T17:00:40.990Z"
   },
   {
    "duration": 5,
    "start_time": "2024-03-17T17:00:43.028Z"
   },
   {
    "duration": 373,
    "start_time": "2024-03-17T17:00:53.508Z"
   },
   {
    "duration": 179,
    "start_time": "2024-03-17T17:02:11.727Z"
   },
   {
    "duration": 180,
    "start_time": "2024-03-17T17:05:00.359Z"
   },
   {
    "duration": 222,
    "start_time": "2024-03-17T17:05:21.141Z"
   },
   {
    "duration": 169,
    "start_time": "2024-03-17T17:05:41.357Z"
   },
   {
    "duration": 177,
    "start_time": "2024-03-17T17:14:48.418Z"
   },
   {
    "duration": 170,
    "start_time": "2024-03-17T17:17:07.814Z"
   },
   {
    "duration": 195,
    "start_time": "2024-03-17T17:17:48.481Z"
   },
   {
    "duration": 175,
    "start_time": "2024-03-17T17:19:46.347Z"
   },
   {
    "duration": 18,
    "start_time": "2024-03-17T17:23:41.395Z"
   },
   {
    "duration": 94,
    "start_time": "2024-03-17T17:30:35.119Z"
   },
   {
    "duration": 65,
    "start_time": "2024-03-17T17:30:46.458Z"
   },
   {
    "duration": 1026,
    "start_time": "2024-03-17T17:30:58.390Z"
   },
   {
    "duration": 74,
    "start_time": "2024-03-17T17:31:06.729Z"
   },
   {
    "duration": 1042,
    "start_time": "2024-03-17T17:31:18.325Z"
   },
   {
    "duration": 1178,
    "start_time": "2024-03-17T17:31:50.925Z"
   },
   {
    "duration": 885,
    "start_time": "2024-03-17T17:34:10.022Z"
   },
   {
    "duration": 775,
    "start_time": "2024-03-17T17:34:34.431Z"
   },
   {
    "duration": 868,
    "start_time": "2024-03-17T17:34:52.524Z"
   },
   {
    "duration": 784,
    "start_time": "2024-03-17T17:35:11.234Z"
   },
   {
    "duration": 755,
    "start_time": "2024-03-17T17:35:23.186Z"
   },
   {
    "duration": 743,
    "start_time": "2024-03-17T17:35:41.969Z"
   },
   {
    "duration": 867,
    "start_time": "2024-03-17T17:35:53.165Z"
   },
   {
    "duration": 782,
    "start_time": "2024-03-17T17:36:00.974Z"
   },
   {
    "duration": 782,
    "start_time": "2024-03-17T17:36:08.743Z"
   },
   {
    "duration": 10,
    "start_time": "2024-03-17T17:49:00.561Z"
   },
   {
    "duration": 6,
    "start_time": "2024-03-17T17:49:13.596Z"
   },
   {
    "duration": 3,
    "start_time": "2024-03-17T17:49:38.596Z"
   },
   {
    "duration": 4,
    "start_time": "2024-03-17T17:49:42.296Z"
   },
   {
    "duration": 205,
    "start_time": "2024-03-17T17:51:06.461Z"
   },
   {
    "duration": 331,
    "start_time": "2024-03-17T17:51:49.277Z"
   },
   {
    "duration": 473,
    "start_time": "2024-03-17T17:52:00.162Z"
   },
   {
    "duration": 95,
    "start_time": "2024-03-17T17:58:22.049Z"
   },
   {
    "duration": 11,
    "start_time": "2024-03-17T17:59:27.243Z"
   },
   {
    "duration": 8,
    "start_time": "2024-03-17T18:04:50.198Z"
   },
   {
    "duration": 4,
    "start_time": "2024-03-17T18:08:17.310Z"
   },
   {
    "duration": 14,
    "start_time": "2024-03-17T18:09:09.715Z"
   },
   {
    "duration": 6,
    "start_time": "2024-03-17T18:09:14.176Z"
   },
   {
    "duration": 4,
    "start_time": "2024-03-17T18:09:22.276Z"
   },
   {
    "duration": 4,
    "start_time": "2024-03-17T18:31:15.670Z"
   },
   {
    "duration": 50,
    "start_time": "2024-03-17T18:31:16.706Z"
   },
   {
    "duration": 16,
    "start_time": "2024-03-17T18:31:17.670Z"
   },
   {
    "duration": 12,
    "start_time": "2024-03-17T18:31:18.918Z"
   },
   {
    "duration": 14,
    "start_time": "2024-03-17T18:31:25.924Z"
   },
   {
    "duration": 5,
    "start_time": "2024-03-17T18:31:28.406Z"
   },
   {
    "duration": 16,
    "start_time": "2024-03-17T18:31:29.749Z"
   },
   {
    "duration": 14,
    "start_time": "2024-03-17T18:31:30.606Z"
   },
   {
    "duration": 3,
    "start_time": "2024-03-17T18:31:31.149Z"
   },
   {
    "duration": 2,
    "start_time": "2024-03-17T18:31:31.772Z"
   },
   {
    "duration": 5,
    "start_time": "2024-03-17T18:31:33.033Z"
   },
   {
    "duration": 12,
    "start_time": "2024-03-17T18:31:34.405Z"
   },
   {
    "duration": 11,
    "start_time": "2024-03-17T18:31:35.666Z"
   },
   {
    "duration": 9,
    "start_time": "2024-03-17T18:31:36.918Z"
   },
   {
    "duration": 18,
    "start_time": "2024-03-17T18:31:37.767Z"
   },
   {
    "duration": 9,
    "start_time": "2024-03-17T18:31:38.367Z"
   },
   {
    "duration": 4,
    "start_time": "2024-03-17T18:31:39.752Z"
   },
   {
    "duration": 23,
    "start_time": "2024-03-17T18:31:40.600Z"
   },
   {
    "duration": 12,
    "start_time": "2024-03-17T18:31:42.587Z"
   },
   {
    "duration": 19,
    "start_time": "2024-03-17T18:31:43.790Z"
   },
   {
    "duration": 24,
    "start_time": "2024-03-17T18:31:55.036Z"
   },
   {
    "duration": 22,
    "start_time": "2024-03-17T18:31:56.868Z"
   },
   {
    "duration": 32,
    "start_time": "2024-03-17T18:32:01.652Z"
   },
   {
    "duration": 16,
    "start_time": "2024-03-17T18:32:02.612Z"
   },
   {
    "duration": 277,
    "start_time": "2024-03-17T18:32:03.549Z"
   },
   {
    "duration": 6,
    "start_time": "2024-03-17T18:32:06.234Z"
   },
   {
    "duration": 218,
    "start_time": "2024-03-17T18:32:07.136Z"
   },
   {
    "duration": 15,
    "start_time": "2024-03-17T18:32:10.466Z"
   },
   {
    "duration": 225,
    "start_time": "2024-03-17T18:32:11.702Z"
   },
   {
    "duration": 327,
    "start_time": "2024-03-17T18:32:14.234Z"
   },
   {
    "duration": 5,
    "start_time": "2024-03-17T18:32:19.747Z"
   },
   {
    "duration": 120,
    "start_time": "2024-03-17T18:32:20.669Z"
   },
   {
    "duration": 196,
    "start_time": "2024-03-17T18:32:21.634Z"
   },
   {
    "duration": 125,
    "start_time": "2024-03-17T18:32:22.502Z"
   },
   {
    "duration": 131,
    "start_time": "2024-03-17T18:32:23.835Z"
   },
   {
    "duration": 127,
    "start_time": "2024-03-17T18:32:25.866Z"
   },
   {
    "duration": 5,
    "start_time": "2024-03-17T18:32:26.749Z"
   },
   {
    "duration": 126,
    "start_time": "2024-03-17T18:32:28.633Z"
   },
   {
    "duration": 120,
    "start_time": "2024-03-17T18:32:29.204Z"
   },
   {
    "duration": 5,
    "start_time": "2024-03-17T18:32:29.853Z"
   },
   {
    "duration": 288,
    "start_time": "2024-03-17T18:32:30.844Z"
   },
   {
    "duration": 156,
    "start_time": "2024-03-17T18:32:35.619Z"
   },
   {
    "duration": 175,
    "start_time": "2024-03-17T18:32:37.651Z"
   },
   {
    "duration": 11,
    "start_time": "2024-03-17T18:32:41.100Z"
   },
   {
    "duration": 803,
    "start_time": "2024-03-17T18:32:42.302Z"
   },
   {
    "duration": 8,
    "start_time": "2024-03-17T18:33:04.270Z"
   },
   {
    "duration": 4,
    "start_time": "2024-03-17T18:33:05.151Z"
   },
   {
    "duration": 311,
    "start_time": "2024-03-17T18:33:06.767Z"
   },
   {
    "duration": 7,
    "start_time": "2024-03-17T18:33:08.903Z"
   },
   {
    "duration": 4,
    "start_time": "2024-03-17T18:33:11.401Z"
   },
   {
    "duration": 8,
    "start_time": "2024-03-17T18:33:12.638Z"
   },
   {
    "duration": 4,
    "start_time": "2024-03-17T18:33:13.034Z"
   }
  ],
  "kernelspec": {
   "display_name": "Python 3 (ipykernel)",
   "language": "python",
   "name": "python3"
  },
  "language_info": {
   "codemirror_mode": {
    "name": "ipython",
    "version": 3
   },
   "file_extension": ".py",
   "mimetype": "text/x-python",
   "name": "python",
   "nbconvert_exporter": "python",
   "pygments_lexer": "ipython3",
   "version": "3.9.5"
  },
  "toc": {
   "base_numbering": 1,
   "nav_menu": {},
   "number_sections": true,
   "sideBar": true,
   "skip_h1_title": true,
   "title_cell": "Table of Contents",
   "title_sidebar": "Contents",
   "toc_cell": false,
   "toc_position": {},
   "toc_section_display": true,
   "toc_window_display": true
  }
 },
 "nbformat": 4,
 "nbformat_minor": 2
}
